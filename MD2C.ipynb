{
  "nbformat": 4,
  "nbformat_minor": 5,
  "metadata": {
    "kernelspec": {
      "display_name": "Python 3",
      "language": "python",
      "name": "python3"
    },
    "language_info": {
      "codemirror_mode": {
        "name": "ipython",
        "version": 3
      },
      "file_extension": ".py",
      "mimetype": "text/x-python",
      "name": "python",
      "nbconvert_exporter": "python",
      "pygments_lexer": "ipython3",
      "version": "3.8.8"
    },
    "colab": {
      "name": "MD2C.ipynb",
      "provenance": [],
      "include_colab_link": true
    }
  },
  "cells": [
    {
      "cell_type": "markdown",
      "metadata": {
        "id": "view-in-github",
        "colab_type": "text"
      },
      "source": [
        "<a href=\"https://colab.research.google.com/github/alexisbianco0919/compsci216-project/blob/main/MD2C.ipynb\" target=\"_parent\"><img src=\"https://colab.research.google.com/assets/colab-badge.svg\" alt=\"Open In Colab\"/></a>"
      ]
    },
    {
      "cell_type": "markdown",
      "metadata": {
        "id": "bf8600ee"
      },
      "source": [
        "# MD2C - Merged Data 2 Clean"
      ],
      "id": "bf8600ee"
    },
    {
      "cell_type": "markdown",
      "metadata": {
        "id": "3b15db0d"
      },
      "source": [
        "## Import and Setup"
      ],
      "id": "3b15db0d"
    },
    {
      "cell_type": "code",
      "metadata": {
        "id": "c5820c7d"
      },
      "source": [
        "# import needed libraries\n",
        "import pandas as pd\n",
        "import numpy as np\n",
        "import re"
      ],
      "id": "c5820c7d",
      "execution_count": 88,
      "outputs": []
    },
    {
      "cell_type": "code",
      "metadata": {
        "id": "70635ad4",
        "colab": {
          "base_uri": "https://localhost:8080/",
          "height": 592
        },
        "outputId": "f1cbd4f6-6bde-44db-be51-56be16da0bcb"
      },
      "source": [
        "# download data from merged_data.csv\n",
        "md = pd.read_csv('https://raw.githubusercontent.com/alexisbianco0919/compsci216-project/main/merged_data.csv')\n",
        "\n",
        "# Drop first column which was a duplicate index column\n",
        "md.drop(columns=md.columns[0], axis=1, inplace=True)\n",
        "\n",
        "# visualize data\n",
        "md"
      ],
      "id": "70635ad4",
      "execution_count": 89,
      "outputs": [
        {
          "output_type": "execute_result",
          "data": {
            "text/html": [
              "<div>\n",
              "<style scoped>\n",
              "    .dataframe tbody tr th:only-of-type {\n",
              "        vertical-align: middle;\n",
              "    }\n",
              "\n",
              "    .dataframe tbody tr th {\n",
              "        vertical-align: top;\n",
              "    }\n",
              "\n",
              "    .dataframe thead th {\n",
              "        text-align: right;\n",
              "    }\n",
              "</style>\n",
              "<table border=\"1\" class=\"dataframe\">\n",
              "  <thead>\n",
              "    <tr style=\"text-align: right;\">\n",
              "      <th></th>\n",
              "      <th>self_employeed</th>\n",
              "      <th>company_size</th>\n",
              "      <th>tech_company</th>\n",
              "      <th>tech_prole</th>\n",
              "      <th>mh_benefits</th>\n",
              "      <th>anonymity</th>\n",
              "      <th>leaving_difficulty</th>\n",
              "      <th>disc_mh_coworker</th>\n",
              "      <th>disc_mh_supervisor</th>\n",
              "      <th>reveal_mh_business</th>\n",
              "      <th>reveal_mh_coworkers</th>\n",
              "      <th>affects_productivity</th>\n",
              "      <th>productivity_percent</th>\n",
              "      <th>mention_ph_interview</th>\n",
              "      <th>mention_mh_interview</th>\n",
              "      <th>share_mh_ff</th>\n",
              "      <th>exp_unsupport</th>\n",
              "      <th>reveal_less</th>\n",
              "      <th>family_history</th>\n",
              "      <th>mh_in_past</th>\n",
              "      <th>mh_currently</th>\n",
              "      <th>mh_diagnosed</th>\n",
              "      <th>sought_treatment</th>\n",
              "      <th>age</th>\n",
              "      <th>gender</th>\n",
              "      <th>country_live</th>\n",
              "      <th>state_live</th>\n",
              "      <th>country_work</th>\n",
              "      <th>state_work</th>\n",
              "      <th>year</th>\n",
              "    </tr>\n",
              "  </thead>\n",
              "  <tbody>\n",
              "    <tr>\n",
              "      <th>0</th>\n",
              "      <td>0</td>\n",
              "      <td>26-100</td>\n",
              "      <td>1.0</td>\n",
              "      <td>NaN</td>\n",
              "      <td>Not eligible for coverage / N/A</td>\n",
              "      <td>I don't know</td>\n",
              "      <td>NaN</td>\n",
              "      <td>NaN</td>\n",
              "      <td>NaN</td>\n",
              "      <td>NaN</td>\n",
              "      <td>NaN</td>\n",
              "      <td>NaN</td>\n",
              "      <td>NaN</td>\n",
              "      <td>Maybe</td>\n",
              "      <td>NaN</td>\n",
              "      <td>Somewhat open</td>\n",
              "      <td>No</td>\n",
              "      <td>NaN</td>\n",
              "      <td>No</td>\n",
              "      <td>Yes</td>\n",
              "      <td>No</td>\n",
              "      <td>NaN</td>\n",
              "      <td>NaN</td>\n",
              "      <td>39.0</td>\n",
              "      <td>Male</td>\n",
              "      <td>United Kingdom</td>\n",
              "      <td>NaN</td>\n",
              "      <td>United Kingdom</td>\n",
              "      <td>NaN</td>\n",
              "      <td>2016</td>\n",
              "    </tr>\n",
              "    <tr>\n",
              "      <th>1</th>\n",
              "      <td>0</td>\n",
              "      <td>6-25</td>\n",
              "      <td>1.0</td>\n",
              "      <td>NaN</td>\n",
              "      <td>No</td>\n",
              "      <td>Yes</td>\n",
              "      <td>NaN</td>\n",
              "      <td>NaN</td>\n",
              "      <td>NaN</td>\n",
              "      <td>NaN</td>\n",
              "      <td>NaN</td>\n",
              "      <td>NaN</td>\n",
              "      <td>NaN</td>\n",
              "      <td>Maybe</td>\n",
              "      <td>NaN</td>\n",
              "      <td>Somewhat open</td>\n",
              "      <td>No</td>\n",
              "      <td>NaN</td>\n",
              "      <td>Yes</td>\n",
              "      <td>Yes</td>\n",
              "      <td>Yes</td>\n",
              "      <td>NaN</td>\n",
              "      <td>NaN</td>\n",
              "      <td>29.0</td>\n",
              "      <td>male</td>\n",
              "      <td>United States of America</td>\n",
              "      <td>Illinois</td>\n",
              "      <td>United States of America</td>\n",
              "      <td>Illinois</td>\n",
              "      <td>2016</td>\n",
              "    </tr>\n",
              "    <tr>\n",
              "      <th>2</th>\n",
              "      <td>0</td>\n",
              "      <td>6-25</td>\n",
              "      <td>1.0</td>\n",
              "      <td>NaN</td>\n",
              "      <td>No</td>\n",
              "      <td>I don't know</td>\n",
              "      <td>NaN</td>\n",
              "      <td>NaN</td>\n",
              "      <td>NaN</td>\n",
              "      <td>NaN</td>\n",
              "      <td>NaN</td>\n",
              "      <td>NaN</td>\n",
              "      <td>NaN</td>\n",
              "      <td>Yes</td>\n",
              "      <td>NaN</td>\n",
              "      <td>Somewhat open</td>\n",
              "      <td>Maybe/Not sure</td>\n",
              "      <td>NaN</td>\n",
              "      <td>No</td>\n",
              "      <td>Maybe</td>\n",
              "      <td>No</td>\n",
              "      <td>NaN</td>\n",
              "      <td>NaN</td>\n",
              "      <td>38.0</td>\n",
              "      <td>Male</td>\n",
              "      <td>United Kingdom</td>\n",
              "      <td>NaN</td>\n",
              "      <td>United Kingdom</td>\n",
              "      <td>NaN</td>\n",
              "      <td>2016</td>\n",
              "    </tr>\n",
              "    <tr>\n",
              "      <th>3</th>\n",
              "      <td>1</td>\n",
              "      <td>NaN</td>\n",
              "      <td>NaN</td>\n",
              "      <td>NaN</td>\n",
              "      <td>NaN</td>\n",
              "      <td>NaN</td>\n",
              "      <td>NaN</td>\n",
              "      <td>NaN</td>\n",
              "      <td>NaN</td>\n",
              "      <td>Sometimes, if it comes up</td>\n",
              "      <td>Sometimes, if it comes up</td>\n",
              "      <td>Yes</td>\n",
              "      <td>1-25%</td>\n",
              "      <td>Yes</td>\n",
              "      <td>NaN</td>\n",
              "      <td>Neutral</td>\n",
              "      <td>No</td>\n",
              "      <td>NaN</td>\n",
              "      <td>No</td>\n",
              "      <td>Yes</td>\n",
              "      <td>Yes</td>\n",
              "      <td>NaN</td>\n",
              "      <td>NaN</td>\n",
              "      <td>43.0</td>\n",
              "      <td>male</td>\n",
              "      <td>United Kingdom</td>\n",
              "      <td>NaN</td>\n",
              "      <td>United Kingdom</td>\n",
              "      <td>NaN</td>\n",
              "      <td>2016</td>\n",
              "    </tr>\n",
              "    <tr>\n",
              "      <th>4</th>\n",
              "      <td>0</td>\n",
              "      <td>6-25</td>\n",
              "      <td>0.0</td>\n",
              "      <td>1.0</td>\n",
              "      <td>Yes</td>\n",
              "      <td>No</td>\n",
              "      <td>NaN</td>\n",
              "      <td>NaN</td>\n",
              "      <td>NaN</td>\n",
              "      <td>NaN</td>\n",
              "      <td>NaN</td>\n",
              "      <td>NaN</td>\n",
              "      <td>NaN</td>\n",
              "      <td>Maybe</td>\n",
              "      <td>NaN</td>\n",
              "      <td>Somewhat open</td>\n",
              "      <td>Yes, I experienced</td>\n",
              "      <td>NaN</td>\n",
              "      <td>Yes</td>\n",
              "      <td>Yes</td>\n",
              "      <td>Yes</td>\n",
              "      <td>NaN</td>\n",
              "      <td>NaN</td>\n",
              "      <td>43.0</td>\n",
              "      <td>Female</td>\n",
              "      <td>United States of America</td>\n",
              "      <td>Illinois</td>\n",
              "      <td>United States of America</td>\n",
              "      <td>Illinois</td>\n",
              "      <td>2016</td>\n",
              "    </tr>\n",
              "    <tr>\n",
              "      <th>...</th>\n",
              "      <td>...</td>\n",
              "      <td>...</td>\n",
              "      <td>...</td>\n",
              "      <td>...</td>\n",
              "      <td>...</td>\n",
              "      <td>...</td>\n",
              "      <td>...</td>\n",
              "      <td>...</td>\n",
              "      <td>...</td>\n",
              "      <td>...</td>\n",
              "      <td>...</td>\n",
              "      <td>...</td>\n",
              "      <td>...</td>\n",
              "      <td>...</td>\n",
              "      <td>...</td>\n",
              "      <td>...</td>\n",
              "      <td>...</td>\n",
              "      <td>...</td>\n",
              "      <td>...</td>\n",
              "      <td>...</td>\n",
              "      <td>...</td>\n",
              "      <td>...</td>\n",
              "      <td>...</td>\n",
              "      <td>...</td>\n",
              "      <td>...</td>\n",
              "      <td>...</td>\n",
              "      <td>...</td>\n",
              "      <td>...</td>\n",
              "      <td>...</td>\n",
              "      <td>...</td>\n",
              "    </tr>\n",
              "    <tr>\n",
              "      <th>2953</th>\n",
              "      <td>0</td>\n",
              "      <td>More than 1000</td>\n",
              "      <td>False</td>\n",
              "      <td>True</td>\n",
              "      <td>I don't know</td>\n",
              "      <td>I don't know</td>\n",
              "      <td>Somewhat difficult</td>\n",
              "      <td>No</td>\n",
              "      <td>No</td>\n",
              "      <td>NaN</td>\n",
              "      <td>NaN</td>\n",
              "      <td>NaN</td>\n",
              "      <td>NaN</td>\n",
              "      <td>Maybe</td>\n",
              "      <td>No</td>\n",
              "      <td>9</td>\n",
              "      <td>Yes, I observed</td>\n",
              "      <td>Maybe</td>\n",
              "      <td>No</td>\n",
              "      <td>No</td>\n",
              "      <td>Possibly</td>\n",
              "      <td>NaN</td>\n",
              "      <td>False</td>\n",
              "      <td>27.0</td>\n",
              "      <td>male</td>\n",
              "      <td>India</td>\n",
              "      <td>NaN</td>\n",
              "      <td>India</td>\n",
              "      <td>NaN</td>\n",
              "      <td>2019</td>\n",
              "    </tr>\n",
              "    <tr>\n",
              "      <th>2954</th>\n",
              "      <td>1</td>\n",
              "      <td>NaN</td>\n",
              "      <td>NaN</td>\n",
              "      <td>NaN</td>\n",
              "      <td>NaN</td>\n",
              "      <td>NaN</td>\n",
              "      <td>NaN</td>\n",
              "      <td>NaN</td>\n",
              "      <td>NaN</td>\n",
              "      <td>Not applicable to me</td>\n",
              "      <td>Not applicable to me</td>\n",
              "      <td>Yes</td>\n",
              "      <td>26-50%</td>\n",
              "      <td>Maybe</td>\n",
              "      <td>Maybe</td>\n",
              "      <td>3</td>\n",
              "      <td>Yes, I observed</td>\n",
              "      <td>NaN</td>\n",
              "      <td>No</td>\n",
              "      <td>No</td>\n",
              "      <td>No</td>\n",
              "      <td>NaN</td>\n",
              "      <td>False</td>\n",
              "      <td>48.0</td>\n",
              "      <td>m</td>\n",
              "      <td>United States of America</td>\n",
              "      <td>Louisiana</td>\n",
              "      <td>United States of America</td>\n",
              "      <td>Louisiana</td>\n",
              "      <td>2019</td>\n",
              "    </tr>\n",
              "    <tr>\n",
              "      <th>2955</th>\n",
              "      <td>1</td>\n",
              "      <td>NaN</td>\n",
              "      <td>NaN</td>\n",
              "      <td>NaN</td>\n",
              "      <td>NaN</td>\n",
              "      <td>NaN</td>\n",
              "      <td>NaN</td>\n",
              "      <td>NaN</td>\n",
              "      <td>NaN</td>\n",
              "      <td>Not applicable to me</td>\n",
              "      <td>Not applicable to me</td>\n",
              "      <td>Unsure</td>\n",
              "      <td>NaN</td>\n",
              "      <td>Yes</td>\n",
              "      <td>No</td>\n",
              "      <td>10</td>\n",
              "      <td>I've always been self-employed</td>\n",
              "      <td>NaN</td>\n",
              "      <td>No</td>\n",
              "      <td>No</td>\n",
              "      <td>No</td>\n",
              "      <td>NaN</td>\n",
              "      <td>False</td>\n",
              "      <td>50.0</td>\n",
              "      <td>M</td>\n",
              "      <td>India</td>\n",
              "      <td>NaN</td>\n",
              "      <td>India</td>\n",
              "      <td>NaN</td>\n",
              "      <td>2019</td>\n",
              "    </tr>\n",
              "    <tr>\n",
              "      <th>2956</th>\n",
              "      <td>0</td>\n",
              "      <td>More than 1000</td>\n",
              "      <td>True</td>\n",
              "      <td>True</td>\n",
              "      <td>No</td>\n",
              "      <td>Yes</td>\n",
              "      <td>Difficult</td>\n",
              "      <td>Maybe</td>\n",
              "      <td>No</td>\n",
              "      <td>NaN</td>\n",
              "      <td>NaN</td>\n",
              "      <td>NaN</td>\n",
              "      <td>NaN</td>\n",
              "      <td>No</td>\n",
              "      <td>No</td>\n",
              "      <td>2</td>\n",
              "      <td>Maybe/Not sure</td>\n",
              "      <td>Yes</td>\n",
              "      <td>No</td>\n",
              "      <td>No</td>\n",
              "      <td>Possibly</td>\n",
              "      <td>NaN</td>\n",
              "      <td>False</td>\n",
              "      <td>30.0</td>\n",
              "      <td>female</td>\n",
              "      <td>India</td>\n",
              "      <td>NaN</td>\n",
              "      <td>India</td>\n",
              "      <td>NaN</td>\n",
              "      <td>2019</td>\n",
              "    </tr>\n",
              "    <tr>\n",
              "      <th>2957</th>\n",
              "      <td>0</td>\n",
              "      <td>More than 1000</td>\n",
              "      <td>True</td>\n",
              "      <td>True</td>\n",
              "      <td>Yes</td>\n",
              "      <td>Yes</td>\n",
              "      <td>Somewhat difficult</td>\n",
              "      <td>No</td>\n",
              "      <td>Maybe</td>\n",
              "      <td>NaN</td>\n",
              "      <td>NaN</td>\n",
              "      <td>NaN</td>\n",
              "      <td>NaN</td>\n",
              "      <td>Maybe</td>\n",
              "      <td>Yes</td>\n",
              "      <td>10</td>\n",
              "      <td>Maybe/Not sure</td>\n",
              "      <td>NaN</td>\n",
              "      <td>Yes</td>\n",
              "      <td>Yes</td>\n",
              "      <td>Yes</td>\n",
              "      <td>Yes</td>\n",
              "      <td>True</td>\n",
              "      <td>24.0</td>\n",
              "      <td>Female (cis)</td>\n",
              "      <td>United States of America</td>\n",
              "      <td>Oregon</td>\n",
              "      <td>United States of America</td>\n",
              "      <td>Oregon</td>\n",
              "      <td>2019</td>\n",
              "    </tr>\n",
              "  </tbody>\n",
              "</table>\n",
              "<p>2958 rows × 30 columns</p>\n",
              "</div>"
            ],
            "text/plain": [
              "      self_employeed    company_size  ... state_work  year\n",
              "0                  0          26-100  ...        NaN  2016\n",
              "1                  0            6-25  ...   Illinois  2016\n",
              "2                  0            6-25  ...        NaN  2016\n",
              "3                  1             NaN  ...        NaN  2016\n",
              "4                  0            6-25  ...   Illinois  2016\n",
              "...              ...             ...  ...        ...   ...\n",
              "2953               0  More than 1000  ...        NaN  2019\n",
              "2954               1             NaN  ...  Louisiana  2019\n",
              "2955               1             NaN  ...        NaN  2019\n",
              "2956               0  More than 1000  ...        NaN  2019\n",
              "2957               0  More than 1000  ...     Oregon  2019\n",
              "\n",
              "[2958 rows x 30 columns]"
            ]
          },
          "metadata": {},
          "execution_count": 89
        }
      ]
    },
    {
      "cell_type": "markdown",
      "metadata": {
        "id": "c1aeb277"
      },
      "source": [
        "## Cleaning Columns\n",
        "Although 3 people have currently been assigned to clean the columns, I felt it was better to split the colums into 6 sections to avoid the cleaning taking place in such large clusters. Definitely feel free to add more cells in order to have more space for cleaning."
      ],
      "id": "c1aeb277"
    },
    {
      "cell_type": "markdown",
      "metadata": {
        "id": "bc368830"
      },
      "source": [
        "### Cleaning Rows 1-5"
      ],
      "id": "bc368830"
    },
    {
      "cell_type": "code",
      "metadata": {
        "id": "2316f36e"
      },
      "source": [
        "# Code\n",
        "#Self-employed\n",
        "md['self_employeed'] = md['self_employeed'].astype(bool)\n",
        "\n",
        "#company size I think is fine as is\n",
        "md['company_size'].value_counts()\n",
        "\n",
        "#tech_company\n",
        "md['tech_company'] = md['tech_company'].astype(bool)\n",
        "\n",
        "#tech_prole\n",
        "md['tech_prole'] = md['tech_prole'].astype(bool)\n",
        "\n",
        "#mh_benefits\n",
        "md['mh_benefits'] = md['mh_benefits'].replace('Not eligible for coverage / N/A', 'Not eligible for coverage / NA').value_counts()"
      ],
      "id": "2316f36e",
      "execution_count": 90,
      "outputs": []
    },
    {
      "cell_type": "markdown",
      "metadata": {
        "id": "e489cb5f"
      },
      "source": [
        "### Cleaning Rows 6-10"
      ],
      "id": "e489cb5f"
    },
    {
      "cell_type": "code",
      "metadata": {
        "id": "444d9a49",
        "colab": {
          "base_uri": "https://localhost:8080/"
        },
        "outputId": "9164eb42-5019-4937-8bed-0d784a6b5289"
      },
      "source": [
        "# Code\n",
        "\n",
        "#anonymity I think is fine as is\n",
        "\n",
        "md['anonymity'].value_counts()\n",
        "\n",
        "#leaving_difficulty is fine but there are a lot of NaN values\n",
        "\n",
        "md['leaving_difficulty'].value_counts()\n",
        "\n",
        "#disc_mh_coworker is fine but there are a lot of NaN values\n",
        "\n",
        "md['disc_mh_coworker'].value_counts()\n",
        "\n",
        "#disc_mh_supervisor is fine but there are a lot of NaN values\n",
        "\n",
        "md['disc_mh_supervisor'].value_counts()\n",
        "\n",
        "#reveal_mh_business is fine but there are a lot of NaN values\n",
        "\n",
        "md['reveal_mh_business'].value_counts()"
      ],
      "id": "444d9a49",
      "execution_count": 91,
      "outputs": [
        {
          "output_type": "execute_result",
          "data": {
            "text/plain": [
              "Not applicable to me                         175\n",
              "No, because it would impact me negatively    140\n",
              "Sometimes, if it comes up                    109\n",
              "No, because it doesn't matter                 73\n",
              "Yes, always                                    7\n",
              "Name: reveal_mh_business, dtype: int64"
            ]
          },
          "metadata": {},
          "execution_count": 91
        }
      ]
    },
    {
      "cell_type": "markdown",
      "metadata": {
        "id": "9c56ea5b"
      },
      "source": [
        "### Cleaning Rows 10-15"
      ],
      "id": "9c56ea5b"
    },
    {
      "cell_type": "code",
      "metadata": {
        "id": "dd87d286",
        "colab": {
          "base_uri": "https://localhost:8080/"
        },
        "outputId": "73fc6482-ea08-478e-e598-cb7f35b3228d"
      },
      "source": [
        "# Code\n",
        "\n",
        "#reveal_mh_coworkers\n",
        "\n",
        "md['reveal_mh_coworkers'].value_counts()\n",
        "\n",
        "#affects_productivity\n",
        "\n",
        "md['affects_productivity'].value_counts()\n",
        "\n",
        "#productivity_percent\n",
        "\n",
        "md['productivity_percent'].value_counts()\n",
        "\n",
        "#mention_ph_interview\n",
        "\n",
        "md['mention_ph_interview'].value_counts()\n",
        "\n",
        "#mention_mh_interview\n",
        "md['mention_mh_interview'].value_counts()"
      ],
      "id": "dd87d286",
      "execution_count": 92,
      "outputs": [
        {
          "output_type": "execute_result",
          "data": {
            "text/plain": [
              "No       1059\n",
              "Maybe     391\n",
              "Yes        75\n",
              "Name: mention_mh_interview, dtype: int64"
            ]
          },
          "metadata": {},
          "execution_count": 92
        }
      ]
    },
    {
      "cell_type": "markdown",
      "metadata": {
        "id": "42e2c4d6"
      },
      "source": [
        "### Cleaning Rows 16-20"
      ],
      "id": "42e2c4d6"
    },
    {
      "cell_type": "code",
      "metadata": {
        "id": "252dd1fb",
        "colab": {
          "base_uri": "https://localhost:8080/"
        },
        "outputId": "948a5d66-0d76-48e4-d91e-018bc56c145d"
      },
      "source": [
        "# Code\n",
        "\n",
        "#share_mh_ff\n",
        "md['share_mh_ff'].value_counts()\n",
        "\n",
        "#exp_unsupport\n",
        "md['exp_unsupport'].value_counts()\n",
        "\n",
        "#reveal_less\n",
        "md['reveal_less'].value_counts()\n",
        "\n",
        "#family_history\n",
        "md['family_history'].value_counts()\n",
        "\n",
        "#mh_in_past\n",
        "md['mh_in_past'].value_counts()"
      ],
      "id": "252dd1fb",
      "execution_count": 93,
      "outputs": [
        {
          "output_type": "execute_result",
          "data": {
            "text/plain": [
              "Yes           1417\n",
              "No             896\n",
              "Possibly       275\n",
              "Maybe          246\n",
              "Don't Know     109\n",
              "Name: mh_in_past, dtype: int64"
            ]
          },
          "metadata": {},
          "execution_count": 93
        }
      ]
    },
    {
      "cell_type": "markdown",
      "metadata": {
        "id": "e188bf07"
      },
      "source": [
        "### Cleaning Rows 20-25"
      ],
      "id": "e188bf07"
    },
    {
      "cell_type": "code",
      "metadata": {
        "id": "44e5a8a0",
        "colab": {
          "base_uri": "https://localhost:8080/"
        },
        "outputId": "cafd7214-d057-4c5a-bb32-bc7692804974"
      },
      "source": [
        "# Code\n",
        "\n",
        "#mh_currently\n",
        "md['mh_currently'].value_counts()\n",
        "\n",
        "#mh_diagnosed\n",
        "md['mh_diagnosed'].value_counts()\n",
        "\n",
        "#sought_treatment\n",
        "vals = {'1':True,\n",
        "        '0': False,\n",
        "        'True': True,\n",
        "        'False': False}\n",
        "\n",
        "md['sought_treatment'] = md['sought_treatment'].replace(vals)\n",
        "md['sought_treatment'].value_counts()\n",
        "\n",
        "#age\n",
        "#md['age'].value_counts()\n",
        "\n",
        "#gender\n",
        "#md['gender'].value_counts()"
      ],
      "id": "44e5a8a0",
      "execution_count": 101,
      "outputs": [
        {
          "output_type": "execute_result",
          "data": {
            "text/plain": [
              "True     936\n",
              "False    589\n",
              "Name: sought_treatment, dtype: int64"
            ]
          },
          "metadata": {},
          "execution_count": 101
        }
      ]
    },
    {
      "cell_type": "markdown",
      "metadata": {
        "id": "b40a0b6f"
      },
      "source": [
        "### Cleaning Rows 26-30"
      ],
      "id": "b40a0b6f"
    },
    {
      "cell_type": "code",
      "metadata": {
        "id": "ee48e7d8",
        "colab": {
          "base_uri": "https://localhost:8080/"
        },
        "outputId": "38c81965-6378-4d48-bf5b-a8e3f4cce1b0"
      },
      "source": [
        "# Code\n",
        "\n",
        "#country_live\n",
        "md['country_live'].value_counts()\n",
        "\n",
        "#state_live\n",
        "md['state_live'].value_counts()\n",
        "\n",
        "#country_work\t\n",
        "md['country_work'].value_counts()\n",
        "\n",
        "#state_work\n",
        "md['state_work'].value_counts()\n",
        "\n",
        "#year is fine\n",
        "md['year'].value_counts()"
      ],
      "id": "ee48e7d8",
      "execution_count": 95,
      "outputs": [
        {
          "output_type": "execute_result",
          "data": {
            "text/plain": [
              "2016    1433\n",
              "2017     756\n",
              "2018     417\n",
              "2019     352\n",
              "Name: year, dtype: int64"
            ]
          },
          "metadata": {},
          "execution_count": 95
        }
      ]
    }
  ]
}