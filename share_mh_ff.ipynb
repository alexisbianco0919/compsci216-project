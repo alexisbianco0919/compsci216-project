{
  "nbformat": 4,
  "nbformat_minor": 0,
  "metadata": {
    "colab": {
      "name": "share_mh_ff.ipynb",
      "provenance": [],
      "collapsed_sections": [
        "-2-36B07_9sn",
        "S6lbhO7FU3Qo",
        "mNPOmrFhU54E",
        "Hr3WJK1JnLw6",
        "1Ew2emwwwSuR",
        "3pc41HpuCDXb",
        "MvYddBr7CGTW",
        "stc8_n0cMQwx",
        "xUcD679tAkRb",
        "VspnrSV41odJ"
      ],
      "include_colab_link": true
    },
    "kernelspec": {
      "name": "python3",
      "display_name": "Python 3"
    },
    "language_info": {
      "name": "python"
    }
  },
  "cells": [
    {
      "cell_type": "markdown",
      "metadata": {
        "id": "view-in-github",
        "colab_type": "text"
      },
      "source": [
        "<a href=\"https://colab.research.google.com/github/alexisbianco0919/compsci216-project/blob/main/share_mh_ff.ipynb\" target=\"_parent\"><img src=\"https://colab.research.google.com/assets/colab-badge.svg\" alt=\"Open In Colab\"/></a>"
      ]
    },
    {
      "cell_type": "markdown",
      "metadata": {
        "id": "r_1ynyO503xG"
      },
      "source": [
        "# Analysis of mh_benefits "
      ]
    },
    {
      "cell_type": "code",
      "metadata": {
        "id": "nf1YO-3y1CBx"
      },
      "source": [
        "# import needed libraries\n",
        "import pandas as pd\n",
        "import numpy as np\n",
        "import re\n",
        "import seaborn as sns\n",
        "from scipy.stats import t"
      ],
      "execution_count": null,
      "outputs": []
    },
    {
      "cell_type": "code",
      "metadata": {
        "colab": {
          "base_uri": "https://localhost:8080/",
          "height": 930
        },
        "id": "_Zn_55Cm37aZ",
        "outputId": "4ec7421e-f0aa-430f-cebd-d440d8818b03"
      },
      "source": [
        "# set color palete for graphs\n",
        "blue_p = [\"#185ea8\", \"#3372b5\", \"#568ffc\", \"#81aad6\", \"#a8c3e0\"]\n",
        "\n",
        "# download data from merged_data.csv\n",
        "cd = pd.read_csv('https://raw.githubusercontent.com/alexisbianco0919/compsci216-project/main/clean_data_4.csv')\n",
        "\n",
        "# print column values\n",
        "print(cd['share_mh_ff'].value_counts())\n",
        "print('\\n')\n",
        "\n",
        "# print year values\n",
        "print(cd['year'].value_counts())\n",
        "print('\\n')\n",
        "\n",
        "# visualize data\n",
        "cd"
      ],
      "execution_count": null,
      "outputs": [
        {
          "output_type": "stream",
          "name": "stdout",
          "text": [
            "Somewhat open                                            1255\n",
            "Very open                                                 640\n",
            "Somewhat not open                                         459\n",
            "Neutral                                                   329\n",
            "Not open at all                                           163\n",
            "Not applicable to me (I do not have a mental illness)     112\n",
            "Name: share_mh_ff, dtype: int64\n",
            "\n",
            "\n",
            "2016    1433\n",
            "2017     756\n",
            "2018     417\n",
            "2019     352\n",
            "Name: year, dtype: int64\n",
            "\n",
            "\n"
          ]
        },
        {
          "output_type": "execute_result",
          "data": {
            "text/html": [
              "<div>\n",
              "<style scoped>\n",
              "    .dataframe tbody tr th:only-of-type {\n",
              "        vertical-align: middle;\n",
              "    }\n",
              "\n",
              "    .dataframe tbody tr th {\n",
              "        vertical-align: top;\n",
              "    }\n",
              "\n",
              "    .dataframe thead th {\n",
              "        text-align: right;\n",
              "    }\n",
              "</style>\n",
              "<table border=\"1\" class=\"dataframe\">\n",
              "  <thead>\n",
              "    <tr style=\"text-align: right;\">\n",
              "      <th></th>\n",
              "      <th>self_employeed</th>\n",
              "      <th>company_size</th>\n",
              "      <th>tech_company</th>\n",
              "      <th>tech_prole</th>\n",
              "      <th>mh_benefits</th>\n",
              "      <th>anonymity</th>\n",
              "      <th>leaving_difficulty</th>\n",
              "      <th>disc_mh_coworker</th>\n",
              "      <th>disc_mh_supervisor</th>\n",
              "      <th>reveal_mh_business</th>\n",
              "      <th>reveal_mh_coworkers</th>\n",
              "      <th>affects_productivity</th>\n",
              "      <th>productivity_percent</th>\n",
              "      <th>mention_ph_interview</th>\n",
              "      <th>mention_mh_interview</th>\n",
              "      <th>share_mh_ff</th>\n",
              "      <th>exp_unsupport</th>\n",
              "      <th>reveal_less</th>\n",
              "      <th>family_history</th>\n",
              "      <th>mh_in_past</th>\n",
              "      <th>mh_currently</th>\n",
              "      <th>mh_diagnosed</th>\n",
              "      <th>sought_treatment</th>\n",
              "      <th>age</th>\n",
              "      <th>gender</th>\n",
              "      <th>country_live</th>\n",
              "      <th>state_live</th>\n",
              "      <th>country_work</th>\n",
              "      <th>state_work</th>\n",
              "      <th>year</th>\n",
              "      <th>gender_cleaned</th>\n",
              "    </tr>\n",
              "  </thead>\n",
              "  <tbody>\n",
              "    <tr>\n",
              "      <th>0</th>\n",
              "      <td>False</td>\n",
              "      <td>26-100</td>\n",
              "      <td>True</td>\n",
              "      <td>NaN</td>\n",
              "      <td>Not eligible for coverage / NA</td>\n",
              "      <td>I don't know</td>\n",
              "      <td>NaN</td>\n",
              "      <td>NaN</td>\n",
              "      <td>NaN</td>\n",
              "      <td>NaN</td>\n",
              "      <td>NaN</td>\n",
              "      <td>NaN</td>\n",
              "      <td>NaN</td>\n",
              "      <td>Maybe</td>\n",
              "      <td>NaN</td>\n",
              "      <td>Somewhat open</td>\n",
              "      <td>No</td>\n",
              "      <td>NaN</td>\n",
              "      <td>No</td>\n",
              "      <td>Yes</td>\n",
              "      <td>No</td>\n",
              "      <td>NaN</td>\n",
              "      <td>NaN</td>\n",
              "      <td>39.0</td>\n",
              "      <td>Male</td>\n",
              "      <td>United Kingdom</td>\n",
              "      <td>NaN</td>\n",
              "      <td>United Kingdom</td>\n",
              "      <td>NaN</td>\n",
              "      <td>2016</td>\n",
              "      <td>male</td>\n",
              "    </tr>\n",
              "    <tr>\n",
              "      <th>1</th>\n",
              "      <td>False</td>\n",
              "      <td>6-25</td>\n",
              "      <td>True</td>\n",
              "      <td>NaN</td>\n",
              "      <td>No</td>\n",
              "      <td>Yes</td>\n",
              "      <td>NaN</td>\n",
              "      <td>NaN</td>\n",
              "      <td>NaN</td>\n",
              "      <td>NaN</td>\n",
              "      <td>NaN</td>\n",
              "      <td>NaN</td>\n",
              "      <td>NaN</td>\n",
              "      <td>Maybe</td>\n",
              "      <td>NaN</td>\n",
              "      <td>Somewhat open</td>\n",
              "      <td>No</td>\n",
              "      <td>NaN</td>\n",
              "      <td>Yes</td>\n",
              "      <td>Yes</td>\n",
              "      <td>Yes</td>\n",
              "      <td>NaN</td>\n",
              "      <td>NaN</td>\n",
              "      <td>29.0</td>\n",
              "      <td>male</td>\n",
              "      <td>United States of America</td>\n",
              "      <td>Illinois</td>\n",
              "      <td>United States of America</td>\n",
              "      <td>Illinois</td>\n",
              "      <td>2016</td>\n",
              "      <td>male</td>\n",
              "    </tr>\n",
              "    <tr>\n",
              "      <th>2</th>\n",
              "      <td>False</td>\n",
              "      <td>6-25</td>\n",
              "      <td>True</td>\n",
              "      <td>NaN</td>\n",
              "      <td>No</td>\n",
              "      <td>I don't know</td>\n",
              "      <td>NaN</td>\n",
              "      <td>NaN</td>\n",
              "      <td>NaN</td>\n",
              "      <td>NaN</td>\n",
              "      <td>NaN</td>\n",
              "      <td>NaN</td>\n",
              "      <td>NaN</td>\n",
              "      <td>Yes</td>\n",
              "      <td>NaN</td>\n",
              "      <td>Somewhat open</td>\n",
              "      <td>Maybe/Not sure</td>\n",
              "      <td>NaN</td>\n",
              "      <td>No</td>\n",
              "      <td>Maybe</td>\n",
              "      <td>No</td>\n",
              "      <td>NaN</td>\n",
              "      <td>NaN</td>\n",
              "      <td>38.0</td>\n",
              "      <td>Male</td>\n",
              "      <td>United Kingdom</td>\n",
              "      <td>NaN</td>\n",
              "      <td>United Kingdom</td>\n",
              "      <td>NaN</td>\n",
              "      <td>2016</td>\n",
              "      <td>male</td>\n",
              "    </tr>\n",
              "    <tr>\n",
              "      <th>3</th>\n",
              "      <td>True</td>\n",
              "      <td>NaN</td>\n",
              "      <td>NaN</td>\n",
              "      <td>NaN</td>\n",
              "      <td>NaN</td>\n",
              "      <td>NaN</td>\n",
              "      <td>NaN</td>\n",
              "      <td>NaN</td>\n",
              "      <td>NaN</td>\n",
              "      <td>Sometimes, if it comes up</td>\n",
              "      <td>Sometimes, if it comes up</td>\n",
              "      <td>Yes</td>\n",
              "      <td>1-25%</td>\n",
              "      <td>Yes</td>\n",
              "      <td>NaN</td>\n",
              "      <td>Neutral</td>\n",
              "      <td>No</td>\n",
              "      <td>NaN</td>\n",
              "      <td>No</td>\n",
              "      <td>Yes</td>\n",
              "      <td>Yes</td>\n",
              "      <td>NaN</td>\n",
              "      <td>NaN</td>\n",
              "      <td>43.0</td>\n",
              "      <td>male</td>\n",
              "      <td>United Kingdom</td>\n",
              "      <td>NaN</td>\n",
              "      <td>United Kingdom</td>\n",
              "      <td>NaN</td>\n",
              "      <td>2016</td>\n",
              "      <td>male</td>\n",
              "    </tr>\n",
              "    <tr>\n",
              "      <th>4</th>\n",
              "      <td>False</td>\n",
              "      <td>6-25</td>\n",
              "      <td>False</td>\n",
              "      <td>True</td>\n",
              "      <td>Yes</td>\n",
              "      <td>No</td>\n",
              "      <td>NaN</td>\n",
              "      <td>NaN</td>\n",
              "      <td>NaN</td>\n",
              "      <td>NaN</td>\n",
              "      <td>NaN</td>\n",
              "      <td>NaN</td>\n",
              "      <td>NaN</td>\n",
              "      <td>Maybe</td>\n",
              "      <td>NaN</td>\n",
              "      <td>Somewhat open</td>\n",
              "      <td>Yes, I experienced</td>\n",
              "      <td>NaN</td>\n",
              "      <td>Yes</td>\n",
              "      <td>Yes</td>\n",
              "      <td>Yes</td>\n",
              "      <td>NaN</td>\n",
              "      <td>NaN</td>\n",
              "      <td>43.0</td>\n",
              "      <td>Female</td>\n",
              "      <td>United States of America</td>\n",
              "      <td>Illinois</td>\n",
              "      <td>United States of America</td>\n",
              "      <td>Illinois</td>\n",
              "      <td>2016</td>\n",
              "      <td>female</td>\n",
              "    </tr>\n",
              "    <tr>\n",
              "      <th>...</th>\n",
              "      <td>...</td>\n",
              "      <td>...</td>\n",
              "      <td>...</td>\n",
              "      <td>...</td>\n",
              "      <td>...</td>\n",
              "      <td>...</td>\n",
              "      <td>...</td>\n",
              "      <td>...</td>\n",
              "      <td>...</td>\n",
              "      <td>...</td>\n",
              "      <td>...</td>\n",
              "      <td>...</td>\n",
              "      <td>...</td>\n",
              "      <td>...</td>\n",
              "      <td>...</td>\n",
              "      <td>...</td>\n",
              "      <td>...</td>\n",
              "      <td>...</td>\n",
              "      <td>...</td>\n",
              "      <td>...</td>\n",
              "      <td>...</td>\n",
              "      <td>...</td>\n",
              "      <td>...</td>\n",
              "      <td>...</td>\n",
              "      <td>...</td>\n",
              "      <td>...</td>\n",
              "      <td>...</td>\n",
              "      <td>...</td>\n",
              "      <td>...</td>\n",
              "      <td>...</td>\n",
              "      <td>...</td>\n",
              "    </tr>\n",
              "    <tr>\n",
              "      <th>2953</th>\n",
              "      <td>False</td>\n",
              "      <td>More than 1000</td>\n",
              "      <td>False</td>\n",
              "      <td>True</td>\n",
              "      <td>I don't know</td>\n",
              "      <td>I don't know</td>\n",
              "      <td>Somewhat difficult</td>\n",
              "      <td>No</td>\n",
              "      <td>No</td>\n",
              "      <td>NaN</td>\n",
              "      <td>NaN</td>\n",
              "      <td>NaN</td>\n",
              "      <td>NaN</td>\n",
              "      <td>Maybe</td>\n",
              "      <td>No</td>\n",
              "      <td>Very open</td>\n",
              "      <td>Yes, I observed</td>\n",
              "      <td>Maybe</td>\n",
              "      <td>No</td>\n",
              "      <td>No</td>\n",
              "      <td>Maybe</td>\n",
              "      <td>NaN</td>\n",
              "      <td>False</td>\n",
              "      <td>27.0</td>\n",
              "      <td>male</td>\n",
              "      <td>India</td>\n",
              "      <td>NaN</td>\n",
              "      <td>India</td>\n",
              "      <td>NaN</td>\n",
              "      <td>2019</td>\n",
              "      <td>male</td>\n",
              "    </tr>\n",
              "    <tr>\n",
              "      <th>2954</th>\n",
              "      <td>True</td>\n",
              "      <td>NaN</td>\n",
              "      <td>NaN</td>\n",
              "      <td>NaN</td>\n",
              "      <td>NaN</td>\n",
              "      <td>NaN</td>\n",
              "      <td>NaN</td>\n",
              "      <td>NaN</td>\n",
              "      <td>NaN</td>\n",
              "      <td>Not applicable to me</td>\n",
              "      <td>Not applicable to me</td>\n",
              "      <td>Yes</td>\n",
              "      <td>26-50%</td>\n",
              "      <td>Maybe</td>\n",
              "      <td>Maybe</td>\n",
              "      <td>Somewhat not open</td>\n",
              "      <td>Yes, I observed</td>\n",
              "      <td>NaN</td>\n",
              "      <td>No</td>\n",
              "      <td>No</td>\n",
              "      <td>No</td>\n",
              "      <td>NaN</td>\n",
              "      <td>False</td>\n",
              "      <td>48.0</td>\n",
              "      <td>m</td>\n",
              "      <td>United States of America</td>\n",
              "      <td>Louisiana</td>\n",
              "      <td>United States of America</td>\n",
              "      <td>Louisiana</td>\n",
              "      <td>2019</td>\n",
              "      <td>male</td>\n",
              "    </tr>\n",
              "    <tr>\n",
              "      <th>2955</th>\n",
              "      <td>True</td>\n",
              "      <td>NaN</td>\n",
              "      <td>NaN</td>\n",
              "      <td>NaN</td>\n",
              "      <td>NaN</td>\n",
              "      <td>NaN</td>\n",
              "      <td>NaN</td>\n",
              "      <td>NaN</td>\n",
              "      <td>NaN</td>\n",
              "      <td>Not applicable to me</td>\n",
              "      <td>Not applicable to me</td>\n",
              "      <td>Unsure</td>\n",
              "      <td>NaN</td>\n",
              "      <td>Yes</td>\n",
              "      <td>No</td>\n",
              "      <td>Very open</td>\n",
              "      <td>I've always been self-employed</td>\n",
              "      <td>NaN</td>\n",
              "      <td>No</td>\n",
              "      <td>No</td>\n",
              "      <td>No</td>\n",
              "      <td>NaN</td>\n",
              "      <td>False</td>\n",
              "      <td>50.0</td>\n",
              "      <td>M</td>\n",
              "      <td>India</td>\n",
              "      <td>NaN</td>\n",
              "      <td>India</td>\n",
              "      <td>NaN</td>\n",
              "      <td>2019</td>\n",
              "      <td>male</td>\n",
              "    </tr>\n",
              "    <tr>\n",
              "      <th>2956</th>\n",
              "      <td>False</td>\n",
              "      <td>More than 1000</td>\n",
              "      <td>True</td>\n",
              "      <td>True</td>\n",
              "      <td>No</td>\n",
              "      <td>Yes</td>\n",
              "      <td>Difficult</td>\n",
              "      <td>Maybe</td>\n",
              "      <td>No</td>\n",
              "      <td>NaN</td>\n",
              "      <td>NaN</td>\n",
              "      <td>NaN</td>\n",
              "      <td>NaN</td>\n",
              "      <td>No</td>\n",
              "      <td>No</td>\n",
              "      <td>Somewhat not open</td>\n",
              "      <td>Maybe/Not sure</td>\n",
              "      <td>Yes</td>\n",
              "      <td>No</td>\n",
              "      <td>No</td>\n",
              "      <td>Maybe</td>\n",
              "      <td>NaN</td>\n",
              "      <td>False</td>\n",
              "      <td>30.0</td>\n",
              "      <td>female</td>\n",
              "      <td>India</td>\n",
              "      <td>NaN</td>\n",
              "      <td>India</td>\n",
              "      <td>NaN</td>\n",
              "      <td>2019</td>\n",
              "      <td>female</td>\n",
              "    </tr>\n",
              "    <tr>\n",
              "      <th>2957</th>\n",
              "      <td>False</td>\n",
              "      <td>More than 1000</td>\n",
              "      <td>True</td>\n",
              "      <td>True</td>\n",
              "      <td>Yes</td>\n",
              "      <td>Yes</td>\n",
              "      <td>Somewhat difficult</td>\n",
              "      <td>No</td>\n",
              "      <td>Maybe</td>\n",
              "      <td>NaN</td>\n",
              "      <td>NaN</td>\n",
              "      <td>NaN</td>\n",
              "      <td>NaN</td>\n",
              "      <td>Maybe</td>\n",
              "      <td>Yes</td>\n",
              "      <td>Very open</td>\n",
              "      <td>Maybe/Not sure</td>\n",
              "      <td>NaN</td>\n",
              "      <td>Yes</td>\n",
              "      <td>Yes</td>\n",
              "      <td>Yes</td>\n",
              "      <td>Yes</td>\n",
              "      <td>True</td>\n",
              "      <td>24.0</td>\n",
              "      <td>Female (cis)</td>\n",
              "      <td>United States of America</td>\n",
              "      <td>Oregon</td>\n",
              "      <td>United States of America</td>\n",
              "      <td>Oregon</td>\n",
              "      <td>2019</td>\n",
              "      <td>female</td>\n",
              "    </tr>\n",
              "  </tbody>\n",
              "</table>\n",
              "<p>2958 rows × 31 columns</p>\n",
              "</div>"
            ],
            "text/plain": [
              "      self_employeed    company_size  ...  year gender_cleaned\n",
              "0              False          26-100  ...  2016           male\n",
              "1              False            6-25  ...  2016           male\n",
              "2              False            6-25  ...  2016           male\n",
              "3               True             NaN  ...  2016           male\n",
              "4              False            6-25  ...  2016         female\n",
              "...              ...             ...  ...   ...            ...\n",
              "2953           False  More than 1000  ...  2019           male\n",
              "2954            True             NaN  ...  2019           male\n",
              "2955            True             NaN  ...  2019           male\n",
              "2956           False  More than 1000  ...  2019         female\n",
              "2957           False  More than 1000  ...  2019         female\n",
              "\n",
              "[2958 rows x 31 columns]"
            ]
          },
          "metadata": {},
          "execution_count": 11
        }
      ]
    },
    {
      "cell_type": "markdown",
      "metadata": {
        "id": "-2-36B07_9sn"
      },
      "source": [
        "## Notes"
      ]
    },
    {
      "cell_type": "markdown",
      "metadata": {
        "id": "6NGFs5vm__8z"
      },
      "source": [
        "\n",
        "* % of `Yes` responses increases...\n",
        "  * year-to-year, except for the last year\n",
        "  * with age\n",
        "  * with company size\n",
        "\n",
        "* Those with `mh_benefits` find it more difficult to leave work than those without\n",
        "\n",
        "* Those w/o `mh_benefits` are slightly more like to **not** discuss mh w/ their coworkers or supervisors\n",
        "\n",
        "* Status of `mh_benefits` doesn't seem to impact `share_mh_ff`\n",
        "\n",
        "\n"
      ]
    },
    {
      "cell_type": "markdown",
      "metadata": {
        "id": "iLjIvZzo1je3"
      },
      "source": [
        "## Basic Demographics"
      ]
    },
    {
      "cell_type": "markdown",
      "metadata": {
        "id": "S6lbhO7FU3Qo"
      },
      "source": [
        "### Diagnoses by State"
      ]
    },
    {
      "cell_type": "code",
      "metadata": {
        "colab": {
          "base_uri": "https://localhost:8080/",
          "height": 1000
        },
        "id": "dPHZKnPHU3Qu",
        "outputId": "caa60f33-db5c-44af-c438-63faf282011a"
      },
      "source": [
        "dbs_cd = cd[pd.notna(cd[\"mh_diagnosed\"])][[\"state_live\", \"mh_diagnosed\", \"year\"]]\n",
        "\n",
        "state_diagnoses = pd.pivot_table(dbs_cd, values=\"year\", columns=\"mh_diagnosed\", index=\"state_live\", fill_value=0, aggfunc=\"count\")\n",
        "state_diagnoses[\"sum\"] = state_diagnoses.sum(axis=1)\n",
        "print(state_diagnoses, '\\n\\n')\n",
        "\n",
        "age_range_comparison = state_diagnoses.loc[:,\"No\":\"Yes\"].div(state_diagnoses[\"sum\"], axis=0)\n",
        "print(age_range_comparison)\n",
        " \n",
        "x = sns.barplot(x=age_range_comparison.index, y=\"Yes\", data=age_range_comparison, palette = blue_p)\n",
        "\n",
        "#age_range_comparison.plot(kind = \"bar\", stacked = True, colormap = blue_p)"
      ],
      "execution_count": null,
      "outputs": [
        {
          "output_type": "stream",
          "name": "stdout",
          "text": [
            "mh_diagnosed          No  Yes  sum\n",
            "state_live                        \n",
            "Alabama                0    3    3\n",
            "Alaska                 0    1    1\n",
            "Arizona                0    3    3\n",
            "California             1   49   50\n",
            "Colorado               0   11   11\n",
            "Connecticut            0    1    1\n",
            "District of Columbia   0    3    3\n",
            "Florida                0    6    6\n",
            "Georgia                0   10   10\n",
            "Idaho                  0    1    1\n",
            "Illinois               0   69   69\n",
            "Indiana                1   17   18\n",
            "Iowa                   0    5    5\n",
            "Kansas                 0    4    4\n",
            "Kentucky               0    4    4\n",
            "Louisiana              1    1    2\n",
            "Maine                  0    1    1\n",
            "Maryland               0   12   12\n",
            "Massachusetts          0   18   18\n",
            "Michigan               0   22   22\n",
            "Minnesota              1   24   25\n",
            "Missouri               1    6    7\n",
            "Nebraska               1   16   17\n",
            "Nevada                 0    1    1\n",
            "New Hampshire          0    6    6\n",
            "New Jersey             0    7    7\n",
            "New Mexico             0    2    2\n",
            "New York               0   25   25\n",
            "North Carolina         0    7    7\n",
            "North Dakota           0    1    1\n",
            "Ohio                   0   32   32\n",
            "Oregon                 0   18   18\n",
            "Pennsylvania           0   20   20\n",
            "South Carolina         0    2    2\n",
            "Tennessee              0   16   16\n",
            "Texas                  0   22   22\n",
            "Utah                   0    7    7\n",
            "Vermont                0    1    1\n",
            "Virginia               1    7    8\n",
            "Washington             0   37   37\n",
            "Wisconsin              0   10   10\n",
            "Wyoming                0    1    1 \n",
            "\n",
            "\n",
            "mh_diagnosed                No       Yes\n",
            "state_live                              \n",
            "Alabama               0.000000  1.000000\n",
            "Alaska                0.000000  1.000000\n",
            "Arizona               0.000000  1.000000\n",
            "California            0.020000  0.980000\n",
            "Colorado              0.000000  1.000000\n",
            "Connecticut           0.000000  1.000000\n",
            "District of Columbia  0.000000  1.000000\n",
            "Florida               0.000000  1.000000\n",
            "Georgia               0.000000  1.000000\n",
            "Idaho                 0.000000  1.000000\n",
            "Illinois              0.000000  1.000000\n",
            "Indiana               0.055556  0.944444\n",
            "Iowa                  0.000000  1.000000\n",
            "Kansas                0.000000  1.000000\n",
            "Kentucky              0.000000  1.000000\n",
            "Louisiana             0.500000  0.500000\n",
            "Maine                 0.000000  1.000000\n",
            "Maryland              0.000000  1.000000\n",
            "Massachusetts         0.000000  1.000000\n",
            "Michigan              0.000000  1.000000\n",
            "Minnesota             0.040000  0.960000\n",
            "Missouri              0.142857  0.857143\n",
            "Nebraska              0.058824  0.941176\n",
            "Nevada                0.000000  1.000000\n",
            "New Hampshire         0.000000  1.000000\n",
            "New Jersey            0.000000  1.000000\n",
            "New Mexico            0.000000  1.000000\n",
            "New York              0.000000  1.000000\n",
            "North Carolina        0.000000  1.000000\n",
            "North Dakota          0.000000  1.000000\n",
            "Ohio                  0.000000  1.000000\n",
            "Oregon                0.000000  1.000000\n",
            "Pennsylvania          0.000000  1.000000\n",
            "South Carolina        0.000000  1.000000\n",
            "Tennessee             0.000000  1.000000\n",
            "Texas                 0.000000  1.000000\n",
            "Utah                  0.000000  1.000000\n",
            "Vermont               0.000000  1.000000\n",
            "Virginia              0.125000  0.875000\n",
            "Washington            0.000000  1.000000\n",
            "Wisconsin             0.000000  1.000000\n",
            "Wyoming               0.000000  1.000000\n"
          ]
        },
        {
          "output_type": "display_data",
          "data": {
            "image/png": "[encoded data removed]",
            "text/plain": [
              "<Figure size 432x288 with 1 Axes>"
            ]
          },
          "metadata": {
            "needs_background": "light"
          }
        }
      ]
    },
    {
      "cell_type": "markdown",
      "metadata": {
        "id": "mNPOmrFhU54E"
      },
      "source": [
        "### Willingness to share by state"
      ]
    },
    {
      "cell_type": "code",
      "metadata": {
        "colab": {
          "base_uri": "https://localhost:8080/",
          "height": 1000
        },
        "id": "LmaX_bOYU54F",
        "outputId": "73eb18fa-f29a-4bb7-b974-8bd78e8ca52f"
      },
      "source": [
        "wbs_cd = cd[pd.notna(cd[\"share_mh_ff\"])][[\"state_live\", \"share_mh_ff\", \"year\"]]\n",
        "\n",
        "wbs_cd = wbs_cd[wbs_cd[\"share_mh_ff\"] != 'Not applicable to me (I do not have a mental illness)']\n",
        "\n",
        "state_willingness = pd.pivot_table(wbs_cd, values=\"year\", columns=\"share_mh_ff\", index=\"state_live\", fill_value=0, aggfunc=\"count\")\n",
        "state_willingness[\"sum\"] = state_willingness.sum(axis=1)\n",
        "#print(state_willingness)\n",
        "\n",
        "state_willingness_comparison = state_willingness.loc[:,\"Neutral\":\"Very open\"].div(state_willingness[\"sum\"], axis=0)\n",
        "print(state_willingness_comparison)\n",
        "\n",
        "sortedStates = state_willingness_comparison[\"Very open\"].sort_values(ascending=False)\n",
        "\n",
        "#print(sortedStates)\n",
        "\n",
        "state_willingness_comparison = state_willingness_comparison.sort_values(by=\"Very open\", ascending=False)\n",
        "\n",
        "x = sns.catplot(y=state_willingness_comparison.index, x=\"Very open\", data=state_willingness_comparison, kind=\"bar\", height=10, palette = blue_p)\n",
        "\n",
        "#state_willingness_comparison.plot(kind = \"bar\", stacked = True)\n"
      ],
      "execution_count": null,
      "outputs": [
        {
          "output_type": "stream",
          "name": "stdout",
          "text": [
            "share_mh_ff            Neutral  Not open at all  ...  Somewhat open  Very open\n",
            "state_live                                       ...                          \n",
            "Alabama               0.100000         0.000000  ...       0.500000   0.300000\n",
            "Alaska                0.000000         0.250000  ...       0.000000   0.000000\n",
            "Arizona               0.090909         0.000000  ...       0.272727   0.272727\n",
            "California            0.095652         0.073913  ...       0.478261   0.204348\n",
            "Colorado              0.100000         0.080000  ...       0.440000   0.160000\n",
            "Connecticut           0.000000         0.000000  ...       0.750000   0.125000\n",
            "Delaware              0.000000         0.000000  ...       0.000000   0.000000\n",
            "District of Columbia  0.000000         0.000000  ...       1.000000   0.000000\n",
            "Florida               0.054054         0.081081  ...       0.486486   0.162162\n",
            "Georgia               0.142857         0.057143  ...       0.457143   0.228571\n",
            "Idaho                 0.000000         0.000000  ...       0.428571   0.285714\n",
            "Illinois              0.116402         0.037037  ...       0.470899   0.280423\n",
            "Indiana               0.191176         0.029412  ...       0.455882   0.191176\n",
            "Iowa                  0.285714         0.000000  ...       0.142857   0.571429\n",
            "Kansas                0.043478         0.086957  ...       0.521739   0.130435\n",
            "Kentucky              0.000000         0.000000  ...       0.555556   0.333333\n",
            "Louisiana             0.166667         0.166667  ...       0.166667   0.000000\n",
            "Maine                 0.125000         0.125000  ...       0.625000   0.125000\n",
            "Maryland              0.125000         0.000000  ...       0.437500   0.218750\n",
            "Massachusetts         0.107143         0.017857  ...       0.464286   0.250000\n",
            "Michigan              0.116279         0.023256  ...       0.465116   0.255814\n",
            "Minnesota             0.051282         0.051282  ...       0.435897   0.294872\n",
            "Missouri              0.071429         0.035714  ...       0.571429   0.214286\n",
            "Montana               0.000000         0.000000  ...       0.500000   0.000000\n",
            "Nebraska              0.120690         0.051724  ...       0.517241   0.172414\n",
            "Nevada                0.000000         0.000000  ...       0.200000   0.400000\n",
            "New Hampshire         0.083333         0.083333  ...       0.333333   0.333333\n",
            "New Jersey            0.111111         0.055556  ...       0.555556   0.111111\n",
            "New Mexico            0.000000         0.000000  ...       0.500000   0.000000\n",
            "New York              0.172414         0.045977  ...       0.425287   0.218391\n",
            "North Carolina        0.054054         0.108108  ...       0.405405   0.297297\n",
            "North Dakota          0.000000         0.000000  ...       0.428571   0.000000\n",
            "Ohio                  0.141026         0.064103  ...       0.384615   0.217949\n",
            "Oklahoma              0.090909         0.000000  ...       0.363636   0.363636\n",
            "Oregon                0.086957         0.086957  ...       0.376812   0.275362\n",
            "Pennsylvania          0.032258         0.096774  ...       0.435484   0.241935\n",
            "Rhode Island          0.200000         0.000000  ...       0.600000   0.200000\n",
            "South Carolina        0.000000         0.000000  ...       0.800000   0.000000\n",
            "South Dakota          0.200000         0.000000  ...       0.200000   0.600000\n",
            "Tennessee             0.197183         0.014085  ...       0.380282   0.281690\n",
            "Texas                 0.066667         0.080000  ...       0.453333   0.253333\n",
            "Utah                  0.000000         0.111111  ...       0.444444   0.333333\n",
            "Vermont               0.000000         0.000000  ...       0.500000   0.250000\n",
            "Virginia              0.062500         0.062500  ...       0.468750   0.187500\n",
            "Washington            0.086022         0.043011  ...       0.440860   0.279570\n",
            "West Virginia         0.000000         0.000000  ...       0.000000   0.500000\n",
            "Wisconsin             0.064516         0.000000  ...       0.548387   0.354839\n",
            "Wyoming               0.000000         0.000000  ...       1.000000   0.000000\n",
            "\n",
            "[48 rows x 5 columns]\n"
          ]
        },
        {
          "output_type": "error",
          "ename": "ValueError",
          "evalue": "ignored",
          "traceback": [
            "\u001b[0;31m---------------------------------------------------------------------------\u001b[0m",
            "\u001b[0;31mValueError\u001b[0m                                Traceback (most recent call last)",
            "\u001b[0;32m<ipython-input-18-443480ec1b9c>\u001b[0m in \u001b[0;36m<module>\u001b[0;34m()\u001b[0m\n\u001b[1;32m     16\u001b[0m \u001b[0mstate_willingness_comparison\u001b[0m \u001b[0;34m=\u001b[0m \u001b[0mstate_willingness_comparison\u001b[0m\u001b[0;34m.\u001b[0m\u001b[0msort_values\u001b[0m\u001b[0;34m(\u001b[0m\u001b[0mby\u001b[0m\u001b[0;34m=\u001b[0m\u001b[0;34m\"Very open\"\u001b[0m\u001b[0;34m,\u001b[0m \u001b[0mascending\u001b[0m\u001b[0;34m=\u001b[0m\u001b[0;32mFalse\u001b[0m\u001b[0;34m)\u001b[0m\u001b[0;34m\u001b[0m\u001b[0;34m\u001b[0m\u001b[0m\n\u001b[1;32m     17\u001b[0m \u001b[0;34m\u001b[0m\u001b[0m\n\u001b[0;32m---> 18\u001b[0;31m \u001b[0mx\u001b[0m \u001b[0;34m=\u001b[0m \u001b[0msns\u001b[0m\u001b[0;34m.\u001b[0m\u001b[0mcatplot\u001b[0m\u001b[0;34m(\u001b[0m\u001b[0my\u001b[0m\u001b[0;34m=\u001b[0m\u001b[0mstate_willingness_comparison\u001b[0m\u001b[0;34m.\u001b[0m\u001b[0mindex\u001b[0m\u001b[0;34m,\u001b[0m \u001b[0mx\u001b[0m\u001b[0;34m=\u001b[0m\u001b[0;34m\"Very open\"\u001b[0m\u001b[0;34m,\u001b[0m \u001b[0mdata\u001b[0m\u001b[0;34m=\u001b[0m\u001b[0mstate_willingness_comparison\u001b[0m\u001b[0;34m,\u001b[0m \u001b[0mkind\u001b[0m\u001b[0;34m=\u001b[0m\u001b[0;34m\"bar\"\u001b[0m\u001b[0;34m,\u001b[0m \u001b[0mheight\u001b[0m\u001b[0;34m=\u001b[0m\u001b[0;36m10\u001b[0m\u001b[0;34m,\u001b[0m \u001b[0mpalette\u001b[0m \u001b[0;34m=\u001b[0m \u001b[0mblue_p\u001b[0m\u001b[0;34m)\u001b[0m\u001b[0;34m\u001b[0m\u001b[0;34m\u001b[0m\u001b[0m\n\u001b[0m\u001b[1;32m     19\u001b[0m \u001b[0;34m\u001b[0m\u001b[0m\n\u001b[1;32m     20\u001b[0m \u001b[0;31m#state_willingness_comparison.plot(kind = \"bar\", stacked = True)\u001b[0m\u001b[0;34m\u001b[0m\u001b[0;34m\u001b[0m\u001b[0;34m\u001b[0m\u001b[0m\n",
            "\u001b[0;32m/usr/local/lib/python3.7/dist-packages/seaborn/_decorators.py\u001b[0m in \u001b[0;36minner_f\u001b[0;34m(*args, **kwargs)\u001b[0m\n\u001b[1;32m     44\u001b[0m             )\n\u001b[1;32m     45\u001b[0m         \u001b[0mkwargs\u001b[0m\u001b[0;34m.\u001b[0m\u001b[0mupdate\u001b[0m\u001b[0;34m(\u001b[0m\u001b[0;34m{\u001b[0m\u001b[0mk\u001b[0m\u001b[0;34m:\u001b[0m \u001b[0marg\u001b[0m \u001b[0;32mfor\u001b[0m \u001b[0mk\u001b[0m\u001b[0;34m,\u001b[0m \u001b[0marg\u001b[0m \u001b[0;32min\u001b[0m \u001b[0mzip\u001b[0m\u001b[0;34m(\u001b[0m\u001b[0msig\u001b[0m\u001b[0;34m.\u001b[0m\u001b[0mparameters\u001b[0m\u001b[0;34m,\u001b[0m \u001b[0margs\u001b[0m\u001b[0;34m)\u001b[0m\u001b[0;34m}\u001b[0m\u001b[0;34m)\u001b[0m\u001b[0;34m\u001b[0m\u001b[0;34m\u001b[0m\u001b[0m\n\u001b[0;32m---> 46\u001b[0;31m         \u001b[0;32mreturn\u001b[0m \u001b[0mf\u001b[0m\u001b[0;34m(\u001b[0m\u001b[0;34m**\u001b[0m\u001b[0mkwargs\u001b[0m\u001b[0;34m)\u001b[0m\u001b[0;34m\u001b[0m\u001b[0;34m\u001b[0m\u001b[0m\n\u001b[0m\u001b[1;32m     47\u001b[0m     \u001b[0;32mreturn\u001b[0m \u001b[0minner_f\u001b[0m\u001b[0;34m\u001b[0m\u001b[0;34m\u001b[0m\u001b[0m\n\u001b[1;32m     48\u001b[0m \u001b[0;34m\u001b[0m\u001b[0m\n",
            "\u001b[0;32m/usr/local/lib/python3.7/dist-packages/seaborn/categorical.py\u001b[0m in \u001b[0;36mcatplot\u001b[0;34m(x, y, hue, data, row, col, col_wrap, estimator, ci, n_boot, units, seed, order, hue_order, row_order, col_order, kind, height, aspect, orient, color, palette, legend, legend_out, sharex, sharey, margin_titles, facet_kws, **kwargs)\u001b[0m\n\u001b[1;32m   3845\u001b[0m \u001b[0;34m\u001b[0m\u001b[0m\n\u001b[1;32m   3846\u001b[0m     \u001b[0;31m# Draw the plot onto the facets\u001b[0m\u001b[0;34m\u001b[0m\u001b[0;34m\u001b[0m\u001b[0;34m\u001b[0m\u001b[0m\n\u001b[0;32m-> 3847\u001b[0;31m     \u001b[0mg\u001b[0m\u001b[0;34m.\u001b[0m\u001b[0mmap_dataframe\u001b[0m\u001b[0;34m(\u001b[0m\u001b[0mplot_func\u001b[0m\u001b[0;34m,\u001b[0m \u001b[0mx\u001b[0m\u001b[0;34m=\u001b[0m\u001b[0mx\u001b[0m\u001b[0;34m,\u001b[0m \u001b[0my\u001b[0m\u001b[0;34m=\u001b[0m\u001b[0my\u001b[0m\u001b[0;34m,\u001b[0m \u001b[0mhue\u001b[0m\u001b[0;34m=\u001b[0m\u001b[0mhue\u001b[0m\u001b[0;34m,\u001b[0m \u001b[0;34m**\u001b[0m\u001b[0mplot_kws\u001b[0m\u001b[0;34m)\u001b[0m\u001b[0;34m\u001b[0m\u001b[0;34m\u001b[0m\u001b[0m\n\u001b[0m\u001b[1;32m   3848\u001b[0m \u001b[0;34m\u001b[0m\u001b[0m\n\u001b[1;32m   3849\u001b[0m     \u001b[0;32mif\u001b[0m \u001b[0mp\u001b[0m\u001b[0;34m.\u001b[0m\u001b[0morient\u001b[0m \u001b[0;34m==\u001b[0m \u001b[0;34m\"h\"\u001b[0m\u001b[0;34m:\u001b[0m\u001b[0;34m\u001b[0m\u001b[0;34m\u001b[0m\u001b[0m\n",
            "\u001b[0;32m/usr/local/lib/python3.7/dist-packages/seaborn/axisgrid.py\u001b[0m in \u001b[0;36mmap_dataframe\u001b[0;34m(self, func, *args, **kwargs)\u001b[0m\n\u001b[1;32m    782\u001b[0m         \u001b[0;32mfor\u001b[0m \u001b[0mi\u001b[0m\u001b[0;34m,\u001b[0m \u001b[0mval\u001b[0m \u001b[0;32min\u001b[0m \u001b[0menumerate\u001b[0m\u001b[0;34m(\u001b[0m\u001b[0margs\u001b[0m\u001b[0;34m[\u001b[0m\u001b[0;34m:\u001b[0m\u001b[0;36m2\u001b[0m\u001b[0;34m]\u001b[0m\u001b[0;34m)\u001b[0m\u001b[0;34m:\u001b[0m\u001b[0;34m\u001b[0m\u001b[0;34m\u001b[0m\u001b[0m\n\u001b[1;32m    783\u001b[0m             \u001b[0maxis_labels\u001b[0m\u001b[0;34m[\u001b[0m\u001b[0mi\u001b[0m\u001b[0;34m]\u001b[0m \u001b[0;34m=\u001b[0m \u001b[0mval\u001b[0m\u001b[0;34m\u001b[0m\u001b[0;34m\u001b[0m\u001b[0m\n\u001b[0;32m--> 784\u001b[0;31m         \u001b[0mself\u001b[0m\u001b[0;34m.\u001b[0m\u001b[0m_finalize_grid\u001b[0m\u001b[0;34m(\u001b[0m\u001b[0maxis_labels\u001b[0m\u001b[0;34m)\u001b[0m\u001b[0;34m\u001b[0m\u001b[0;34m\u001b[0m\u001b[0m\n\u001b[0m\u001b[1;32m    785\u001b[0m \u001b[0;34m\u001b[0m\u001b[0m\n\u001b[1;32m    786\u001b[0m         \u001b[0;32mreturn\u001b[0m \u001b[0mself\u001b[0m\u001b[0;34m\u001b[0m\u001b[0;34m\u001b[0m\u001b[0m\n",
            "\u001b[0;32m/usr/local/lib/python3.7/dist-packages/seaborn/axisgrid.py\u001b[0m in \u001b[0;36m_finalize_grid\u001b[0;34m(self, axlabels)\u001b[0m\n\u001b[1;32m    811\u001b[0m     \u001b[0;32mdef\u001b[0m \u001b[0m_finalize_grid\u001b[0m\u001b[0;34m(\u001b[0m\u001b[0mself\u001b[0m\u001b[0;34m,\u001b[0m \u001b[0maxlabels\u001b[0m\u001b[0;34m)\u001b[0m\u001b[0;34m:\u001b[0m\u001b[0;34m\u001b[0m\u001b[0;34m\u001b[0m\u001b[0m\n\u001b[1;32m    812\u001b[0m         \u001b[0;34m\"\"\"Finalize the annotations and layout.\"\"\"\u001b[0m\u001b[0;34m\u001b[0m\u001b[0;34m\u001b[0m\u001b[0m\n\u001b[0;32m--> 813\u001b[0;31m         \u001b[0mself\u001b[0m\u001b[0;34m.\u001b[0m\u001b[0mset_axis_labels\u001b[0m\u001b[0;34m(\u001b[0m\u001b[0;34m*\u001b[0m\u001b[0maxlabels\u001b[0m\u001b[0;34m)\u001b[0m\u001b[0;34m\u001b[0m\u001b[0;34m\u001b[0m\u001b[0m\n\u001b[0m\u001b[1;32m    814\u001b[0m         \u001b[0mself\u001b[0m\u001b[0;34m.\u001b[0m\u001b[0mset_titles\u001b[0m\u001b[0;34m(\u001b[0m\u001b[0;34m)\u001b[0m\u001b[0;34m\u001b[0m\u001b[0;34m\u001b[0m\u001b[0m\n\u001b[1;32m    815\u001b[0m         \u001b[0mself\u001b[0m\u001b[0;34m.\u001b[0m\u001b[0mtight_layout\u001b[0m\u001b[0;34m(\u001b[0m\u001b[0;34m)\u001b[0m\u001b[0;34m\u001b[0m\u001b[0;34m\u001b[0m\u001b[0m\n",
            "\u001b[0;32m/usr/local/lib/python3.7/dist-packages/seaborn/axisgrid.py\u001b[0m in \u001b[0;36mset_axis_labels\u001b[0;34m(self, x_var, y_var, clear_inner, **kwargs)\u001b[0m\n\u001b[1;32m    841\u001b[0m         \u001b[0;32mif\u001b[0m \u001b[0my_var\u001b[0m \u001b[0;32mis\u001b[0m \u001b[0;32mnot\u001b[0m \u001b[0;32mNone\u001b[0m\u001b[0;34m:\u001b[0m\u001b[0;34m\u001b[0m\u001b[0;34m\u001b[0m\u001b[0m\n\u001b[1;32m    842\u001b[0m             \u001b[0mself\u001b[0m\u001b[0;34m.\u001b[0m\u001b[0m_y_var\u001b[0m \u001b[0;34m=\u001b[0m \u001b[0my_var\u001b[0m\u001b[0;34m\u001b[0m\u001b[0;34m\u001b[0m\u001b[0m\n\u001b[0;32m--> 843\u001b[0;31m             \u001b[0mself\u001b[0m\u001b[0;34m.\u001b[0m\u001b[0mset_ylabels\u001b[0m\u001b[0;34m(\u001b[0m\u001b[0my_var\u001b[0m\u001b[0;34m,\u001b[0m \u001b[0mclear_inner\u001b[0m\u001b[0;34m=\u001b[0m\u001b[0mclear_inner\u001b[0m\u001b[0;34m,\u001b[0m \u001b[0;34m**\u001b[0m\u001b[0mkwargs\u001b[0m\u001b[0;34m)\u001b[0m\u001b[0;34m\u001b[0m\u001b[0;34m\u001b[0m\u001b[0m\n\u001b[0m\u001b[1;32m    844\u001b[0m \u001b[0;34m\u001b[0m\u001b[0m\n\u001b[1;32m    845\u001b[0m         \u001b[0;32mreturn\u001b[0m \u001b[0mself\u001b[0m\u001b[0;34m\u001b[0m\u001b[0;34m\u001b[0m\u001b[0m\n",
            "\u001b[0;32m/usr/local/lib/python3.7/dist-packages/seaborn/axisgrid.py\u001b[0m in \u001b[0;36mset_ylabels\u001b[0;34m(self, label, clear_inner, **kwargs)\u001b[0m\n\u001b[1;32m    861\u001b[0m             \u001b[0mlabel\u001b[0m \u001b[0;34m=\u001b[0m \u001b[0mself\u001b[0m\u001b[0;34m.\u001b[0m\u001b[0m_y_var\u001b[0m\u001b[0;34m\u001b[0m\u001b[0;34m\u001b[0m\u001b[0m\n\u001b[1;32m    862\u001b[0m         \u001b[0;32mfor\u001b[0m \u001b[0max\u001b[0m \u001b[0;32min\u001b[0m \u001b[0mself\u001b[0m\u001b[0;34m.\u001b[0m\u001b[0m_left_axes\u001b[0m\u001b[0;34m:\u001b[0m\u001b[0;34m\u001b[0m\u001b[0;34m\u001b[0m\u001b[0m\n\u001b[0;32m--> 863\u001b[0;31m             \u001b[0max\u001b[0m\u001b[0;34m.\u001b[0m\u001b[0mset_ylabel\u001b[0m\u001b[0;34m(\u001b[0m\u001b[0mlabel\u001b[0m\u001b[0;34m,\u001b[0m \u001b[0;34m**\u001b[0m\u001b[0mkwargs\u001b[0m\u001b[0;34m)\u001b[0m\u001b[0;34m\u001b[0m\u001b[0;34m\u001b[0m\u001b[0m\n\u001b[0m\u001b[1;32m    864\u001b[0m         \u001b[0;32mif\u001b[0m \u001b[0mclear_inner\u001b[0m\u001b[0;34m:\u001b[0m\u001b[0;34m\u001b[0m\u001b[0;34m\u001b[0m\u001b[0m\n\u001b[1;32m    865\u001b[0m             \u001b[0;32mfor\u001b[0m \u001b[0max\u001b[0m \u001b[0;32min\u001b[0m \u001b[0mself\u001b[0m\u001b[0;34m.\u001b[0m\u001b[0m_not_left_axes\u001b[0m\u001b[0;34m:\u001b[0m\u001b[0;34m\u001b[0m\u001b[0;34m\u001b[0m\u001b[0m\n",
            "\u001b[0;32m/usr/local/lib/python3.7/dist-packages/matplotlib/axes/_axes.py\u001b[0m in \u001b[0;36mset_ylabel\u001b[0;34m(self, ylabel, fontdict, labelpad, **kwargs)\u001b[0m\n\u001b[1;32m    280\u001b[0m         \u001b[0;32mif\u001b[0m \u001b[0mlabelpad\u001b[0m \u001b[0;32mis\u001b[0m \u001b[0;32mnot\u001b[0m \u001b[0;32mNone\u001b[0m\u001b[0;34m:\u001b[0m\u001b[0;34m\u001b[0m\u001b[0;34m\u001b[0m\u001b[0m\n\u001b[1;32m    281\u001b[0m             \u001b[0mself\u001b[0m\u001b[0;34m.\u001b[0m\u001b[0myaxis\u001b[0m\u001b[0;34m.\u001b[0m\u001b[0mlabelpad\u001b[0m \u001b[0;34m=\u001b[0m \u001b[0mlabelpad\u001b[0m\u001b[0;34m\u001b[0m\u001b[0;34m\u001b[0m\u001b[0m\n\u001b[0;32m--> 282\u001b[0;31m         \u001b[0;32mreturn\u001b[0m \u001b[0mself\u001b[0m\u001b[0;34m.\u001b[0m\u001b[0myaxis\u001b[0m\u001b[0;34m.\u001b[0m\u001b[0mset_label_text\u001b[0m\u001b[0;34m(\u001b[0m\u001b[0mylabel\u001b[0m\u001b[0;34m,\u001b[0m \u001b[0mfontdict\u001b[0m\u001b[0;34m,\u001b[0m \u001b[0;34m**\u001b[0m\u001b[0mkwargs\u001b[0m\u001b[0;34m)\u001b[0m\u001b[0;34m\u001b[0m\u001b[0;34m\u001b[0m\u001b[0m\n\u001b[0m\u001b[1;32m    283\u001b[0m \u001b[0;34m\u001b[0m\u001b[0m\n\u001b[1;32m    284\u001b[0m     \u001b[0;32mdef\u001b[0m \u001b[0mget_legend_handles_labels\u001b[0m\u001b[0;34m(\u001b[0m\u001b[0mself\u001b[0m\u001b[0;34m,\u001b[0m \u001b[0mlegend_handler_map\u001b[0m\u001b[0;34m=\u001b[0m\u001b[0;32mNone\u001b[0m\u001b[0;34m)\u001b[0m\u001b[0;34m:\u001b[0m\u001b[0;34m\u001b[0m\u001b[0;34m\u001b[0m\u001b[0m\n",
            "\u001b[0;32m/usr/local/lib/python3.7/dist-packages/matplotlib/axis.py\u001b[0m in \u001b[0;36mset_label_text\u001b[0;34m(self, label, fontdict, **kwargs)\u001b[0m\n\u001b[1;32m   1611\u001b[0m         \"\"\"\n\u001b[1;32m   1612\u001b[0m         \u001b[0mself\u001b[0m\u001b[0;34m.\u001b[0m\u001b[0misDefault_label\u001b[0m \u001b[0;34m=\u001b[0m \u001b[0;32mFalse\u001b[0m\u001b[0;34m\u001b[0m\u001b[0;34m\u001b[0m\u001b[0m\n\u001b[0;32m-> 1613\u001b[0;31m         \u001b[0mself\u001b[0m\u001b[0;34m.\u001b[0m\u001b[0mlabel\u001b[0m\u001b[0;34m.\u001b[0m\u001b[0mset_text\u001b[0m\u001b[0;34m(\u001b[0m\u001b[0mlabel\u001b[0m\u001b[0;34m)\u001b[0m\u001b[0;34m\u001b[0m\u001b[0;34m\u001b[0m\u001b[0m\n\u001b[0m\u001b[1;32m   1614\u001b[0m         \u001b[0;32mif\u001b[0m \u001b[0mfontdict\u001b[0m \u001b[0;32mis\u001b[0m \u001b[0;32mnot\u001b[0m \u001b[0;32mNone\u001b[0m\u001b[0;34m:\u001b[0m\u001b[0;34m\u001b[0m\u001b[0;34m\u001b[0m\u001b[0m\n\u001b[1;32m   1615\u001b[0m             \u001b[0mself\u001b[0m\u001b[0;34m.\u001b[0m\u001b[0mlabel\u001b[0m\u001b[0;34m.\u001b[0m\u001b[0mupdate\u001b[0m\u001b[0;34m(\u001b[0m\u001b[0mfontdict\u001b[0m\u001b[0;34m)\u001b[0m\u001b[0;34m\u001b[0m\u001b[0;34m\u001b[0m\u001b[0m\n",
            "\u001b[0;32m/usr/local/lib/python3.7/dist-packages/matplotlib/text.py\u001b[0m in \u001b[0;36mset_text\u001b[0;34m(self, s)\u001b[0m\n\u001b[1;32m   1163\u001b[0m         \u001b[0;32mif\u001b[0m \u001b[0ms\u001b[0m \u001b[0;32mis\u001b[0m \u001b[0;32mNone\u001b[0m\u001b[0;34m:\u001b[0m\u001b[0;34m\u001b[0m\u001b[0;34m\u001b[0m\u001b[0m\n\u001b[1;32m   1164\u001b[0m             \u001b[0ms\u001b[0m \u001b[0;34m=\u001b[0m \u001b[0;34m''\u001b[0m\u001b[0;34m\u001b[0m\u001b[0;34m\u001b[0m\u001b[0m\n\u001b[0;32m-> 1165\u001b[0;31m         \u001b[0;32mif\u001b[0m \u001b[0ms\u001b[0m \u001b[0;34m!=\u001b[0m \u001b[0mself\u001b[0m\u001b[0;34m.\u001b[0m\u001b[0m_text\u001b[0m\u001b[0;34m:\u001b[0m\u001b[0;34m\u001b[0m\u001b[0;34m\u001b[0m\u001b[0m\n\u001b[0m\u001b[1;32m   1166\u001b[0m             \u001b[0mself\u001b[0m\u001b[0;34m.\u001b[0m\u001b[0m_text\u001b[0m \u001b[0;34m=\u001b[0m \u001b[0mstr\u001b[0m\u001b[0;34m(\u001b[0m\u001b[0ms\u001b[0m\u001b[0;34m)\u001b[0m\u001b[0;34m\u001b[0m\u001b[0;34m\u001b[0m\u001b[0m\n\u001b[1;32m   1167\u001b[0m             \u001b[0mself\u001b[0m\u001b[0;34m.\u001b[0m\u001b[0mstale\u001b[0m \u001b[0;34m=\u001b[0m \u001b[0;32mTrue\u001b[0m\u001b[0;34m\u001b[0m\u001b[0;34m\u001b[0m\u001b[0m\n",
            "\u001b[0;31mValueError\u001b[0m: The truth value of an array with more than one element is ambiguous. Use a.any() or a.all()"
          ]
        },
        {
          "output_type": "display_data",
          "data": {
            "image/png": "[encoded data removed]",
            "text/plain": [
              "<Figure size 720x720 with 1 Axes>"
            ]
          },
          "metadata": {
            "needs_background": "light"
          }
        }
      ]
    },
    {
      "cell_type": "markdown",
      "metadata": {
        "id": "Hr3WJK1JnLw6"
      },
      "source": [
        "### Gender"
      ]
    },
    {
      "cell_type": "code",
      "metadata": {
        "colab": {
          "base_uri": "https://localhost:8080/",
          "height": 453
        },
        "id": "7F_rn65OBpZY",
        "outputId": "87482159-7544-4612-9afe-ab6c6311e143"
      },
      "source": [
        "male_df = cd[cd['gender_cleaned'] == 'male']\n",
        "num_of_male = len(male_df)\n",
        "num_of_not_open_male = len(male_df[male_df['share_mh_ff'] == 'Not open at all'])\n",
        "num_of_somewhat_not_open_male = len(male_df[male_df['share_mh_ff'] == 'Somewhat not open'])\n",
        "num_of_neutral_male = len(male_df[male_df['share_mh_ff'] == 'Neutral'])\n",
        "num_of_somewhat_open_male = len(male_df[male_df['share_mh_ff'] == 'Somewhat open'])\n",
        "num_of_open_male = len(male_df[male_df['share_mh_ff'] == 'Very open'])\n",
        "num_of_na_male = len(male_df[male_df['share_mh_ff'] == 'Not applicable to me (I do not have a mental illness)'])\n",
        "row_male = ['male', (num_of_not_open_male/num_of_male), (num_of_somewhat_not_open_male/num_of_male), (num_of_neutral_male/num_of_male), (num_of_somewhat_open_male/num_of_male), (num_of_open_male/num_of_male), (num_of_na_male/num_of_male)]\n",
        "\n",
        "female_df = cd[cd['gender_cleaned'] == 'female']\n",
        "num_of_female = len(female_df)\n",
        "num_of_not_open_female = len(female_df[female_df['share_mh_ff'] == 'Not open at all'])\n",
        "num_of_somewhat_not_open_female = len(female_df[female_df['share_mh_ff'] == 'Somewhat not open'])\n",
        "num_of_neutral_female = len(female_df[female_df['share_mh_ff'] == 'Neutral'])\n",
        "num_of_somewhat_open_female = len(female_df[female_df['share_mh_ff'] == 'Somewhat open'])\n",
        "num_of_open_female = len(female_df[female_df['share_mh_ff'] == 'Very open'])\n",
        "num_of_na_female = len(female_df[female_df['share_mh_ff'] == 'Not applicable to me (I do not have a mental illness)'])\n",
        "row_female = ['female', (num_of_not_open_female/num_of_female), (num_of_somewhat_not_open_female/num_of_female), (num_of_neutral_female/num_of_female), (num_of_somewhat_open_female/num_of_female), (num_of_open_female/num_of_female), (num_of_na_female/num_of_female)]\n",
        "\n",
        "transgender_df = cd[cd['gender_cleaned'] == 'transgender']\n",
        "num_of_transgender = len(transgender_df)\n",
        "num_of_not_open_transgender = len(transgender_df[transgender_df['share_mh_ff'] == 'Not open at all'])\n",
        "num_of_somewhat_not_open_transgender = len(transgender_df[transgender_df['share_mh_ff'] == 'Somewhat not open'])\n",
        "num_of_neutral_transgender = len(transgender_df[transgender_df['share_mh_ff'] == 'Neutral'])\n",
        "num_of_somewhat_open_transgender = len(transgender_df[transgender_df['share_mh_ff'] == 'Somewhat open'])\n",
        "num_of_open_transgender = len(transgender_df[transgender_df['share_mh_ff'] == 'Very open'])\n",
        "num_of_na_transgender = len(transgender_df[transgender_df['share_mh_ff'] == 'Not applicable to me (I do not have a mental illness)'])\n",
        "row_transgender = ['transgender', (num_of_not_open_transgender/num_of_transgender), (num_of_somewhat_not_open_transgender/num_of_transgender), (num_of_neutral_transgender/num_of_transgender), (num_of_somewhat_open_transgender/num_of_transgender), (num_of_open_transgender/num_of_transgender), (num_of_na_transgender/num_of_transgender)]\n",
        "\n",
        "other_df = cd[cd['gender_cleaned'] == 'other']\n",
        "num_of_other = len(other_df)\n",
        "num_of_not_open_other = len(other_df[other_df['share_mh_ff'] == 'Not open at all'])\n",
        "num_of_somewhat_not_open_other = len(other_df[other_df['share_mh_ff'] == 'Somewhat not open'])\n",
        "num_of_neutral_other = len(other_df[other_df['share_mh_ff'] == 'Neutral'])\n",
        "num_of_somewhat_open_other = len(other_df[other_df['share_mh_ff'] == 'Somewhat open'])\n",
        "num_of_open_other = len(other_df[other_df['share_mh_ff'] == 'Very open'])\n",
        "num_of_na_other = len(other_df[other_df['share_mh_ff'] == 'Not applicable to me (I do not have a mental illness)'])\n",
        "row_other = ['other', (num_of_not_open_other/num_of_other), (num_of_somewhat_not_open_other/num_of_other), (num_of_neutral_other/num_of_other), (num_of_somewhat_open_other/num_of_other), (num_of_open_other/num_of_other), (num_of_na_other/num_of_other)]\n",
        "\n",
        "\n",
        "lst = [row_male, row_female, row_transgender, row_other]\n",
        "    \n",
        "gender_comparison = pd.DataFrame(lst, columns =['gender', 'not_open%', 'somewhat_not%', 'neutral%', 'somewhat%', 'open%', 'na%'], dtype = float)\n",
        "print(gender_comparison)\n",
        "\n",
        "open_plot = sns.barplot(x=\"gender\", y=\"open%\", data=gender_comparison, palette = blue_p)\n",
        "\n",
        "# gender_comparison.plot(kind=\"bar\", stacked=True)\n",
        "\n",
        "#males and females are less likley to be open to telling their families than transgender and other, with other being the most likely\n",
        "\n",
        "#Null hypothesis: males and females are equally likely to be open to telling their families about mental health as trans and other categories:\n",
        "\n",
        "replacement_scheme = {\"Very open\":1, \"Somewhat open\":0, \"Neutral\":0, \"Somewhat not open\":0, \"Not open at all\":0, \"Not applicable to me (I do not have a mental illness)\":0}\n",
        "male_female_df = pd.concat([male_df,female_df], ignore_index=True)[[\"share_mh_ff\"]]\n",
        "open_male_female = len(male_female_df[male_female_df[\"share_mh_ff\"] == \"Very open\"])\n",
        "male_female_df[\"Very open\"] = male_female_df[\"share_mh_ff\"].replace(to_replace=replacement_scheme)\n",
        "\n",
        "transgender_other_df = pd.concat([transgender_df, other_df], ignore_index=True)[[\"share_mh_ff\"]]\n",
        "open_transgender_other = len(transgender_other_df[transgender_other_df[\"share_mh_ff\"] == \"Very open\"])\n",
        "transgender_other_df[\"Very open\"] = transgender_other_df[\"share_mh_ff\"].replace(to_replace=replacement_scheme)\n",
        "\n",
        "male_female_std = male_female_df.std(numeric_only=True)[\"Very open\"]\n",
        "transgender_other_std = transgender_other_df.std(numeric_only=True)[\"Very open\"]\n",
        "\n",
        "gender_standard_error = np.sqrt((np.power(male_female_std, 2)/len(male_female_df)) + (np.power(transgender_other_std, 2)/len(transgender_other_df)))\n",
        "\n",
        "gender_prob_comparator = ((float(open_transgender_other)/float(len(transgender_other_df))) - (float(open_male_female)/float(len(male_female_df)))) / gender_standard_error\n",
        "\n",
        "gender_p_value = 1 - t.cdf(gender_prob_comparator, df = len(male_female_df) + len(transgender_other_df) - 2)\n",
        "\n",
        "print(\"Gender comparison:\\n\\tStandard error: %f \\n\\tP-value: %f\"%(gender_standard_error, gender_p_value))\n",
        "\n",
        "#P value is 0.0146, and so we can confidently reject the null hypothesis and say that men and women are, on average, less likely than transgender or other to be very open to\n",
        "# telling their family"
      ],
      "execution_count": null,
      "outputs": [
        {
          "output_type": "stream",
          "name": "stdout",
          "text": [
            "        gender  not_open%  somewhat_not%  ...  somewhat%     open%       na%\n",
            "0         male   0.057254       0.157205  ...   0.424066  0.210577  0.040272\n",
            "1       female   0.048101       0.153165  ...   0.439241  0.217722  0.034177\n",
            "2  transgender   0.142857       0.285714  ...   0.214286  0.285714  0.000000\n",
            "3        other   0.032787       0.081967  ...   0.344262  0.344262  0.032787\n",
            "\n",
            "[4 rows x 7 columns]\n",
            "Gender comparison:\n",
            "\tStandard error: 0.055333 \n",
            "\tP-value: 0.014568\n"
          ]
        },
        {
          "output_type": "display_data",
          "data": {
            "image/png": "[encoded data removed]",
            "text/plain": [
              "<Figure size 432x288 with 1 Axes>"
            ]
          },
          "metadata": {
            "needs_background": "light"
          }
        }
      ]
    },
    {
      "cell_type": "markdown",
      "metadata": {
        "id": "1Ew2emwwwSuR"
      },
      "source": [
        "### Age"
      ]
    },
    {
      "cell_type": "code",
      "metadata": {
        "colab": {
          "base_uri": "https://localhost:8080/",
          "height": 716
        },
        "id": "4Ad3Z1hlwVWF",
        "outputId": "4181fdc6-ad8e-41ef-a632-5bb9b7ca2574"
      },
      "source": [
        "cd['age_range'] = pd.cut(cd['age'], [0, 20, 30, 40, 50, 60, 100])\n",
        "age_range_pt = cd.pivot_table('age', index='age_range', columns='share_mh_ff', aggfunc='count')\n",
        "age_range_pt[\"sum\"] = age_range_pt.sum(axis=1)\n",
        "print(age_range_pt, '\\n\\n')\n",
        "\n",
        "age_range_comparison = age_range_pt.loc[:,\"Neutral\":\"Very open\"].div(age_range_pt[\"sum\"], axis=0)\n",
        "print(age_range_comparison)\n",
        "\n",
        "x = sns.barplot(x=age_range_comparison.index, y=\"Very open\", data=age_range_comparison, palette = blue_p)\n",
        "\n",
        "#age_range_comparison.plot(kind=\"bar\", stacked=True)\n",
        "#Empoyees aged 0-20 seem less likely to be willing to share their mental health with family/friends than older employees\n",
        "\n",
        "#Null hypothesis: employees aged 0-20 are no less likely to be willing to share their mental health with family/friends than older employees\n",
        "\n",
        "replacement_scheme = {\"Very open\":1, \"Somewhat open\":0, \"Neutral\":0, \"Somewhat not open\":0, \"Not open at all\":0, \"Not applicable to me (I do not have a mental illness)\":0}\n",
        "young_df = cd[cd[\"age\"] < 20][[\"share_mh_ff\"]]\n",
        "open_young = len(young_df[young_df[\"share_mh_ff\"] == \"Very open\"])\n",
        "young_df[\"Very open\"] = young_df[\"share_mh_ff\"].replace(to_replace=replacement_scheme)\n",
        "\n",
        "old_df = cd[cd[\"age\"] >= 20][[\"share_mh_ff\"]]\n",
        "open_old = len(old_df[old_df[\"share_mh_ff\"] == \"Very open\"])\n",
        "old_df[\"Very open\"] = old_df[\"share_mh_ff\"].replace(to_replace=replacement_scheme)\n",
        "\n",
        "young_std = young_df.std(numeric_only=True)[\"Very open\"]\n",
        "old_std = old_df.std(numeric_only=True)[\"Very open\"]\n",
        "\n",
        "age_standard_error = np.sqrt((np.power(young_std, 2)/len(young_df)) + (np.power(old_std, 2)/len(old_df)))\n",
        "\n",
        "age_prob_comparator = ( (float(open_old)/float(len(old_df))) - (float(open_young)/float(len(young_df))) ) / age_standard_error\n",
        "\n",
        "age_p_value = 1 - t.cdf(age_prob_comparator, df = len(young_df) + len(old_df) - 2)\n",
        "\n",
        "print(\"Age comparison:\\n\\tStandard error: %f \\n\\tP-value: %f\"%(age_standard_error, age_p_value))\n",
        "\n",
        "#P value is ~.00377, and so we can confidently reject the null hypothesis and say that younger employees are significantly less likely to be very open to sharing their mental\n",
        "#health issues with their family and friends than older coworkers are"
      ],
      "execution_count": null,
      "outputs": [
        {
          "output_type": "stream",
          "name": "stdout",
          "text": [
            "share_mh_ff  Neutral  ...     sum\n",
            "age_range             ...        \n",
            "(0, 20]          7.0  ...    27.0\n",
            "(20, 30]       107.0  ...  1028.0\n",
            "(30, 40]       147.0  ...  1280.0\n",
            "(40, 50]        49.0  ...   480.0\n",
            "(50, 60]        14.0  ...   114.0\n",
            "(60, 100]        4.0  ...    25.0\n",
            "\n",
            "[6 rows x 7 columns] \n",
            "\n",
            "\n",
            "share_mh_ff   Neutral  ...  Very open\n",
            "age_range              ...           \n",
            "(0, 20]      0.259259  ...   0.111111\n",
            "(20, 30]     0.104086  ...   0.213035\n",
            "(30, 40]     0.114844  ...   0.225000\n",
            "(40, 50]     0.102083  ...   0.208333\n",
            "(50, 60]     0.122807  ...   0.210526\n",
            "(60, 100]    0.160000  ...   0.240000\n",
            "\n",
            "[6 rows x 6 columns]\n",
            "Age comparison:\n",
            "\tStandard error: 0.059314 \n",
            "\tP-value: 0.003770\n"
          ]
        },
        {
          "output_type": "display_data",
          "data": {
            "image/png": "[encoded data removed]",
            "text/plain": [
              "<Figure size 432x288 with 1 Axes>"
            ]
          },
          "metadata": {
            "needs_background": "light"
          }
        }
      ]
    },
    {
      "cell_type": "markdown",
      "metadata": {
        "id": "UZfnCKun9I9h"
      },
      "source": [
        "## Other Values"
      ]
    },
    {
      "cell_type": "markdown",
      "metadata": {
        "id": "3pc41HpuCDXb"
      },
      "source": [
        "### Company Size"
      ]
    },
    {
      "cell_type": "code",
      "metadata": {
        "colab": {
          "base_uri": "https://localhost:8080/",
          "height": 645
        },
        "id": "7uHa--Al9NVF",
        "outputId": "fd549f96-9ae7-40c1-ed91-8775219702dc"
      },
      "source": [
        "company_size_pt = cd.pivot_table('age', index='company_size', columns='share_mh_ff', aggfunc='count')\n",
        "company_size_pt[\"sum\"] = company_size_pt.sum(axis=1)\n",
        "print(company_size_pt, '\\n\\n')\n",
        "\n",
        "company_size_comparison = company_size_pt.loc[:,\"Not open at all\":\"Very open\"].div(company_size_pt[\"sum\"], axis=0)\n",
        "print(company_size_comparison)\n",
        "\n",
        "x = sns.barplot(x=company_size_comparison.index, y=\"Very open\", data=company_size_comparison, palette = blue_p)\n",
        "x"
      ],
      "execution_count": null,
      "outputs": [
        {
          "output_type": "stream",
          "name": "stdout",
          "text": [
            "share_mh_ff     Neutral  ...  sum\n",
            "company_size             ...     \n",
            "1-5                  10  ...   92\n",
            "100-500              66  ...  612\n",
            "26-100               59  ...  535\n",
            "500-1000             23  ...  186\n",
            "6-25                 48  ...  399\n",
            "More than 1000       70  ...  630\n",
            "\n",
            "[6 rows x 7 columns] \n",
            "\n",
            "\n",
            "share_mh_ff     Not open at all  Somewhat not open  Somewhat open  Very open\n",
            "company_size                                                                \n",
            "1-5                    0.065217           0.173913       0.358696   0.239130\n",
            "100-500                0.053922           0.127451       0.436275   0.243464\n",
            "26-100                 0.052336           0.151402       0.435514   0.218692\n",
            "500-1000               0.037634           0.123656       0.446237   0.231183\n",
            "6-25                   0.072682           0.162907       0.411028   0.187970\n",
            "More than 1000         0.057143           0.182540       0.414286   0.209524\n"
          ]
        },
        {
          "output_type": "execute_result",
          "data": {
            "text/plain": [
              "<matplotlib.axes._subplots.AxesSubplot at 0x7f5d54b0fe10>"
            ]
          },
          "metadata": {},
          "execution_count": 21
        },
        {
          "output_type": "display_data",
          "data": {
            "image/png": "[encoded data removed]",
            "text/plain": [
              "<Figure size 432x288 with 1 Axes>"
            ]
          },
          "metadata": {
            "needs_background": "light"
          }
        }
      ]
    },
    {
      "cell_type": "markdown",
      "metadata": {
        "id": "MvYddBr7CGTW"
      },
      "source": [
        "### Leaving Difficulty"
      ]
    },
    {
      "cell_type": "code",
      "metadata": {
        "colab": {
          "base_uri": "https://localhost:8080/",
          "height": 714
        },
        "id": "2KsFVuUbCKbY",
        "outputId": "8b474543-dc08-420a-86ea-825ddceaa11a"
      },
      "source": [
        "leaving_difficulty_pt = cd.pivot_table('age', index='leaving_difficulty', columns='share_mh_ff', aggfunc='count')\n",
        "leaving_difficulty_pt[\"sum\"] = leaving_difficulty_pt.sum(axis=1)\n",
        "print(leaving_difficulty_pt, '\\n\\n')\n",
        "\n",
        "leaving_difficulty_comparison = leaving_difficulty_pt.loc[:,\"Not open at all\":\"Very open\"].div(leaving_difficulty_pt[\"sum\"], axis=0)\n",
        "leaving_difficulty_comparison[\"sort_col\"] = [1, 0, 3, 2, 4, 5]\n",
        "leaving_difficulty_comparison = leaving_difficulty_comparison.sort_values(by=\"sort_col\").drop(columns=\"sort_col\")\n",
        "print(leaving_difficulty_comparison)\n",
        "\n",
        "x = sns.barplot(x=leaving_difficulty_comparison.index, y=\"Very open\", data=leaving_difficulty_comparison, palette = blue_p)\n",
        "\n",
        "# It would seem that employees who consider it very easy to leave their jobs are more likely to talk about their mental health with their friends and families than employees who do not\n",
        "\n",
        "replacement_scheme = {\"Very open\":1, \"Somewhat open\":0, \"Neutral\":0, \"Somewhat not open\":0, \"Not open at all\":0, \"Not applicable to me (I do not have a mental illness)\":0}\n",
        "willing_to_leave_df = pd.concat([cd[cd[\"leaving_difficulty\"] == \"Very easy\"], cd[cd[\"leaving_difficulty\"] == \"Somewhat easy\"]], ignore_index=True)[[\"share_mh_ff\"]]\n",
        "open_willing = len(willing_to_leave_df[willing_to_leave_df[\"share_mh_ff\"] == \"Very open\"])\n",
        "willing_to_leave_df[\"Very open\"] = willing_to_leave_df[\"share_mh_ff\"].replace(to_replace=replacement_scheme)\n",
        "\n",
        "unwilling_to_leave_df = pd.concat([cd[cd[\"leaving_difficulty\"] == \"Difficult\"], cd[cd[\"leaving_difficulty\"] == \"Somewhat difficult\"], cd[cd[\"leaving_difficulty\"] == \"Neither easy nor difficult\"]], ignore_index=True)[[\"share_mh_ff\"]]\n",
        "open_unwilling = len(unwilling_to_leave_df[unwilling_to_leave_df[\"share_mh_ff\"] == \"Very open\"])\n",
        "unwilling_to_leave_df[\"Very open\"] = unwilling_to_leave_df[\"share_mh_ff\"].replace(to_replace=replacement_scheme)\n",
        "\n",
        "willing_std = willing_to_leave_df.std(numeric_only=True)[\"Very open\"]\n",
        "unwilling_std = unwilling_to_leave_df.std(numeric_only=True)[\"Very open\"]\n",
        "\n",
        "leaving_standard_error = np.sqrt((np.power(willing_std, 2)/len(willing_to_leave_df)) + (np.power(unwilling_std, 2)/len(unwilling_to_leave_df)))\n",
        "\n",
        "leaving_prob_comparator = ( (float(open_willing)/float(len(willing_to_leave_df))) - (float(open_unwilling)/float(len(unwilling_to_leave_df))) ) / leaving_standard_error\n",
        "\n",
        "leaving_p_value = 1 - t.cdf(leaving_prob_comparator, df = len(willing_to_leave_df) + len(unwilling_to_leave_df) - 2)\n",
        "\n",
        "print(\"Leaving Difficulty comparison:\\n\\tStandard error: %f \\n\\tP-value: %f\"%(leaving_standard_error, leaving_p_value))\n",
        "\n",
        "#With a p value of 0.00015, we can reject the null hypothesis and confidently say that people who consider it easier to leave their jobs are more likely to be willing to talk about their mental health than people who do not"
      ],
      "execution_count": null,
      "outputs": [
        {
          "output_type": "stream",
          "name": "stdout",
          "text": [
            "share_mh_ff                 Neutral  Not open at all  ...  Very open  sum\n",
            "leaving_difficulty                                    ...                \n",
            "Difficult                        14               14  ...         22  112\n",
            "I don't know                     33               14  ...         56  229\n",
            "Neither easy nor difficult       30                6  ...         34  166\n",
            "Somewhat difficult               19               10  ...         34  159\n",
            "Somewhat easy                    31               18  ...         91  356\n",
            "Very easy                        38               13  ...        103  286\n",
            "\n",
            "[6 rows x 6 columns] \n",
            "\n",
            "\n",
            "share_mh_ff                 Not open at all  ...  Very open\n",
            "leaving_difficulty                           ...           \n",
            "I don't know                       0.061135  ...   0.244541\n",
            "Difficult                          0.125000  ...   0.196429\n",
            "Somewhat difficult                 0.062893  ...   0.213836\n",
            "Neither easy nor difficult         0.036145  ...   0.204819\n",
            "Somewhat easy                      0.050562  ...   0.255618\n",
            "Very easy                          0.045455  ...   0.360140\n",
            "\n",
            "[6 rows x 4 columns]\n",
            "Leaving Difficulty comparison:\n",
            "\tStandard error: 0.026534 \n",
            "\tP-value: 0.000150\n"
          ]
        },
        {
          "output_type": "display_data",
          "data": {
            "image/png": "[encoded data removed]",
            "text/plain": [
              "<Figure size 432x288 with 1 Axes>"
            ]
          },
          "metadata": {
            "needs_background": "light"
          }
        }
      ]
    },
    {
      "cell_type": "markdown",
      "metadata": {
        "id": "stc8_n0cMQwx"
      },
      "source": [
        "### Discuss MH w/ Coworkers"
      ]
    },
    {
      "cell_type": "code",
      "metadata": {
        "colab": {
          "base_uri": "https://localhost:8080/",
          "height": 540
        },
        "id": "r87NCBieMqpI",
        "outputId": "1c1d9d01-9ef5-42d8-ab91-5a98b741b3ae"
      },
      "source": [
        "disc_mh_coworker_pt = cd.pivot_table('age', index='disc_mh_coworker', columns='share_mh_ff', aggfunc='count')\n",
        "disc_mh_coworker_pt[\"sum\"] = disc_mh_coworker_pt.sum(axis=1)\n",
        "print(disc_mh_coworker_pt, '\\n\\n')\n",
        "\n",
        "disc_mh_coworker_comparison = disc_mh_coworker_pt.loc[:,\"Not open at all\":\"Very open\"].div(disc_mh_coworker_pt[\"sum\"], axis=0)\n",
        "print(disc_mh_coworker_comparison)\n",
        "\n",
        "x = sns.barplot(x=disc_mh_coworker_comparison.index, y=\"Very open\", data=disc_mh_coworker_comparison, palette = blue_p)\n",
        "x"
      ],
      "execution_count": null,
      "outputs": [
        {
          "output_type": "stream",
          "name": "stdout",
          "text": [
            "share_mh_ff       Neutral  Not open at all  ...  Very open  sum\n",
            "disc_mh_coworker                            ...                \n",
            "Maybe                  84               16  ...        129  574\n",
            "No                     44               51  ...         38  327\n",
            "Yes                    37                8  ...        173  407\n",
            "\n",
            "[3 rows x 6 columns] \n",
            "\n",
            "\n",
            "share_mh_ff       Not open at all  Somewhat not open  Somewhat open  Very open\n",
            "disc_mh_coworker                                                              \n",
            "Maybe                    0.027875           0.163763       0.437282   0.224739\n",
            "No                       0.155963           0.256881       0.336391   0.116208\n",
            "Yes                      0.019656           0.056511       0.407862   0.425061\n"
          ]
        },
        {
          "output_type": "execute_result",
          "data": {
            "text/plain": [
              "<matplotlib.axes._subplots.AxesSubplot at 0x7f5d5483b610>"
            ]
          },
          "metadata": {},
          "execution_count": 23
        },
        {
          "output_type": "display_data",
          "data": {
            "image/png": "[encoded data removed]",
            "text/plain": [
              "<Figure size 432x288 with 1 Axes>"
            ]
          },
          "metadata": {
            "needs_background": "light"
          }
        }
      ]
    },
    {
      "cell_type": "markdown",
      "metadata": {
        "id": "qk5TT5L31cjf"
      },
      "source": [
        "## Year-to-Year"
      ]
    },
    {
      "cell_type": "markdown",
      "metadata": {
        "id": "xUcD679tAkRb"
      },
      "source": [
        "### Survey Response"
      ]
    },
    {
      "cell_type": "code",
      "metadata": {
        "id": "_nN3Vhky1gL4",
        "colab": {
          "base_uri": "https://localhost:8080/",
          "height": 265
        },
        "outputId": "89107e23-20c4-4552-e80b-36189940bfe0"
      },
      "source": [
        "# 2016\n",
        "data_2016 = cd[cd['year'] == 2016]\n",
        "data = data_2016.groupby('share_mh_ff').count()['age']\n",
        "data.plot.pie(autopct=\"%.1f%%\", colormap = \"Blues\")"
      ],
      "execution_count": null,
      "outputs": [
        {
          "output_type": "execute_result",
          "data": {
            "text/plain": [
              "<matplotlib.axes._subplots.AxesSubplot at 0x7f5d548aec90>"
            ]
          },
          "metadata": {},
          "execution_count": 25
        },
        {
          "output_type": "display_data",
          "data": {
            "image/png": "[encoded data removed]",
            "text/plain": [
              "<Figure size 432x288 with 1 Axes>"
            ]
          },
          "metadata": {}
        }
      ]
    },
    {
      "cell_type": "code",
      "metadata": {
        "id": "qvSlB7VA_QFI",
        "colab": {
          "base_uri": "https://localhost:8080/",
          "height": 265
        },
        "outputId": "e6c88028-5d86-4ec8-971e-acd4c0eddb52"
      },
      "source": [
        "# 2017\n",
        "data_2017 = cd[cd['year'] == 2017]\n",
        "data = data_2017.groupby('share_mh_ff').count()['age']\n",
        "data.plot.pie(autopct=\"%.1f%%\", colormap = \"Blues\")"
      ],
      "execution_count": null,
      "outputs": [
        {
          "output_type": "execute_result",
          "data": {
            "text/plain": [
              "<matplotlib.axes._subplots.AxesSubplot at 0x7f5d5479bdd0>"
            ]
          },
          "metadata": {},
          "execution_count": 26
        },
        {
          "output_type": "display_data",
          "data": {
            "image/png": "[encoded data removed]",
            "text/plain": [
              "<Figure size 432x288 with 1 Axes>"
            ]
          },
          "metadata": {}
        }
      ]
    },
    {
      "cell_type": "code",
      "metadata": {
        "id": "2FDl82Wj_YT6",
        "colab": {
          "base_uri": "https://localhost:8080/",
          "height": 265
        },
        "outputId": "d4fe2022-7a20-4abe-a719-1c6f7794d665"
      },
      "source": [
        "# 2018\n",
        "data_2018 = cd[cd['year'] == 2018]\n",
        "data = data_2018.groupby('share_mh_ff').count()['age']\n",
        "data.plot.pie(autopct=\"%.1f%%\", colormap = \"Blues\")"
      ],
      "execution_count": null,
      "outputs": [
        {
          "output_type": "execute_result",
          "data": {
            "text/plain": [
              "<matplotlib.axes._subplots.AxesSubplot at 0x7f5d62faab90>"
            ]
          },
          "metadata": {},
          "execution_count": 27
        },
        {
          "output_type": "display_data",
          "data": {
            "image/png": "[encoded data removed]",
            "text/plain": [
              "<Figure size 432x288 with 1 Axes>"
            ]
          },
          "metadata": {}
        }
      ]
    },
    {
      "cell_type": "code",
      "metadata": {
        "id": "wbea_GgC_eG1",
        "colab": {
          "base_uri": "https://localhost:8080/",
          "height": 265
        },
        "outputId": "9a0b987e-e106-4f4f-832f-42e3761ef02c"
      },
      "source": [
        "# 2019\n",
        "data_2019 = cd[cd['year'] == 2019]\n",
        "data = data_2019.groupby('share_mh_ff').count()['age']\n",
        "data.plot.pie(autopct=\"%.1f%%\", colormap = \"Blues\")"
      ],
      "execution_count": null,
      "outputs": [
        {
          "output_type": "execute_result",
          "data": {
            "text/plain": [
              "<matplotlib.axes._subplots.AxesSubplot at 0x7f5d5dbbdd50>"
            ]
          },
          "metadata": {},
          "execution_count": 28
        },
        {
          "output_type": "display_data",
          "data": {
            "image/png": "[encoded data removed]",
            "text/plain": [
              "<Figure size 432x288 with 1 Axes>"
            ]
          },
          "metadata": {}
        }
      ]
    },
    {
      "cell_type": "code",
      "metadata": {
        "id": "_gJjtme91mrB"
      },
      "source": [
        "#a"
      ],
      "execution_count": null,
      "outputs": []
    },
    {
      "cell_type": "markdown",
      "metadata": {
        "id": "VspnrSV41odJ"
      },
      "source": [
        "## Hypothesis Testing"
      ]
    },
    {
      "cell_type": "code",
      "metadata": {
        "id": "3NwYmji-1vJ2",
        "colab": {
          "base_uri": "https://localhost:8080/"
        },
        "outputId": "2a8fed6e-61fb-41d5-ec79-73eb5cdb458e"
      },
      "source": [
        "#a\n",
        "\n",
        "replacement_scheme = {\"Very open\":1, \"Somewhat open\":0, \"Neutral\":0, \"Somewhat not open\":0, \"Not open at all\":0, \"Not applicable to me (I do not have a mental illness)\":0}\n",
        "\n",
        "data_2016 = cd[cd['year'] == 2016]\n",
        "data_2016[\"very_open\"] = data_2016[\"share_mh_ff\"].replace(to_replace=replacement_scheme)\n",
        "\n",
        "data_2017 = cd[cd['year'] == 2017]\n",
        "data_2017[\"very_open\"] = data_2017[\"share_mh_ff\"].replace(to_replace=replacement_scheme)\n",
        "\n",
        "data_2018 = cd[cd['year'] == 2018]\n",
        "data_2018[\"very_open\"] = data_2018[\"share_mh_ff\"].replace(to_replace=replacement_scheme)\n",
        "\n",
        "data_2019 = cd[cd['year'] == 2019]\n",
        "data_2019[\"very_open\"] = data_2019[\"share_mh_ff\"].replace(to_replace=replacement_scheme)\n",
        "\n",
        "mean_2016 = float(data_2016.sum()[\"very_open\"]) / float(len(data_2016))\n",
        "mean_2017 = float(data_2017.sum()[\"very_open\"]) / float(len(data_2017))\n",
        "mean_2018 = float(data_2018.sum()[\"very_open\"]) / float(len(data_2018))\n",
        "mean_2019 = float(data_2019.sum()[\"very_open\"]) / float(len(data_2019))\n",
        "\n",
        "std_2016 = data_2016.std(numeric_only=True)[\"very_open\"]\n",
        "std_2017 = data_2017.std(numeric_only=True)[\"very_open\"]\n",
        "std_2018 = data_2018.std(numeric_only=True)[\"very_open\"]\n",
        "std_2019 = data_2019.std(numeric_only=True)[\"very_open\"]\n",
        "\n",
        "#Hypothesis 1: The number of people who were very open to sharing about their mental health in 2017 is significantly greater than in 2016\n",
        "#Null Hypothesis: The number of people who were very open to sharing about their mental health is about the same in 2016 as 2017\n",
        "years_standard_error = np.sqrt( ( np.power(std_2016, 2) / len(data_2016) ) + ( np.power(std_2017, 2) / len(data_2017) ) )\n",
        "years_prob_comparator = ( mean_2017 - mean_2016 ) / years_standard_error\n",
        "print(\"'16 - '17 p-value: %f\"%(1-t.cdf(years_prob_comparator, df = len(data_2016) + len(data_2017) - 2)))\n",
        "# p-value is 0.000024, we reject the NH\n",
        "\n",
        "#Hypothesis 2: The number of people who were very open to sharing about their mental health in 2017 is significantly greater than in 2016\n",
        "#Null Hypothesis: The number of people who were very open to sharing about their mental health is about the same in 2016 as 2017\n",
        "years_standard_error = np.sqrt( ( np.power(std_2017, 2) / len(data_2017) ) + ( np.power(std_2018, 2) / len(data_2018) ) )\n",
        "years_prob_comparator = ( mean_2018 - mean_2017 ) / years_standard_error\n",
        "print(\"'17 - '18 p-value: %f\"%(1-t.cdf(years_prob_comparator, df = len(data_2017) + len(data_2018) - 2)))\n",
        "# p-value is 0.065750, we do not reject the NH\n",
        "\n",
        "#Hypothesis 2: The number of people who were very open to sharing about their mental health in 2017 is significantly greater than in 2016\n",
        "#Null Hypothesis: The number of people who were very open to sharing about their mental health is about the same in 2016 as 2017\n",
        "years_standard_error = np.sqrt( ( np.power(std_2018, 2) / len(data_2018) ) + ( np.power(std_2019, 2) / len(data_2019) ) )\n",
        "years_prob_comparator = ( mean_2018 - mean_2019 ) / years_standard_error\n",
        "print(\"'18 - '19 p-value: %f\"%(1-t.cdf(years_prob_comparator, df = len(data_2018) + len(data_2019) - 2)))\n",
        "# p-value is 0.009445, we reject the NH\n",
        "\n",
        "\n",
        "\n"
      ],
      "execution_count": null,
      "outputs": [
        {
          "output_type": "stream",
          "name": "stdout",
          "text": [
            "'16 - '17 p-value: 0.000024\n",
            "'17 - '18 p-value: 0.065750\n",
            "'18 - '19 p-value: 0.009445\n"
          ]
        },
        {
          "output_type": "stream",
          "name": "stderr",
          "text": [
            "/usr/local/lib/python3.7/dist-packages/ipykernel_launcher.py:6: SettingWithCopyWarning: \n",
            "A value is trying to be set on a copy of a slice from a DataFrame.\n",
            "Try using .loc[row_indexer,col_indexer] = value instead\n",
            "\n",
            "See the caveats in the documentation: https://pandas.pydata.org/pandas-docs/stable/user_guide/indexing.html#returning-a-view-versus-a-copy\n",
            "  \n",
            "/usr/local/lib/python3.7/dist-packages/ipykernel_launcher.py:9: SettingWithCopyWarning: \n",
            "A value is trying to be set on a copy of a slice from a DataFrame.\n",
            "Try using .loc[row_indexer,col_indexer] = value instead\n",
            "\n",
            "See the caveats in the documentation: https://pandas.pydata.org/pandas-docs/stable/user_guide/indexing.html#returning-a-view-versus-a-copy\n",
            "  if __name__ == '__main__':\n",
            "/usr/local/lib/python3.7/dist-packages/ipykernel_launcher.py:12: SettingWithCopyWarning: \n",
            "A value is trying to be set on a copy of a slice from a DataFrame.\n",
            "Try using .loc[row_indexer,col_indexer] = value instead\n",
            "\n",
            "See the caveats in the documentation: https://pandas.pydata.org/pandas-docs/stable/user_guide/indexing.html#returning-a-view-versus-a-copy\n",
            "  if sys.path[0] == '':\n",
            "/usr/local/lib/python3.7/dist-packages/ipykernel_launcher.py:15: SettingWithCopyWarning: \n",
            "A value is trying to be set on a copy of a slice from a DataFrame.\n",
            "Try using .loc[row_indexer,col_indexer] = value instead\n",
            "\n",
            "See the caveats in the documentation: https://pandas.pydata.org/pandas-docs/stable/user_guide/indexing.html#returning-a-view-versus-a-copy\n",
            "  from ipykernel import kernelapp as app\n"
          ]
        }
      ]
    }
  ]
}