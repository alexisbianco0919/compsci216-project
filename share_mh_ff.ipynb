{
  "nbformat": 4,
  "nbformat_minor": 0,
  "metadata": {
    "colab": {
      "name": "share_mh_ff.ipynb",
      "provenance": [],
      "collapsed_sections": [
        "S6lbhO7FU3Qo",
        "Hr3WJK1JnLw6",
        "1Ew2emwwwSuR",
        "qk5TT5L31cjf",
        "xUcD679tAkRb",
        "VspnrSV41odJ"
      ],
      "include_colab_link": true
    },
    "kernelspec": {
      "name": "python3",
      "display_name": "Python 3"
    },
    "language_info": {
      "name": "python"
    }
  },
  "cells": [
    {
      "cell_type": "markdown",
      "metadata": {
        "id": "view-in-github",
        "colab_type": "text"
      },
      "source": [
        "<a href=\"https://colab.research.google.com/github/alexisbianco0919/compsci216-project/blob/main/share_mh_ff.ipynb\" target=\"_parent\"><img src=\"https://colab.research.google.com/assets/colab-badge.svg\" alt=\"Open In Colab\"/></a>"
      ]
    },
    {
      "cell_type": "markdown",
      "metadata": {
        "id": "r_1ynyO503xG"
      },
      "source": [
        "# share_mh_ff"
      ]
    },
    {
      "cell_type": "code",
      "metadata": {
        "id": "nf1YO-3y1CBx"
      },
      "source": [
        "# import needed libraries\n",
        "import pandas as pd\n",
        "import numpy as np\n",
        "import re\n",
        "import seaborn as sns"
      ],
      "execution_count": null,
      "outputs": []
    },
    {
      "cell_type": "code",
      "metadata": {
        "colab": {
          "base_uri": "https://localhost:8080/",
          "height": 929
        },
        "id": "_Zn_55Cm37aZ",
        "outputId": "8f4050cd-e206-4bb4-9ee7-5103637d452c"
      },
      "source": [
        "# download data from merged_data.csv\n",
        "cd = pd.read_csv('https://raw.githubusercontent.com/alexisbianco0919/compsci216-project/main/clean_data_4.csv')\n",
        "\n",
        "# print column values\n",
        "print(cd['share_mh_ff'].value_counts())\n",
        "print('\\n')\n",
        "\n",
        "# print year values\n",
        "print(cd['year'].value_counts())\n",
        "print('\\n')\n",
        "\n",
        "# visualize data\n",
        "cd"
      ],
      "execution_count": null,
      "outputs": [
        {
          "output_type": "stream",
          "name": "stdout",
          "text": [
            "Somewhat open                                            1255\n",
            "Very open                                                 640\n",
            "Somewhat not open                                         459\n",
            "Neutral                                                   329\n",
            "Not open at all                                           163\n",
            "Not applicable to me (I do not have a mental illness)     112\n",
            "Name: share_mh_ff, dtype: int64\n",
            "\n",
            "\n",
            "2016    1433\n",
            "2017     756\n",
            "2018     417\n",
            "2019     352\n",
            "Name: year, dtype: int64\n",
            "\n",
            "\n"
          ]
        },
        {
          "output_type": "execute_result",
          "data": {
            "text/html": [
              "<div>\n",
              "<style scoped>\n",
              "    .dataframe tbody tr th:only-of-type {\n",
              "        vertical-align: middle;\n",
              "    }\n",
              "\n",
              "    .dataframe tbody tr th {\n",
              "        vertical-align: top;\n",
              "    }\n",
              "\n",
              "    .dataframe thead th {\n",
              "        text-align: right;\n",
              "    }\n",
              "</style>\n",
              "<table border=\"1\" class=\"dataframe\">\n",
              "  <thead>\n",
              "    <tr style=\"text-align: right;\">\n",
              "      <th></th>\n",
              "      <th>self_employeed</th>\n",
              "      <th>company_size</th>\n",
              "      <th>tech_company</th>\n",
              "      <th>tech_prole</th>\n",
              "      <th>mh_benefits</th>\n",
              "      <th>anonymity</th>\n",
              "      <th>leaving_difficulty</th>\n",
              "      <th>disc_mh_coworker</th>\n",
              "      <th>disc_mh_supervisor</th>\n",
              "      <th>reveal_mh_business</th>\n",
              "      <th>reveal_mh_coworkers</th>\n",
              "      <th>affects_productivity</th>\n",
              "      <th>productivity_percent</th>\n",
              "      <th>mention_ph_interview</th>\n",
              "      <th>mention_mh_interview</th>\n",
              "      <th>share_mh_ff</th>\n",
              "      <th>exp_unsupport</th>\n",
              "      <th>reveal_less</th>\n",
              "      <th>family_history</th>\n",
              "      <th>mh_in_past</th>\n",
              "      <th>mh_currently</th>\n",
              "      <th>mh_diagnosed</th>\n",
              "      <th>sought_treatment</th>\n",
              "      <th>age</th>\n",
              "      <th>gender</th>\n",
              "      <th>country_live</th>\n",
              "      <th>state_live</th>\n",
              "      <th>country_work</th>\n",
              "      <th>state_work</th>\n",
              "      <th>year</th>\n",
              "      <th>gender_cleaned</th>\n",
              "    </tr>\n",
              "  </thead>\n",
              "  <tbody>\n",
              "    <tr>\n",
              "      <th>0</th>\n",
              "      <td>False</td>\n",
              "      <td>26-100</td>\n",
              "      <td>True</td>\n",
              "      <td>NaN</td>\n",
              "      <td>Not eligible for coverage / NA</td>\n",
              "      <td>I don't know</td>\n",
              "      <td>NaN</td>\n",
              "      <td>NaN</td>\n",
              "      <td>NaN</td>\n",
              "      <td>NaN</td>\n",
              "      <td>NaN</td>\n",
              "      <td>NaN</td>\n",
              "      <td>NaN</td>\n",
              "      <td>Maybe</td>\n",
              "      <td>NaN</td>\n",
              "      <td>Somewhat open</td>\n",
              "      <td>No</td>\n",
              "      <td>NaN</td>\n",
              "      <td>No</td>\n",
              "      <td>Yes</td>\n",
              "      <td>No</td>\n",
              "      <td>NaN</td>\n",
              "      <td>NaN</td>\n",
              "      <td>39.0</td>\n",
              "      <td>Male</td>\n",
              "      <td>United Kingdom</td>\n",
              "      <td>NaN</td>\n",
              "      <td>United Kingdom</td>\n",
              "      <td>NaN</td>\n",
              "      <td>2016</td>\n",
              "      <td>male</td>\n",
              "    </tr>\n",
              "    <tr>\n",
              "      <th>1</th>\n",
              "      <td>False</td>\n",
              "      <td>6-25</td>\n",
              "      <td>True</td>\n",
              "      <td>NaN</td>\n",
              "      <td>No</td>\n",
              "      <td>Yes</td>\n",
              "      <td>NaN</td>\n",
              "      <td>NaN</td>\n",
              "      <td>NaN</td>\n",
              "      <td>NaN</td>\n",
              "      <td>NaN</td>\n",
              "      <td>NaN</td>\n",
              "      <td>NaN</td>\n",
              "      <td>Maybe</td>\n",
              "      <td>NaN</td>\n",
              "      <td>Somewhat open</td>\n",
              "      <td>No</td>\n",
              "      <td>NaN</td>\n",
              "      <td>Yes</td>\n",
              "      <td>Yes</td>\n",
              "      <td>Yes</td>\n",
              "      <td>NaN</td>\n",
              "      <td>NaN</td>\n",
              "      <td>29.0</td>\n",
              "      <td>male</td>\n",
              "      <td>United States of America</td>\n",
              "      <td>Illinois</td>\n",
              "      <td>United States of America</td>\n",
              "      <td>Illinois</td>\n",
              "      <td>2016</td>\n",
              "      <td>male</td>\n",
              "    </tr>\n",
              "    <tr>\n",
              "      <th>2</th>\n",
              "      <td>False</td>\n",
              "      <td>6-25</td>\n",
              "      <td>True</td>\n",
              "      <td>NaN</td>\n",
              "      <td>No</td>\n",
              "      <td>I don't know</td>\n",
              "      <td>NaN</td>\n",
              "      <td>NaN</td>\n",
              "      <td>NaN</td>\n",
              "      <td>NaN</td>\n",
              "      <td>NaN</td>\n",
              "      <td>NaN</td>\n",
              "      <td>NaN</td>\n",
              "      <td>Yes</td>\n",
              "      <td>NaN</td>\n",
              "      <td>Somewhat open</td>\n",
              "      <td>Maybe/Not sure</td>\n",
              "      <td>NaN</td>\n",
              "      <td>No</td>\n",
              "      <td>Maybe</td>\n",
              "      <td>No</td>\n",
              "      <td>NaN</td>\n",
              "      <td>NaN</td>\n",
              "      <td>38.0</td>\n",
              "      <td>Male</td>\n",
              "      <td>United Kingdom</td>\n",
              "      <td>NaN</td>\n",
              "      <td>United Kingdom</td>\n",
              "      <td>NaN</td>\n",
              "      <td>2016</td>\n",
              "      <td>male</td>\n",
              "    </tr>\n",
              "    <tr>\n",
              "      <th>3</th>\n",
              "      <td>True</td>\n",
              "      <td>NaN</td>\n",
              "      <td>NaN</td>\n",
              "      <td>NaN</td>\n",
              "      <td>NaN</td>\n",
              "      <td>NaN</td>\n",
              "      <td>NaN</td>\n",
              "      <td>NaN</td>\n",
              "      <td>NaN</td>\n",
              "      <td>Sometimes, if it comes up</td>\n",
              "      <td>Sometimes, if it comes up</td>\n",
              "      <td>Yes</td>\n",
              "      <td>1-25%</td>\n",
              "      <td>Yes</td>\n",
              "      <td>NaN</td>\n",
              "      <td>Neutral</td>\n",
              "      <td>No</td>\n",
              "      <td>NaN</td>\n",
              "      <td>No</td>\n",
              "      <td>Yes</td>\n",
              "      <td>Yes</td>\n",
              "      <td>NaN</td>\n",
              "      <td>NaN</td>\n",
              "      <td>43.0</td>\n",
              "      <td>male</td>\n",
              "      <td>United Kingdom</td>\n",
              "      <td>NaN</td>\n",
              "      <td>United Kingdom</td>\n",
              "      <td>NaN</td>\n",
              "      <td>2016</td>\n",
              "      <td>male</td>\n",
              "    </tr>\n",
              "    <tr>\n",
              "      <th>4</th>\n",
              "      <td>False</td>\n",
              "      <td>6-25</td>\n",
              "      <td>False</td>\n",
              "      <td>True</td>\n",
              "      <td>Yes</td>\n",
              "      <td>No</td>\n",
              "      <td>NaN</td>\n",
              "      <td>NaN</td>\n",
              "      <td>NaN</td>\n",
              "      <td>NaN</td>\n",
              "      <td>NaN</td>\n",
              "      <td>NaN</td>\n",
              "      <td>NaN</td>\n",
              "      <td>Maybe</td>\n",
              "      <td>NaN</td>\n",
              "      <td>Somewhat open</td>\n",
              "      <td>Yes, I experienced</td>\n",
              "      <td>NaN</td>\n",
              "      <td>Yes</td>\n",
              "      <td>Yes</td>\n",
              "      <td>Yes</td>\n",
              "      <td>NaN</td>\n",
              "      <td>NaN</td>\n",
              "      <td>43.0</td>\n",
              "      <td>Female</td>\n",
              "      <td>United States of America</td>\n",
              "      <td>Illinois</td>\n",
              "      <td>United States of America</td>\n",
              "      <td>Illinois</td>\n",
              "      <td>2016</td>\n",
              "      <td>female</td>\n",
              "    </tr>\n",
              "    <tr>\n",
              "      <th>...</th>\n",
              "      <td>...</td>\n",
              "      <td>...</td>\n",
              "      <td>...</td>\n",
              "      <td>...</td>\n",
              "      <td>...</td>\n",
              "      <td>...</td>\n",
              "      <td>...</td>\n",
              "      <td>...</td>\n",
              "      <td>...</td>\n",
              "      <td>...</td>\n",
              "      <td>...</td>\n",
              "      <td>...</td>\n",
              "      <td>...</td>\n",
              "      <td>...</td>\n",
              "      <td>...</td>\n",
              "      <td>...</td>\n",
              "      <td>...</td>\n",
              "      <td>...</td>\n",
              "      <td>...</td>\n",
              "      <td>...</td>\n",
              "      <td>...</td>\n",
              "      <td>...</td>\n",
              "      <td>...</td>\n",
              "      <td>...</td>\n",
              "      <td>...</td>\n",
              "      <td>...</td>\n",
              "      <td>...</td>\n",
              "      <td>...</td>\n",
              "      <td>...</td>\n",
              "      <td>...</td>\n",
              "      <td>...</td>\n",
              "    </tr>\n",
              "    <tr>\n",
              "      <th>2953</th>\n",
              "      <td>False</td>\n",
              "      <td>More than 1000</td>\n",
              "      <td>False</td>\n",
              "      <td>True</td>\n",
              "      <td>I don't know</td>\n",
              "      <td>I don't know</td>\n",
              "      <td>Somewhat difficult</td>\n",
              "      <td>No</td>\n",
              "      <td>No</td>\n",
              "      <td>NaN</td>\n",
              "      <td>NaN</td>\n",
              "      <td>NaN</td>\n",
              "      <td>NaN</td>\n",
              "      <td>Maybe</td>\n",
              "      <td>No</td>\n",
              "      <td>Very open</td>\n",
              "      <td>Yes, I observed</td>\n",
              "      <td>Maybe</td>\n",
              "      <td>No</td>\n",
              "      <td>No</td>\n",
              "      <td>Maybe</td>\n",
              "      <td>NaN</td>\n",
              "      <td>False</td>\n",
              "      <td>27.0</td>\n",
              "      <td>male</td>\n",
              "      <td>India</td>\n",
              "      <td>NaN</td>\n",
              "      <td>India</td>\n",
              "      <td>NaN</td>\n",
              "      <td>2019</td>\n",
              "      <td>male</td>\n",
              "    </tr>\n",
              "    <tr>\n",
              "      <th>2954</th>\n",
              "      <td>True</td>\n",
              "      <td>NaN</td>\n",
              "      <td>NaN</td>\n",
              "      <td>NaN</td>\n",
              "      <td>NaN</td>\n",
              "      <td>NaN</td>\n",
              "      <td>NaN</td>\n",
              "      <td>NaN</td>\n",
              "      <td>NaN</td>\n",
              "      <td>Not applicable to me</td>\n",
              "      <td>Not applicable to me</td>\n",
              "      <td>Yes</td>\n",
              "      <td>26-50%</td>\n",
              "      <td>Maybe</td>\n",
              "      <td>Maybe</td>\n",
              "      <td>Somewhat not open</td>\n",
              "      <td>Yes, I observed</td>\n",
              "      <td>NaN</td>\n",
              "      <td>No</td>\n",
              "      <td>No</td>\n",
              "      <td>No</td>\n",
              "      <td>NaN</td>\n",
              "      <td>False</td>\n",
              "      <td>48.0</td>\n",
              "      <td>m</td>\n",
              "      <td>United States of America</td>\n",
              "      <td>Louisiana</td>\n",
              "      <td>United States of America</td>\n",
              "      <td>Louisiana</td>\n",
              "      <td>2019</td>\n",
              "      <td>male</td>\n",
              "    </tr>\n",
              "    <tr>\n",
              "      <th>2955</th>\n",
              "      <td>True</td>\n",
              "      <td>NaN</td>\n",
              "      <td>NaN</td>\n",
              "      <td>NaN</td>\n",
              "      <td>NaN</td>\n",
              "      <td>NaN</td>\n",
              "      <td>NaN</td>\n",
              "      <td>NaN</td>\n",
              "      <td>NaN</td>\n",
              "      <td>Not applicable to me</td>\n",
              "      <td>Not applicable to me</td>\n",
              "      <td>Unsure</td>\n",
              "      <td>NaN</td>\n",
              "      <td>Yes</td>\n",
              "      <td>No</td>\n",
              "      <td>Very open</td>\n",
              "      <td>I've always been self-employed</td>\n",
              "      <td>NaN</td>\n",
              "      <td>No</td>\n",
              "      <td>No</td>\n",
              "      <td>No</td>\n",
              "      <td>NaN</td>\n",
              "      <td>False</td>\n",
              "      <td>50.0</td>\n",
              "      <td>M</td>\n",
              "      <td>India</td>\n",
              "      <td>NaN</td>\n",
              "      <td>India</td>\n",
              "      <td>NaN</td>\n",
              "      <td>2019</td>\n",
              "      <td>male</td>\n",
              "    </tr>\n",
              "    <tr>\n",
              "      <th>2956</th>\n",
              "      <td>False</td>\n",
              "      <td>More than 1000</td>\n",
              "      <td>True</td>\n",
              "      <td>True</td>\n",
              "      <td>No</td>\n",
              "      <td>Yes</td>\n",
              "      <td>Difficult</td>\n",
              "      <td>Maybe</td>\n",
              "      <td>No</td>\n",
              "      <td>NaN</td>\n",
              "      <td>NaN</td>\n",
              "      <td>NaN</td>\n",
              "      <td>NaN</td>\n",
              "      <td>No</td>\n",
              "      <td>No</td>\n",
              "      <td>Somewhat not open</td>\n",
              "      <td>Maybe/Not sure</td>\n",
              "      <td>Yes</td>\n",
              "      <td>No</td>\n",
              "      <td>No</td>\n",
              "      <td>Maybe</td>\n",
              "      <td>NaN</td>\n",
              "      <td>False</td>\n",
              "      <td>30.0</td>\n",
              "      <td>female</td>\n",
              "      <td>India</td>\n",
              "      <td>NaN</td>\n",
              "      <td>India</td>\n",
              "      <td>NaN</td>\n",
              "      <td>2019</td>\n",
              "      <td>female</td>\n",
              "    </tr>\n",
              "    <tr>\n",
              "      <th>2957</th>\n",
              "      <td>False</td>\n",
              "      <td>More than 1000</td>\n",
              "      <td>True</td>\n",
              "      <td>True</td>\n",
              "      <td>Yes</td>\n",
              "      <td>Yes</td>\n",
              "      <td>Somewhat difficult</td>\n",
              "      <td>No</td>\n",
              "      <td>Maybe</td>\n",
              "      <td>NaN</td>\n",
              "      <td>NaN</td>\n",
              "      <td>NaN</td>\n",
              "      <td>NaN</td>\n",
              "      <td>Maybe</td>\n",
              "      <td>Yes</td>\n",
              "      <td>Very open</td>\n",
              "      <td>Maybe/Not sure</td>\n",
              "      <td>NaN</td>\n",
              "      <td>Yes</td>\n",
              "      <td>Yes</td>\n",
              "      <td>Yes</td>\n",
              "      <td>Yes</td>\n",
              "      <td>True</td>\n",
              "      <td>24.0</td>\n",
              "      <td>Female (cis)</td>\n",
              "      <td>United States of America</td>\n",
              "      <td>Oregon</td>\n",
              "      <td>United States of America</td>\n",
              "      <td>Oregon</td>\n",
              "      <td>2019</td>\n",
              "      <td>female</td>\n",
              "    </tr>\n",
              "  </tbody>\n",
              "</table>\n",
              "<p>2958 rows × 31 columns</p>\n",
              "</div>"
            ],
            "text/plain": [
              "      self_employeed    company_size  ...  year gender_cleaned\n",
              "0              False          26-100  ...  2016           male\n",
              "1              False            6-25  ...  2016           male\n",
              "2              False            6-25  ...  2016           male\n",
              "3               True             NaN  ...  2016           male\n",
              "4              False            6-25  ...  2016         female\n",
              "...              ...             ...  ...   ...            ...\n",
              "2953           False  More than 1000  ...  2019           male\n",
              "2954            True             NaN  ...  2019           male\n",
              "2955            True             NaN  ...  2019           male\n",
              "2956           False  More than 1000  ...  2019         female\n",
              "2957           False  More than 1000  ...  2019         female\n",
              "\n",
              "[2958 rows x 31 columns]"
            ]
          },
          "metadata": {},
          "execution_count": 2
        }
      ]
    },
    {
      "cell_type": "markdown",
      "metadata": {
        "id": "-2-36B07_9sn"
      },
      "source": [
        "## Notes"
      ]
    },
    {
      "cell_type": "markdown",
      "metadata": {
        "id": "6NGFs5vm__8z"
      },
      "source": [
        "\n",
        "* % of `Yes` responses increases...\n",
        "  * year-to-year, except for the last year\n",
        "  * with age\n",
        "  * with company size\n",
        "\n",
        "* Those with `mh_benefits` find it more difficult to leave work than those without\n",
        "\n",
        "* Those w/o `mh_benefits` are slightly more like to **not** discuss mh w/ their coworkers or supervisors\n",
        "\n",
        "* Status of `mh_benefits` doesn't seem to impact `share_mh_ff`\n",
        "\n",
        "\n"
      ]
    },
    {
      "cell_type": "markdown",
      "metadata": {
        "id": "iLjIvZzo1je3"
      },
      "source": [
        "## Basic Demographics"
      ]
    },
    {
      "cell_type": "markdown",
      "metadata": {
        "id": "S6lbhO7FU3Qo"
      },
      "source": [
        "### Diagnoses by State"
      ]
    },
    {
      "cell_type": "code",
      "metadata": {
        "colab": {
          "base_uri": "https://localhost:8080/",
          "height": 1000
        },
        "id": "dPHZKnPHU3Qu",
        "outputId": "e2ead900-b111-4a94-c64d-23fe44ae7847"
      },
      "source": [
        "dbs_cd = cd[pd.notna(cd[\"mh_diagnosed\"])][[\"state_live\", \"mh_diagnosed\", \"year\"]]\n",
        "\n",
        "state_diagnoses = pd.pivot_table(dbs_cd, values=\"year\", columns=\"mh_diagnosed\", index=\"state_live\", fill_value=0, aggfunc=\"count\")\n",
        "state_diagnoses[\"sum\"] = state_diagnoses.sum(axis=1)\n",
        "print(state_diagnoses, '\\n\\n')\n",
        "\n",
        "age_range_comparison = state_diagnoses.loc[:,\"No\":\"Yes\"].div(state_diagnoses[\"sum\"], axis=0)\n",
        "print(age_range_comparison)\n",
        " \n",
        "x = sns.barplot(x=age_range_comparison.index, y=\"Yes\", data=age_range_comparison)\n",
        "x"
      ],
      "execution_count": null,
      "outputs": [
        {
          "output_type": "stream",
          "name": "stdout",
          "text": [
            "mh_diagnosed          No  Yes  sum\n",
            "state_live                        \n",
            "Alabama                0    3    3\n",
            "Alaska                 0    1    1\n",
            "Arizona                0    3    3\n",
            "California             1   49   50\n",
            "Colorado               0   11   11\n",
            "Connecticut            0    1    1\n",
            "District of Columbia   0    3    3\n",
            "Florida                0    6    6\n",
            "Georgia                0   10   10\n",
            "Idaho                  0    1    1\n",
            "Illinois               0   69   69\n",
            "Indiana                1   17   18\n",
            "Iowa                   0    5    5\n",
            "Kansas                 0    4    4\n",
            "Kentucky               0    4    4\n",
            "Louisiana              1    1    2\n",
            "Maine                  0    1    1\n",
            "Maryland               0   12   12\n",
            "Massachusetts          0   18   18\n",
            "Michigan               0   22   22\n",
            "Minnesota              1   24   25\n",
            "Missouri               1    6    7\n",
            "Nebraska               1   16   17\n",
            "Nevada                 0    1    1\n",
            "New Hampshire          0    6    6\n",
            "New Jersey             0    7    7\n",
            "New Mexico             0    2    2\n",
            "New York               0   25   25\n",
            "North Carolina         0    7    7\n",
            "North Dakota           0    1    1\n",
            "Ohio                   0   32   32\n",
            "Oregon                 0   18   18\n",
            "Pennsylvania           0   20   20\n",
            "South Carolina         0    2    2\n",
            "Tennessee              0   16   16\n",
            "Texas                  0   22   22\n",
            "Utah                   0    7    7\n",
            "Vermont                0    1    1\n",
            "Virginia               1    7    8\n",
            "Washington             0   37   37\n",
            "Wisconsin              0   10   10\n",
            "Wyoming                0    1    1 \n",
            "\n",
            "\n",
            "mh_diagnosed                No       Yes\n",
            "state_live                              \n",
            "Alabama               0.000000  1.000000\n",
            "Alaska                0.000000  1.000000\n",
            "Arizona               0.000000  1.000000\n",
            "California            0.020000  0.980000\n",
            "Colorado              0.000000  1.000000\n",
            "Connecticut           0.000000  1.000000\n",
            "District of Columbia  0.000000  1.000000\n",
            "Florida               0.000000  1.000000\n",
            "Georgia               0.000000  1.000000\n",
            "Idaho                 0.000000  1.000000\n",
            "Illinois              0.000000  1.000000\n",
            "Indiana               0.055556  0.944444\n",
            "Iowa                  0.000000  1.000000\n",
            "Kansas                0.000000  1.000000\n",
            "Kentucky              0.000000  1.000000\n",
            "Louisiana             0.500000  0.500000\n",
            "Maine                 0.000000  1.000000\n",
            "Maryland              0.000000  1.000000\n",
            "Massachusetts         0.000000  1.000000\n",
            "Michigan              0.000000  1.000000\n",
            "Minnesota             0.040000  0.960000\n",
            "Missouri              0.142857  0.857143\n",
            "Nebraska              0.058824  0.941176\n",
            "Nevada                0.000000  1.000000\n",
            "New Hampshire         0.000000  1.000000\n",
            "New Jersey            0.000000  1.000000\n",
            "New Mexico            0.000000  1.000000\n",
            "New York              0.000000  1.000000\n",
            "North Carolina        0.000000  1.000000\n",
            "North Dakota          0.000000  1.000000\n",
            "Ohio                  0.000000  1.000000\n",
            "Oregon                0.000000  1.000000\n",
            "Pennsylvania          0.000000  1.000000\n",
            "South Carolina        0.000000  1.000000\n",
            "Tennessee             0.000000  1.000000\n",
            "Texas                 0.000000  1.000000\n",
            "Utah                  0.000000  1.000000\n",
            "Vermont               0.000000  1.000000\n",
            "Virginia              0.125000  0.875000\n",
            "Washington            0.000000  1.000000\n",
            "Wisconsin             0.000000  1.000000\n",
            "Wyoming               0.000000  1.000000\n"
          ]
        },
        {
          "output_type": "execute_result",
          "data": {
            "text/plain": [
              "<matplotlib.axes._subplots.AxesSubplot at 0x7fb48304dbd0>"
            ]
          },
          "metadata": {},
          "execution_count": 4
        },
        {
          "output_type": "display_data",
          "data": {
            "image/png": "[encoded data removed]",
            "text/plain": [
              "<Figure size 432x288 with 1 Axes>"
            ]
          },
          "metadata": {
            "needs_background": "light"
          }
        }
      ]
    },
    {
      "cell_type": "markdown",
      "metadata": {
        "id": "mNPOmrFhU54E"
      },
      "source": [
        "### Willingness to share by state"
      ]
    },
    {
      "cell_type": "code",
      "metadata": {
        "colab": {
          "base_uri": "https://localhost:8080/",
          "height": 1000
        },
        "id": "LmaX_bOYU54F",
        "outputId": "86b8254c-f657-4ee5-8d2a-96c1e598e82e"
      },
      "source": [
        "wbs_cd = cd[pd.notna(cd[\"share_mh_ff\"])][[\"state_live\", \"share_mh_ff\", \"year\"]]\n",
        "\n",
        "wbs_cd = wbs_cd[wbs_cd[\"share_mh_ff\"] != 'Not applicable to me (I do not have a mental illness)']\n",
        "\n",
        "state_willingness = pd.pivot_table(wbs_cd, values=\"year\", columns=\"share_mh_ff\", index=\"state_live\", fill_value=0, aggfunc=\"count\")\n",
        "state_willingness[\"sum\"] = state_willingness.sum(axis=1)\n",
        "print(state_willingness)\n",
        "\n",
        "state_willingness_comparison = state_willingness.loc[:,\"Neutral\":\"Very open\"].div(state_willingness[\"sum\"], axis=0)\n",
        "print(state_willingness_comparison)\n",
        "\n",
        "sortedStates = state_willingness_comparison[\"Very open\"].sort_values(ascending=False)\n",
        "\n",
        "print(sortedStates)\n",
        " \n",
        "x = sns.barplot(x=state_willingness_comparison.index, y=\"Very open\", data=state_willingness_comparison)\n"
      ],
      "execution_count": null,
      "outputs": [
        {
          "output_type": "stream",
          "name": "stdout",
          "text": [
            "share_mh_ff           Neutral  Not open at all  ...  Very open  sum\n",
            "state_live                                      ...                \n",
            "Alabama                     1                0  ...          3   10\n",
            "Alaska                      0                1  ...          0    4\n",
            "Arizona                     1                0  ...          3   11\n",
            "California                 22               17  ...         47  230\n",
            "Colorado                    5                4  ...          8   50\n",
            "Connecticut                 0                0  ...          1    8\n",
            "Delaware                    0                0  ...          0    1\n",
            "District of Columbia        0                0  ...          0    7\n",
            "Florida                     2                3  ...          6   37\n",
            "Georgia                     5                2  ...          8   35\n",
            "Idaho                       0                0  ...          2    7\n",
            "Illinois                   22                7  ...         53  189\n",
            "Indiana                    13                2  ...         13   68\n",
            "Iowa                        4                0  ...          8   14\n",
            "Kansas                      1                2  ...          3   23\n",
            "Kentucky                    0                0  ...          3    9\n",
            "Louisiana                   1                1  ...          0    6\n",
            "Maine                       1                1  ...          1    8\n",
            "Maryland                    4                0  ...          7   32\n",
            "Massachusetts               6                1  ...         14   56\n",
            "Michigan                   10                2  ...         22   86\n",
            "Minnesota                   4                4  ...         23   78\n",
            "Missouri                    2                1  ...          6   28\n",
            "Montana                     0                0  ...          0    2\n",
            "Nebraska                    7                3  ...         10   58\n",
            "Nevada                      0                0  ...          2    5\n",
            "New Hampshire               1                1  ...          4   12\n",
            "New Jersey                  2                1  ...          2   18\n",
            "New Mexico                  0                0  ...          0    6\n",
            "New York                   15                4  ...         19   87\n",
            "North Carolina              2                4  ...         11   37\n",
            "North Dakota                0                0  ...          0    7\n",
            "Ohio                       11                5  ...         17   78\n",
            "Oklahoma                    1                0  ...          4   11\n",
            "Oregon                      6                6  ...         19   69\n",
            "Pennsylvania                2                6  ...         15   62\n",
            "Rhode Island                1                0  ...          1    5\n",
            "South Carolina              0                0  ...          0    5\n",
            "South Dakota                1                0  ...          3    5\n",
            "Tennessee                  14                1  ...         20   71\n",
            "Texas                       5                6  ...         19   75\n",
            "Utah                        0                2  ...          6   18\n",
            "Vermont                     0                0  ...          1    4\n",
            "Virginia                    2                2  ...          6   32\n",
            "Washington                  8                4  ...         26   93\n",
            "West Virginia               0                0  ...          1    2\n",
            "Wisconsin                   2                0  ...         11   31\n",
            "Wyoming                     0                0  ...          0    1\n",
            "\n",
            "[48 rows x 6 columns]\n",
            "share_mh_ff            Neutral  Not open at all  ...  Somewhat open  Very open\n",
            "state_live                                       ...                          \n",
            "Alabama               0.100000         0.000000  ...       0.500000   0.300000\n",
            "Alaska                0.000000         0.250000  ...       0.000000   0.000000\n",
            "Arizona               0.090909         0.000000  ...       0.272727   0.272727\n",
            "California            0.095652         0.073913  ...       0.478261   0.204348\n",
            "Colorado              0.100000         0.080000  ...       0.440000   0.160000\n",
            "Connecticut           0.000000         0.000000  ...       0.750000   0.125000\n",
            "Delaware              0.000000         0.000000  ...       0.000000   0.000000\n",
            "District of Columbia  0.000000         0.000000  ...       1.000000   0.000000\n",
            "Florida               0.054054         0.081081  ...       0.486486   0.162162\n",
            "Georgia               0.142857         0.057143  ...       0.457143   0.228571\n",
            "Idaho                 0.000000         0.000000  ...       0.428571   0.285714\n",
            "Illinois              0.116402         0.037037  ...       0.470899   0.280423\n",
            "Indiana               0.191176         0.029412  ...       0.455882   0.191176\n",
            "Iowa                  0.285714         0.000000  ...       0.142857   0.571429\n",
            "Kansas                0.043478         0.086957  ...       0.521739   0.130435\n",
            "Kentucky              0.000000         0.000000  ...       0.555556   0.333333\n",
            "Louisiana             0.166667         0.166667  ...       0.166667   0.000000\n",
            "Maine                 0.125000         0.125000  ...       0.625000   0.125000\n",
            "Maryland              0.125000         0.000000  ...       0.437500   0.218750\n",
            "Massachusetts         0.107143         0.017857  ...       0.464286   0.250000\n",
            "Michigan              0.116279         0.023256  ...       0.465116   0.255814\n",
            "Minnesota             0.051282         0.051282  ...       0.435897   0.294872\n",
            "Missouri              0.071429         0.035714  ...       0.571429   0.214286\n",
            "Montana               0.000000         0.000000  ...       0.500000   0.000000\n",
            "Nebraska              0.120690         0.051724  ...       0.517241   0.172414\n",
            "Nevada                0.000000         0.000000  ...       0.200000   0.400000\n",
            "New Hampshire         0.083333         0.083333  ...       0.333333   0.333333\n",
            "New Jersey            0.111111         0.055556  ...       0.555556   0.111111\n",
            "New Mexico            0.000000         0.000000  ...       0.500000   0.000000\n",
            "New York              0.172414         0.045977  ...       0.425287   0.218391\n",
            "North Carolina        0.054054         0.108108  ...       0.405405   0.297297\n",
            "North Dakota          0.000000         0.000000  ...       0.428571   0.000000\n",
            "Ohio                  0.141026         0.064103  ...       0.384615   0.217949\n",
            "Oklahoma              0.090909         0.000000  ...       0.363636   0.363636\n",
            "Oregon                0.086957         0.086957  ...       0.376812   0.275362\n",
            "Pennsylvania          0.032258         0.096774  ...       0.435484   0.241935\n",
            "Rhode Island          0.200000         0.000000  ...       0.600000   0.200000\n",
            "South Carolina        0.000000         0.000000  ...       0.800000   0.000000\n",
            "South Dakota          0.200000         0.000000  ...       0.200000   0.600000\n",
            "Tennessee             0.197183         0.014085  ...       0.380282   0.281690\n",
            "Texas                 0.066667         0.080000  ...       0.453333   0.253333\n",
            "Utah                  0.000000         0.111111  ...       0.444444   0.333333\n",
            "Vermont               0.000000         0.000000  ...       0.500000   0.250000\n",
            "Virginia              0.062500         0.062500  ...       0.468750   0.187500\n",
            "Washington            0.086022         0.043011  ...       0.440860   0.279570\n",
            "West Virginia         0.000000         0.000000  ...       0.000000   0.500000\n",
            "Wisconsin             0.064516         0.000000  ...       0.548387   0.354839\n",
            "Wyoming               0.000000         0.000000  ...       1.000000   0.000000\n",
            "\n",
            "[48 rows x 5 columns]\n",
            "state_live\n",
            "South Dakota            0.600000\n",
            "Iowa                    0.571429\n",
            "West Virginia           0.500000\n",
            "Nevada                  0.400000\n",
            "Oklahoma                0.363636\n",
            "Wisconsin               0.354839\n",
            "New Hampshire           0.333333\n",
            "Utah                    0.333333\n",
            "Kentucky                0.333333\n",
            "Alabama                 0.300000\n",
            "North Carolina          0.297297\n",
            "Minnesota               0.294872\n",
            "Idaho                   0.285714\n",
            "Tennessee               0.281690\n",
            "Illinois                0.280423\n",
            "Washington              0.279570\n",
            "Oregon                  0.275362\n",
            "Arizona                 0.272727\n",
            "Michigan                0.255814\n",
            "Texas                   0.253333\n",
            "Massachusetts           0.250000\n",
            "Vermont                 0.250000\n",
            "Pennsylvania            0.241935\n",
            "Georgia                 0.228571\n",
            "Maryland                0.218750\n",
            "New York                0.218391\n",
            "Ohio                    0.217949\n",
            "Missouri                0.214286\n",
            "California              0.204348\n",
            "Rhode Island            0.200000\n",
            "Indiana                 0.191176\n",
            "Virginia                0.187500\n",
            "Nebraska                0.172414\n",
            "Florida                 0.162162\n",
            "Colorado                0.160000\n",
            "Kansas                  0.130435\n",
            "Connecticut             0.125000\n",
            "Maine                   0.125000\n",
            "New Jersey              0.111111\n",
            "Delaware                0.000000\n",
            "Alaska                  0.000000\n",
            "Wyoming                 0.000000\n",
            "District of Columbia    0.000000\n",
            "Louisiana               0.000000\n",
            "New Mexico              0.000000\n",
            "North Dakota            0.000000\n",
            "South Carolina          0.000000\n",
            "Montana                 0.000000\n",
            "Name: Very open, dtype: float64\n"
          ]
        },
        {
          "output_type": "display_data",
          "data": {
            "image/png": "[encoded data removed]",
            "text/plain": [
              "<Figure size 432x288 with 1 Axes>"
            ]
          },
          "metadata": {
            "needs_background": "light"
          }
        }
      ]
    },
    {
      "cell_type": "markdown",
      "metadata": {
        "id": "Hr3WJK1JnLw6"
      },
      "source": [
        "### Gender"
      ]
    },
    {
      "cell_type": "code",
      "metadata": {
        "colab": {
          "base_uri": "https://localhost:8080/",
          "height": 401
        },
        "id": "7F_rn65OBpZY",
        "outputId": "e12c2060-054f-4f1b-c25c-6ed00172c7a7"
      },
      "source": [
        "male_df = cd[cd['gender_cleaned'] == 'male']\n",
        "num_of_male = len(male_df)\n",
        "num_of_not_open_male = len(male_df[male_df['share_mh_ff'] == 'Not open at all'])\n",
        "num_of_somewhat_not_open_male = len(male_df[male_df['share_mh_ff'] == 'Somewhat not open'])\n",
        "num_of_neutral_male = len(male_df[male_df['share_mh_ff'] == 'Neutral'])\n",
        "num_of_somewhat_open_male = len(male_df[male_df['share_mh_ff'] == 'Somewhat open'])\n",
        "num_of_open_male = len(male_df[male_df['share_mh_ff'] == 'Very open'])\n",
        "num_of_na_male = len(male_df[male_df['share_mh_ff'] == 'Not applicable to me (I do not have a mental illness)'])\n",
        "row_male = ['male', (num_of_not_open_male/num_of_male), (num_of_somewhat_not_open_male/num_of_male), (num_of_neutral_male/num_of_male), (num_of_somewhat_open_male/num_of_male), (num_of_open_male/num_of_male), (num_of_na_male/num_of_male)]\n",
        "\n",
        "female_df = cd[cd['gender_cleaned'] == 'female']\n",
        "num_of_female = len(female_df)\n",
        "num_of_not_open_female = len(female_df[female_df['share_mh_ff'] == 'Not open at all'])\n",
        "num_of_somewhat_not_open_female = len(female_df[female_df['share_mh_ff'] == 'Somewhat not open'])\n",
        "num_of_neutral_female = len(female_df[female_df['share_mh_ff'] == 'Neutral'])\n",
        "num_of_somewhat_open_female = len(female_df[female_df['share_mh_ff'] == 'Somewhat open'])\n",
        "num_of_open_female = len(female_df[female_df['share_mh_ff'] == 'Very open'])\n",
        "num_of_na_female = len(female_df[female_df['share_mh_ff'] == 'Not applicable to me (I do not have a mental illness)'])\n",
        "row_female = ['female', (num_of_not_open_female/num_of_female), (num_of_somewhat_not_open_female/num_of_female), (num_of_neutral_female/num_of_female), (num_of_somewhat_open_female/num_of_female), (num_of_open_female/num_of_female), (num_of_na_female/num_of_female)]\n",
        "\n",
        "transgender_df = cd[cd['gender_cleaned'] == 'transgender']\n",
        "num_of_transgender = len(transgender_df)\n",
        "num_of_not_open_transgender = len(transgender_df[transgender_df['share_mh_ff'] == 'Not open at all'])\n",
        "num_of_somewhat_not_open_transgender = len(transgender_df[transgender_df['share_mh_ff'] == 'Somewhat not open'])\n",
        "num_of_neutral_transgender = len(transgender_df[transgender_df['share_mh_ff'] == 'Neutral'])\n",
        "num_of_somewhat_open_transgender = len(transgender_df[transgender_df['share_mh_ff'] == 'Somewhat open'])\n",
        "num_of_open_transgender = len(transgender_df[transgender_df['share_mh_ff'] == 'Very open'])\n",
        "num_of_na_transgender = len(transgender_df[transgender_df['share_mh_ff'] == 'Not applicable to me (I do not have a mental illness)'])\n",
        "row_transgender = ['transgender', (num_of_not_open_transgender/num_of_transgender), (num_of_somewhat_not_open_transgender/num_of_transgender), (num_of_neutral_transgender/num_of_transgender), (num_of_somewhat_open_transgender/num_of_transgender), (num_of_open_transgender/num_of_transgender), (num_of_na_transgender/num_of_transgender)]\n",
        "\n",
        "other_df = cd[cd['gender_cleaned'] == 'other']\n",
        "num_of_other = len(other_df)\n",
        "num_of_not_open_other = len(other_df[other_df['share_mh_ff'] == 'Not open at all'])\n",
        "num_of_somewhat_not_open_other = len(other_df[other_df['share_mh_ff'] == 'Somewhat not open'])\n",
        "num_of_neutral_other = len(other_df[other_df['share_mh_ff'] == 'Neutral'])\n",
        "num_of_somewhat_open_other = len(other_df[other_df['share_mh_ff'] == 'Somewhat open'])\n",
        "num_of_open_other = len(other_df[other_df['share_mh_ff'] == 'Very open'])\n",
        "num_of_na_other = len(other_df[other_df['share_mh_ff'] == 'Not applicable to me (I do not have a mental illness)'])\n",
        "row_other = ['other', (num_of_not_open_other/num_of_other), (num_of_somewhat_not_open_other/num_of_other), (num_of_neutral_other/num_of_other), (num_of_somewhat_open_other/num_of_other), (num_of_open_other/num_of_other), (num_of_na_other/num_of_other)]\n",
        "\n",
        "\n",
        "lst = [row_male, row_female, row_transgender, row_other]\n",
        "    \n",
        "gender_comparison = pd.DataFrame(lst, columns =['gender', 'not_open%', 'somewhat_not%', 'neutral%', 'somewhat%', 'open%', 'na%'], dtype = float)\n",
        "print(gender_comparison)\n",
        "\n",
        "open_plot = sns.barplot(x=\"gender\", y=\"open%\", data=gender_comparison)\n",
        "#somewhat_plot = sns.barplot(x=\"gender\", y=\"somewhat%\", data=gender_comparison)\n",
        "#neutral_plot = sns.barplot(x=\"gender\", y=\"neutral%\", data=gender_comparison)\n",
        "#somewhat_not_plot = sns.barplot(x=\"gender\", y=\"somewhat_not%\", data=gender_comparison)\n",
        "#not_open_plot = sns.barplot(x=\"gender\", y=\"not_open%\", data=gender_comparison)\n",
        "\n",
        "#males and females are less likley to be open to telling their families than transgender and other, with other being the most likely\n",
        "\n"
      ],
      "execution_count": null,
      "outputs": [
        {
          "output_type": "stream",
          "name": "stdout",
          "text": [
            "        gender  not_open%  somewhat_not%  ...  somewhat%     open%       na%\n",
            "0         male   0.057254       0.157205  ...   0.424066  0.210577  0.040272\n",
            "1       female   0.048101       0.153165  ...   0.439241  0.217722  0.034177\n",
            "2  transgender   0.142857       0.285714  ...   0.214286  0.285714  0.000000\n",
            "3        other   0.032787       0.081967  ...   0.344262  0.344262  0.032787\n",
            "\n",
            "[4 rows x 7 columns]\n"
          ]
        },
        {
          "output_type": "display_data",
          "data": {
            "image/png": "[encoded data removed]",
            "text/plain": [
              "<Figure size 432x288 with 1 Axes>"
            ]
          },
          "metadata": {
            "needs_background": "light"
          }
        }
      ]
    },
    {
      "cell_type": "markdown",
      "metadata": {
        "id": "1Ew2emwwwSuR"
      },
      "source": [
        "### Age"
      ]
    },
    {
      "cell_type": "code",
      "metadata": {
        "colab": {
          "base_uri": "https://localhost:8080/",
          "height": 681
        },
        "id": "4Ad3Z1hlwVWF",
        "outputId": "4006995f-7600-4c9f-fa1e-1627aa9351e1"
      },
      "source": [
        "cd['age_range'] = pd.cut(cd['age'], [0, 20, 30, 40, 50, 60, 100])\n",
        "age_range_pt = cd.pivot_table('age', index='age_range', columns='share_mh_ff', aggfunc='count')\n",
        "age_range_pt[\"sum\"] = age_range_pt.sum(axis=1)\n",
        "print(age_range_pt, '\\n\\n')\n",
        "\n",
        "age_range_comparison = age_range_pt.loc[:,\"Neutral\":\"Very open\"].div(age_range_pt[\"sum\"], axis=0)\n",
        "print(age_range_comparison)\n",
        "\n",
        "x = sns.barplot(x=age_range_comparison.index, y=\"Very open\", data=age_range_comparison)\n",
        "x\n",
        "#There seems to be no coorelation between age and willingness to share mental health issues with family/friends"
      ],
      "execution_count": null,
      "outputs": [
        {
          "output_type": "stream",
          "name": "stdout",
          "text": [
            "share_mh_ff  Neutral  ...     sum\n",
            "age_range             ...        \n",
            "(0, 20]          7.0  ...    27.0\n",
            "(20, 30]       107.0  ...  1028.0\n",
            "(30, 40]       147.0  ...  1280.0\n",
            "(40, 50]        49.0  ...   480.0\n",
            "(50, 60]        14.0  ...   114.0\n",
            "(60, 100]        4.0  ...    25.0\n",
            "\n",
            "[6 rows x 7 columns] \n",
            "\n",
            "\n",
            "share_mh_ff   Neutral  ...  Very open\n",
            "age_range              ...           \n",
            "(0, 20]      0.259259  ...   0.111111\n",
            "(20, 30]     0.104086  ...   0.213035\n",
            "(30, 40]     0.114844  ...   0.225000\n",
            "(40, 50]     0.102083  ...   0.208333\n",
            "(50, 60]     0.122807  ...   0.210526\n",
            "(60, 100]    0.160000  ...   0.240000\n",
            "\n",
            "[6 rows x 6 columns]\n"
          ]
        },
        {
          "output_type": "execute_result",
          "data": {
            "text/plain": [
              "<matplotlib.axes._subplots.AxesSubplot at 0x7f2f7b26f9d0>"
            ]
          },
          "metadata": {},
          "execution_count": 5
        },
        {
          "output_type": "display_data",
          "data": {
            "image/png": "[encoded data removed]",
            "text/plain": [
              "<Figure size 432x288 with 1 Axes>"
            ]
          },
          "metadata": {
            "needs_background": "light"
          }
        }
      ]
    },
    {
      "cell_type": "markdown",
      "metadata": {
        "id": "UZfnCKun9I9h"
      },
      "source": [
        "## Other Values"
      ]
    },
    {
      "cell_type": "markdown",
      "metadata": {
        "id": "3pc41HpuCDXb"
      },
      "source": [
        "### Company Size"
      ]
    },
    {
      "cell_type": "code",
      "metadata": {
        "colab": {
          "base_uri": "https://localhost:8080/",
          "height": 644
        },
        "id": "7uHa--Al9NVF",
        "outputId": "25504e3f-7ff0-4e6a-869e-ca436d78a484"
      },
      "source": [
        "company_size_pt = cd.pivot_table('age', index='company_size', columns='share_mh_ff', aggfunc='count')\n",
        "company_size_pt[\"sum\"] = company_size_pt.sum(axis=1)\n",
        "print(company_size_pt, '\\n\\n')\n",
        "\n",
        "company_size_comparison = company_size_pt.loc[:,\"Not open at all\":\"Very open\"].div(company_size_pt[\"sum\"], axis=0)\n",
        "print(company_size_comparison)\n",
        "\n",
        "x = sns.barplot(x=company_size_comparison.index, y=\"Very open\", data=company_size_comparison)\n",
        "x"
      ],
      "execution_count": null,
      "outputs": [
        {
          "output_type": "stream",
          "name": "stdout",
          "text": [
            "share_mh_ff     Neutral  ...  sum\n",
            "company_size             ...     \n",
            "1-5                  10  ...   92\n",
            "100-500              66  ...  612\n",
            "26-100               59  ...  535\n",
            "500-1000             23  ...  186\n",
            "6-25                 48  ...  399\n",
            "More than 1000       70  ...  630\n",
            "\n",
            "[6 rows x 7 columns] \n",
            "\n",
            "\n",
            "share_mh_ff     Not open at all  Somewhat not open  Somewhat open  Very open\n",
            "company_size                                                                \n",
            "1-5                    0.065217           0.173913       0.358696   0.239130\n",
            "100-500                0.053922           0.127451       0.436275   0.243464\n",
            "26-100                 0.052336           0.151402       0.435514   0.218692\n",
            "500-1000               0.037634           0.123656       0.446237   0.231183\n",
            "6-25                   0.072682           0.162907       0.411028   0.187970\n",
            "More than 1000         0.057143           0.182540       0.414286   0.209524\n"
          ]
        },
        {
          "output_type": "execute_result",
          "data": {
            "text/plain": [
              "<matplotlib.axes._subplots.AxesSubplot at 0x7f2f7a195410>"
            ]
          },
          "metadata": {},
          "execution_count": 6
        },
        {
          "output_type": "display_data",
          "data": {
            "image/png": "[encoded data removed]",
            "text/plain": [
              "<Figure size 432x288 with 1 Axes>"
            ]
          },
          "metadata": {
            "needs_background": "light"
          }
        }
      ]
    },
    {
      "cell_type": "markdown",
      "metadata": {
        "id": "MvYddBr7CGTW"
      },
      "source": [
        "### Leaving Difficulty"
      ]
    },
    {
      "cell_type": "code",
      "metadata": {
        "colab": {
          "base_uri": "https://localhost:8080/",
          "height": 679
        },
        "id": "2KsFVuUbCKbY",
        "outputId": "ba1bf04f-6e8b-48dd-c827-c231535d0293"
      },
      "source": [
        "\n",
        "leaving_difficulty_pt = cd.pivot_table('age', index='leaving_difficulty', columns='share_mh_ff', aggfunc='count')\n",
        "leaving_difficulty_pt[\"sum\"] = leaving_difficulty_pt.sum(axis=1)\n",
        "print(leaving_difficulty_pt, '\\n\\n')\n",
        "\n",
        "leaving_difficulty_comparison = leaving_difficulty_pt.loc[:,\"Not open at all\":\"Very open\"].div(leaving_difficulty_pt[\"sum\"], axis=0)\n",
        "print(leaving_difficulty_comparison)\n",
        "\n",
        "x = sns.barplot(x=leaving_difficulty_comparison.index, y=\"Very open\", data=leaving_difficulty_comparison)\n",
        "x"
      ],
      "execution_count": null,
      "outputs": [
        {
          "output_type": "stream",
          "name": "stdout",
          "text": [
            "share_mh_ff                 Neutral  Not open at all  ...  Very open  sum\n",
            "leaving_difficulty                                    ...                \n",
            "Difficult                        14               14  ...         22  112\n",
            "I don't know                     33               14  ...         56  229\n",
            "Neither easy nor difficult       30                6  ...         34  166\n",
            "Somewhat difficult               19               10  ...         34  159\n",
            "Somewhat easy                    31               18  ...         91  356\n",
            "Very easy                        38               13  ...        103  286\n",
            "\n",
            "[6 rows x 6 columns] \n",
            "\n",
            "\n",
            "share_mh_ff                 Not open at all  ...  Very open\n",
            "leaving_difficulty                           ...           \n",
            "Difficult                          0.125000  ...   0.196429\n",
            "I don't know                       0.061135  ...   0.244541\n",
            "Neither easy nor difficult         0.036145  ...   0.204819\n",
            "Somewhat difficult                 0.062893  ...   0.213836\n",
            "Somewhat easy                      0.050562  ...   0.255618\n",
            "Very easy                          0.045455  ...   0.360140\n",
            "\n",
            "[6 rows x 4 columns]\n"
          ]
        },
        {
          "output_type": "execute_result",
          "data": {
            "text/plain": [
              "<matplotlib.axes._subplots.AxesSubplot at 0x7fd3679dda50>"
            ]
          },
          "metadata": {},
          "execution_count": 3
        },
        {
          "output_type": "display_data",
          "data": {
            "image/png": "[encoded data removed]",
            "text/plain": [
              "<Figure size 432x288 with 1 Axes>"
            ]
          },
          "metadata": {
            "needs_background": "light"
          }
        }
      ]
    },
    {
      "cell_type": "markdown",
      "metadata": {
        "id": "stc8_n0cMQwx"
      },
      "source": [
        "### Discuss MH w/ Coworkers"
      ]
    },
    {
      "cell_type": "code",
      "metadata": {
        "colab": {
          "base_uri": "https://localhost:8080/",
          "height": 540
        },
        "id": "r87NCBieMqpI",
        "outputId": "0ff1db26-1c87-4dd1-af3b-7ee4c9fd4353"
      },
      "source": [
        "disc_mh_coworker_pt = cd.pivot_table('age', index='disc_mh_coworker', columns='share_mh_ff', aggfunc='count')\n",
        "disc_mh_coworker_pt[\"sum\"] = disc_mh_coworker_pt.sum(axis=1)\n",
        "print(disc_mh_coworker_pt, '\\n\\n')\n",
        "\n",
        "disc_mh_coworker_comparison = disc_mh_coworker_pt.loc[:,\"Not open at all\":\"Very open\"].div(disc_mh_coworker_pt[\"sum\"], axis=0)\n",
        "print(disc_mh_coworker_comparison)\n",
        "\n",
        "x = sns.barplot(x=disc_mh_coworker_comparison.index, y=\"Very open\", data=disc_mh_coworker_comparison)\n",
        "x"
      ],
      "execution_count": null,
      "outputs": [
        {
          "output_type": "stream",
          "name": "stdout",
          "text": [
            "share_mh_ff       Neutral  Not open at all  ...  Very open  sum\n",
            "disc_mh_coworker                            ...                \n",
            "Maybe                  84               16  ...        129  574\n",
            "No                     44               51  ...         38  327\n",
            "Yes                    37                8  ...        173  407\n",
            "\n",
            "[3 rows x 6 columns] \n",
            "\n",
            "\n",
            "share_mh_ff       Not open at all  Somewhat not open  Somewhat open  Very open\n",
            "disc_mh_coworker                                                              \n",
            "Maybe                    0.027875           0.163763       0.437282   0.224739\n",
            "No                       0.155963           0.256881       0.336391   0.116208\n",
            "Yes                      0.019656           0.056511       0.407862   0.425061\n"
          ]
        },
        {
          "output_type": "execute_result",
          "data": {
            "text/plain": [
              "<matplotlib.axes._subplots.AxesSubplot at 0x7fb483029dd0>"
            ]
          },
          "metadata": {},
          "execution_count": 6
        },
        {
          "output_type": "display_data",
          "data": {
            "image/png": "[encoded data removed]",
            "text/plain": [
              "<Figure size 432x288 with 1 Axes>"
            ]
          },
          "metadata": {
            "needs_background": "light"
          }
        }
      ]
    },
    {
      "cell_type": "markdown",
      "metadata": {
        "id": "qk5TT5L31cjf"
      },
      "source": [
        "## Year-to-Year"
      ]
    },
    {
      "cell_type": "markdown",
      "metadata": {
        "id": "xUcD679tAkRb"
      },
      "source": [
        "### Survey Response"
      ]
    },
    {
      "cell_type": "code",
      "metadata": {
        "colab": {
          "base_uri": "https://localhost:8080/",
          "height": 265
        },
        "id": "_nN3Vhky1gL4",
        "outputId": "db5aed99-a905-40cb-ed0a-d9e88639a8bc"
      },
      "source": [
        "# 2016\n",
        "data_2016 = cd[cd['year'] == 2016]\n",
        "data = data_2016.groupby('share_mh_ff').count()['age']\n",
        "data.plot.pie(autopct=\"%.1f%%\")"
      ],
      "execution_count": null,
      "outputs": [
        {
          "output_type": "execute_result",
          "data": {
            "text/plain": [
              "<matplotlib.axes._subplots.AxesSubplot at 0x7fd366405a50>"
            ]
          },
          "metadata": {},
          "execution_count": 4
        },
        {
          "output_type": "display_data",
          "data": {
            "image/png": "[encoded data removed]",
            "text/plain": [
              "<Figure size 432x288 with 1 Axes>"
            ]
          },
          "metadata": {}
        }
      ]
    },
    {
      "cell_type": "code",
      "metadata": {
        "colab": {
          "base_uri": "https://localhost:8080/",
          "height": 265
        },
        "id": "qvSlB7VA_QFI",
        "outputId": "764347a4-4208-476b-e178-138275efc46e"
      },
      "source": [
        "# 2017\n",
        "data_2017 = cd[cd['year'] == 2017]\n",
        "data = data_2017.groupby('share_mh_ff').count()['age']\n",
        "data.plot.pie(autopct=\"%.1f%%\")"
      ],
      "execution_count": null,
      "outputs": [
        {
          "output_type": "execute_result",
          "data": {
            "text/plain": [
              "<matplotlib.axes._subplots.AxesSubplot at 0x7fd3663c0450>"
            ]
          },
          "metadata": {},
          "execution_count": 5
        },
        {
          "output_type": "display_data",
          "data": {
            "image/png": "[encoded data removed]",
            "text/plain": [
              "<Figure size 432x288 with 1 Axes>"
            ]
          },
          "metadata": {}
        }
      ]
    },
    {
      "cell_type": "code",
      "metadata": {
        "colab": {
          "base_uri": "https://localhost:8080/",
          "height": 265
        },
        "id": "2FDl82Wj_YT6",
        "outputId": "ecc7fe19-972a-40c9-ddf9-06354d6387c7"
      },
      "source": [
        "# 2018\n",
        "data_2018 = cd[cd['year'] == 2018]\n",
        "data = data_2018.groupby('share_mh_ff').count()['age']\n",
        "data.plot.pie(autopct=\"%.1f%%\")"
      ],
      "execution_count": null,
      "outputs": [
        {
          "output_type": "execute_result",
          "data": {
            "text/plain": [
              "<matplotlib.axes._subplots.AxesSubplot at 0x7fd36634a150>"
            ]
          },
          "metadata": {},
          "execution_count": 6
        },
        {
          "output_type": "display_data",
          "data": {
            "image/png": "[encoded data removed]",
            "text/plain": [
              "<Figure size 432x288 with 1 Axes>"
            ]
          },
          "metadata": {}
        }
      ]
    },
    {
      "cell_type": "code",
      "metadata": {
        "colab": {
          "base_uri": "https://localhost:8080/",
          "height": 265
        },
        "id": "wbea_GgC_eG1",
        "outputId": "dc58e6bd-d372-449a-93f5-08cb2d731134"
      },
      "source": [
        "# 2019\n",
        "data_2019 = cd[cd['year'] == 2019]\n",
        "data = data_2019.groupby('share_mh_ff').count()['age']\n",
        "data.plot.pie(autopct=\"%.1f%%\")"
      ],
      "execution_count": null,
      "outputs": [
        {
          "output_type": "execute_result",
          "data": {
            "text/plain": [
              "<matplotlib.axes._subplots.AxesSubplot at 0x7fd3662b5e10>"
            ]
          },
          "metadata": {},
          "execution_count": 7
        },
        {
          "output_type": "display_data",
          "data": {
            "image/png": "[encoded data removed]",
            "text/plain": [
              "<Figure size 432x288 with 1 Axes>"
            ]
          },
          "metadata": {}
        }
      ]
    },
    {
      "cell_type": "code",
      "metadata": {
        "id": "_gJjtme91mrB"
      },
      "source": [
        "#a"
      ],
      "execution_count": null,
      "outputs": []
    },
    {
      "cell_type": "markdown",
      "metadata": {
        "id": "VspnrSV41odJ"
      },
      "source": [
        "## Hypothesis Testing"
      ]
    },
    {
      "cell_type": "code",
      "metadata": {
        "id": "3NwYmji-1vJ2"
      },
      "source": [
        "#a"
      ],
      "execution_count": null,
      "outputs": []
    }
  ]
}