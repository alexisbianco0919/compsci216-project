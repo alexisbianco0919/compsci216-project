{
  "nbformat": 4,
  "nbformat_minor": 5,
  "metadata": {
    "kernelspec": {
      "display_name": "Python 3",
      "language": "python",
      "name": "python3"
    },
    "language_info": {
      "codemirror_mode": {
        "name": "ipython",
        "version": 3
      },
      "file_extension": ".py",
      "mimetype": "text/x-python",
      "name": "python",
      "nbconvert_exporter": "python",
      "pygments_lexer": "ipython3",
      "version": "3.8.8"
    },
    "colab": {
      "name": "Mention_mh_interview_final-2.ipynb",
      "provenance": [],
      "include_colab_link": true
    }
  },
  "cells": [
    {
      "cell_type": "markdown",
      "metadata": {
        "id": "view-in-github",
        "colab_type": "text"
      },
      "source": [
        "<a href=\"https://colab.research.google.com/github/alexisbianco0919/compsci216-project/blob/main/Mention_mh_interview_final.ipynb\" target=\"_parent\"><img src=\"https://colab.research.google.com/assets/colab-badge.svg\" alt=\"Open In Colab\"/></a>"
      ]
    },
    {
      "cell_type": "code",
      "metadata": {
        "id": "bce0f28e"
      },
      "source": [
        "# import needed libraries\n",
        "import pandas as pd\n",
        "import numpy as np\n",
        "import re\n",
        "import seaborn as sns\n",
        "from scipy import stats"
      ],
      "id": "bce0f28e",
      "execution_count": null,
      "outputs": []
    },
    {
      "cell_type": "code",
      "metadata": {
        "id": "93d2eea9",
        "outputId": "615b8e9c-116a-482a-96e0-7615cd59da0f"
      },
      "source": [
        "# download data from merged_data.csv\n",
        "cd = pd.read_csv('https://raw.githubusercontent.com/alexisbianco0919/compsci216-project/main/clean_data_4.csv')\n",
        "cd['age_range'] = pd.cut(cd['age'], [0, 20, 30, 40, 50, 60, 100])\n",
        "cd_2016 = cd[cd['year'] == 2016]\n",
        "cd_2017 = cd[cd['year'] == 2017]\n",
        "cd_2018 = cd[cd['year'] == 2018]\n",
        "cd_2019 = cd[cd['year'] == 2019]\n",
        "# print mh values\n",
        "print(cd['mention_mh_interview'].value_counts())\n",
        "print('\\n')\n",
        "\n",
        "# print ph values\n",
        "print(cd['mention_ph_interview'].value_counts())\n",
        "print('\\n')\n",
        "\n",
        "# print year values\n",
        "print(cd['year'].value_counts())\n",
        "print('\\n')\n",
        "\n",
        "# print mh values grouped by year\n",
        "print(cd.groupby('year')['mention_mh_interview'].value_counts())\n",
        "print('\\n')\n",
        "\n",
        "# print ph values grouped by year\n",
        "print(cd.groupby('year')['mention_ph_interview'].value_counts())\n",
        "print('\\n')\n",
        "\n",
        "# visualize data\n",
        "# print(cd.columns)\n",
        "cd"
      ],
      "id": "93d2eea9",
      "execution_count": null,
      "outputs": [
        {
          "name": "stdout",
          "output_type": "stream",
          "text": [
            "No       1059\n",
            "Maybe     391\n",
            "Yes        75\n",
            "Name: mention_mh_interview, dtype: int64\n",
            "\n",
            "\n",
            "Maybe    1265\n",
            "No        994\n",
            "Yes       699\n",
            "Name: mention_ph_interview, dtype: int64\n",
            "\n",
            "\n",
            "2016    1433\n",
            "2017     756\n",
            "2018     417\n",
            "2019     352\n",
            "Name: year, dtype: int64\n",
            "\n",
            "\n",
            "year  mention_mh_interview\n",
            "2017  No                      524\n",
            "      Maybe                   194\n",
            "      Yes                      38\n",
            "2018  No                      297\n",
            "      Maybe                   100\n",
            "      Yes                      20\n",
            "2019  No                      238\n",
            "      Maybe                    97\n",
            "      Yes                      17\n",
            "Name: mention_mh_interview, dtype: int64\n",
            "\n",
            "\n",
            "year  mention_ph_interview\n",
            "2016  Maybe                   633\n",
            "      No                      441\n",
            "      Yes                     359\n",
            "2017  Maybe                   303\n",
            "      No                      278\n",
            "      Yes                     175\n",
            "2018  Maybe                   177\n",
            "      No                      161\n",
            "      Yes                      79\n",
            "2019  Maybe                   152\n",
            "      No                      114\n",
            "      Yes                      86\n",
            "Name: mention_ph_interview, dtype: int64\n",
            "\n",
            "\n"
          ]
        },
        {
          "data": {
            "text/html": [
              "<div>\n",
              "<style scoped>\n",
              "    .dataframe tbody tr th:only-of-type {\n",
              "        vertical-align: middle;\n",
              "    }\n",
              "\n",
              "    .dataframe tbody tr th {\n",
              "        vertical-align: top;\n",
              "    }\n",
              "\n",
              "    .dataframe thead th {\n",
              "        text-align: right;\n",
              "    }\n",
              "</style>\n",
              "<table border=\"1\" class=\"dataframe\">\n",
              "  <thead>\n",
              "    <tr style=\"text-align: right;\">\n",
              "      <th></th>\n",
              "      <th>self_employeed</th>\n",
              "      <th>company_size</th>\n",
              "      <th>tech_company</th>\n",
              "      <th>tech_prole</th>\n",
              "      <th>mh_benefits</th>\n",
              "      <th>anonymity</th>\n",
              "      <th>leaving_difficulty</th>\n",
              "      <th>disc_mh_coworker</th>\n",
              "      <th>disc_mh_supervisor</th>\n",
              "      <th>reveal_mh_business</th>\n",
              "      <th>...</th>\n",
              "      <th>sought_treatment</th>\n",
              "      <th>age</th>\n",
              "      <th>gender</th>\n",
              "      <th>country_live</th>\n",
              "      <th>state_live</th>\n",
              "      <th>country_work</th>\n",
              "      <th>state_work</th>\n",
              "      <th>year</th>\n",
              "      <th>gender_cleaned</th>\n",
              "      <th>age_range</th>\n",
              "    </tr>\n",
              "  </thead>\n",
              "  <tbody>\n",
              "    <tr>\n",
              "      <th>0</th>\n",
              "      <td>False</td>\n",
              "      <td>26-100</td>\n",
              "      <td>True</td>\n",
              "      <td>NaN</td>\n",
              "      <td>Not eligible for coverage / NA</td>\n",
              "      <td>I don't know</td>\n",
              "      <td>NaN</td>\n",
              "      <td>NaN</td>\n",
              "      <td>NaN</td>\n",
              "      <td>NaN</td>\n",
              "      <td>...</td>\n",
              "      <td>NaN</td>\n",
              "      <td>39.0</td>\n",
              "      <td>Male</td>\n",
              "      <td>United Kingdom</td>\n",
              "      <td>NaN</td>\n",
              "      <td>United Kingdom</td>\n",
              "      <td>NaN</td>\n",
              "      <td>2016</td>\n",
              "      <td>male</td>\n",
              "      <td>(30, 40]</td>\n",
              "    </tr>\n",
              "    <tr>\n",
              "      <th>1</th>\n",
              "      <td>False</td>\n",
              "      <td>6-25</td>\n",
              "      <td>True</td>\n",
              "      <td>NaN</td>\n",
              "      <td>No</td>\n",
              "      <td>Yes</td>\n",
              "      <td>NaN</td>\n",
              "      <td>NaN</td>\n",
              "      <td>NaN</td>\n",
              "      <td>NaN</td>\n",
              "      <td>...</td>\n",
              "      <td>NaN</td>\n",
              "      <td>29.0</td>\n",
              "      <td>male</td>\n",
              "      <td>United States of America</td>\n",
              "      <td>Illinois</td>\n",
              "      <td>United States of America</td>\n",
              "      <td>Illinois</td>\n",
              "      <td>2016</td>\n",
              "      <td>male</td>\n",
              "      <td>(20, 30]</td>\n",
              "    </tr>\n",
              "    <tr>\n",
              "      <th>2</th>\n",
              "      <td>False</td>\n",
              "      <td>6-25</td>\n",
              "      <td>True</td>\n",
              "      <td>NaN</td>\n",
              "      <td>No</td>\n",
              "      <td>I don't know</td>\n",
              "      <td>NaN</td>\n",
              "      <td>NaN</td>\n",
              "      <td>NaN</td>\n",
              "      <td>NaN</td>\n",
              "      <td>...</td>\n",
              "      <td>NaN</td>\n",
              "      <td>38.0</td>\n",
              "      <td>Male</td>\n",
              "      <td>United Kingdom</td>\n",
              "      <td>NaN</td>\n",
              "      <td>United Kingdom</td>\n",
              "      <td>NaN</td>\n",
              "      <td>2016</td>\n",
              "      <td>male</td>\n",
              "      <td>(30, 40]</td>\n",
              "    </tr>\n",
              "    <tr>\n",
              "      <th>3</th>\n",
              "      <td>True</td>\n",
              "      <td>NaN</td>\n",
              "      <td>NaN</td>\n",
              "      <td>NaN</td>\n",
              "      <td>NaN</td>\n",
              "      <td>NaN</td>\n",
              "      <td>NaN</td>\n",
              "      <td>NaN</td>\n",
              "      <td>NaN</td>\n",
              "      <td>Sometimes, if it comes up</td>\n",
              "      <td>...</td>\n",
              "      <td>NaN</td>\n",
              "      <td>43.0</td>\n",
              "      <td>male</td>\n",
              "      <td>United Kingdom</td>\n",
              "      <td>NaN</td>\n",
              "      <td>United Kingdom</td>\n",
              "      <td>NaN</td>\n",
              "      <td>2016</td>\n",
              "      <td>male</td>\n",
              "      <td>(40, 50]</td>\n",
              "    </tr>\n",
              "    <tr>\n",
              "      <th>4</th>\n",
              "      <td>False</td>\n",
              "      <td>6-25</td>\n",
              "      <td>False</td>\n",
              "      <td>True</td>\n",
              "      <td>Yes</td>\n",
              "      <td>No</td>\n",
              "      <td>NaN</td>\n",
              "      <td>NaN</td>\n",
              "      <td>NaN</td>\n",
              "      <td>NaN</td>\n",
              "      <td>...</td>\n",
              "      <td>NaN</td>\n",
              "      <td>43.0</td>\n",
              "      <td>Female</td>\n",
              "      <td>United States of America</td>\n",
              "      <td>Illinois</td>\n",
              "      <td>United States of America</td>\n",
              "      <td>Illinois</td>\n",
              "      <td>2016</td>\n",
              "      <td>female</td>\n",
              "      <td>(40, 50]</td>\n",
              "    </tr>\n",
              "    <tr>\n",
              "      <th>...</th>\n",
              "      <td>...</td>\n",
              "      <td>...</td>\n",
              "      <td>...</td>\n",
              "      <td>...</td>\n",
              "      <td>...</td>\n",
              "      <td>...</td>\n",
              "      <td>...</td>\n",
              "      <td>...</td>\n",
              "      <td>...</td>\n",
              "      <td>...</td>\n",
              "      <td>...</td>\n",
              "      <td>...</td>\n",
              "      <td>...</td>\n",
              "      <td>...</td>\n",
              "      <td>...</td>\n",
              "      <td>...</td>\n",
              "      <td>...</td>\n",
              "      <td>...</td>\n",
              "      <td>...</td>\n",
              "      <td>...</td>\n",
              "      <td>...</td>\n",
              "    </tr>\n",
              "    <tr>\n",
              "      <th>2953</th>\n",
              "      <td>False</td>\n",
              "      <td>More than 1000</td>\n",
              "      <td>False</td>\n",
              "      <td>True</td>\n",
              "      <td>I don't know</td>\n",
              "      <td>I don't know</td>\n",
              "      <td>Somewhat difficult</td>\n",
              "      <td>No</td>\n",
              "      <td>No</td>\n",
              "      <td>NaN</td>\n",
              "      <td>...</td>\n",
              "      <td>False</td>\n",
              "      <td>27.0</td>\n",
              "      <td>male</td>\n",
              "      <td>India</td>\n",
              "      <td>NaN</td>\n",
              "      <td>India</td>\n",
              "      <td>NaN</td>\n",
              "      <td>2019</td>\n",
              "      <td>male</td>\n",
              "      <td>(20, 30]</td>\n",
              "    </tr>\n",
              "    <tr>\n",
              "      <th>2954</th>\n",
              "      <td>True</td>\n",
              "      <td>NaN</td>\n",
              "      <td>NaN</td>\n",
              "      <td>NaN</td>\n",
              "      <td>NaN</td>\n",
              "      <td>NaN</td>\n",
              "      <td>NaN</td>\n",
              "      <td>NaN</td>\n",
              "      <td>NaN</td>\n",
              "      <td>Not applicable to me</td>\n",
              "      <td>...</td>\n",
              "      <td>False</td>\n",
              "      <td>48.0</td>\n",
              "      <td>m</td>\n",
              "      <td>United States of America</td>\n",
              "      <td>Louisiana</td>\n",
              "      <td>United States of America</td>\n",
              "      <td>Louisiana</td>\n",
              "      <td>2019</td>\n",
              "      <td>male</td>\n",
              "      <td>(40, 50]</td>\n",
              "    </tr>\n",
              "    <tr>\n",
              "      <th>2955</th>\n",
              "      <td>True</td>\n",
              "      <td>NaN</td>\n",
              "      <td>NaN</td>\n",
              "      <td>NaN</td>\n",
              "      <td>NaN</td>\n",
              "      <td>NaN</td>\n",
              "      <td>NaN</td>\n",
              "      <td>NaN</td>\n",
              "      <td>NaN</td>\n",
              "      <td>Not applicable to me</td>\n",
              "      <td>...</td>\n",
              "      <td>False</td>\n",
              "      <td>50.0</td>\n",
              "      <td>M</td>\n",
              "      <td>India</td>\n",
              "      <td>NaN</td>\n",
              "      <td>India</td>\n",
              "      <td>NaN</td>\n",
              "      <td>2019</td>\n",
              "      <td>male</td>\n",
              "      <td>(40, 50]</td>\n",
              "    </tr>\n",
              "    <tr>\n",
              "      <th>2956</th>\n",
              "      <td>False</td>\n",
              "      <td>More than 1000</td>\n",
              "      <td>True</td>\n",
              "      <td>True</td>\n",
              "      <td>No</td>\n",
              "      <td>Yes</td>\n",
              "      <td>Difficult</td>\n",
              "      <td>Maybe</td>\n",
              "      <td>No</td>\n",
              "      <td>NaN</td>\n",
              "      <td>...</td>\n",
              "      <td>False</td>\n",
              "      <td>30.0</td>\n",
              "      <td>female</td>\n",
              "      <td>India</td>\n",
              "      <td>NaN</td>\n",
              "      <td>India</td>\n",
              "      <td>NaN</td>\n",
              "      <td>2019</td>\n",
              "      <td>female</td>\n",
              "      <td>(20, 30]</td>\n",
              "    </tr>\n",
              "    <tr>\n",
              "      <th>2957</th>\n",
              "      <td>False</td>\n",
              "      <td>More than 1000</td>\n",
              "      <td>True</td>\n",
              "      <td>True</td>\n",
              "      <td>Yes</td>\n",
              "      <td>Yes</td>\n",
              "      <td>Somewhat difficult</td>\n",
              "      <td>No</td>\n",
              "      <td>Maybe</td>\n",
              "      <td>NaN</td>\n",
              "      <td>...</td>\n",
              "      <td>True</td>\n",
              "      <td>24.0</td>\n",
              "      <td>Female (cis)</td>\n",
              "      <td>United States of America</td>\n",
              "      <td>Oregon</td>\n",
              "      <td>United States of America</td>\n",
              "      <td>Oregon</td>\n",
              "      <td>2019</td>\n",
              "      <td>female</td>\n",
              "      <td>(20, 30]</td>\n",
              "    </tr>\n",
              "  </tbody>\n",
              "</table>\n",
              "<p>2958 rows × 32 columns</p>\n",
              "</div>"
            ],
            "text/plain": [
              "      self_employeed    company_size tech_company tech_prole  \\\n",
              "0              False          26-100         True        NaN   \n",
              "1              False            6-25         True        NaN   \n",
              "2              False            6-25         True        NaN   \n",
              "3               True             NaN          NaN        NaN   \n",
              "4              False            6-25        False       True   \n",
              "...              ...             ...          ...        ...   \n",
              "2953           False  More than 1000        False       True   \n",
              "2954            True             NaN          NaN        NaN   \n",
              "2955            True             NaN          NaN        NaN   \n",
              "2956           False  More than 1000         True       True   \n",
              "2957           False  More than 1000         True       True   \n",
              "\n",
              "                         mh_benefits     anonymity  leaving_difficulty  \\\n",
              "0     Not eligible for coverage / NA  I don't know                 NaN   \n",
              "1                                 No           Yes                 NaN   \n",
              "2                                 No  I don't know                 NaN   \n",
              "3                                NaN           NaN                 NaN   \n",
              "4                                Yes            No                 NaN   \n",
              "...                              ...           ...                 ...   \n",
              "2953                    I don't know  I don't know  Somewhat difficult   \n",
              "2954                             NaN           NaN                 NaN   \n",
              "2955                             NaN           NaN                 NaN   \n",
              "2956                              No           Yes           Difficult   \n",
              "2957                             Yes           Yes  Somewhat difficult   \n",
              "\n",
              "     disc_mh_coworker disc_mh_supervisor         reveal_mh_business  ...  \\\n",
              "0                 NaN                NaN                        NaN  ...   \n",
              "1                 NaN                NaN                        NaN  ...   \n",
              "2                 NaN                NaN                        NaN  ...   \n",
              "3                 NaN                NaN  Sometimes, if it comes up  ...   \n",
              "4                 NaN                NaN                        NaN  ...   \n",
              "...               ...                ...                        ...  ...   \n",
              "2953               No                 No                        NaN  ...   \n",
              "2954              NaN                NaN       Not applicable to me  ...   \n",
              "2955              NaN                NaN       Not applicable to me  ...   \n",
              "2956            Maybe                 No                        NaN  ...   \n",
              "2957               No              Maybe                        NaN  ...   \n",
              "\n",
              "     sought_treatment   age        gender              country_live  \\\n",
              "0                 NaN  39.0          Male            United Kingdom   \n",
              "1                 NaN  29.0          male  United States of America   \n",
              "2                 NaN  38.0         Male             United Kingdom   \n",
              "3                 NaN  43.0          male            United Kingdom   \n",
              "4                 NaN  43.0        Female  United States of America   \n",
              "...               ...   ...           ...                       ...   \n",
              "2953            False  27.0          male                     India   \n",
              "2954            False  48.0             m  United States of America   \n",
              "2955            False  50.0             M                     India   \n",
              "2956            False  30.0        female                     India   \n",
              "2957             True  24.0  Female (cis)  United States of America   \n",
              "\n",
              "     state_live              country_work state_work  year gender_cleaned  \\\n",
              "0           NaN            United Kingdom        NaN  2016           male   \n",
              "1      Illinois  United States of America   Illinois  2016           male   \n",
              "2           NaN            United Kingdom        NaN  2016           male   \n",
              "3           NaN            United Kingdom        NaN  2016           male   \n",
              "4      Illinois  United States of America   Illinois  2016         female   \n",
              "...         ...                       ...        ...   ...            ...   \n",
              "2953        NaN                     India        NaN  2019           male   \n",
              "2954  Louisiana  United States of America  Louisiana  2019           male   \n",
              "2955        NaN                     India        NaN  2019           male   \n",
              "2956        NaN                     India        NaN  2019         female   \n",
              "2957     Oregon  United States of America     Oregon  2019         female   \n",
              "\n",
              "     age_range  \n",
              "0     (30, 40]  \n",
              "1     (20, 30]  \n",
              "2     (30, 40]  \n",
              "3     (40, 50]  \n",
              "4     (40, 50]  \n",
              "...        ...  \n",
              "2953  (20, 30]  \n",
              "2954  (40, 50]  \n",
              "2955  (40, 50]  \n",
              "2956  (20, 30]  \n",
              "2957  (20, 30]  \n",
              "\n",
              "[2958 rows x 32 columns]"
            ]
          },
          "execution_count": 17,
          "metadata": {},
          "output_type": "execute_result"
        }
      ]
    },
    {
      "cell_type": "markdown",
      "metadata": {
        "id": "58291476"
      },
      "source": [
        "# Demographics \n",
        "\n",
        "## Gender"
      ],
      "id": "58291476"
    },
    {
      "cell_type": "code",
      "metadata": {
        "id": "ae8192f7",
        "outputId": "9d3682f9-d906-417c-98b1-ab6312aef414"
      },
      "source": [
        "#gender\n",
        "gender_nums = cd.pivot_table(index='gender_cleaned', columns=['mention_mh_interview'], aggfunc='size')\n",
        "gender_nums[\"sum\"] = gender_nums.sum(axis=1)\n",
        "print(gender_nums, '\\n\\n')\n",
        "\n",
        "gender_props = gender_nums.loc[:,\"Maybe\":\"Yes\"].div(gender_nums[\"sum\"], axis=0)\n",
        "gender_props = gender_props.reindex(columns=[\"No\", \"Maybe\", \"Yes\"])\n",
        "\n",
        "print(gender_props)\n",
        "\n",
        "#2016\n",
        "df2016 = cd_2016[['gender_cleaned', 'mention_mh_interview']]\n",
        "gender_nums_16 = cd_2016.pivot_table(index='gender_cleaned', columns=['mention_mh_interview'], aggfunc='size')\n",
        "gender_nums_16[\"sum\"] = gender_nums_16.sum(axis=1)\n",
        "\n",
        "gender_props_16 = gender_nums_16.loc[:,\"Maybe\":\"Yes\"].div(gender_nums_16[\"sum\"], axis=0)\n",
        "gender_props_16 = gender_props.reindex(columns=[\"Yes\", \"Maybe\", \"No\"])\n",
        "\n",
        "#2017\n",
        "df2017 = cd_2017[['gender_cleaned', 'mention_mh_interview']]\n",
        "gender_nums_17 = cd_2017.pivot_table(index='gender_cleaned', columns=['mention_mh_interview'], aggfunc='size')\n",
        "gender_nums_17[\"sum\"] = gender_nums_17.sum(axis=1)\n",
        "\n",
        "gender_props_17 = gender_nums_17.loc[:,\"Maybe\":\"Yes\"].div(gender_nums_17[\"sum\"], axis=0)\n",
        "gender_props_17 = gender_props_17.reindex(columns=[\"No\", \"Maybe\", \"Yes\"])\n",
        "#print(gender_props_17, '\\n\\n')\n",
        "\n",
        "#2018\n",
        "df2018 = cd_2018[['gender_cleaned', 'mention_mh_interview']]\n",
        "gender_nums_18 = cd_2018.pivot_table(index='gender_cleaned', columns=['mention_mh_interview'], aggfunc='size')\n",
        "gender_nums_18[\"sum\"] = gender_nums_18.sum(axis=1)\n",
        "\n",
        "gender_props_18 = gender_nums_18.loc[:,\"Maybe\":\"Yes\"].div(gender_nums_18[\"sum\"], axis=0)\n",
        "gender_props_18 = gender_props_18.reindex(columns=[\"No\", \"Maybe\", \"Yes\"])\n",
        "#print(gender_props_18, '\\n\\n')\n",
        "\n",
        "#2019\n",
        "df2019 = cd_2019[['gender_cleaned', 'mention_mh_interview']]\n",
        "gender_nums_19 = cd_2019.pivot_table(index='gender_cleaned', columns=['mention_mh_interview'], aggfunc='size')\n",
        "gender_nums_19[\"sum\"] = gender_nums_19.sum(axis=1)\n",
        "\n",
        "gender_props_19 = gender_nums_19.loc[:,\"Maybe\":\"Yes\"].div(gender_nums_19[\"sum\"], axis=0)\n",
        "gender_props_19 = gender_props_19.reindex(columns=[\"No\", \"Maybe\", \"Yes\"])\n",
        "\n",
        "#plots\n",
        "gender_props.plot(kind='bar', stacked=True, colormap='summer')\n",
        "print('\\n\\n')\n",
        "gender_props_17.plot(kind='bar', stacked=True, colormap='winter')\n",
        "print('\\n\\n')\n",
        "gender_props_18.plot(kind='bar', stacked=True, colormap='winter')\n",
        "print('\\n\\n')\n",
        "gender_props_19.plot(kind='bar', stacked=True, colormap='winter')"
      ],
      "id": "ae8192f7",
      "execution_count": null,
      "outputs": [
        {
          "name": "stdout",
          "output_type": "stream",
          "text": [
            "mention_mh_interview  Maybe   No  Yes   sum\n",
            "gender_cleaned                             \n",
            "female                   79  361    8   448\n",
            "male                    290  648   65  1003\n",
            "other                    11   27    1    39\n",
            "transgender               5    4    1    10 \n",
            "\n",
            "\n",
            "mention_mh_interview        No     Maybe       Yes\n",
            "gender_cleaned                                    \n",
            "female                0.805804  0.176339  0.017857\n",
            "male                  0.646062  0.289133  0.064806\n",
            "other                 0.692308  0.282051  0.025641\n",
            "transgender           0.400000  0.500000  0.100000\n",
            "\n",
            "\n",
            "\n",
            "\n",
            "\n",
            "\n",
            "\n",
            "\n",
            "\n"
          ]
        },
        {
          "data": {
            "text/plain": [
              "<AxesSubplot:xlabel='gender_cleaned'>"
            ]
          },
          "execution_count": 3,
          "metadata": {},
          "output_type": "execute_result"
        },
        {
          "data": {
            "image/png": "[encoded data removed]",
            "text/plain": [
              "<Figure size 432x288 with 1 Axes>"
            ]
          },
          "metadata": {
            "needs_background": "light"
          },
          "output_type": "display_data"
        },
        {
          "data": {
            "image/png": "[encoded data removed]",
            "text/plain": [
              "<Figure size 432x288 with 1 Axes>"
            ]
          },
          "metadata": {
            "needs_background": "light"
          },
          "output_type": "display_data"
        },
        {
          "data": {
            "image/png": "[encoded data removed]",
            "text/plain": [
              "<Figure size 432x288 with 1 Axes>"
            ]
          },
          "metadata": {
            "needs_background": "light"
          },
          "output_type": "display_data"
        },
        {
          "data": {
            "image/png": "[encoded data removed]",
            "text/plain": [
              "<Figure size 432x288 with 1 Axes>"
            ]
          },
          "metadata": {
            "needs_background": "light"
          },
          "output_type": "display_data"
        }
      ]
    },
    {
      "cell_type": "code",
      "metadata": {
        "id": "2a738695",
        "outputId": "eda435a0-cc6c-435b-e959-cb9120c32a6b"
      },
      "source": [
        "#Difference between mental and physical health \n",
        "\n",
        "#proportions from mental health by year\n",
        "mh_year_nums = cd.pivot_table(index='year', columns=['mention_mh_interview'], aggfunc='size')\n",
        "mh_year_nums[\"sum\"] = mh_year_nums.sum(axis=1)\n",
        "#print(mh_year_nums, '\\n\\n')\n",
        "\n",
        "mh_year_props = mh_year_nums.loc[:,\"Maybe\":\"Yes\"].div(mh_year_nums[\"sum\"], axis=0)\n",
        "mh_year_props = mh_year_props.reindex(columns=[\"No\", \"Maybe\", \"Yes\"])\n",
        "print(mh_year_props, '\\n\\n')\n",
        "\n",
        "#proportions for physical health by year\n",
        "#remove 2016 because no data for mentioning mental health in an interview?\n",
        "cd_no16 = cd[cd[\"year\"] != 2016]\n",
        "\n",
        "ph_year_nums = cd_no16.pivot_table(index='year', columns=['mention_ph_interview'], aggfunc='size')\n",
        "ph_year_nums[\"sum\"] = ph_year_nums.sum(axis=1)\n",
        "#print(ph_year_nums, '\\n\\n')\n",
        "\n",
        "ph_year_props = ph_year_nums.loc[:,\"Maybe\":\"Yes\"].div(ph_year_nums[\"sum\"], axis=0)\n",
        "ph_year_props = ph_year_props.reindex(columns=[\"No\", \"Maybe\", \"Yes\"])\n",
        "#print(ph_year_props)\n",
        "\n",
        "concat = pd.concat([mh_year_props, ph_year_props], keys=['mental', 'physical'])\n",
        "concat = concat.reset_index()\n",
        "#print(concat)\n",
        "\n",
        "#separate nos\n",
        "concat_no = concat.drop(columns=['Maybe', 'Yes'])\n",
        "concat_no.insert(3, \"answer\", \"No\")\n",
        "concat_no = concat_no.rename({\"No\": \"prop\"}, axis='columns')\n",
        "#print(concat_no)\n",
        "\n",
        "#separate maybes\n",
        "concat_maybe = concat.drop(columns=['No', 'Yes'])\n",
        "concat_maybe.insert(3, \"answer\", \"Maybe\")\n",
        "concat_maybe = concat_maybe.rename({\"Maybe\": \"prop\"}, axis='columns')\n",
        "#print(concat_maybe)\n",
        "\n",
        "#separate yes\n",
        "concat_yes = concat.drop(columns=['No', 'Maybe'])\n",
        "concat_yes.insert(3, \"answer\", \"Yes\")\n",
        "concat_yes = concat_yes.rename({\"Yes\": \"prop\"}, axis='columns')\n",
        "#print(concat_yes)\n",
        "\n",
        "#final concat \n",
        "concat_final = pd.concat([concat_no, concat_maybe, concat_yes])\n",
        "print(concat_final)\n",
        "\n",
        "palette = {\"No\": \"#040273\" ,\n",
        "           \"Maybe\":\"#021bf9\", \n",
        "           \"Yes\":\"#a2bffe\"}\n",
        "sns.catplot(x=\"level_0\", y=\"prop\", kind=\"bar\", data=concat_final, palette=palette, col=\"year\", hue=\"answer\")"
      ],
      "id": "2a738695",
      "execution_count": null,
      "outputs": [
        {
          "name": "stdout",
          "output_type": "stream",
          "text": [
            "mention_mh_interview        No     Maybe       Yes\n",
            "year                                              \n",
            "2017                  0.693122  0.256614  0.050265\n",
            "2018                  0.712230  0.239808  0.047962\n",
            "2019                  0.676136  0.275568  0.048295 \n",
            "\n",
            "\n",
            "    level_0  year      prop answer\n",
            "0    mental  2017  0.693122     No\n",
            "1    mental  2018  0.712230     No\n",
            "2    mental  2019  0.676136     No\n",
            "3  physical  2017  0.367725     No\n",
            "4  physical  2018  0.386091     No\n",
            "5  physical  2019  0.323864     No\n",
            "0    mental  2017  0.256614  Maybe\n",
            "1    mental  2018  0.239808  Maybe\n",
            "2    mental  2019  0.275568  Maybe\n",
            "3  physical  2017  0.400794  Maybe\n",
            "4  physical  2018  0.424460  Maybe\n",
            "5  physical  2019  0.431818  Maybe\n",
            "0    mental  2017  0.050265    Yes\n",
            "1    mental  2018  0.047962    Yes\n",
            "2    mental  2019  0.048295    Yes\n",
            "3  physical  2017  0.231481    Yes\n",
            "4  physical  2018  0.189448    Yes\n",
            "5  physical  2019  0.244318    Yes\n"
          ]
        },
        {
          "data": {
            "text/plain": [
              "<seaborn.axisgrid.FacetGrid at 0x7f91a00ef850>"
            ]
          },
          "execution_count": 4,
          "metadata": {},
          "output_type": "execute_result"
        },
        {
          "data": {
            "image/png": "[encoded data removed]",
            "text/plain": [
              "<Figure size 1149x360 with 3 Axes>"
            ]
          },
          "metadata": {
            "needs_background": "light"
          },
          "output_type": "display_data"
        }
      ]
    },
    {
      "cell_type": "markdown",
      "metadata": {
        "id": "b5f66e91"
      },
      "source": [
        "## Age"
      ],
      "id": "b5f66e91"
    },
    {
      "cell_type": "code",
      "metadata": {
        "id": "3385a093",
        "outputId": "cc9c8d86-9b81-40d7-f429-3b5466bc0d6d"
      },
      "source": [
        "# Age Range\n",
        "age_nums= cd.pivot_table(index='age_range', columns='mention_mh_interview', aggfunc='size')\n",
        "age_nums[\"sum\"] = age_nums.sum(axis=1)\n",
        "print(age_nums, '\\n\\n')\n",
        "\n",
        "age_props = age_nums.loc[:,\"Maybe\":\"Yes\"].div(age_nums[\"sum\"], axis=0)\n",
        "age_props = age_props.reindex(columns=[\"No\", \"Maybe\", \"Yes\"])\n",
        "print(age_props)\n",
        "\n",
        "#2017\n",
        "age_nums_17 = cd_2017.pivot_table(index='age_range', columns=['mention_mh_interview'], aggfunc='size')\n",
        "age_nums_17[\"sum\"] = age_nums_17.sum(axis=1)\n",
        "\n",
        "age_props_17 = age_nums_17.loc[:,\"Maybe\":\"Yes\"].div(age_nums_17[\"sum\"], axis=0)\n",
        "age_props_17 = age_props_17.reindex(columns=[\"No\", \"Maybe\", \"Yes\"])\n",
        "#print(\"age_props_17: \\n\\n\", age_props_17, '\\n\\n')\n",
        "\n",
        "#2018\n",
        "age_nums_18 = cd_2018.pivot_table(index='age_range', columns=['mention_mh_interview'], aggfunc='size')\n",
        "age_nums_18[\"sum\"] = age_nums_18.sum(axis=1)\n",
        "\n",
        "age_props_18 = age_nums_18.loc[:,\"Maybe\":\"Yes\"].div(age_nums_18[\"sum\"], axis=0)\n",
        "age_props_18 = age_props_18.reindex(columns=[\"No\", \"Maybe\", \"Yes\"])\n",
        "#print(\"age_props_18: \\n\\n\", age_props_18, '\\n\\n')\n",
        "\n",
        "#2019\n",
        "age_nums_19 = cd_2019.pivot_table(index='age_range', columns=['mention_mh_interview'], aggfunc='size')\n",
        "age_nums_19[\"sum\"] = age_nums_19.sum(axis=1)\n",
        "\n",
        "age_props_19 = age_nums_19.loc[:,\"Maybe\":\"Yes\"].div(age_nums_19[\"sum\"], axis=0)\n",
        "age_props_19 = age_props_19.reindex(columns=[\"No\", \"Maybe\", \"Yes\"])\n",
        "#print(\"age_props_19: \\n\\n\", age_props_18, '\\n\\n')\n",
        "\n",
        "#plots\n",
        "age_props.plot(kind='bar', stacked=True, colormap='summer')\n",
        "print('\\n\\n')\n",
        "age_props_17.plot(kind='bar', stacked=True, colormap='winter')\n",
        "print('\\n\\n')\n",
        "age_props_18.plot(kind='bar', stacked=True, colormap='winter')\n",
        "print('\\n\\n')\n",
        "age_props_19.plot(kind='bar', stacked=True, colormap='winter')"
      ],
      "id": "3385a093",
      "execution_count": null,
      "outputs": [
        {
          "name": "stdout",
          "output_type": "stream",
          "text": [
            "mention_mh_interview  Maybe   No  Yes  sum\n",
            "age_range                                 \n",
            "(0, 20]                   5    9    0   14\n",
            "(20, 30]                116  356   25  497\n",
            "(30, 40]                183  442   35  660\n",
            "(40, 50]                 70  193    9  272\n",
            "(50, 60]                 14   47    5   66\n",
            "(60, 100]                 3    9    1   13 \n",
            "\n",
            "\n",
            "mention_mh_interview        No     Maybe       Yes\n",
            "age_range                                         \n",
            "(0, 20]               0.642857  0.357143  0.000000\n",
            "(20, 30]              0.716298  0.233400  0.050302\n",
            "(30, 40]              0.669697  0.277273  0.053030\n",
            "(40, 50]              0.709559  0.257353  0.033088\n",
            "(50, 60]              0.712121  0.212121  0.075758\n",
            "(60, 100]             0.692308  0.230769  0.076923\n",
            "\n",
            "\n",
            "\n",
            "\n",
            "\n",
            "\n",
            "\n",
            "\n",
            "\n"
          ]
        },
        {
          "data": {
            "text/plain": [
              "<AxesSubplot:xlabel='age_range'>"
            ]
          },
          "execution_count": 5,
          "metadata": {},
          "output_type": "execute_result"
        },
        {
          "data": {
            "image/png": "[encoded data removed]",
            "text/plain": [
              "<Figure size 432x288 with 1 Axes>"
            ]
          },
          "metadata": {
            "needs_background": "light"
          },
          "output_type": "display_data"
        },
        {
          "data": {
            "image/png": "[encoded data removed]",
            "text/plain": [
              "<Figure size 432x288 with 1 Axes>"
            ]
          },
          "metadata": {
            "needs_background": "light"
          },
          "output_type": "display_data"
        },
        {
          "data": {
            "image/png": "[encoded data removed]",
            "text/plain": [
              "<Figure size 432x288 with 1 Axes>"
            ]
          },
          "metadata": {
            "needs_background": "light"
          },
          "output_type": "display_data"
        },
        {
          "data": {
            "image/png": "[encoded data removed]",
            "text/plain": [
              "<Figure size 432x288 with 1 Axes>"
            ]
          },
          "metadata": {
            "needs_background": "light"
          },
          "output_type": "display_data"
        }
      ]
    },
    {
      "cell_type": "markdown",
      "metadata": {
        "id": "cb201b6d"
      },
      "source": [
        "# Company type\n",
        "\n",
        "## Tech company"
      ],
      "id": "cb201b6d"
    },
    {
      "cell_type": "code",
      "metadata": {
        "id": "85d67243",
        "outputId": "2ce2a68c-d2dc-406c-b968-e5950c8b682e"
      },
      "source": [
        "print(cd[\"tech_company\"].unique())\n",
        "tech_nums= cd.pivot_table(index='tech_company', columns='mention_mh_interview', aggfunc='size')\n",
        "tech_nums[\"sum\"] = tech_nums.sum(axis=1)\n",
        "print(tech_nums, '\\n\\n')\n",
        "\n",
        "tech_props = tech_nums.loc[:,\"Maybe\":\"Yes\"].div(tech_nums[\"sum\"], axis=0)\n",
        "tech_props = tech_props.reindex(columns=[\"No\", \"Maybe\", \"Yes\"])\n",
        "print(tech_props)\n",
        "\n",
        "#plots\n",
        "tech_props.plot(kind='bar', colormap='summer')\n",
        "tech_props.plot(kind='bar', stacked=True, colormap='summer')"
      ],
      "id": "85d67243",
      "execution_count": null,
      "outputs": [
        {
          "name": "stdout",
          "output_type": "stream",
          "text": [
            "[True nan False]\n",
            "mention_mh_interview  Maybe   No  Yes  sum\n",
            "tech_company                              \n",
            "False                    85  239   10  334\n",
            "True                    244  676   54  974 \n",
            "\n",
            "\n",
            "mention_mh_interview        No     Maybe       Yes\n",
            "tech_company                                      \n",
            "False                 0.715569  0.254491  0.029940\n",
            "True                  0.694045  0.250513  0.055441\n"
          ]
        },
        {
          "data": {
            "text/plain": [
              "<AxesSubplot:xlabel='tech_company'>"
            ]
          },
          "execution_count": 6,
          "metadata": {},
          "output_type": "execute_result"
        },
        {
          "data": {
            "image/png": "[encoded data removed]",
            "text/plain": [
              "<Figure size 432x288 with 1 Axes>"
            ]
          },
          "metadata": {
            "needs_background": "light"
          },
          "output_type": "display_data"
        },
        {
          "data": {
            "image/png": "[encoded data removed]",
            "text/plain": [
              "<Figure size 432x288 with 1 Axes>"
            ]
          },
          "metadata": {
            "needs_background": "light"
          },
          "output_type": "display_data"
        }
      ]
    },
    {
      "cell_type": "markdown",
      "metadata": {
        "id": "40ded76e"
      },
      "source": [
        "# Company size"
      ],
      "id": "40ded76e"
    },
    {
      "cell_type": "code",
      "metadata": {
        "id": "071a9729",
        "outputId": "8eec550f-0805-4798-ebcc-c2091fca9cc6"
      },
      "source": [
        "print(cd[\"company_size\"].unique())\n",
        "cosize_nums= cd.pivot_table(index='company_size', columns='mention_mh_interview', aggfunc='size')\n",
        "cosize_nums[\"sum\"] = cosize_nums.sum(axis=1)\n",
        "print(cosize_nums, '\\n\\n')\n",
        "\n",
        "cosize_props = cosize_nums.loc[:,\"Maybe\":\"Yes\"].div(cosize_nums[\"sum\"], axis=0)\n",
        "cosize_props = cosize_props.reindex(columns=[\"No\", \"Maybe\", \"Yes\"])\n",
        "print(cosize_props)\n",
        "\n",
        "#plots\n",
        "cosize_props.plot(kind='bar', colormap='summer')\n",
        "cosize_props.plot(kind='bar', stacked=True, colormap='summer')"
      ],
      "id": "071a9729",
      "execution_count": null,
      "outputs": [
        {
          "name": "stdout",
          "output_type": "stream",
          "text": [
            "['26-100' '6-25' nan 'More than 1000' '100-500' '500-1000' '1-5']\n",
            "mention_mh_interview  Maybe   No  Yes  sum\n",
            "company_size                              \n",
            "1-5                      13   15    4   32\n",
            "100-500                  79  267   18  364\n",
            "26-100                   70  156   17  243\n",
            "500-1000                 26   75    5  106\n",
            "6-25                     54  125   10  189\n",
            "More than 1000           87  277   10  374 \n",
            "\n",
            "\n",
            "mention_mh_interview        No     Maybe       Yes\n",
            "company_size                                      \n",
            "1-5                   0.468750  0.406250  0.125000\n",
            "100-500               0.733516  0.217033  0.049451\n",
            "26-100                0.641975  0.288066  0.069959\n",
            "500-1000              0.707547  0.245283  0.047170\n",
            "6-25                  0.661376  0.285714  0.052910\n",
            "More than 1000        0.740642  0.232620  0.026738\n"
          ]
        },
        {
          "data": {
            "text/plain": [
              "<AxesSubplot:xlabel='company_size'>"
            ]
          },
          "execution_count": 7,
          "metadata": {},
          "output_type": "execute_result"
        },
        {
          "data": {
            "image/png": "[encoded data removed]",
            "text/plain": [
              "<Figure size 432x288 with 1 Axes>"
            ]
          },
          "metadata": {
            "needs_background": "light"
          },
          "output_type": "display_data"
        },
        {
          "data": {
            "image/png": "[encoded data removed]",
            "text/plain": [
              "<Figure size 432x288 with 1 Axes>"
            ]
          },
          "metadata": {
            "needs_background": "light"
          },
          "output_type": "display_data"
        }
      ]
    },
    {
      "cell_type": "markdown",
      "metadata": {
        "id": "7e821bdb"
      },
      "source": [
        "## Anonymity"
      ],
      "id": "7e821bdb"
    },
    {
      "cell_type": "code",
      "metadata": {
        "id": "3c84b48d",
        "outputId": "ac4b4adb-530b-4ac6-ab9b-f75040a71d9d"
      },
      "source": [
        "print(cd[\"anonymity\"].unique())\n",
        "anon_nums= cd.pivot_table(index='anonymity', columns='mention_mh_interview', aggfunc='size')\n",
        "anon_nums[\"sum\"] = anon_nums.sum(axis=1)\n",
        "print(anon_nums, '\\n\\n')\n",
        "\n",
        "anon_props = anon_nums.loc[:,\"Maybe\":\"Yes\"].div(anon_nums[\"sum\"], axis=0)\n",
        "anon_props = anon_props.reindex(columns=[\"No\", \"Maybe\", \"Yes\"])\n",
        "print(anon_props)\n",
        "\n",
        "#plots\n",
        "anon_props.plot(kind='bar', colormap='summer')\n",
        "anon_props.plot(kind='bar', stacked=True, colormap='summer')"
      ],
      "id": "3c84b48d",
      "execution_count": null,
      "outputs": [
        {
          "name": "stdout",
          "output_type": "stream",
          "text": [
            "[\"I don't know\" 'Yes' nan 'No']\n",
            "mention_mh_interview  Maybe   No  Yes  sum\n",
            "anonymity                                 \n",
            "I don't know            194  575   35  804\n",
            "No                       10   51    3   64\n",
            "Yes                     125  289   26  440 \n",
            "\n",
            "\n",
            "mention_mh_interview        No     Maybe       Yes\n",
            "anonymity                                         \n",
            "I don't know          0.715174  0.241294  0.043532\n",
            "No                    0.796875  0.156250  0.046875\n",
            "Yes                   0.656818  0.284091  0.059091\n"
          ]
        },
        {
          "data": {
            "text/plain": [
              "<AxesSubplot:xlabel='anonymity'>"
            ]
          },
          "execution_count": 8,
          "metadata": {},
          "output_type": "execute_result"
        },
        {
          "data": {
            "image/png": "[encoded data removed]",
            "text/plain": [
              "<Figure size 432x288 with 1 Axes>"
            ]
          },
          "metadata": {
            "needs_background": "light"
          },
          "output_type": "display_data"
        },
        {
          "data": {
            "image/png": "[encoded data removed]",
            "text/plain": [
              "<Figure size 432x288 with 1 Axes>"
            ]
          },
          "metadata": {
            "needs_background": "light"
          },
          "output_type": "display_data"
        }
      ]
    },
    {
      "cell_type": "markdown",
      "metadata": {
        "id": "9adab12c"
      },
      "source": [
        "## Mental Health Benefits (mh_benefits)"
      ],
      "id": "9adab12c"
    },
    {
      "cell_type": "code",
      "metadata": {
        "id": "0b2893b6",
        "outputId": "335e0e5f-5b58-4bfd-dbea-1562e691d0a2"
      },
      "source": [
        "# 'mh_benefits', 'anonymity', 'leaving_difficulty', 'disc_mh_coworker',\n",
        "#        'disc_mh_supervisor', 'reveal_mh_business', 'reveal_mh_coworkers',\n",
        "#        'affects_productivity', 'productivity_percent', 'mention_ph_interview',\n",
        "#        'mention_mh_interview', 'share_mh_ff', 'exp_unsupport', 'reveal_less',\n",
        "#        'family_history', 'mh_in_past', 'mh_currently', 'mh_diagnosed',\n",
        "#        'sought_treatment', 'age', 'gender', 'country_live', 'state_live',\n",
        "#        'country_work', 'state_work', 'year', 'gender_cleaned', 'age_range'],\n",
        "#       dtype='object')\n",
        "\n",
        "print(cd[\"mh_benefits\"].unique())\n",
        "ben_nums= cd.pivot_table(index='mh_benefits', columns='mention_mh_interview', aggfunc='size')\n",
        "ben_nums[\"sum\"] = ben_nums.sum(axis=1)\n",
        "print(ben_nums, '\\n\\n')\n",
        "\n",
        "ben_props = ben_nums.loc[:,\"Maybe\":\"Yes\"].div(ben_nums[\"sum\"], axis=0)\n",
        "ben_props = ben_props.reindex(columns=[\"No\", \"Maybe\", \"Yes\"])\n",
        "print(ben_props)\n",
        "\n",
        "#plots\n",
        "ben_props.plot(kind='bar', colormap='summer')\n",
        "ben_props.plot(kind='bar', stacked=True, colormap='summer')"
      ],
      "id": "0b2893b6",
      "execution_count": null,
      "outputs": [
        {
          "name": "stdout",
          "output_type": "stream",
          "text": [
            "['Not eligible for coverage / NA' 'No' nan 'Yes' \"I don't know\"]\n",
            "mention_mh_interview            Maybe   No  Yes  sum\n",
            "mh_benefits                                         \n",
            "I don't know                       96  231   12  339\n",
            "No                                 45  113   10  168\n",
            "Not eligible for coverage / NA     13   47    5   65\n",
            "Yes                               175  524   37  736 \n",
            "\n",
            "\n",
            "mention_mh_interview                  No     Maybe       Yes\n",
            "mh_benefits                                                 \n",
            "I don't know                    0.681416  0.283186  0.035398\n",
            "No                              0.672619  0.267857  0.059524\n",
            "Not eligible for coverage / NA  0.723077  0.200000  0.076923\n",
            "Yes                             0.711957  0.237772  0.050272\n"
          ]
        },
        {
          "data": {
            "text/plain": [
              "<AxesSubplot:xlabel='mh_benefits'>"
            ]
          },
          "execution_count": 9,
          "metadata": {},
          "output_type": "execute_result"
        },
        {
          "data": {
            "image/png": "[encoded data removed]",
            "text/plain": [
              "<Figure size 432x288 with 1 Axes>"
            ]
          },
          "metadata": {
            "needs_background": "light"
          },
          "output_type": "display_data"
        },
        {
          "data": {
            "image/png": "[encoded data removed]",
            "text/plain": [
              "<Figure size 432x288 with 1 Axes>"
            ]
          },
          "metadata": {
            "needs_background": "light"
          },
          "output_type": "display_data"
        }
      ]
    },
    {
      "cell_type": "markdown",
      "metadata": {
        "id": "15f18c3d"
      },
      "source": [
        "# Hypothesis Testing \n",
        "### Ideas:\n",
        "H_0: There proportion of people who would mention their mental health in an interview is the same as the proportion of people who would mention their physical health in an interview.\n",
        "\n",
        "H_0: The proportion of men who would mention their mental health in an interview is the same as that of women. \n",
        "\n",
        "H_0: There proportion of people who would mention their mental health in an interview has stayed the same thorughout 2017, 2018, and 2019.\n",
        "\n",
        "confidence intervals? Confidence intervals for 2017, 2018, 2019 of true population proportion of people who would mention their mental health in an interview\n",
        "\n",
        "also look at no vs yes vs maybe \n",
        "anonymity for maybe?\n",
        "probably need to do boostrapping since no population means? "
      ],
      "id": "15f18c3d"
    },
    {
      "cell_type": "code",
      "metadata": {
        "id": "6df81135",
        "outputId": "75ee6c99-9125-4727-f778-c2183dc9c05e"
      },
      "source": [
        "#people who would mention mental health vs physical health in an interview\n",
        "mmi = cd[cd[\"mention_mh_interview\"] == \"Yes\"]\n",
        "mpi = cd[cd[\"mention_ph_interview\"] == \"Yes\"]\n",
        "\n",
        "prop_mmi = len(mmi)/len(cd)\n",
        "sigma_mmi = np.sqrt((prop_mmi*(1-prop_mmi)))\n",
        "\n",
        "prop_mpi = len(mpi)/len(cd) \n",
        "sigma_mpi = np.sqrt((prop_mpi*(1-prop_mpi)))\n",
        "\n",
        "ttest = stats.ttest_ind_from_stats(mean1=prop_mmi, std1=sigma_mmi, nobs1=len(cd),\n",
        "                                   mean2=prop_mpi, std2=sigma_mpi, nobs2=len(cd), \n",
        "                                    alternative='two-sided')\n",
        "p = ttest.pvalue\n",
        "print(p)\n",
        "\n",
        "#paired t test for whether there is a difference bt mh and ph questionable?\n",
        "no16 = cd[~(cd[\"year\"] == 2016)]\n",
        "mapping = {'Yes': 1, 'Maybe': 0.5, \"No\": 0}\n",
        "\n",
        "\n",
        "no16[\"mmi\"] = no16[\"mention_mh_interview\"].map(mapping)\n",
        "no16[\"mpi\"] = no16[\"mention_ph_interview\"].map(mapping)\n",
        "\n",
        "ttest2 = stats.ttest_rel(no16[\"mmi\"], no16[\"mpi\"], alternative='two-sided')\n",
        "print(x.pvalue)\n",
        "\n",
        "#men vs women mentioning mental health in interview \n",
        "\n",
        "f = cd[cd[\"gender_cleaned\"] == \"female\"]\n",
        "fy = f[f[\"mention_mh_interview\"] == \"Yes\"]\n",
        "prop_f = len(fy)/len(f)\n",
        "sigma_f = np.sqrt((prop_f*(1-prop_f)))\n",
        "\n",
        "m = cd[cd[\"gender_cleaned\"] == \"male\"]\n",
        "my = m[m[\"mention_mh_interview\"] == \"Yes\"]\n",
        "prop_m = len(my)/len(m)\n",
        "sigma_m = np.sqrt((prop_m*(1-prop_m)))\n",
        "\n",
        "ttest3 = stats.ttest_ind_from_stats(mean1=prop_f, std1=sigma_f, nobs1=len(f),\n",
        "                                   mean2=prop_m, std2=sigma_m, nobs2=len(m), \n",
        "                                    alternative='less')\n",
        "\n",
        "p3 = ttest3.pvalue\n",
        "print(p3)\n",
        "\n",
        "#people whose companies provided anonymity were more willing to share their mental health in an interview \n",
        "anon = cd[cd[\"anonymity\"] == \"Yes\"]\n",
        "ay = anon[anon[\"mention_mh_interview\"] == \"Yes\"]\n",
        "may = anon[anon[\"mention_mh_interview\"] == \"Maybe\"]\n",
        "prop_ay = (len(ay) + len(may))/len(anon)\n",
        "sigma_ay = np.sqrt((prop_ay*(1-prop_ay)))\n",
        "\n",
        "noanon = cd[cd[\"anonymity\"] == \"No\"]\n",
        "nay = noanon[noanon[\"mention_mh_interview\"] == \"Yes\"]\n",
        "nmay = noanon[noanon[\"mention_mh_interview\"] == \"Maybe\"]\n",
        "prop_nay = (len(nay) + len(nmay))/len(noanon)\n",
        "sigma_nay = np.sqrt((prop_nay*(1-prop_nay)))\n",
        "\n",
        "ttest4 = stats.ttest_ind_from_stats(mean1=prop_ay, std1=sigma_ay, nobs1=len(anon),\n",
        "                                   mean2=prop_nay, std2=sigma_nay, nobs2=len(noanon), \n",
        "                                    alternative='two-sided')\n",
        "\n",
        "p4 = ttest4.pvalue\n",
        "print(p4)"
      ],
      "id": "6df81135",
      "execution_count": null,
      "outputs": [
        {
          "name": "stdout",
          "output_type": "stream",
          "text": [
            "1.8093471603367375e-134\n",
            "1.466858029236454e-132\n",
            "0.0005935993876859472\n",
            "0.0013064963335801601\n"
          ]
        },
        {
          "name": "stderr",
          "output_type": "stream",
          "text": [
            "<ipython-input-41-4eb459bf59e6>:22: SettingWithCopyWarning: \n",
            "A value is trying to be set on a copy of a slice from a DataFrame.\n",
            "Try using .loc[row_indexer,col_indexer] = value instead\n",
            "\n",
            "See the caveats in the documentation: https://pandas.pydata.org/pandas-docs/stable/user_guide/indexing.html#returning-a-view-versus-a-copy\n",
            "  no16[\"mmi\"] = no16[\"mention_mh_interview\"].map(mapping)\n",
            "<ipython-input-41-4eb459bf59e6>:23: SettingWithCopyWarning: \n",
            "A value is trying to be set on a copy of a slice from a DataFrame.\n",
            "Try using .loc[row_indexer,col_indexer] = value instead\n",
            "\n",
            "See the caveats in the documentation: https://pandas.pydata.org/pandas-docs/stable/user_guide/indexing.html#returning-a-view-versus-a-copy\n",
            "  no16[\"mpi\"] = no16[\"mention_ph_interview\"].map(mapping)\n"
          ]
        }
      ]
    },
    {
      "cell_type": "code",
      "metadata": {
        "id": "2d411b8f"
      },
      "source": [
        "#Maybe regression? \n",
        "\n",
        "\n",
        "# from sklearn.preprocessing import OneHotEncoder\n",
        "# from sklearn.linear_model import LogisticRegression\n",
        "# from sklearn.metrics import accuracy_score\n",
        "# from sklearn.metrics import plot_confusion_matrix\n",
        "# import matplotlib.pyplot as plt # just to format confusion matrix\n",
        "\n",
        "# # Write your code for question 4 here\n",
        "# # and store your results in the correct variable names for full credit\n",
        "# from sklearn import metrics\n",
        "# data_1 = np.append(OneHotEncoder().fit_transform(no16[[\"species\", \"sex\"]].values).toarray(),\n",
        "#                   penguins[[\"bill_length_mm\", \"bill_depth_mm\"]], axis=1)\n",
        "\n",
        "\n",
        "# data = \n",
        "\n",
        "\n",
        "# target = no16[\"mmi\"].values"
      ],
      "id": "2d411b8f",
      "execution_count": null,
      "outputs": []
    }
  ]
}