{
 "cells": [
  {
   "cell_type": "code",
   "execution_count": 1,
   "id": "799a7281",
   "metadata": {},
   "outputs": [],
   "source": [
    "#import pandas and numpy\n",
    "import pandas as pd\n",
    "import numpy as np"
   ]
  },
  {
   "cell_type": "code",
   "execution_count": 2,
   "id": "a6628e9c",
   "metadata": {},
   "outputs": [],
   "source": [
    "#download data\n",
    "with open(\"2016-raw-data.txt\") as f:\n",
    "    data_2016 = pd.read_csv(f)\n",
    "    \n",
    "data_2016['year'] = 2016\n",
    "\n",
    "with open(\"2017-raw-data.txt\") as f:\n",
    "    data_2017 = pd.read_csv(f)\n",
    "    \n",
    "data_2017['year'] = 2017\n",
    "    \n",
    "with open(\"2018-raw-data.txt\") as f:\n",
    "    data_2018 = pd.read_csv(f)\n",
    "    \n",
    "data_2018['year'] = 2018\n",
    "    \n",
    "with open(\"2019-raw-data.txt\") as f:\n",
    "    data_2019 = pd.read_csv(f)\n",
    "    \n",
    "data_2019['year'] = 2019"
   ]
  },
  {
   "cell_type": "code",
   "execution_count": 3,
   "id": "8a0771bc",
   "metadata": {},
   "outputs": [
    {
     "name": "stdout",
     "output_type": "stream",
     "text": [
      "Index(['How many employees does your company or organization have?',\n",
      "       'Is your employer primarily a tech company/organization?',\n",
      "       'Is your primary role within your company related to tech/IT?',\n",
      "       'Has your employer ever formally discussed mental health (for example, as part of a wellness campaign or other official communication)?',\n",
      "       'Is your anonymity protected if you choose to take advantage of mental health or substance abuse treatment resources provided by your employer?',\n",
      "       'Do you believe your productivity is ever affected by a mental health issue?',\n",
      "       'If yes, what percentage of your work time (time performing primary or secondary job functions) is affected by a mental health issue?',\n",
      "       'Did your previous employers ever formally discuss mental health (as part of a wellness campaign or other official communication)?',\n",
      "       'Was your anonymity protected if you chose to take advantage of mental health or substance abuse treatment resources with previous employers?',\n",
      "       'Would you be willing to bring up a physical health issue with a potential employer in an interview?',\n",
      "       'Why or why not?', 'Why or why not?.1',\n",
      "       'How willing would you be to share with friends and family that you have a mental illness?',\n",
      "       'Do you have a family history of mental illness?',\n",
      "       'Have you had a mental health disorder in the past?',\n",
      "       'What is your age?', 'What is your gender?', 'year'],\n",
      "      dtype='object')\n",
      "Index(['employees', 'company_type', 'role_tech?', 'employer_discussed_mh',\n",
      "       'anonymity', 'productivity', 'productivity_percent',\n",
      "       'prev_employer_discussed_mh', 'prev_anonymity', 'phys_health',\n",
      "       'phys_why', 'phys_why_2', 'share_mh', 'fam_history_mh', 'have_mh',\n",
      "       'age', 'gender', 'year'],\n",
      "      dtype='object')\n"
     ]
    }
   ],
   "source": [
    "#combining datasets\n",
    "\n",
    "frames = [data_2016, data_2017,data_2018, data_2019]\n",
    "cols = pd.concat(frames, join = 'inner')\n",
    "\n",
    "questions = cols.columns\n",
    "\n",
    "cols.columns = ['employees', 'company_type', 'role_tech?', 'employer_discussed_mh', 'anonymity', 'productivity',\n",
    "               'productivity_percent', 'prev_employer_discussed_mh', 'prev_anonymity', 'phys_health',\n",
    "               'phys_why', 'phys_why_2', 'share_mh', 'fam_history_mh', 'have_mh', 'age', 'gender', 'year']\n",
    "\n",
    "print(questions)\n",
    "print(cols.columns)\n"
   ]
  },
  {
   "cell_type": "code",
   "execution_count": 4,
   "id": "dcfa26d4",
   "metadata": {},
   "outputs": [
    {
     "data": {
      "text/plain": [
       "year  employees     \n",
       "2016  26-100            292\n",
       "      More than 1000    256\n",
       "      100-500           248\n",
       "      6-25              210\n",
       "      500-1000           80\n",
       "      1-5                60\n",
       "2017  100-500           203\n",
       "      More than 1000    158\n",
       "      26-100            128\n",
       "      6-25               86\n",
       "      500-1000           48\n",
       "      1-5                20\n",
       "2018  More than 1000    105\n",
       "      100-500            81\n",
       "      26-100             70\n",
       "      6-25               69\n",
       "      500-1000           31\n",
       "      1-5                 5\n",
       "2019  More than 1000    111\n",
       "      100-500            80\n",
       "      26-100             45\n",
       "      6-25               34\n",
       "      500-1000           27\n",
       "      1-5                 7\n",
       "Name: employees, dtype: int64"
      ]
     },
     "execution_count": 4,
     "metadata": {},
     "output_type": "execute_result"
    }
   ],
   "source": [
    "#employee count\n",
    "\n",
    "cols[cols['employees'].notnull()]['employees'].value_counts()\n",
    "cols[cols['employees'].notnull()].groupby('year')['employees'].value_counts()"
   ]
  },
  {
   "cell_type": "code",
   "execution_count": 5,
   "id": "bd455103",
   "metadata": {},
   "outputs": [
    {
     "data": {
      "text/plain": [
       "year  company_type\n",
       "2016  1.0             883\n",
       "      0.0             263\n",
       "2017  1.0             501\n",
       "      0.0             142\n",
       "2018  1.0             266\n",
       "      0.0              95\n",
       "2019  1.0             207\n",
       "      0.0              97\n",
       "Name: company_type, dtype: int64"
      ]
     },
     "execution_count": 5,
     "metadata": {},
     "output_type": "execute_result"
    }
   ],
   "source": [
    "#is your company a tech company\n",
    "cols[cols['company_type'].notnull()]['company_type'].value_counts()\n",
    "cols[cols['company_type'].notnull()].groupby('year')['company_type'].value_counts()"
   ]
  },
  {
   "cell_type": "code",
   "execution_count": 6,
   "id": "a2aec15c",
   "metadata": {},
   "outputs": [
    {
     "data": {
      "text/plain": [
       "year  role_tech?\n",
       "2016  1.0           248\n",
       "      0.0            15\n",
       "2017  1.0           595\n",
       "      0.0            48\n",
       "2018  1.0           346\n",
       "      0.0            15\n",
       "2019  1.0           282\n",
       "      0.0            22\n",
       "Name: role_tech?, dtype: int64"
      ]
     },
     "execution_count": 6,
     "metadata": {},
     "output_type": "execute_result"
    }
   ],
   "source": [
    "#Is your primary role within your company related to tech/IT?\n",
    "cols[cols['role_tech?'].notnull()]['role_tech?'].value_counts()\n",
    "cols[cols['role_tech?'].notnull()].groupby('year')['role_tech?'].value_counts()"
   ]
  },
  {
   "cell_type": "code",
   "execution_count": 7,
   "id": "9bec1097",
   "metadata": {},
   "outputs": [
    {
     "name": "stdout",
     "output_type": "stream",
     "text": [
      "No              1626\n",
      "Yes              599\n",
      "I don't know     229\n",
      "Name: employer_discussed_mh, dtype: int64\n",
      "year  employer_discussed_mh\n",
      "2016  No                       813\n",
      "      Yes                      230\n",
      "      I don't know             103\n",
      "2017  No                       409\n",
      "      Yes                      162\n",
      "      I don't know              72\n",
      "2018  No                       228\n",
      "      Yes                      103\n",
      "      I don't know              30\n",
      "2019  No                       176\n",
      "      Yes                      104\n",
      "      I don't know              24\n",
      "Name: employer_discussed_mh, dtype: int64\n"
     ]
    }
   ],
   "source": [
    "print(cols[cols['employer_discussed_mh'].notnull()]['employer_discussed_mh'].value_counts())\n",
    "print(cols[cols['employer_discussed_mh'].notnull()].groupby('year')['employer_discussed_mh'].value_counts())"
   ]
  },
  {
   "cell_type": "code",
   "execution_count": 8,
   "id": "5c44db9e",
   "metadata": {},
   "outputs": [
    {
     "data": {
      "text/plain": [
       "year  anonymity   \n",
       "2016  I don't know    742\n",
       "      Yes             320\n",
       "      No               84\n",
       "2017  I don't know    395\n",
       "      Yes             215\n",
       "      No               33\n",
       "2018  I don't know    221\n",
       "      Yes             124\n",
       "      No               16\n",
       "2019  I don't know    188\n",
       "      Yes             101\n",
       "      No               15\n",
       "Name: anonymity, dtype: int64"
      ]
     },
     "execution_count": 8,
     "metadata": {},
     "output_type": "execute_result"
    }
   ],
   "source": [
    "cols[cols['anonymity'].notnull()]['anonymity'].value_counts()\n",
    "cols[cols['anonymity'].notnull()].groupby('year')['anonymity'].value_counts()"
   ]
  },
  {
   "cell_type": "code",
   "execution_count": 9,
   "id": "a5f0ee29",
   "metadata": {},
   "outputs": [
    {
     "data": {
      "text/plain": [
       "year  productivity        \n",
       "2016  Yes                     204\n",
       "      Unsure                   38\n",
       "      Not applicable to me     31\n",
       "      No                       14\n",
       "2017  Yes                      85\n",
       "      Unsure                   13\n",
       "      Not applicable to me      8\n",
       "      No                        7\n",
       "2018  Yes                      41\n",
       "      Not applicable to me      8\n",
       "      No                        4\n",
       "      Unsure                    3\n",
       "2019  Yes                      37\n",
       "      Unsure                    6\n",
       "      Not applicable to me      4\n",
       "      No                        1\n",
       "Name: productivity, dtype: int64"
      ]
     },
     "execution_count": 9,
     "metadata": {},
     "output_type": "execute_result"
    }
   ],
   "source": [
    "cols[cols['productivity'].notnull()]['productivity'].value_counts()\n",
    "cols[cols['productivity'].notnull()].groupby('year')['productivity'].value_counts()"
   ]
  },
  {
   "cell_type": "code",
   "execution_count": 21,
   "id": "d637398a",
   "metadata": {},
   "outputs": [
    {
     "data": {
      "text/plain": [
       "year  productivity_percent\n",
       "2016  1-25%                   92\n",
       "      26-50%                  72\n",
       "      51-75%                  26\n",
       "      76-100%                 14\n",
       "2017  1-25%                   38\n",
       "      26-50%                  29\n",
       "      51-75%                  12\n",
       "      76-100%                  6\n",
       "2018  1-25%                   18\n",
       "      26-50%                  13\n",
       "      51-75%                   9\n",
       "      76-100%                  1\n",
       "2019  1-25%                   16\n",
       "      26-50%                  11\n",
       "      51-75%                   6\n",
       "      76-100%                  4\n",
       "Name: productivity_percent, dtype: int64"
      ]
     },
     "execution_count": 21,
     "metadata": {},
     "output_type": "execute_result"
    }
   ],
   "source": [
    "cols[cols['productivity_percent'].notnull()]['productivity_percent'].value_counts()\n",
    "cols[cols['productivity_percent'].notnull()].groupby('year')['productivity_percent'].value_counts()"
   ]
  },
  {
   "cell_type": "code",
   "execution_count": 11,
   "id": "699255da",
   "metadata": {},
   "outputs": [
    {
     "data": {
      "text/plain": [
       "year  prev_employer_discussed_mh\n",
       "2016  None did                      890\n",
       "      Some did                      255\n",
       "      I don't know                   86\n",
       "      Yes, they all did              33\n",
       "2017  None did                      461\n",
       "      Some did                      151\n",
       "      I don't know                   40\n",
       "      Yes, they all did              15\n",
       "2018  None did                      249\n",
       "      Some did                       80\n",
       "      I don't know                   21\n",
       "      Yes, they all did              13\n",
       "2019  None did                      194\n",
       "      Some did                       73\n",
       "      I don't know                   25\n",
       "      Yes, they all did               4\n",
       "Name: prev_employer_discussed_mh, dtype: int64"
      ]
     },
     "execution_count": 11,
     "metadata": {},
     "output_type": "execute_result"
    }
   ],
   "source": [
    "cols[cols['prev_employer_discussed_mh'].notnull()]['prev_employer_discussed_mh'].value_counts()\n",
    "cols[cols['prev_employer_discussed_mh'].notnull()].groupby('year')['prev_employer_discussed_mh'].value_counts()"
   ]
  },
  {
   "cell_type": "code",
   "execution_count": 12,
   "id": "344169f5",
   "metadata": {},
   "outputs": [
    {
     "data": {
      "text/plain": [
       "year  prev_anonymity\n",
       "2016  I don't know      860\n",
       "      Yes, always       164\n",
       "      No                121\n",
       "      Sometimes         119\n",
       "2017  I don't know      447\n",
       "      Yes, always       120\n",
       "      Sometimes          54\n",
       "      No                 46\n",
       "2018  I don't know      234\n",
       "      Yes, always        71\n",
       "      No                 35\n",
       "      Sometimes          23\n",
       "2019  I don't know      204\n",
       "      Yes, always        46\n",
       "      Sometimes          24\n",
       "      No                 22\n",
       "Name: prev_anonymity, dtype: int64"
      ]
     },
     "execution_count": 12,
     "metadata": {},
     "output_type": "execute_result"
    }
   ],
   "source": [
    "cols[cols['prev_anonymity'].notnull()]['prev_anonymity'].value_counts()\n",
    "cols[cols['prev_anonymity'].notnull()].groupby('year')['prev_anonymity'].value_counts()"
   ]
  },
  {
   "cell_type": "code",
   "execution_count": 13,
   "id": "4eacc512",
   "metadata": {},
   "outputs": [
    {
     "data": {
      "text/plain": [
       "year  phys_health\n",
       "2016  Maybe          633\n",
       "      No             441\n",
       "      Yes            359\n",
       "2017  Maybe          303\n",
       "      No             278\n",
       "      Yes            175\n",
       "2018  Maybe          177\n",
       "      No             161\n",
       "      Yes             79\n",
       "2019  Maybe          152\n",
       "      No             114\n",
       "      Yes             86\n",
       "Name: phys_health, dtype: int64"
      ]
     },
     "execution_count": 13,
     "metadata": {},
     "output_type": "execute_result"
    }
   ],
   "source": [
    "cols[cols['phys_health'].notnull()]['phys_health'].value_counts()\n",
    "cols[cols['phys_health'].notnull()].groupby('year')['phys_health'].value_counts()"
   ]
  },
  {
   "cell_type": "code",
   "execution_count": 14,
   "id": "52e8831f",
   "metadata": {},
   "outputs": [
    {
     "data": {
      "text/plain": [
       "year  phys_why                                                                                    \n",
       "2016  Fear of discrimination                                                                          3\n",
       "      I don't know                                                                                    3\n",
       "      Not relevant                                                                                    3\n",
       "      Fear of not getting the job                                                                     2\n",
       "      None of their business.                                                                         2\n",
       "                                                                                                     ..\n",
       "2019  usually relatively simple to adjust to physical limitations with some tools.                    1\n",
       "      would depend on how relevant it was to performing the job.                                      1\n",
       "      would depend on issue and to what degree it would effect performance and/or their perception    1\n",
       "      would have to read the room                                                                     1\n",
       "      wouldn't want to risk not getting the job                                                       1\n",
       "Name: phys_why, Length: 2241, dtype: int64"
      ]
     },
     "execution_count": 14,
     "metadata": {},
     "output_type": "execute_result"
    }
   ],
   "source": [
    "cols[cols['phys_why'].notnull()]['phys_why'].value_counts()\n",
    "cols[cols['phys_why'].notnull()].groupby('year')['phys_why'].value_counts()"
   ]
  },
  {
   "cell_type": "code",
   "execution_count": 15,
   "id": "84856c35",
   "metadata": {},
   "outputs": [
    {
     "data": {
      "text/plain": [
       "year  phys_why_2                                                \n",
       "2016  Stigma                                                        14\n",
       "      Stigma.                                                        9\n",
       "      Same as above                                                  7\n",
       "      See above                                                      4\n",
       "      Fear of not getting the job                                    3\n",
       "                                                                    ..\n",
       "2019  too prejudicial                                                1\n",
       "      why                                                            1\n",
       "      would depend on how relevant it was to performing the job.     1\n",
       "      would not want to miss out on the job opportunity.             1\n",
       "      wouldn't want to risk not getting the job                      1\n",
       "Name: phys_why_2, Length: 2248, dtype: int64"
      ]
     },
     "execution_count": 15,
     "metadata": {},
     "output_type": "execute_result"
    }
   ],
   "source": [
    "cols[cols['phys_why_2'].notnull()]['phys_why_2'].value_counts()\n",
    "cols[cols['phys_why_2'].notnull()].groupby('year')['phys_why_2'].value_counts()"
   ]
  },
  {
   "cell_type": "code",
   "execution_count": 16,
   "id": "bdffb64b",
   "metadata": {},
   "outputs": [
    {
     "data": {
      "text/plain": [
       "year  share_mh                                             \n",
       "2016  Somewhat open                                            640\n",
       "      Very open                                                251\n",
       "      Somewhat not open                                        214\n",
       "      Neutral                                                  141\n",
       "      Not applicable to me (I do not have a mental illness)    112\n",
       "      Not open at all                                           75\n",
       "2017  7                                                        118\n",
       "      10                                                       118\n",
       "      8                                                        105\n",
       "      5                                                         92\n",
       "      6                                                         75\n",
       "      9                                                         72\n",
       "      3                                                         53\n",
       "      4                                                         39\n",
       "      2                                                         35\n",
       "      0                                                         28\n",
       "      1                                                         21\n",
       "2018  8                                                         80\n",
       "      10                                                        78\n",
       "      7                                                         54\n",
       "      5                                                         47\n",
       "      9                                                         44\n",
       "      6                                                         37\n",
       "      4                                                         20\n",
       "      2                                                         19\n",
       "      3                                                         18\n",
       "      0                                                         11\n",
       "      1                                                          9\n",
       "2019  7                                                         60\n",
       "      5                                                         49\n",
       "      10                                                        49\n",
       "      8                                                         47\n",
       "      6                                                         39\n",
       "      9                                                         28\n",
       "      3                                                         26\n",
       "      2                                                         18\n",
       "      4                                                         17\n",
       "      0                                                         10\n",
       "      1                                                          9\n",
       "Name: share_mh, dtype: int64"
      ]
     },
     "execution_count": 16,
     "metadata": {},
     "output_type": "execute_result"
    }
   ],
   "source": [
    "cols[cols['share_mh'].notnull()]['share_mh'].value_counts()\n",
    "cols[cols['share_mh'].notnull()].groupby('year')['share_mh'].value_counts()"
   ]
  },
  {
   "cell_type": "code",
   "execution_count": 17,
   "id": "7cc7cd3d",
   "metadata": {},
   "outputs": [
    {
     "data": {
      "text/plain": [
       "year  fam_history_mh\n",
       "2016  Yes               670\n",
       "      No                488\n",
       "      I don't know      275\n",
       "2017  Yes               339\n",
       "      No                224\n",
       "      I don't know      193\n",
       "2018  Yes               208\n",
       "      No                114\n",
       "      I don't know       95\n",
       "2019  Yes               159\n",
       "      No                107\n",
       "      I don't know       86\n",
       "Name: fam_history_mh, dtype: int64"
      ]
     },
     "execution_count": 17,
     "metadata": {},
     "output_type": "execute_result"
    }
   ],
   "source": [
    "cols[cols['fam_history_mh'].notnull()]['fam_history_mh'].value_counts()\n",
    "cols[cols['fam_history_mh'].notnull()].groupby('year')['fam_history_mh'].value_counts()"
   ]
  },
  {
   "cell_type": "code",
   "execution_count": 18,
   "id": "c79c7a9d",
   "metadata": {},
   "outputs": [
    {
     "data": {
      "text/plain": [
       "year  have_mh   \n",
       "2016  Yes           736\n",
       "      No            451\n",
       "      Maybe         246\n",
       "2017  Yes           332\n",
       "      No            227\n",
       "      Possibly      134\n",
       "      Don't Know     53\n",
       "2018  Yes           203\n",
       "      No            111\n",
       "      Possibly       69\n",
       "      Don't Know     32\n",
       "2019  Yes           146\n",
       "      No            107\n",
       "      Possibly       72\n",
       "      Don't Know     24\n",
       "Name: have_mh, dtype: int64"
      ]
     },
     "execution_count": 18,
     "metadata": {},
     "output_type": "execute_result"
    }
   ],
   "source": [
    "cols[cols['have_mh'].notnull()]['have_mh'].value_counts()\n",
    "cols[cols['have_mh'].notnull()].groupby('year')['have_mh'].value_counts()"
   ]
  },
  {
   "cell_type": "code",
   "execution_count": 19,
   "id": "f5f9583c",
   "metadata": {},
   "outputs": [
    {
     "data": {
      "text/plain": [
       "year  age \n",
       "2016  30.0    94\n",
       "      31.0    82\n",
       "      29.0    79\n",
       "      28.0    74\n",
       "      35.0    74\n",
       "              ..\n",
       "2019  56.0     1\n",
       "      58.0     1\n",
       "      60.0     1\n",
       "      63.0     1\n",
       "      64.0     1\n",
       "Name: age, Length: 186, dtype: int64"
      ]
     },
     "execution_count": 19,
     "metadata": {},
     "output_type": "execute_result"
    }
   ],
   "source": [
    "cols[cols['age'].notnull()]['age'].value_counts()\n",
    "cols[cols['age'].notnull()].groupby('year')['age'].value_counts()"
   ]
  },
  {
   "cell_type": "code",
   "execution_count": 20,
   "id": "09157c3e",
   "metadata": {},
   "outputs": [
    {
     "data": {
      "text/plain": [
       "year  gender   \n",
       "2016  Male         610\n",
       "      male         249\n",
       "      Female       153\n",
       "      female        95\n",
       "      M             86\n",
       "                  ... \n",
       "2019  femmina        1\n",
       "      man            1\n",
       "      masculino      1\n",
       "      rr             1\n",
       "      woman          1\n",
       "Name: gender, Length: 216, dtype: int64"
      ]
     },
     "execution_count": 20,
     "metadata": {},
     "output_type": "execute_result"
    }
   ],
   "source": [
    "cols[cols['gender'].notnull()]['gender'].value_counts()\n",
    "cols[cols['gender'].notnull()].groupby('year')['gender'].value_counts()"
   ]
  }
 ],
 "metadata": {
  "kernelspec": {
   "display_name": "Python 3",
   "language": "python",
   "name": "python3"
  },
  "language_info": {
   "codemirror_mode": {
    "name": "ipython",
    "version": 3
   },
   "file_extension": ".py",
   "mimetype": "text/x-python",
   "name": "python",
   "nbconvert_exporter": "python",
   "pygments_lexer": "ipython3",
   "version": "3.8.8"
  }
 },
 "nbformat": 4,
 "nbformat_minor": 5
}
