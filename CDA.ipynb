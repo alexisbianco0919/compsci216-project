{
 "cells": [
  {
   "cell_type": "markdown",
   "id": "442cd4ff",
   "metadata": {},
   "source": [
    "# CDA - Clean Data Analysis"
   ]
  },
  {
   "cell_type": "markdown",
   "id": "dd96962b",
   "metadata": {},
   "source": [
    "## Import and Setup"
   ]
  },
  {
   "cell_type": "code",
   "execution_count": null,
   "id": "7770af91",
   "metadata": {},
   "outputs": [],
   "source": [
    "# import needed libraries\n",
    "import pandas as pd\n",
    "import numpy as np\n",
    "import re"
   ]
  },
  {
   "cell_type": "code",
   "execution_count": null,
   "id": "7769cb4e",
   "metadata": {},
   "outputs": [],
   "source": [
    "# download data from merged_data.csv\n",
    "md = pd.read_csv('https://raw.githubusercontent.com/alexisbianco0919/compsci216-project/main/merged_data.csv')\n",
    "\n",
    "# Drop first column which was a duplicate index column\n",
    "md.drop(columns=md.columns[0], axis=1, inplace=True)\n",
    "\n",
    "# visualize data\n",
    "md"
   ]
  }
 ],
 "metadata": {
  "kernelspec": {
   "display_name": "Python 3",
   "language": "python",
   "name": "python3"
  },
  "language_info": {
   "codemirror_mode": {
    "name": "ipython",
    "version": 3
   },
   "file_extension": ".py",
   "mimetype": "text/x-python",
   "name": "python",
   "nbconvert_exporter": "python",
   "pygments_lexer": "ipython3",
   "version": "3.8.8"
  }
 },
 "nbformat": 4,
 "nbformat_minor": 5
}
