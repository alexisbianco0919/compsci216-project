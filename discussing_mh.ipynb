{
  "nbformat": 4,
  "nbformat_minor": 0,
  "metadata": {
    "orig_nbformat": 4,
    "colab": {
      "name": "discussing_mh.ipynb",
      "provenance": [],
      "collapsed_sections": [],
      "include_colab_link": true
    },
    "language_info": {
      "name": "python"
    },
    "kernelspec": {
      "name": "python3",
      "display_name": "Python 3"
    }
  },
  "cells": [
    {
      "cell_type": "markdown",
      "metadata": {
        "id": "view-in-github",
        "colab_type": "text"
      },
      "source": [
        "<a href=\"https://colab.research.google.com/github/alexisbianco0919/compsci216-project/blob/main/discussing_mh.ipynb\" target=\"_parent\"><img src=\"https://colab.research.google.com/assets/colab-badge.svg\" alt=\"Open In Colab\"/></a>"
      ]
    },
    {
      "cell_type": "markdown",
      "metadata": {
        "id": "p8Ri040qz5RH"
      },
      "source": [
        "Analysis of Disc_mh_supervisor and Disc_mh_cowroker"
      ]
    },
    {
      "cell_type": "code",
      "metadata": {
        "id": "bTnqQ4UZz5RK"
      },
      "source": [
        "# import needed libraries\n",
        "import pandas as pd\n",
        "import numpy as np\n",
        "import re\n",
        "import seaborn as sns"
      ],
      "execution_count": 21,
      "outputs": []
    },
    {
      "cell_type": "code",
      "metadata": {
        "colab": {
          "base_uri": "https://localhost:8080/",
          "height": 881
        },
        "id": "togoUxWI3M-v",
        "outputId": "fd424950-ab7f-4578-ff53-d6a62c56a726"
      },
      "source": [
        "# download data from merged_data.csv\n",
        "cd = pd.read_csv('https://raw.githubusercontent.com/alexisbianco0919/compsci216-project/main/clean_data_4.csv')\n",
        "cd['age_range'] = pd.cut(cd['age'], [0, 20, 30, 40, 50, 60, 100])\n",
        "\n",
        "# print column values\n",
        "print(cd[\"disc_mh_supervisor\"].value_counts())\n",
        "print(cd[\"disc_mh_coworker\"].value_counts())\n",
        "print(\"\\n\")\n",
        "\n",
        "# print year values\n",
        "print(cd[\"year\"].value_counts())\n",
        "print(\"\\n\")\n",
        "\n",
        "# visualize data\n",
        "cd"
      ],
      "execution_count": 23,
      "outputs": [
        {
          "output_type": "stream",
          "name": "stdout",
          "text": [
            "Yes      504\n",
            "Maybe    433\n",
            "No       371\n",
            "Name: disc_mh_supervisor, dtype: int64\n",
            "Maybe    574\n",
            "Yes      407\n",
            "No       327\n",
            "Name: disc_mh_coworker, dtype: int64\n",
            "\n",
            "\n",
            "2016    1433\n",
            "2017     756\n",
            "2018     417\n",
            "2019     352\n",
            "Name: year, dtype: int64\n",
            "\n",
            "\n"
          ]
        },
        {
          "output_type": "execute_result",
          "data": {
            "text/html": [
              "<div>\n",
              "<style scoped>\n",
              "    .dataframe tbody tr th:only-of-type {\n",
              "        vertical-align: middle;\n",
              "    }\n",
              "\n",
              "    .dataframe tbody tr th {\n",
              "        vertical-align: top;\n",
              "    }\n",
              "\n",
              "    .dataframe thead th {\n",
              "        text-align: right;\n",
              "    }\n",
              "</style>\n",
              "<table border=\"1\" class=\"dataframe\">\n",
              "  <thead>\n",
              "    <tr style=\"text-align: right;\">\n",
              "      <th></th>\n",
              "      <th>self_employeed</th>\n",
              "      <th>company_size</th>\n",
              "      <th>tech_company</th>\n",
              "      <th>tech_prole</th>\n",
              "      <th>mh_benefits</th>\n",
              "      <th>anonymity</th>\n",
              "      <th>leaving_difficulty</th>\n",
              "      <th>disc_mh_coworker</th>\n",
              "      <th>disc_mh_supervisor</th>\n",
              "      <th>reveal_mh_business</th>\n",
              "      <th>reveal_mh_coworkers</th>\n",
              "      <th>affects_productivity</th>\n",
              "      <th>productivity_percent</th>\n",
              "      <th>mention_ph_interview</th>\n",
              "      <th>mention_mh_interview</th>\n",
              "      <th>share_mh_ff</th>\n",
              "      <th>exp_unsupport</th>\n",
              "      <th>reveal_less</th>\n",
              "      <th>family_history</th>\n",
              "      <th>mh_in_past</th>\n",
              "      <th>mh_currently</th>\n",
              "      <th>mh_diagnosed</th>\n",
              "      <th>sought_treatment</th>\n",
              "      <th>age</th>\n",
              "      <th>gender</th>\n",
              "      <th>country_live</th>\n",
              "      <th>state_live</th>\n",
              "      <th>country_work</th>\n",
              "      <th>state_work</th>\n",
              "      <th>year</th>\n",
              "      <th>gender_cleaned</th>\n",
              "      <th>age_range</th>\n",
              "    </tr>\n",
              "  </thead>\n",
              "  <tbody>\n",
              "    <tr>\n",
              "      <th>0</th>\n",
              "      <td>False</td>\n",
              "      <td>26-100</td>\n",
              "      <td>True</td>\n",
              "      <td>NaN</td>\n",
              "      <td>Not eligible for coverage / NA</td>\n",
              "      <td>I don't know</td>\n",
              "      <td>NaN</td>\n",
              "      <td>NaN</td>\n",
              "      <td>NaN</td>\n",
              "      <td>NaN</td>\n",
              "      <td>NaN</td>\n",
              "      <td>NaN</td>\n",
              "      <td>NaN</td>\n",
              "      <td>Maybe</td>\n",
              "      <td>NaN</td>\n",
              "      <td>Somewhat open</td>\n",
              "      <td>No</td>\n",
              "      <td>NaN</td>\n",
              "      <td>No</td>\n",
              "      <td>Yes</td>\n",
              "      <td>No</td>\n",
              "      <td>NaN</td>\n",
              "      <td>NaN</td>\n",
              "      <td>39.0</td>\n",
              "      <td>Male</td>\n",
              "      <td>United Kingdom</td>\n",
              "      <td>NaN</td>\n",
              "      <td>United Kingdom</td>\n",
              "      <td>NaN</td>\n",
              "      <td>2016</td>\n",
              "      <td>male</td>\n",
              "      <td>(30, 40]</td>\n",
              "    </tr>\n",
              "    <tr>\n",
              "      <th>1</th>\n",
              "      <td>False</td>\n",
              "      <td>6-25</td>\n",
              "      <td>True</td>\n",
              "      <td>NaN</td>\n",
              "      <td>No</td>\n",
              "      <td>Yes</td>\n",
              "      <td>NaN</td>\n",
              "      <td>NaN</td>\n",
              "      <td>NaN</td>\n",
              "      <td>NaN</td>\n",
              "      <td>NaN</td>\n",
              "      <td>NaN</td>\n",
              "      <td>NaN</td>\n",
              "      <td>Maybe</td>\n",
              "      <td>NaN</td>\n",
              "      <td>Somewhat open</td>\n",
              "      <td>No</td>\n",
              "      <td>NaN</td>\n",
              "      <td>Yes</td>\n",
              "      <td>Yes</td>\n",
              "      <td>Yes</td>\n",
              "      <td>NaN</td>\n",
              "      <td>NaN</td>\n",
              "      <td>29.0</td>\n",
              "      <td>male</td>\n",
              "      <td>United States of America</td>\n",
              "      <td>Illinois</td>\n",
              "      <td>United States of America</td>\n",
              "      <td>Illinois</td>\n",
              "      <td>2016</td>\n",
              "      <td>male</td>\n",
              "      <td>(20, 30]</td>\n",
              "    </tr>\n",
              "    <tr>\n",
              "      <th>2</th>\n",
              "      <td>False</td>\n",
              "      <td>6-25</td>\n",
              "      <td>True</td>\n",
              "      <td>NaN</td>\n",
              "      <td>No</td>\n",
              "      <td>I don't know</td>\n",
              "      <td>NaN</td>\n",
              "      <td>NaN</td>\n",
              "      <td>NaN</td>\n",
              "      <td>NaN</td>\n",
              "      <td>NaN</td>\n",
              "      <td>NaN</td>\n",
              "      <td>NaN</td>\n",
              "      <td>Yes</td>\n",
              "      <td>NaN</td>\n",
              "      <td>Somewhat open</td>\n",
              "      <td>Maybe/Not sure</td>\n",
              "      <td>NaN</td>\n",
              "      <td>No</td>\n",
              "      <td>Maybe</td>\n",
              "      <td>No</td>\n",
              "      <td>NaN</td>\n",
              "      <td>NaN</td>\n",
              "      <td>38.0</td>\n",
              "      <td>Male</td>\n",
              "      <td>United Kingdom</td>\n",
              "      <td>NaN</td>\n",
              "      <td>United Kingdom</td>\n",
              "      <td>NaN</td>\n",
              "      <td>2016</td>\n",
              "      <td>male</td>\n",
              "      <td>(30, 40]</td>\n",
              "    </tr>\n",
              "    <tr>\n",
              "      <th>3</th>\n",
              "      <td>True</td>\n",
              "      <td>NaN</td>\n",
              "      <td>NaN</td>\n",
              "      <td>NaN</td>\n",
              "      <td>NaN</td>\n",
              "      <td>NaN</td>\n",
              "      <td>NaN</td>\n",
              "      <td>NaN</td>\n",
              "      <td>NaN</td>\n",
              "      <td>Sometimes, if it comes up</td>\n",
              "      <td>Sometimes, if it comes up</td>\n",
              "      <td>Yes</td>\n",
              "      <td>1-25%</td>\n",
              "      <td>Yes</td>\n",
              "      <td>NaN</td>\n",
              "      <td>Neutral</td>\n",
              "      <td>No</td>\n",
              "      <td>NaN</td>\n",
              "      <td>No</td>\n",
              "      <td>Yes</td>\n",
              "      <td>Yes</td>\n",
              "      <td>NaN</td>\n",
              "      <td>NaN</td>\n",
              "      <td>43.0</td>\n",
              "      <td>male</td>\n",
              "      <td>United Kingdom</td>\n",
              "      <td>NaN</td>\n",
              "      <td>United Kingdom</td>\n",
              "      <td>NaN</td>\n",
              "      <td>2016</td>\n",
              "      <td>male</td>\n",
              "      <td>(40, 50]</td>\n",
              "    </tr>\n",
              "    <tr>\n",
              "      <th>4</th>\n",
              "      <td>False</td>\n",
              "      <td>6-25</td>\n",
              "      <td>False</td>\n",
              "      <td>True</td>\n",
              "      <td>Yes</td>\n",
              "      <td>No</td>\n",
              "      <td>NaN</td>\n",
              "      <td>NaN</td>\n",
              "      <td>NaN</td>\n",
              "      <td>NaN</td>\n",
              "      <td>NaN</td>\n",
              "      <td>NaN</td>\n",
              "      <td>NaN</td>\n",
              "      <td>Maybe</td>\n",
              "      <td>NaN</td>\n",
              "      <td>Somewhat open</td>\n",
              "      <td>Yes, I experienced</td>\n",
              "      <td>NaN</td>\n",
              "      <td>Yes</td>\n",
              "      <td>Yes</td>\n",
              "      <td>Yes</td>\n",
              "      <td>NaN</td>\n",
              "      <td>NaN</td>\n",
              "      <td>43.0</td>\n",
              "      <td>Female</td>\n",
              "      <td>United States of America</td>\n",
              "      <td>Illinois</td>\n",
              "      <td>United States of America</td>\n",
              "      <td>Illinois</td>\n",
              "      <td>2016</td>\n",
              "      <td>female</td>\n",
              "      <td>(40, 50]</td>\n",
              "    </tr>\n",
              "    <tr>\n",
              "      <th>...</th>\n",
              "      <td>...</td>\n",
              "      <td>...</td>\n",
              "      <td>...</td>\n",
              "      <td>...</td>\n",
              "      <td>...</td>\n",
              "      <td>...</td>\n",
              "      <td>...</td>\n",
              "      <td>...</td>\n",
              "      <td>...</td>\n",
              "      <td>...</td>\n",
              "      <td>...</td>\n",
              "      <td>...</td>\n",
              "      <td>...</td>\n",
              "      <td>...</td>\n",
              "      <td>...</td>\n",
              "      <td>...</td>\n",
              "      <td>...</td>\n",
              "      <td>...</td>\n",
              "      <td>...</td>\n",
              "      <td>...</td>\n",
              "      <td>...</td>\n",
              "      <td>...</td>\n",
              "      <td>...</td>\n",
              "      <td>...</td>\n",
              "      <td>...</td>\n",
              "      <td>...</td>\n",
              "      <td>...</td>\n",
              "      <td>...</td>\n",
              "      <td>...</td>\n",
              "      <td>...</td>\n",
              "      <td>...</td>\n",
              "      <td>...</td>\n",
              "    </tr>\n",
              "    <tr>\n",
              "      <th>2953</th>\n",
              "      <td>False</td>\n",
              "      <td>More than 1000</td>\n",
              "      <td>False</td>\n",
              "      <td>True</td>\n",
              "      <td>I don't know</td>\n",
              "      <td>I don't know</td>\n",
              "      <td>Somewhat difficult</td>\n",
              "      <td>No</td>\n",
              "      <td>No</td>\n",
              "      <td>NaN</td>\n",
              "      <td>NaN</td>\n",
              "      <td>NaN</td>\n",
              "      <td>NaN</td>\n",
              "      <td>Maybe</td>\n",
              "      <td>No</td>\n",
              "      <td>Very open</td>\n",
              "      <td>Yes, I observed</td>\n",
              "      <td>Maybe</td>\n",
              "      <td>No</td>\n",
              "      <td>No</td>\n",
              "      <td>Maybe</td>\n",
              "      <td>NaN</td>\n",
              "      <td>False</td>\n",
              "      <td>27.0</td>\n",
              "      <td>male</td>\n",
              "      <td>India</td>\n",
              "      <td>NaN</td>\n",
              "      <td>India</td>\n",
              "      <td>NaN</td>\n",
              "      <td>2019</td>\n",
              "      <td>male</td>\n",
              "      <td>(20, 30]</td>\n",
              "    </tr>\n",
              "    <tr>\n",
              "      <th>2954</th>\n",
              "      <td>True</td>\n",
              "      <td>NaN</td>\n",
              "      <td>NaN</td>\n",
              "      <td>NaN</td>\n",
              "      <td>NaN</td>\n",
              "      <td>NaN</td>\n",
              "      <td>NaN</td>\n",
              "      <td>NaN</td>\n",
              "      <td>NaN</td>\n",
              "      <td>Not applicable to me</td>\n",
              "      <td>Not applicable to me</td>\n",
              "      <td>Yes</td>\n",
              "      <td>26-50%</td>\n",
              "      <td>Maybe</td>\n",
              "      <td>Maybe</td>\n",
              "      <td>Somewhat not open</td>\n",
              "      <td>Yes, I observed</td>\n",
              "      <td>NaN</td>\n",
              "      <td>No</td>\n",
              "      <td>No</td>\n",
              "      <td>No</td>\n",
              "      <td>NaN</td>\n",
              "      <td>False</td>\n",
              "      <td>48.0</td>\n",
              "      <td>m</td>\n",
              "      <td>United States of America</td>\n",
              "      <td>Louisiana</td>\n",
              "      <td>United States of America</td>\n",
              "      <td>Louisiana</td>\n",
              "      <td>2019</td>\n",
              "      <td>male</td>\n",
              "      <td>(40, 50]</td>\n",
              "    </tr>\n",
              "    <tr>\n",
              "      <th>2955</th>\n",
              "      <td>True</td>\n",
              "      <td>NaN</td>\n",
              "      <td>NaN</td>\n",
              "      <td>NaN</td>\n",
              "      <td>NaN</td>\n",
              "      <td>NaN</td>\n",
              "      <td>NaN</td>\n",
              "      <td>NaN</td>\n",
              "      <td>NaN</td>\n",
              "      <td>Not applicable to me</td>\n",
              "      <td>Not applicable to me</td>\n",
              "      <td>Unsure</td>\n",
              "      <td>NaN</td>\n",
              "      <td>Yes</td>\n",
              "      <td>No</td>\n",
              "      <td>Very open</td>\n",
              "      <td>I've always been self-employed</td>\n",
              "      <td>NaN</td>\n",
              "      <td>No</td>\n",
              "      <td>No</td>\n",
              "      <td>No</td>\n",
              "      <td>NaN</td>\n",
              "      <td>False</td>\n",
              "      <td>50.0</td>\n",
              "      <td>M</td>\n",
              "      <td>India</td>\n",
              "      <td>NaN</td>\n",
              "      <td>India</td>\n",
              "      <td>NaN</td>\n",
              "      <td>2019</td>\n",
              "      <td>male</td>\n",
              "      <td>(40, 50]</td>\n",
              "    </tr>\n",
              "    <tr>\n",
              "      <th>2956</th>\n",
              "      <td>False</td>\n",
              "      <td>More than 1000</td>\n",
              "      <td>True</td>\n",
              "      <td>True</td>\n",
              "      <td>No</td>\n",
              "      <td>Yes</td>\n",
              "      <td>Difficult</td>\n",
              "      <td>Maybe</td>\n",
              "      <td>No</td>\n",
              "      <td>NaN</td>\n",
              "      <td>NaN</td>\n",
              "      <td>NaN</td>\n",
              "      <td>NaN</td>\n",
              "      <td>No</td>\n",
              "      <td>No</td>\n",
              "      <td>Somewhat not open</td>\n",
              "      <td>Maybe/Not sure</td>\n",
              "      <td>Yes</td>\n",
              "      <td>No</td>\n",
              "      <td>No</td>\n",
              "      <td>Maybe</td>\n",
              "      <td>NaN</td>\n",
              "      <td>False</td>\n",
              "      <td>30.0</td>\n",
              "      <td>female</td>\n",
              "      <td>India</td>\n",
              "      <td>NaN</td>\n",
              "      <td>India</td>\n",
              "      <td>NaN</td>\n",
              "      <td>2019</td>\n",
              "      <td>female</td>\n",
              "      <td>(20, 30]</td>\n",
              "    </tr>\n",
              "    <tr>\n",
              "      <th>2957</th>\n",
              "      <td>False</td>\n",
              "      <td>More than 1000</td>\n",
              "      <td>True</td>\n",
              "      <td>True</td>\n",
              "      <td>Yes</td>\n",
              "      <td>Yes</td>\n",
              "      <td>Somewhat difficult</td>\n",
              "      <td>No</td>\n",
              "      <td>Maybe</td>\n",
              "      <td>NaN</td>\n",
              "      <td>NaN</td>\n",
              "      <td>NaN</td>\n",
              "      <td>NaN</td>\n",
              "      <td>Maybe</td>\n",
              "      <td>Yes</td>\n",
              "      <td>Very open</td>\n",
              "      <td>Maybe/Not sure</td>\n",
              "      <td>NaN</td>\n",
              "      <td>Yes</td>\n",
              "      <td>Yes</td>\n",
              "      <td>Yes</td>\n",
              "      <td>Yes</td>\n",
              "      <td>True</td>\n",
              "      <td>24.0</td>\n",
              "      <td>Female (cis)</td>\n",
              "      <td>United States of America</td>\n",
              "      <td>Oregon</td>\n",
              "      <td>United States of America</td>\n",
              "      <td>Oregon</td>\n",
              "      <td>2019</td>\n",
              "      <td>female</td>\n",
              "      <td>(20, 30]</td>\n",
              "    </tr>\n",
              "  </tbody>\n",
              "</table>\n",
              "<p>2958 rows × 32 columns</p>\n",
              "</div>"
            ],
            "text/plain": [
              "      self_employeed    company_size  ... gender_cleaned age_range\n",
              "0              False          26-100  ...           male  (30, 40]\n",
              "1              False            6-25  ...           male  (20, 30]\n",
              "2              False            6-25  ...           male  (30, 40]\n",
              "3               True             NaN  ...           male  (40, 50]\n",
              "4              False            6-25  ...         female  (40, 50]\n",
              "...              ...             ...  ...            ...       ...\n",
              "2953           False  More than 1000  ...           male  (20, 30]\n",
              "2954            True             NaN  ...           male  (40, 50]\n",
              "2955            True             NaN  ...           male  (40, 50]\n",
              "2956           False  More than 1000  ...         female  (20, 30]\n",
              "2957           False  More than 1000  ...         female  (20, 30]\n",
              "\n",
              "[2958 rows x 32 columns]"
            ]
          },
          "metadata": {},
          "execution_count": 23
        }
      ]
    },
    {
      "cell_type": "markdown",
      "metadata": {
        "id": "QF-Xx5fCoEw-"
      },
      "source": [
        "Gender Pivot Tables"
      ]
    },
    {
      "cell_type": "code",
      "metadata": {
        "colab": {
          "base_uri": "https://localhost:8080/"
        },
        "id": "z0ckozG2mT5i",
        "outputId": "3324eb2a-f792-4649-f23d-6870b9fb2fa9"
      },
      "source": [
        "discussionSup = cd.pivot_table(index = \"gender_cleaned\", columns = \"disc_mh_supervisor\", aggfunc = \"size\")\n",
        "discussionSup[\"Sum\"] = discussionSup.sum(axis = 1)\n",
        "print(discussionSup, \"\\n\")\n",
        "\n",
        "discussionSup_props = discussionSup.loc[:, \"Maybe\":\"Yes\"].div(discussionSup[\"Sum\"], axis = 0).reindex(columns = [\"No\", \"Maybe\", \"Yes\"])\n",
        "print(discussionSup_props, \"\\n\")\n",
        "\n",
        "discussionCo = cd.pivot_table(index = \"gender_cleaned\", columns = \"disc_mh_coworker\", aggfunc = \"size\")\n",
        "discussionCo[\"Sum\"] = discussionCo.sum(axis = 1)\n",
        "print(discussionCo, \"\\n\")\n",
        "\n",
        "discussionCo_props = discussionCo.loc[:, \"Maybe\":\"Yes\"].div(discussionCo[\"Sum\"], axis = 0).reindex(columns = [\"No\", \"Maybe\", \"Yes\"])\n",
        "print(discussionCo_props, \"\\n\")"
      ],
      "execution_count": 10,
      "outputs": [
        {
          "output_type": "stream",
          "name": "stdout",
          "text": [
            "disc_mh_supervisor  Maybe   No  Yes  Sum\n",
            "gender_cleaned                          \n",
            "female                126  130  139  395\n",
            "male                  285  225  343  853\n",
            "other                  15   10   11   36\n",
            "transgender             1    3    5    9 \n",
            "\n",
            "disc_mh_supervisor        No     Maybe       Yes\n",
            "gender_cleaned                                  \n",
            "female              0.329114  0.318987  0.351899\n",
            "male                0.263775  0.334115  0.402110\n",
            "other               0.277778  0.416667  0.305556\n",
            "transgender         0.333333  0.111111  0.555556 \n",
            "\n",
            "disc_mh_coworker  Maybe   No  Yes  Sum\n",
            "gender_cleaned                        \n",
            "female              171   97  127  395\n",
            "male                381  214  258  853\n",
            "other                13   10   13   36\n",
            "transgender           5    2    2    9 \n",
            "\n",
            "disc_mh_coworker        No     Maybe       Yes\n",
            "gender_cleaned                                \n",
            "female            0.245570  0.432911  0.321519\n",
            "male              0.250879  0.446659  0.302462\n",
            "other             0.277778  0.361111  0.361111\n",
            "transgender       0.222222  0.555556  0.222222 \n",
            "\n"
          ]
        }
      ]
    },
    {
      "cell_type": "markdown",
      "metadata": {
        "id": "v5k_NLiRpSgh"
      },
      "source": [
        "Gender Plots"
      ]
    },
    {
      "cell_type": "code",
      "metadata": {
        "colab": {
          "base_uri": "https://localhost:8080/",
          "height": 365
        },
        "id": "aXj_7-yaoMNl",
        "outputId": "811ee75d-129b-4694-9dd7-c449a23bd20e"
      },
      "source": [
        "print(\"Supervisor:\")\n",
        "discussionSup_props.plot(kind = \"bar\", stacked = True)"
      ],
      "execution_count": 13,
      "outputs": [
        {
          "output_type": "stream",
          "name": "stdout",
          "text": [
            "Supervisor:\n"
          ]
        },
        {
          "output_type": "execute_result",
          "data": {
            "text/plain": [
              "<matplotlib.axes._subplots.AxesSubplot at 0x7fe44d17b310>"
            ]
          },
          "metadata": {},
          "execution_count": 13
        },
        {
          "output_type": "display_data",
          "data": {
            "image/png": "[encoded data removed]",
            "text/plain": [
              "<Figure size 432x288 with 1 Axes>"
            ]
          },
          "metadata": {
            "needs_background": "light"
          }
        }
      ]
    },
    {
      "cell_type": "code",
      "metadata": {
        "colab": {
          "base_uri": "https://localhost:8080/",
          "height": 365
        },
        "id": "-VUdsU5qpKJR",
        "outputId": "83961b59-d3e2-4708-e495-f60a28371d94"
      },
      "source": [
        "print(\"Coworker:\")\n",
        "discussionCo_props.plot(kind = \"bar\", stacked = True)"
      ],
      "execution_count": 14,
      "outputs": [
        {
          "output_type": "stream",
          "name": "stdout",
          "text": [
            "Coworker:\n"
          ]
        },
        {
          "output_type": "execute_result",
          "data": {
            "text/plain": [
              "<matplotlib.axes._subplots.AxesSubplot at 0x7fe44d10d0d0>"
            ]
          },
          "metadata": {},
          "execution_count": 14
        },
        {
          "output_type": "display_data",
          "data": {
            "image/png": "[encoded data removed]",
            "text/plain": [
              "<Figure size 432x288 with 1 Axes>"
            ]
          },
          "metadata": {
            "needs_background": "light"
          }
        }
      ]
    },
    {
      "cell_type": "markdown",
      "metadata": {
        "id": "oWv1uJ3ErMZz"
      },
      "source": [
        "Age Pivot Tables"
      ]
    },
    {
      "cell_type": "code",
      "metadata": {
        "colab": {
          "base_uri": "https://localhost:8080/"
        },
        "id": "ePvrYSherT6d",
        "outputId": "cf4a61d7-d6e7-40fb-8979-412276abbfc9"
      },
      "source": [
        "discussionSupAge = cd.pivot_table(index = \"age_range\", columns = \"disc_mh_supervisor\", aggfunc = \"size\")\n",
        "discussionSupAge[\"Sum\"] = discussionSupAge.sum(axis = 1)\n",
        "print(discussionSupAge, \"\\n\")\n",
        "\n",
        "discussionSupAge_props = discussionSupAge.loc[:, \"Maybe\":\"Yes\"].div(discussionSupAge[\"Sum\"], axis = 0).reindex(columns = [\"No\", \"Maybe\", \"Yes\"])\n",
        "print(discussionSupAge_props, \"\\n\")\n",
        "\n",
        "discussionCoAge = cd.pivot_table(index = \"age_range\", columns = \"disc_mh_coworker\", aggfunc = \"size\")\n",
        "discussionCoAge[\"Sum\"] = discussionCoAge.sum(axis = 1)\n",
        "print(discussionCoAge, \"\\n\")\n",
        "\n",
        "discussionCoAge_props = discussionCoAge.loc[:, \"Maybe\":\"Yes\"].div(discussionCoAge[\"Sum\"], axis = 0).reindex(columns = [\"No\", \"Maybe\", \"Yes\"])\n",
        "print(discussionCoAge_props, \"\\n\")"
      ],
      "execution_count": 24,
      "outputs": [
        {
          "output_type": "stream",
          "name": "stdout",
          "text": [
            "disc_mh_supervisor  Maybe   No  Yes  Sum\n",
            "age_range                               \n",
            "(0, 20]                 5    3    2   10\n",
            "(20, 30]              153  134  164  451\n",
            "(30, 40]              189  136  235  560\n",
            "(40, 50]               68   81   84  233\n",
            "(50, 60]               16   11   17   44\n",
            "(60, 100]               2    6    1    9 \n",
            "\n",
            "disc_mh_supervisor        No     Maybe       Yes\n",
            "age_range                                       \n",
            "(0, 20]             0.300000  0.500000  0.200000\n",
            "(20, 30]            0.297118  0.339246  0.363636\n",
            "(30, 40]            0.242857  0.337500  0.419643\n",
            "(40, 50]            0.347639  0.291845  0.360515\n",
            "(50, 60]            0.250000  0.363636  0.386364\n",
            "(60, 100]           0.666667  0.222222  0.111111 \n",
            "\n",
            "disc_mh_coworker  Maybe   No  Yes  Sum\n",
            "age_range                             \n",
            "(0, 20]               3    4    3   10\n",
            "(20, 30]            189  119  143  451\n",
            "(30, 40]            260  117  183  560\n",
            "(40, 50]             94   70   69  233\n",
            "(50, 60]             23   12    9   44\n",
            "(60, 100]             4    5    0    9 \n",
            "\n",
            "disc_mh_coworker        No     Maybe       Yes\n",
            "age_range                                     \n",
            "(0, 20]           0.400000  0.300000  0.300000\n",
            "(20, 30]          0.263858  0.419069  0.317073\n",
            "(30, 40]          0.208929  0.464286  0.326786\n",
            "(40, 50]          0.300429  0.403433  0.296137\n",
            "(50, 60]          0.272727  0.522727  0.204545\n",
            "(60, 100]         0.555556  0.444444  0.000000 \n",
            "\n"
          ]
        }
      ]
    },
    {
      "cell_type": "code",
      "metadata": {
        "colab": {
          "base_uri": "https://localhost:8080/",
          "height": 349
        },
        "id": "lBTI3uA9tlwV",
        "outputId": "d10e3832-5c63-49bb-e5e6-473653d4a77a"
      },
      "source": [
        "print(\"Supervisor:\")\n",
        "discussionCoAge_props.plot(kind = \"bar\", stacked = True)"
      ],
      "execution_count": 27,
      "outputs": [
        {
          "output_type": "stream",
          "name": "stdout",
          "text": [
            "Supervisor:\n"
          ]
        },
        {
          "output_type": "execute_result",
          "data": {
            "text/plain": [
              "<matplotlib.axes._subplots.AxesSubplot at 0x7fe44d19a410>"
            ]
          },
          "metadata": {},
          "execution_count": 27
        },
        {
          "output_type": "display_data",
          "data": {
            "image/png": "[encoded data removed]",
            "text/plain": [
              "<Figure size 432x288 with 1 Axes>"
            ]
          },
          "metadata": {
            "needs_background": "light"
          }
        }
      ]
    },
    {
      "cell_type": "code",
      "metadata": {
        "colab": {
          "base_uri": "https://localhost:8080/",
          "height": 349
        },
        "id": "n25_mcQ7tLBk",
        "outputId": "ec3eec11-62cc-4242-9465-2910778a3c4e"
      },
      "source": [
        "print(\"Coworker:\")\n",
        "discussionCoAge_props.plot(kind = \"bar\", stacked = True)"
      ],
      "execution_count": 26,
      "outputs": [
        {
          "output_type": "stream",
          "name": "stdout",
          "text": [
            "Coworker:\n"
          ]
        },
        {
          "output_type": "execute_result",
          "data": {
            "text/plain": [
              "<matplotlib.axes._subplots.AxesSubplot at 0x7fe44d0a3250>"
            ]
          },
          "metadata": {},
          "execution_count": 26
        },
        {
          "output_type": "display_data",
          "data": {
            "image/png": "[encoded data removed]",
            "text/plain": [
              "<Figure size 432x288 with 1 Axes>"
            ]
          },
          "metadata": {
            "needs_background": "light"
          }
        }
      ]
    },
    {
      "cell_type": "markdown",
      "metadata": {
        "id": "Q2T7cPfBpyKg"
      },
      "source": [
        "Hypothesis Testing"
      ]
    },
    {
      "cell_type": "markdown",
      "metadata": {
        "id": "CzzFwtZmqFAk"
      },
      "source": [
        "ACROSS ALL:\n",
        "\n",
        "H_0: The proportion of people who would feel comfortable talking about mental health with a supervisor is equal to the proportion of people who would feel comfortable talking about mental health with a coworker. \n",
        "\n",
        "H_A: The proportion of people who would feel comfortable talking about mental health with a supervisor is not equal to the proportion of people who would feel comfortable talking about mental health with a coworker.\n",
        "\n",
        "\n",
        "ACROSS GENDER (SUPERVISOR):\n",
        "\n",
        "H_0: The proportion of men who would feel comfortable talking about mental health with a supervisor is equal to the proportion of women who would feel comfortable talking about mental health with a supervisor.\n",
        "\n",
        "H_A: The proportion of men who would feel comfortable talking about mental health with a supervisor is not equal to the proportion of women who would feel comfortable talking about mental health with a supervisor.\n",
        "\n",
        "\n",
        "ACROSS GENDER (COWORKER):\n",
        "\n",
        "H_0: The proportion of men who would feel comfortable talking about mental health with a coworker is equal to the proportion of women who would feel comfortable talking about mental health with a coworker.\n",
        "\n",
        "H_A: The proportion of men who would feel comfortable talking about mental health with a coworker is not equal to the proportion of women who would feel comfortable talking about mental health with a coworker."
      ]
    }
  ]
}