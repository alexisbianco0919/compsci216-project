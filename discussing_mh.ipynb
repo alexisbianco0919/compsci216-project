{
  "nbformat": 4,
  "nbformat_minor": 0,
  "metadata": {
    "colab": {
      "name": "discussing_mh",
      "provenance": [],
      "collapsed_sections": [],
      "authorship_tag": "ABX9TyPKWH13wbdpelyIeUjN61gk",
      "include_colab_link": true
    },
    "kernelspec": {
      "name": "python3",
      "display_name": "Python 3"
    },
    "language_info": {
      "name": "python"
    }
  },
  "cells": [
    {
      "cell_type": "markdown",
      "metadata": {
        "id": "view-in-github",
        "colab_type": "text"
      },
      "source": [
        "<a href=\"https://colab.research.google.com/github/alexisbianco0919/compsci216-project/blob/main/discussing_mh.ipynb\" target=\"_parent\"><img src=\"https://colab.research.google.com/assets/colab-badge.svg\" alt=\"Open In Colab\"/></a>"
      ]
    },
    {
      "cell_type": "markdown",
      "source": [
        "Hypothesis Testing for Discussing Mental Health with Coworkers vs. Supervisors"
      ],
      "metadata": {
        "id": "GIOzmiEMgiGf"
      }
    },
    {
      "cell_type": "code",
      "source": [
        "# import needed libraries\n",
        "import pandas as pd\n",
        "import numpy as np\n",
        "import re\n",
        "import seaborn as sns\n",
        "# sns.set_palette(\"Blues_r\")\n",
        "# sns.color_palette(\"Blues\", as_cmap=True)\n",
        "# sns.color_palette(\"ch:start=.2,rot=-.3\", as_cmap=True)\n",
        "\n",
        "sns.set_palette(palette = \"Blues_r\", n_colors = 3)\n",
        "\n",
        "from scipy import stats"
      ],
      "metadata": {
        "id": "7eYUrK21gtbn"
      },
      "execution_count": 2,
      "outputs": []
    },
    {
      "cell_type": "code",
      "source": [
        "# download data from merged_data.csv\n",
        "mh = pd.read_csv('https://raw.githubusercontent.com/alexisbianco0919/compsci216-project/main/clean_data_4.csv')\n",
        "mh['age_range'] = pd.cut(mh['age'], [0, 20, 30, 40, 50, 60, 100])\n",
        "\n",
        "# print coworker values and supervisor values\n",
        "print(mh[\"disc_mh_coworker\"].value_counts(), \"\\n\")\n",
        "print(mh[\"disc_mh_supervisor\"].value_counts(), \"\\n\")\n",
        "\n",
        "# graphing the two variables\n",
        "# print(\"disc_mh_coworker: \")\n",
        "mh[\"disc_mh_coworker\"].value_counts().plot(kind = \"bar\")\n",
        "print(\"disc_mh_coworker\")\n"
      ],
      "metadata": {
        "colab": {
          "base_uri": "https://localhost:8080/",
          "height": 482
        },
        "id": "napf6rgwgxdV",
        "outputId": "06bea1f7-4db0-409d-cf13-1a150de366d8"
      },
      "execution_count": 9,
      "outputs": [
        {
          "output_type": "stream",
          "name": "stdout",
          "text": [
            "Maybe    574\n",
            "Yes      407\n",
            "No       327\n",
            "Name: disc_mh_coworker, dtype: int64 \n",
            "\n",
            "Yes      504\n",
            "Maybe    433\n",
            "No       371\n",
            "Name: disc_mh_supervisor, dtype: int64 \n",
            "\n",
            "disc_mh_coworker\n"
          ]
        },
        {
          "output_type": "display_data",
          "data": {
            "image/png": "[encoded data removed]",
            "text/plain": [
              "<Figure size 432x288 with 1 Axes>"
            ]
          },
          "metadata": {
            "needs_background": "light"
          }
        }
      ]
    },
    {
      "cell_type": "code",
      "source": [
        "mh[\"disc_mh_supervisor\"].value_counts().plot(kind = \"bar\")\n",
        "print(\"disc_mh_supervisor\")"
      ],
      "metadata": {
        "id": "xkZkYc2vXP7h",
        "outputId": "e1a983a2-94ee-46f6-9979-5495936e0f04",
        "colab": {
          "base_uri": "https://localhost:8080/",
          "height": 305
        }
      },
      "execution_count": 10,
      "outputs": [
        {
          "output_type": "stream",
          "name": "stdout",
          "text": [
            "disc_mh_supervisor\n"
          ]
        },
        {
          "output_type": "display_data",
          "data": {
            "image/png": "[encoded data removed]",
            "text/plain": [
              "<Figure size 432x288 with 1 Axes>"
            ]
          },
          "metadata": {
            "needs_background": "light"
          }
        }
      ]
    },
    {
      "cell_type": "markdown",
      "source": [
        "Demographics -- Gender"
      ],
      "metadata": {
        "id": "W91AiZgnkZdn"
      }
    },
    {
      "cell_type": "code",
      "source": [
        "# grouping by gender\n",
        "gender_count_co = mh.pivot_table(index = \"gender_cleaned\", columns = \"disc_mh_coworker\", aggfunc = \"size\")\n",
        "gender_count_co[\"sum\"] = gender_count_co.sum(axis = 1)\n",
        "print(gender_count_co, \"\\n\")\n",
        "\n",
        "gender_count_sup = mh.pivot_table(index = \"gender_cleaned\", columns = \"disc_mh_supervisor\", aggfunc = \"size\")\n",
        "gender_count_sup[\"sum\"] = gender_count_sup.sum(axis = 1)\n",
        "print(gender_count_sup, \"\\n\")\n",
        "\n",
        "# proportions of groupings by gender\n",
        "gender_prop_co = gender_count_co.loc[:, \"Maybe\":\"Yes\"].div(gender_count_co[\"sum\"], axis = 0)\n",
        "gender_prop_co = gender_prop_co.reindex(columns = [\"No\", \"Maybe\", \"Yes\"])\n",
        "print(gender_prop_co, \"\\n\")\n",
        "\n",
        "gender_prop_sup = gender_count_sup.loc[:, \"Maybe\":\"Yes\"].div(gender_count_sup[\"sum\"], axis = 0)\n",
        "gender_prop_sup = gender_prop_sup.reindex(columns = [\"No\", \"Maybe\", \"Yes\"])\n",
        "print(gender_prop_sup, \"\\n\")\n",
        "\n",
        "# plotting the aggregations\n",
        "gender_prop_co.plot(kind = \"bar\")\n",
        "print(\"\\n\")\n",
        "gender_prop_sup.plot(kind = \"bar\")\n",
        "print(\"\\n\")\n"
      ],
      "metadata": {
        "colab": {
          "base_uri": "https://localhost:8080/",
          "height": 1000
        },
        "id": "BilpIEuekYJ0",
        "outputId": "1e479094-6adc-4151-8a4e-ff2042ad3796"
      },
      "execution_count": null,
      "outputs": [
        {
          "output_type": "stream",
          "name": "stdout",
          "text": [
            "disc_mh_coworker  Maybe   No  Yes  sum\n",
            "gender_cleaned                        \n",
            "female              171   97  127  395\n",
            "male                381  214  258  853\n",
            "other                13   10   13   36\n",
            "transgender           5    2    2    9 \n",
            "\n",
            "disc_mh_supervisor  Maybe   No  Yes  sum\n",
            "gender_cleaned                          \n",
            "female                126  130  139  395\n",
            "male                  285  225  343  853\n",
            "other                  15   10   11   36\n",
            "transgender             1    3    5    9 \n",
            "\n",
            "disc_mh_coworker        No     Maybe       Yes\n",
            "gender_cleaned                                \n",
            "female            0.245570  0.432911  0.321519\n",
            "male              0.250879  0.446659  0.302462\n",
            "other             0.277778  0.361111  0.361111\n",
            "transgender       0.222222  0.555556  0.222222 \n",
            "\n",
            "disc_mh_supervisor        No     Maybe       Yes\n",
            "gender_cleaned                                  \n",
            "female              0.329114  0.318987  0.351899\n",
            "male                0.263775  0.334115  0.402110\n",
            "other               0.277778  0.416667  0.305556\n",
            "transgender         0.333333  0.111111  0.555556 \n",
            "\n",
            "\n",
            "\n",
            "\n",
            "\n"
          ]
        },
        {
          "output_type": "display_data",
          "data": {
            "image/png": "[encoded data removed]",
            "text/plain": [
              "<Figure size 432x288 with 1 Axes>"
            ]
          },
          "metadata": {
            "needs_background": "light"
          }
        },
        {
          "output_type": "display_data",
          "data": {
            "image/png": "[encoded data removed]",
            "text/plain": [
              "<Figure size 432x288 with 1 Axes>"
            ]
          },
          "metadata": {
            "needs_background": "light"
          }
        }
      ]
    },
    {
      "cell_type": "markdown",
      "source": [
        "Demographics -- Age"
      ],
      "metadata": {
        "id": "_LMcyo5LqQqN"
      }
    },
    {
      "cell_type": "code",
      "source": [
        "# grouping by age range\n",
        "age_count_co = mh.pivot_table(index = \"age_range\", columns = \"disc_mh_coworker\", aggfunc = \"size\")\n",
        "age_count_co[\"sum\"] = age_count_co.sum(axis = 1)\n",
        "print(age_count_co, \"\\n\")\n",
        "\n",
        "age_count_sup = mh.pivot_table(index = \"age_range\", columns = \"disc_mh_supervisor\", aggfunc = \"size\")\n",
        "age_count_sup[\"sum\"] = age_count_co.sum(axis = 1)\n",
        "print(age_count_sup, \"\\n\")\n",
        "\n",
        "# proportions of groupings by age range\n",
        "age_prop_co = age_count_co.loc[:, \"Maybe\":\"Yes\"].div(age_count_co[\"sum\"], axis = 0)\n",
        "age_prop_co = age_prop_co.reindex(columns = [\"No\", \"Maybe\", \"Yes\"])\n",
        "print(age_prop_co, \"\\n\")\n",
        "\n",
        "age_prop_sup = age_count_sup.loc[:, \"Maybe\":\"Yes\"].div(age_count_sup[\"sum\"], axis = 0)\n",
        "age_prop_sup = age_prop_sup.reindex(columns = [\"No\", \"Maybe\", \"Yes\"])\n",
        "print(age_prop_sup, \"\\n\")\n",
        "\n",
        "# plotting the aggregations\n",
        "age_prop_co.plot(kind = \"bar\")\n",
        "print(\"\\n\")\n",
        "age_prop_sup.plot(kind = \"bar\")\n",
        "print(\"\\n\")\n"
      ],
      "metadata": {
        "colab": {
          "base_uri": "https://localhost:8080/",
          "height": 1000
        },
        "id": "zm2JGccykqWz",
        "outputId": "babede81-60d2-40fb-87a4-b44bda93b161"
      },
      "execution_count": null,
      "outputs": [
        {
          "output_type": "stream",
          "name": "stdout",
          "text": [
            "disc_mh_coworker  Maybe   No  Yes  sum\n",
            "age_range                             \n",
            "(0, 20]               3    4    3   10\n",
            "(20, 30]            189  119  143  451\n",
            "(30, 40]            260  117  183  560\n",
            "(40, 50]             94   70   69  233\n",
            "(50, 60]             23   12    9   44\n",
            "(60, 100]             4    5    0    9 \n",
            "\n",
            "disc_mh_supervisor  Maybe   No  Yes   sum\n",
            "age_range                                \n",
            "(0, 20]                 5    3    2    20\n",
            "(20, 30]              153  134  164   902\n",
            "(30, 40]              189  136  235  1120\n",
            "(40, 50]               68   81   84   466\n",
            "(50, 60]               16   11   17    88\n",
            "(60, 100]               2    6    1    18 \n",
            "\n",
            "disc_mh_coworker        No     Maybe       Yes\n",
            "age_range                                     \n",
            "(0, 20]           0.400000  0.300000  0.300000\n",
            "(20, 30]          0.263858  0.419069  0.317073\n",
            "(30, 40]          0.208929  0.464286  0.326786\n",
            "(40, 50]          0.300429  0.403433  0.296137\n",
            "(50, 60]          0.272727  0.522727  0.204545\n",
            "(60, 100]         0.555556  0.444444  0.000000 \n",
            "\n",
            "disc_mh_supervisor        No     Maybe       Yes\n",
            "age_range                                       \n",
            "(0, 20]             0.150000  0.250000  0.100000\n",
            "(20, 30]            0.148559  0.169623  0.181818\n",
            "(30, 40]            0.121429  0.168750  0.209821\n",
            "(40, 50]            0.173820  0.145923  0.180258\n",
            "(50, 60]            0.125000  0.181818  0.193182\n",
            "(60, 100]           0.333333  0.111111  0.055556 \n",
            "\n",
            "\n",
            "\n",
            "\n",
            "\n"
          ]
        },
        {
          "output_type": "display_data",
          "data": {
            "image/png": "[encoded data removed]",
            "text/plain": [
              "<Figure size 432x288 with 1 Axes>"
            ]
          },
          "metadata": {
            "needs_background": "light"
          }
        },
        {
          "output_type": "display_data",
          "data": {
            "image/png": "[encoded data removed]",
            "text/plain": [
              "<Figure size 432x288 with 1 Axes>"
            ]
          },
          "metadata": {
            "needs_background": "light"
          }
        }
      ]
    },
    {
      "cell_type": "markdown",
      "source": [
        "Demographics -- Company Size"
      ],
      "metadata": {
        "id": "0pzChIXEsRp0"
      }
    },
    {
      "cell_type": "code",
      "source": [
        "# grouping by company size\n",
        "cosize_count_co = mh.pivot_table(index = \"company_size\", columns = \"disc_mh_coworker\", aggfunc = \"size\")\n",
        "cosize_count_co[\"sum\"] = cosize_count_co.sum(axis = 1)\n",
        "print(cosize_count_co, \"\\n\")\n",
        "\n",
        "cosize_count_sup = mh.pivot_table(index = \"company_size\", columns = \"disc_mh_supervisor\", aggfunc = \"size\")\n",
        "cosize_count_sup[\"sum\"] = cosize_count_co.sum(axis = 1)\n",
        "print(cosize_count_sup, \"\\n\")\n",
        "\n",
        "# proportions of groupings by company size\n",
        "cosize_prop_co = cosize_count_co.loc[:, \"Maybe\":\"Yes\"].div(cosize_count_co[\"sum\"], axis = 0)\n",
        "cosize_prop_co = cosize_prop_co.reindex(columns = [\"No\", \"Maybe\", \"Yes\"])\n",
        "print(cosize_prop_co, \"\\n\")\n",
        "\n",
        "cosize_prop_sup = cosize_count_sup.loc[:, \"Maybe\":\"Yes\"].div(cosize_count_sup[\"sum\"], axis = 0)\n",
        "cosize_prop_sup = cosize_prop_sup.reindex(columns = [\"No\", \"Maybe\", \"Yes\"])\n",
        "print(cosize_prop_sup, \"\\n\")\n",
        "\n",
        "# plotting the aggregations\n",
        "cosize_prop_co.plot(kind = \"bar\")\n",
        "print(\"\\n\")\n",
        "cosize_prop_sup.plot(kind = \"bar\")\n",
        "print(\"\\n\")"
      ],
      "metadata": {
        "colab": {
          "base_uri": "https://localhost:8080/",
          "height": 1000
        },
        "id": "MDLssk_bsQBo",
        "outputId": "2c9d3948-67ea-48a4-de63-cacab442c8e1"
      },
      "execution_count": null,
      "outputs": [
        {
          "output_type": "stream",
          "name": "stdout",
          "text": [
            "disc_mh_coworker  Maybe   No  Yes  sum\n",
            "company_size                          \n",
            "1-5                  18    8    6   32\n",
            "100-500             159   71  134  364\n",
            "26-100              113   52   78  243\n",
            "500-1000             42   27   37  106\n",
            "6-25                 85   43   61  189\n",
            "More than 1000      157  126   91  374 \n",
            "\n",
            "disc_mh_supervisor  Maybe   No  Yes  sum\n",
            "company_size                            \n",
            "1-5                    14    8   10   64\n",
            "100-500               123   95  146  728\n",
            "26-100                 86   61   96  486\n",
            "500-1000               29   31   46  212\n",
            "6-25                   59   48   82  378\n",
            "More than 1000        122  128  124  748 \n",
            "\n",
            "disc_mh_coworker        No     Maybe       Yes\n",
            "company_size                                  \n",
            "1-5               0.250000  0.562500  0.187500\n",
            "100-500           0.195055  0.436813  0.368132\n",
            "26-100            0.213992  0.465021  0.320988\n",
            "500-1000          0.254717  0.396226  0.349057\n",
            "6-25              0.227513  0.449735  0.322751\n",
            "More than 1000    0.336898  0.419786  0.243316 \n",
            "\n",
            "disc_mh_supervisor        No     Maybe       Yes\n",
            "company_size                                    \n",
            "1-5                 0.125000  0.218750  0.156250\n",
            "100-500             0.130495  0.168956  0.200549\n",
            "26-100              0.125514  0.176955  0.197531\n",
            "500-1000            0.146226  0.136792  0.216981\n",
            "6-25                0.126984  0.156085  0.216931\n",
            "More than 1000      0.171123  0.163102  0.165775 \n",
            "\n",
            "\n",
            "\n",
            "\n",
            "\n"
          ]
        },
        {
          "output_type": "display_data",
          "data": {
            "image/png": "[encoded data removed]",
            "text/plain": [
              "<Figure size 432x288 with 1 Axes>"
            ]
          },
          "metadata": {
            "needs_background": "light"
          }
        },
        {
          "output_type": "display_data",
          "data": {
            "image/png": "[encoded data removed]",
            "text/plain": [
              "<Figure size 432x288 with 1 Axes>"
            ]
          },
          "metadata": {
            "needs_background": "light"
          }
        }
      ]
    },
    {
      "cell_type": "markdown",
      "source": [
        "**Hypothesis Testing -- Variable Comparison**"
      ],
      "metadata": {
        "id": "d8vMh96i5qty"
      }
    },
    {
      "cell_type": "code",
      "source": [
        "# means and standard deviations\n",
        "co_sum = 407 + 327 + 574\n",
        "sup_sum = 504 + 433 + 371\n",
        "\n",
        "mu_co = 407.0 / co_sum # yes\n",
        "mu_sup = 504.0 / sup_sum # yes\n",
        "\n",
        "sigma_co = ((((1 - mu_co)**2) * 407 + ((0 - mu_co)**2) * (co_sum - 407)) / (co_sum))**0.5\n",
        "sigma_sup = ((((1 - mu_sup)**2) * 504 + ((0 - mu_sup)**2) * (sup_sum - 127)) / (sup_sum))**0.5\n",
        "\n",
        "print(\"mu_co: \", mu_co)\n",
        "print(\"mu_sup: \", mu_sup)\n",
        "print(\"sigma_co: \", sigma_co)\n",
        "print(\"sigma_sup: \", sigma_sup, \" \\n\")\n",
        "\n",
        "# confidence interval\n",
        "print(\"Coworker CI: \", stats.norm.interval(alpha = 0.95, loc = mu_co, scale = sigma_co / np.sqrt(co_sum)))\n",
        "print(\"Supervisor CI: \", stats.norm.interval(alpha = 0.95, loc = mu_sup, scale = sigma_sup / np.sqrt(co_sum)))\n",
        "\n",
        "# testing to see if different\n",
        "test = stats.ttest_ind_from_stats(mean1 = mu_co, std1 = sigma_co, nobs1 = co_sum,\n",
        "                                  mean2 = mu_sup, std2 = sigma_sup, nobs2 = sup_sum)\n",
        "print(test)\n"
      ],
      "metadata": {
        "colab": {
          "base_uri": "https://localhost:8080/"
        },
        "id": "ldNIRe2d5veF",
        "outputId": "601981f3-5977-4b0f-8da4-6d5c70fe7d4f"
      },
      "execution_count": null,
      "outputs": [
        {
          "output_type": "stream",
          "name": "stdout",
          "text": [
            "mu_co:  0.31116207951070335\n",
            "mu_sup:  0.3853211009174312\n",
            "sigma_co:  0.46296894041099357\n",
            "sigma_sup:  0.528812241146812  \n",
            "\n",
            "Coworker CI:  (0.2860723444611473, 0.3362518145602594)\n",
            "Supervisor CI:  (0.35666311144289503, 0.4139790903919674)\n",
            "Ttest_indResult(statistic=-3.8160321497876533, pvalue=0.0001387593789718933)\n"
          ]
        }
      ]
    },
    {
      "cell_type": "markdown",
      "source": [
        "Since p = 0.0001 * 2 < alpha = 0.05, we reject the null hypothesis. There is enough evidence to suggest that the proportions of those who would discuss mental health with coworkers is differnt from the proportions of those who would discuss menatl health with supervisors. \n",
        "\n",
        "This is also evidenced by the confidence intervals, as there is no overlap between either of the bounds. Since the confidence interval for the supervisors has a higher lower bound than the upper bound of the coworker's confidence interval, it can be assumed (alongside the H_0 rejection) that people are more likely to discuss mental health with their supervisor than their coworkers. \n",
        "\n"
      ],
      "metadata": {
        "id": "foXjxxQj9MGz"
      }
    },
    {
      "cell_type": "markdown",
      "source": [
        "**Hypothesis Testing -- Gender**"
      ],
      "metadata": {
        "id": "yx0CRV_2tJq-"
      }
    },
    {
      "cell_type": "markdown",
      "source": [
        "H_0: The proportion of men who would discuss mental health concerns to their coworkers is the same as the proportion of women who would discuss mental health concerns to their coworkers.\n",
        "\n",
        "H_A: The proportion of men who would disucss mental health concerns to their coworkers is different from the proportion of women who would discuss mental health concerns to their coworkers.\n",
        "\n",
        "Two-sided test\n"
      ],
      "metadata": {
        "id": "m_oGp3o9tOrl"
      }
    },
    {
      "cell_type": "code",
      "source": [
        "# means and standard deviations\n",
        "males = mh[mh[\"gender_cleaned\"] == \"male\"]\n",
        "females = mh[mh[\"gender_cleaned\"] == \"female\"]\n",
        "\n",
        "mu_male = 0.302462\n",
        "mu_female = 0.321519\n",
        "sigma_male = ((((1 - mu_male)**2) * 258 + ((0 - mu_male)**2) * (853 - 258)) / (853))**0.5\n",
        "sigma_female = ((((1 - mu_female)**2) * 127 + ((0 - mu_female)**2) * (395 - 127)) / (395))**0.5\n",
        "\n",
        "print(\"mu_male: \", mu_male)\n",
        "print(\"mu_female: \", mu_female)\n",
        "print(\"sigma_male: \", sigma_male)\n",
        "print(\"sigma_male: \", sigma_female, \" \\n\")\n",
        "\n",
        "# confidence interval\n",
        "print(\"Male CI Coworker: \", stats.norm.interval(alpha = 0.95, loc = mu_male, scale = sigma_male / np.sqrt(853)))\n",
        "print(\"Female CI Coworker: \", stats.norm.interval(alpha = 0.95, loc = mu_female, scale = sigma_female / np.sqrt(395)))\n",
        "\n",
        "# testing to see if different\n",
        "test = stats.ttest_ind_from_stats(mean1 = mu_male, std1 = sigma_male, nobs1 = 853,\n",
        "                                  mean2 = mu_female, std2 = sigma_female, nobs2 = 395)\n",
        "print(test)"
      ],
      "metadata": {
        "colab": {
          "base_uri": "https://localhost:8080/"
        },
        "id": "wGJE59VktN62",
        "outputId": "aa03ae67-8766-4ee8-bbd6-d30409c126b9"
      },
      "execution_count": null,
      "outputs": [
        {
          "output_type": "stream",
          "name": "stdout",
          "text": [
            "mu_male:  0.302462\n",
            "mu_female:  0.321519\n",
            "sigma_male:  0.45932417607196285\n",
            "sigma_male:  0.4670594481653204  \n",
            "\n",
            "Male CI Coworker:  (0.2716377243245285, 0.33328627567547153)\n",
            "Female CI Coworker:  (0.27545923635344755, 0.36757876364655245)\n",
            "Ttest_indResult(statistic=-0.6780805137722854, pvalue=0.4978465455875891)\n"
          ]
        }
      ]
    },
    {
      "cell_type": "markdown",
      "source": [
        "Since p = 0.4978 * 2 > alpha = 0.05, we fail to reject the null hypothesis. There is not enough evidence to suggest that the proportions of males and females who would discuss mental health with their coworkers is different."
      ],
      "metadata": {
        "id": "TE_Y1_FG3RXq"
      }
    },
    {
      "cell_type": "markdown",
      "source": [
        "H_0: The proportion of men who would discuss mental health concerns to their supervisors is the same as the proportion of women who would discuss mental health concerns to their supervisors.\n",
        "\n",
        "H_A: The proportion of men who would discuss mental health concerns to their supervisors is different from the proportion of women who would discuss mental health concerns to their supervisors.\n",
        "\n",
        "Two-sided test"
      ],
      "metadata": {
        "id": "_OjPxGDI3mic"
      }
    },
    {
      "cell_type": "code",
      "source": [
        "# means and standard deviations\n",
        "males = mh[mh[\"gender_cleaned\"] == \"male\"]\n",
        "females = mh[mh[\"gender_cleaned\"] == \"female\"]\n",
        "\n",
        "mu_male = 0.402110\n",
        "mu_female = 0.351899\n",
        "sigma_male = ((((1 - mu_male)**2) * 343 + ((0 - mu_male)**2) * (853 - 343)) / (853))**0.5\n",
        "sigma_female = ((((1 - mu_female)**2) * 139 + ((0 - mu_female)**2) * (395 - 139)) / (395))**0.5\n",
        "\n",
        "print(\"mu_male: \", mu_male)\n",
        "print(\"mu_female: \", mu_female)\n",
        "print(\"sigma_male: \", sigma_male)\n",
        "print(\"sigma_male: \", sigma_female, \" \\n\")\n",
        "\n",
        "# confidence interval\n",
        "print(\"Male CI Coworker: \", stats.norm.interval(alpha = 0.95, loc = mu_male, scale = sigma_male / np.sqrt(853)))\n",
        "print(\"Female CI Coworker: \", stats.norm.interval(alpha = 0.95, loc = mu_female, scale = sigma_female / np.sqrt(395)))\n",
        "\n",
        "# testing to see if different\n",
        "test = stats.ttest_ind_from_stats(mean1 = mu_male, std1 = sigma_male, nobs1 = 853,\n",
        "                                  mean2 = mu_female, std2 = sigma_female, nobs2 = 395)\n",
        "print(test)"
      ],
      "metadata": {
        "colab": {
          "base_uri": "https://localhost:8080/"
        },
        "id": "1Y2tU-Y639IZ",
        "outputId": "7ec7e2c9-fb59-4f7c-ab45-45fa6ba42e03"
      },
      "execution_count": null,
      "outputs": [
        {
          "output_type": "stream",
          "name": "stdout",
          "text": [
            "mu_male:  0.40211\n",
            "mu_female:  0.351899\n",
            "sigma_male:  0.4903239611912602\n",
            "sigma_male:  0.477562577116088  \n",
            "\n",
            "Male CI Coworker:  (0.36920539419566567, 0.4350146058043344)\n",
            "Female CI Coworker:  (0.30480345463674763, 0.3989945453632524)\n",
            "Ttest_indResult(statistic=1.6964386861894243, pvalue=0.09005261027380804)\n"
          ]
        }
      ]
    },
    {
      "cell_type": "markdown",
      "source": [
        "Since p = 0.0901 * 2 > alpha = 0.05, we fail to reject the null hypothesis. There is not enough evidence to suggest that the proportions of males and females who would discuss mental health with their supervisors is different."
      ],
      "metadata": {
        "id": "vitnbxRF4kxn"
      }
    }
  ]
}