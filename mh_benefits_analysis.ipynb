{
  "nbformat": 4,
  "nbformat_minor": 0,
  "metadata": {
    "colab": {
      "name": "mh_benefits_analysis.ipynb",
      "provenance": [],
      "collapsed_sections": [
        "xUcD679tAkRb"
      ],
      "authorship_tag": "ABX9TyNOjplpr++vKJOfky70T+Xd",
      "include_colab_link": true
    },
    "kernelspec": {
      "name": "python3",
      "display_name": "Python 3"
    },
    "language_info": {
      "name": "python"
    }
  },
  "cells": [
    {
      "cell_type": "markdown",
      "metadata": {
        "id": "view-in-github",
        "colab_type": "text"
      },
      "source": [
        "<a href=\"https://colab.research.google.com/github/alexisbianco0919/compsci216-project/blob/main/mh_benefits_analysis.ipynb\" target=\"_parent\"><img src=\"https://colab.research.google.com/assets/colab-badge.svg\" alt=\"Open In Colab\"/></a>"
      ]
    },
    {
      "cell_type": "markdown",
      "metadata": {
        "id": "r_1ynyO503xG"
      },
      "source": [
        "# Analysis of mh_benefits "
      ]
    },
    {
      "cell_type": "code",
      "metadata": {
        "id": "nf1YO-3y1CBx"
      },
      "source": [
        "# import needed libraries\n",
        "import pandas as pd\n",
        "import numpy as np\n",
        "import re\n",
        "import seaborn as sns"
      ],
      "execution_count": 1,
      "outputs": []
    },
    {
      "cell_type": "code",
      "metadata": {
        "colab": {
          "base_uri": "https://localhost:8080/",
          "height": 830
        },
        "id": "_Zn_55Cm37aZ",
        "outputId": "9566fe5d-c715-4438-b5fe-ad83a07863ad"
      },
      "source": [
        "# download data from merged_data.csv\n",
        "cd = pd.read_csv('https://raw.githubusercontent.com/alexisbianco0919/compsci216-project/main/clean_data_2.csv')\n",
        "\n",
        "# print column values\n",
        "print(cd['mh_benefits'].value_counts())\n",
        "print('\\n')\n",
        "\n",
        "# print year values\n",
        "print(cd['year'].value_counts())\n",
        "print('\\n')\n",
        "\n",
        "# visualize data\n",
        "cd"
      ],
      "execution_count": 26,
      "outputs": [
        {
          "output_type": "stream",
          "name": "stdout",
          "text": [
            "Yes                               1267\n",
            "I don't know                       658\n",
            "No                                 381\n",
            "Not eligible for coverage / NA     148\n",
            "Name: mh_benefits, dtype: int64\n",
            "\n",
            "\n",
            "2016    1433\n",
            "2017     756\n",
            "2018     417\n",
            "2019     352\n",
            "Name: year, dtype: int64\n",
            "\n",
            "\n"
          ]
        },
        {
          "output_type": "execute_result",
          "data": {
            "text/html": [
              "<div>\n",
              "<style scoped>\n",
              "    .dataframe tbody tr th:only-of-type {\n",
              "        vertical-align: middle;\n",
              "    }\n",
              "\n",
              "    .dataframe tbody tr th {\n",
              "        vertical-align: top;\n",
              "    }\n",
              "\n",
              "    .dataframe thead th {\n",
              "        text-align: right;\n",
              "    }\n",
              "</style>\n",
              "<table border=\"1\" class=\"dataframe\">\n",
              "  <thead>\n",
              "    <tr style=\"text-align: right;\">\n",
              "      <th></th>\n",
              "      <th>self_employeed</th>\n",
              "      <th>company_size</th>\n",
              "      <th>tech_company</th>\n",
              "      <th>tech_prole</th>\n",
              "      <th>mh_benefits</th>\n",
              "      <th>anonymity</th>\n",
              "      <th>leaving_difficulty</th>\n",
              "      <th>disc_mh_coworker</th>\n",
              "      <th>disc_mh_supervisor</th>\n",
              "      <th>reveal_mh_business</th>\n",
              "      <th>reveal_mh_coworkers</th>\n",
              "      <th>affects_productivity</th>\n",
              "      <th>productivity_percent</th>\n",
              "      <th>mention_ph_interview</th>\n",
              "      <th>mention_mh_interview</th>\n",
              "      <th>share_mh_ff</th>\n",
              "      <th>exp_unsupport</th>\n",
              "      <th>reveal_less</th>\n",
              "      <th>family_history</th>\n",
              "      <th>mh_in_past</th>\n",
              "      <th>mh_currently</th>\n",
              "      <th>mh_diagnosed</th>\n",
              "      <th>sought_treatment</th>\n",
              "      <th>age</th>\n",
              "      <th>gender</th>\n",
              "      <th>country_live</th>\n",
              "      <th>state_live</th>\n",
              "      <th>country_work</th>\n",
              "      <th>state_work</th>\n",
              "      <th>year</th>\n",
              "      <th>gender_cleaned</th>\n",
              "    </tr>\n",
              "  </thead>\n",
              "  <tbody>\n",
              "    <tr>\n",
              "      <th>0</th>\n",
              "      <td>False</td>\n",
              "      <td>26-100</td>\n",
              "      <td>True</td>\n",
              "      <td>NaN</td>\n",
              "      <td>Not eligible for coverage / NA</td>\n",
              "      <td>I don't know</td>\n",
              "      <td>NaN</td>\n",
              "      <td>NaN</td>\n",
              "      <td>NaN</td>\n",
              "      <td>NaN</td>\n",
              "      <td>NaN</td>\n",
              "      <td>NaN</td>\n",
              "      <td>NaN</td>\n",
              "      <td>Maybe</td>\n",
              "      <td>NaN</td>\n",
              "      <td>Somewhat open</td>\n",
              "      <td>No</td>\n",
              "      <td>NaN</td>\n",
              "      <td>No</td>\n",
              "      <td>Yes</td>\n",
              "      <td>No</td>\n",
              "      <td>NaN</td>\n",
              "      <td>NaN</td>\n",
              "      <td>39.0</td>\n",
              "      <td>Male</td>\n",
              "      <td>United Kingdom</td>\n",
              "      <td>NaN</td>\n",
              "      <td>United Kingdom</td>\n",
              "      <td>NaN</td>\n",
              "      <td>2016</td>\n",
              "      <td>male</td>\n",
              "    </tr>\n",
              "    <tr>\n",
              "      <th>1</th>\n",
              "      <td>False</td>\n",
              "      <td>6-25</td>\n",
              "      <td>True</td>\n",
              "      <td>NaN</td>\n",
              "      <td>No</td>\n",
              "      <td>Yes</td>\n",
              "      <td>NaN</td>\n",
              "      <td>NaN</td>\n",
              "      <td>NaN</td>\n",
              "      <td>NaN</td>\n",
              "      <td>NaN</td>\n",
              "      <td>NaN</td>\n",
              "      <td>NaN</td>\n",
              "      <td>Maybe</td>\n",
              "      <td>NaN</td>\n",
              "      <td>Somewhat open</td>\n",
              "      <td>No</td>\n",
              "      <td>NaN</td>\n",
              "      <td>Yes</td>\n",
              "      <td>Yes</td>\n",
              "      <td>Yes</td>\n",
              "      <td>NaN</td>\n",
              "      <td>NaN</td>\n",
              "      <td>29.0</td>\n",
              "      <td>male</td>\n",
              "      <td>United States of America</td>\n",
              "      <td>Illinois</td>\n",
              "      <td>United States of America</td>\n",
              "      <td>Illinois</td>\n",
              "      <td>2016</td>\n",
              "      <td>male</td>\n",
              "    </tr>\n",
              "    <tr>\n",
              "      <th>2</th>\n",
              "      <td>False</td>\n",
              "      <td>6-25</td>\n",
              "      <td>True</td>\n",
              "      <td>NaN</td>\n",
              "      <td>No</td>\n",
              "      <td>I don't know</td>\n",
              "      <td>NaN</td>\n",
              "      <td>NaN</td>\n",
              "      <td>NaN</td>\n",
              "      <td>NaN</td>\n",
              "      <td>NaN</td>\n",
              "      <td>NaN</td>\n",
              "      <td>NaN</td>\n",
              "      <td>Yes</td>\n",
              "      <td>NaN</td>\n",
              "      <td>Somewhat open</td>\n",
              "      <td>Maybe/Not sure</td>\n",
              "      <td>NaN</td>\n",
              "      <td>No</td>\n",
              "      <td>Maybe</td>\n",
              "      <td>No</td>\n",
              "      <td>NaN</td>\n",
              "      <td>NaN</td>\n",
              "      <td>38.0</td>\n",
              "      <td>Male</td>\n",
              "      <td>United Kingdom</td>\n",
              "      <td>NaN</td>\n",
              "      <td>United Kingdom</td>\n",
              "      <td>NaN</td>\n",
              "      <td>2016</td>\n",
              "      <td>male</td>\n",
              "    </tr>\n",
              "    <tr>\n",
              "      <th>3</th>\n",
              "      <td>True</td>\n",
              "      <td>NaN</td>\n",
              "      <td>NaN</td>\n",
              "      <td>NaN</td>\n",
              "      <td>NaN</td>\n",
              "      <td>NaN</td>\n",
              "      <td>NaN</td>\n",
              "      <td>NaN</td>\n",
              "      <td>NaN</td>\n",
              "      <td>Sometimes, if it comes up</td>\n",
              "      <td>Sometimes, if it comes up</td>\n",
              "      <td>Yes</td>\n",
              "      <td>1-25%</td>\n",
              "      <td>Yes</td>\n",
              "      <td>NaN</td>\n",
              "      <td>Neutral</td>\n",
              "      <td>No</td>\n",
              "      <td>NaN</td>\n",
              "      <td>No</td>\n",
              "      <td>Yes</td>\n",
              "      <td>Yes</td>\n",
              "      <td>NaN</td>\n",
              "      <td>NaN</td>\n",
              "      <td>43.0</td>\n",
              "      <td>male</td>\n",
              "      <td>United Kingdom</td>\n",
              "      <td>NaN</td>\n",
              "      <td>United Kingdom</td>\n",
              "      <td>NaN</td>\n",
              "      <td>2016</td>\n",
              "      <td>male</td>\n",
              "    </tr>\n",
              "    <tr>\n",
              "      <th>4</th>\n",
              "      <td>False</td>\n",
              "      <td>6-25</td>\n",
              "      <td>False</td>\n",
              "      <td>True</td>\n",
              "      <td>Yes</td>\n",
              "      <td>No</td>\n",
              "      <td>NaN</td>\n",
              "      <td>NaN</td>\n",
              "      <td>NaN</td>\n",
              "      <td>NaN</td>\n",
              "      <td>NaN</td>\n",
              "      <td>NaN</td>\n",
              "      <td>NaN</td>\n",
              "      <td>Maybe</td>\n",
              "      <td>NaN</td>\n",
              "      <td>Somewhat open</td>\n",
              "      <td>Yes, I experienced</td>\n",
              "      <td>NaN</td>\n",
              "      <td>Yes</td>\n",
              "      <td>Yes</td>\n",
              "      <td>Yes</td>\n",
              "      <td>NaN</td>\n",
              "      <td>NaN</td>\n",
              "      <td>43.0</td>\n",
              "      <td>Female</td>\n",
              "      <td>United States of America</td>\n",
              "      <td>Illinois</td>\n",
              "      <td>United States of America</td>\n",
              "      <td>Illinois</td>\n",
              "      <td>2016</td>\n",
              "      <td>female</td>\n",
              "    </tr>\n",
              "    <tr>\n",
              "      <th>...</th>\n",
              "      <td>...</td>\n",
              "      <td>...</td>\n",
              "      <td>...</td>\n",
              "      <td>...</td>\n",
              "      <td>...</td>\n",
              "      <td>...</td>\n",
              "      <td>...</td>\n",
              "      <td>...</td>\n",
              "      <td>...</td>\n",
              "      <td>...</td>\n",
              "      <td>...</td>\n",
              "      <td>...</td>\n",
              "      <td>...</td>\n",
              "      <td>...</td>\n",
              "      <td>...</td>\n",
              "      <td>...</td>\n",
              "      <td>...</td>\n",
              "      <td>...</td>\n",
              "      <td>...</td>\n",
              "      <td>...</td>\n",
              "      <td>...</td>\n",
              "      <td>...</td>\n",
              "      <td>...</td>\n",
              "      <td>...</td>\n",
              "      <td>...</td>\n",
              "      <td>...</td>\n",
              "      <td>...</td>\n",
              "      <td>...</td>\n",
              "      <td>...</td>\n",
              "      <td>...</td>\n",
              "      <td>...</td>\n",
              "    </tr>\n",
              "    <tr>\n",
              "      <th>2953</th>\n",
              "      <td>False</td>\n",
              "      <td>More than 1000</td>\n",
              "      <td>False</td>\n",
              "      <td>True</td>\n",
              "      <td>I don't know</td>\n",
              "      <td>I don't know</td>\n",
              "      <td>Somewhat difficult</td>\n",
              "      <td>No</td>\n",
              "      <td>No</td>\n",
              "      <td>NaN</td>\n",
              "      <td>NaN</td>\n",
              "      <td>NaN</td>\n",
              "      <td>NaN</td>\n",
              "      <td>Maybe</td>\n",
              "      <td>No</td>\n",
              "      <td>Very open</td>\n",
              "      <td>Yes, I observed</td>\n",
              "      <td>Maybe</td>\n",
              "      <td>No</td>\n",
              "      <td>No</td>\n",
              "      <td>Maybe</td>\n",
              "      <td>NaN</td>\n",
              "      <td>False</td>\n",
              "      <td>27.0</td>\n",
              "      <td>male</td>\n",
              "      <td>India</td>\n",
              "      <td>NaN</td>\n",
              "      <td>India</td>\n",
              "      <td>NaN</td>\n",
              "      <td>2019</td>\n",
              "      <td>male</td>\n",
              "    </tr>\n",
              "    <tr>\n",
              "      <th>2954</th>\n",
              "      <td>True</td>\n",
              "      <td>NaN</td>\n",
              "      <td>NaN</td>\n",
              "      <td>NaN</td>\n",
              "      <td>NaN</td>\n",
              "      <td>NaN</td>\n",
              "      <td>NaN</td>\n",
              "      <td>NaN</td>\n",
              "      <td>NaN</td>\n",
              "      <td>Not applicable to me</td>\n",
              "      <td>Not applicable to me</td>\n",
              "      <td>Yes</td>\n",
              "      <td>26-50%</td>\n",
              "      <td>Maybe</td>\n",
              "      <td>Maybe</td>\n",
              "      <td>Somewhat not open</td>\n",
              "      <td>Yes, I observed</td>\n",
              "      <td>NaN</td>\n",
              "      <td>No</td>\n",
              "      <td>No</td>\n",
              "      <td>No</td>\n",
              "      <td>NaN</td>\n",
              "      <td>False</td>\n",
              "      <td>48.0</td>\n",
              "      <td>m</td>\n",
              "      <td>United States of America</td>\n",
              "      <td>Louisiana</td>\n",
              "      <td>United States of America</td>\n",
              "      <td>Louisiana</td>\n",
              "      <td>2019</td>\n",
              "      <td>male</td>\n",
              "    </tr>\n",
              "    <tr>\n",
              "      <th>2955</th>\n",
              "      <td>True</td>\n",
              "      <td>NaN</td>\n",
              "      <td>NaN</td>\n",
              "      <td>NaN</td>\n",
              "      <td>NaN</td>\n",
              "      <td>NaN</td>\n",
              "      <td>NaN</td>\n",
              "      <td>NaN</td>\n",
              "      <td>NaN</td>\n",
              "      <td>Not applicable to me</td>\n",
              "      <td>Not applicable to me</td>\n",
              "      <td>Unsure</td>\n",
              "      <td>NaN</td>\n",
              "      <td>Yes</td>\n",
              "      <td>No</td>\n",
              "      <td>Very open</td>\n",
              "      <td>I've always been self-employed</td>\n",
              "      <td>NaN</td>\n",
              "      <td>No</td>\n",
              "      <td>No</td>\n",
              "      <td>No</td>\n",
              "      <td>NaN</td>\n",
              "      <td>False</td>\n",
              "      <td>50.0</td>\n",
              "      <td>M</td>\n",
              "      <td>India</td>\n",
              "      <td>NaN</td>\n",
              "      <td>India</td>\n",
              "      <td>NaN</td>\n",
              "      <td>2019</td>\n",
              "      <td>male</td>\n",
              "    </tr>\n",
              "    <tr>\n",
              "      <th>2956</th>\n",
              "      <td>False</td>\n",
              "      <td>More than 1000</td>\n",
              "      <td>True</td>\n",
              "      <td>True</td>\n",
              "      <td>No</td>\n",
              "      <td>Yes</td>\n",
              "      <td>Difficult</td>\n",
              "      <td>Maybe</td>\n",
              "      <td>No</td>\n",
              "      <td>NaN</td>\n",
              "      <td>NaN</td>\n",
              "      <td>NaN</td>\n",
              "      <td>NaN</td>\n",
              "      <td>No</td>\n",
              "      <td>No</td>\n",
              "      <td>Somewhat not open</td>\n",
              "      <td>Maybe/Not sure</td>\n",
              "      <td>Yes</td>\n",
              "      <td>No</td>\n",
              "      <td>No</td>\n",
              "      <td>Maybe</td>\n",
              "      <td>NaN</td>\n",
              "      <td>False</td>\n",
              "      <td>30.0</td>\n",
              "      <td>female</td>\n",
              "      <td>India</td>\n",
              "      <td>NaN</td>\n",
              "      <td>India</td>\n",
              "      <td>NaN</td>\n",
              "      <td>2019</td>\n",
              "      <td>female</td>\n",
              "    </tr>\n",
              "    <tr>\n",
              "      <th>2957</th>\n",
              "      <td>False</td>\n",
              "      <td>More than 1000</td>\n",
              "      <td>True</td>\n",
              "      <td>True</td>\n",
              "      <td>Yes</td>\n",
              "      <td>Yes</td>\n",
              "      <td>Somewhat difficult</td>\n",
              "      <td>No</td>\n",
              "      <td>Maybe</td>\n",
              "      <td>NaN</td>\n",
              "      <td>NaN</td>\n",
              "      <td>NaN</td>\n",
              "      <td>NaN</td>\n",
              "      <td>Maybe</td>\n",
              "      <td>Yes</td>\n",
              "      <td>Very open</td>\n",
              "      <td>Maybe/Not sure</td>\n",
              "      <td>NaN</td>\n",
              "      <td>Yes</td>\n",
              "      <td>Yes</td>\n",
              "      <td>Yes</td>\n",
              "      <td>Yes</td>\n",
              "      <td>True</td>\n",
              "      <td>24.0</td>\n",
              "      <td>Female (cis)</td>\n",
              "      <td>United States of America</td>\n",
              "      <td>Oregon</td>\n",
              "      <td>United States of America</td>\n",
              "      <td>Oregon</td>\n",
              "      <td>2019</td>\n",
              "      <td>female</td>\n",
              "    </tr>\n",
              "  </tbody>\n",
              "</table>\n",
              "<p>2958 rows × 31 columns</p>\n",
              "</div>"
            ],
            "text/plain": [
              "      self_employeed    company_size  ...  year gender_cleaned\n",
              "0              False          26-100  ...  2016           male\n",
              "1              False            6-25  ...  2016           male\n",
              "2              False            6-25  ...  2016           male\n",
              "3               True             NaN  ...  2016           male\n",
              "4              False            6-25  ...  2016         female\n",
              "...              ...             ...  ...   ...            ...\n",
              "2953           False  More than 1000  ...  2019           male\n",
              "2954            True             NaN  ...  2019           male\n",
              "2955            True             NaN  ...  2019           male\n",
              "2956           False  More than 1000  ...  2019         female\n",
              "2957           False  More than 1000  ...  2019         female\n",
              "\n",
              "[2958 rows x 31 columns]"
            ]
          },
          "metadata": {},
          "execution_count": 26
        }
      ]
    },
    {
      "cell_type": "markdown",
      "metadata": {
        "id": "iLjIvZzo1je3"
      },
      "source": [
        "## Basic Demographics"
      ]
    },
    {
      "cell_type": "code",
      "metadata": {
        "id": "7F_rn65OBpZY"
      },
      "source": [
        ""
      ],
      "execution_count": null,
      "outputs": []
    },
    {
      "cell_type": "markdown",
      "metadata": {
        "id": "qk5TT5L31cjf"
      },
      "source": [
        "## Year-to-Year"
      ]
    },
    {
      "cell_type": "markdown",
      "metadata": {
        "id": "xUcD679tAkRb"
      },
      "source": [
        "### Survey Response"
      ]
    },
    {
      "cell_type": "code",
      "metadata": {
        "colab": {
          "base_uri": "https://localhost:8080/",
          "height": 265
        },
        "id": "_nN3Vhky1gL4",
        "outputId": "758a2b4e-5380-474f-ae7a-2a7faf30e6af"
      },
      "source": [
        "# 2016\n",
        "data_2016 = cd[cd['year'] == 2016]\n",
        "data = data_2016.groupby('mh_benefits').count()['age']\n",
        "data.plot.pie(autopct=\"%.1f%%\")"
      ],
      "execution_count": 22,
      "outputs": [
        {
          "output_type": "stream",
          "name": "stdout",
          "text": [
            "AxesSubplot(0.260833,0.125;0.503333x0.755)\n"
          ]
        },
        {
          "output_type": "display_data",
          "data": {
            "image/png": "[encoded data removed]",
            "text/plain": [
              "<Figure size 432x288 with 1 Axes>"
            ]
          },
          "metadata": {}
        }
      ]
    },
    {
      "cell_type": "code",
      "metadata": {
        "colab": {
          "base_uri": "https://localhost:8080/",
          "height": 265
        },
        "id": "qvSlB7VA_QFI",
        "outputId": "d222c4f9-434d-4a3d-c763-153946e62cfb"
      },
      "source": [
        "# 2017\n",
        "data_2017 = cd[cd['year'] == 2017]\n",
        "data = data_2017.groupby('mh_benefits').count()['age']\n",
        "data.plot.pie(autopct=\"%.1f%%\")"
      ],
      "execution_count": 23,
      "outputs": [
        {
          "output_type": "execute_result",
          "data": {
            "text/plain": [
              "<matplotlib.axes._subplots.AxesSubplot at 0x7f91c523a290>"
            ]
          },
          "metadata": {},
          "execution_count": 23
        },
        {
          "output_type": "display_data",
          "data": {
            "image/png": "[encoded data removed]",
            "text/plain": [
              "<Figure size 432x288 with 1 Axes>"
            ]
          },
          "metadata": {}
        }
      ]
    },
    {
      "cell_type": "code",
      "metadata": {
        "colab": {
          "base_uri": "https://localhost:8080/",
          "height": 265
        },
        "id": "2FDl82Wj_YT6",
        "outputId": "479eda03-74e5-4605-d62a-4039581b4e69"
      },
      "source": [
        "# 2018\n",
        "data_2018 = cd[cd['year'] == 2018]\n",
        "data = data_2018.groupby('mh_benefits').count()['age']\n",
        "data.plot.pie(autopct=\"%.1f%%\")"
      ],
      "execution_count": 24,
      "outputs": [
        {
          "output_type": "execute_result",
          "data": {
            "text/plain": [
              "<matplotlib.axes._subplots.AxesSubplot at 0x7f91c51a2550>"
            ]
          },
          "metadata": {},
          "execution_count": 24
        },
        {
          "output_type": "display_data",
          "data": {
            "image/png": "[encoded data removed]",
            "text/plain": [
              "<Figure size 432x288 with 1 Axes>"
            ]
          },
          "metadata": {}
        }
      ]
    },
    {
      "cell_type": "code",
      "metadata": {
        "colab": {
          "base_uri": "https://localhost:8080/",
          "height": 265
        },
        "id": "wbea_GgC_eG1",
        "outputId": "590b8151-6ab8-4b10-b3a4-0edec529513b"
      },
      "source": [
        "# 2019\n",
        "data_2019 = cd[cd['year'] == 2019]\n",
        "data = data_2019.groupby('mh_benefits').count()['age']\n",
        "data.plot.pie(autopct=\"%.1f%%\")"
      ],
      "execution_count": 25,
      "outputs": [
        {
          "output_type": "execute_result",
          "data": {
            "text/plain": [
              "<matplotlib.axes._subplots.AxesSubplot at 0x7f91c517bd50>"
            ]
          },
          "metadata": {},
          "execution_count": 25
        },
        {
          "output_type": "display_data",
          "data": {
            "image/png": "[encoded data removed]",
            "text/plain": [
              "<Figure size 432x288 with 1 Axes>"
            ]
          },
          "metadata": {}
        }
      ]
    },
    {
      "cell_type": "code",
      "metadata": {
        "id": "_gJjtme91mrB"
      },
      "source": [
        "#a"
      ],
      "execution_count": null,
      "outputs": []
    },
    {
      "cell_type": "markdown",
      "metadata": {
        "id": "VspnrSV41odJ"
      },
      "source": [
        "## Hypothesis Testing"
      ]
    },
    {
      "cell_type": "code",
      "metadata": {
        "id": "3NwYmji-1vJ2"
      },
      "source": [
        "#a"
      ],
      "execution_count": null,
      "outputs": []
    }
  ]
}