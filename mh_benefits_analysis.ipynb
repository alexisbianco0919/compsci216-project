{
  "nbformat": 4,
  "nbformat_minor": 0,
  "metadata": {
    "colab": {
      "name": "mh_benefits_analysis.ipynb",
      "provenance": [],
      "collapsed_sections": [
        "Hr3WJK1JnLw6",
        "1Ew2emwwwSuR",
        "qk5TT5L31cjf",
        "xUcD679tAkRb",
        "VspnrSV41odJ"
      ],
      "authorship_tag": "ABX9TyPzoJZuQ8YFwqobbW2vQbcD",
      "include_colab_link": true
    },
    "kernelspec": {
      "name": "python3",
      "display_name": "Python 3"
    },
    "language_info": {
      "name": "python"
    }
  },
  "cells": [
    {
      "cell_type": "markdown",
      "metadata": {
        "id": "view-in-github",
        "colab_type": "text"
      },
      "source": [
        "<a href=\"https://colab.research.google.com/github/alexisbianco0919/compsci216-project/blob/main/mh_benefits_analysis.ipynb\" target=\"_parent\"><img src=\"https://colab.research.google.com/assets/colab-badge.svg\" alt=\"Open In Colab\"/></a>"
      ]
    },
    {
      "cell_type": "markdown",
      "metadata": {
        "id": "r_1ynyO503xG"
      },
      "source": [
        "# Analysis of mh_benefits "
      ]
    },
    {
      "cell_type": "code",
      "metadata": {
        "id": "nf1YO-3y1CBx"
      },
      "source": [
        "# import needed libraries\n",
        "import pandas as pd\n",
        "import numpy as np\n",
        "import re\n",
        "import seaborn as sns\n",
        "from scipy import stats"
      ],
      "execution_count": 2,
      "outputs": []
    },
    {
      "cell_type": "code",
      "metadata": {
        "colab": {
          "base_uri": "https://localhost:8080/",
          "height": 830
        },
        "id": "_Zn_55Cm37aZ",
        "outputId": "29a3b4bf-923a-4374-eb29-a6c400880b11"
      },
      "source": [
        "# download data from merged_data.csv\n",
        "cd = pd.read_csv('https://raw.githubusercontent.com/alexisbianco0919/compsci216-project/main/clean_data_4.csv')\n",
        "\n",
        "# print column values\n",
        "print(cd['mh_benefits'].value_counts())\n",
        "print('\\n')\n",
        "\n",
        "# print year values\n",
        "print(cd['year'].value_counts())\n",
        "print('\\n')\n",
        "\n",
        "# visualize data\n",
        "cd"
      ],
      "execution_count": 3,
      "outputs": [
        {
          "output_type": "stream",
          "name": "stdout",
          "text": [
            "Yes                               1267\n",
            "I don't know                       658\n",
            "No                                 381\n",
            "Not eligible for coverage / NA     148\n",
            "Name: mh_benefits, dtype: int64\n",
            "\n",
            "\n",
            "2016    1433\n",
            "2017     756\n",
            "2018     417\n",
            "2019     352\n",
            "Name: year, dtype: int64\n",
            "\n",
            "\n"
          ]
        },
        {
          "output_type": "execute_result",
          "data": {
            "text/html": [
              "<div>\n",
              "<style scoped>\n",
              "    .dataframe tbody tr th:only-of-type {\n",
              "        vertical-align: middle;\n",
              "    }\n",
              "\n",
              "    .dataframe tbody tr th {\n",
              "        vertical-align: top;\n",
              "    }\n",
              "\n",
              "    .dataframe thead th {\n",
              "        text-align: right;\n",
              "    }\n",
              "</style>\n",
              "<table border=\"1\" class=\"dataframe\">\n",
              "  <thead>\n",
              "    <tr style=\"text-align: right;\">\n",
              "      <th></th>\n",
              "      <th>self_employeed</th>\n",
              "      <th>company_size</th>\n",
              "      <th>tech_company</th>\n",
              "      <th>tech_prole</th>\n",
              "      <th>mh_benefits</th>\n",
              "      <th>anonymity</th>\n",
              "      <th>leaving_difficulty</th>\n",
              "      <th>disc_mh_coworker</th>\n",
              "      <th>disc_mh_supervisor</th>\n",
              "      <th>reveal_mh_business</th>\n",
              "      <th>reveal_mh_coworkers</th>\n",
              "      <th>affects_productivity</th>\n",
              "      <th>productivity_percent</th>\n",
              "      <th>mention_ph_interview</th>\n",
              "      <th>mention_mh_interview</th>\n",
              "      <th>share_mh_ff</th>\n",
              "      <th>exp_unsupport</th>\n",
              "      <th>reveal_less</th>\n",
              "      <th>family_history</th>\n",
              "      <th>mh_in_past</th>\n",
              "      <th>mh_currently</th>\n",
              "      <th>mh_diagnosed</th>\n",
              "      <th>sought_treatment</th>\n",
              "      <th>age</th>\n",
              "      <th>gender</th>\n",
              "      <th>country_live</th>\n",
              "      <th>state_live</th>\n",
              "      <th>country_work</th>\n",
              "      <th>state_work</th>\n",
              "      <th>year</th>\n",
              "      <th>gender_cleaned</th>\n",
              "    </tr>\n",
              "  </thead>\n",
              "  <tbody>\n",
              "    <tr>\n",
              "      <th>0</th>\n",
              "      <td>False</td>\n",
              "      <td>26-100</td>\n",
              "      <td>True</td>\n",
              "      <td>NaN</td>\n",
              "      <td>Not eligible for coverage / NA</td>\n",
              "      <td>I don't know</td>\n",
              "      <td>NaN</td>\n",
              "      <td>NaN</td>\n",
              "      <td>NaN</td>\n",
              "      <td>NaN</td>\n",
              "      <td>NaN</td>\n",
              "      <td>NaN</td>\n",
              "      <td>NaN</td>\n",
              "      <td>Maybe</td>\n",
              "      <td>NaN</td>\n",
              "      <td>Somewhat open</td>\n",
              "      <td>No</td>\n",
              "      <td>NaN</td>\n",
              "      <td>No</td>\n",
              "      <td>Yes</td>\n",
              "      <td>No</td>\n",
              "      <td>NaN</td>\n",
              "      <td>NaN</td>\n",
              "      <td>39.0</td>\n",
              "      <td>Male</td>\n",
              "      <td>United Kingdom</td>\n",
              "      <td>NaN</td>\n",
              "      <td>United Kingdom</td>\n",
              "      <td>NaN</td>\n",
              "      <td>2016</td>\n",
              "      <td>male</td>\n",
              "    </tr>\n",
              "    <tr>\n",
              "      <th>1</th>\n",
              "      <td>False</td>\n",
              "      <td>6-25</td>\n",
              "      <td>True</td>\n",
              "      <td>NaN</td>\n",
              "      <td>No</td>\n",
              "      <td>Yes</td>\n",
              "      <td>NaN</td>\n",
              "      <td>NaN</td>\n",
              "      <td>NaN</td>\n",
              "      <td>NaN</td>\n",
              "      <td>NaN</td>\n",
              "      <td>NaN</td>\n",
              "      <td>NaN</td>\n",
              "      <td>Maybe</td>\n",
              "      <td>NaN</td>\n",
              "      <td>Somewhat open</td>\n",
              "      <td>No</td>\n",
              "      <td>NaN</td>\n",
              "      <td>Yes</td>\n",
              "      <td>Yes</td>\n",
              "      <td>Yes</td>\n",
              "      <td>NaN</td>\n",
              "      <td>NaN</td>\n",
              "      <td>29.0</td>\n",
              "      <td>male</td>\n",
              "      <td>United States of America</td>\n",
              "      <td>Illinois</td>\n",
              "      <td>United States of America</td>\n",
              "      <td>Illinois</td>\n",
              "      <td>2016</td>\n",
              "      <td>male</td>\n",
              "    </tr>\n",
              "    <tr>\n",
              "      <th>2</th>\n",
              "      <td>False</td>\n",
              "      <td>6-25</td>\n",
              "      <td>True</td>\n",
              "      <td>NaN</td>\n",
              "      <td>No</td>\n",
              "      <td>I don't know</td>\n",
              "      <td>NaN</td>\n",
              "      <td>NaN</td>\n",
              "      <td>NaN</td>\n",
              "      <td>NaN</td>\n",
              "      <td>NaN</td>\n",
              "      <td>NaN</td>\n",
              "      <td>NaN</td>\n",
              "      <td>Yes</td>\n",
              "      <td>NaN</td>\n",
              "      <td>Somewhat open</td>\n",
              "      <td>Maybe/Not sure</td>\n",
              "      <td>NaN</td>\n",
              "      <td>No</td>\n",
              "      <td>Maybe</td>\n",
              "      <td>No</td>\n",
              "      <td>NaN</td>\n",
              "      <td>NaN</td>\n",
              "      <td>38.0</td>\n",
              "      <td>Male</td>\n",
              "      <td>United Kingdom</td>\n",
              "      <td>NaN</td>\n",
              "      <td>United Kingdom</td>\n",
              "      <td>NaN</td>\n",
              "      <td>2016</td>\n",
              "      <td>male</td>\n",
              "    </tr>\n",
              "    <tr>\n",
              "      <th>3</th>\n",
              "      <td>True</td>\n",
              "      <td>NaN</td>\n",
              "      <td>NaN</td>\n",
              "      <td>NaN</td>\n",
              "      <td>NaN</td>\n",
              "      <td>NaN</td>\n",
              "      <td>NaN</td>\n",
              "      <td>NaN</td>\n",
              "      <td>NaN</td>\n",
              "      <td>Sometimes, if it comes up</td>\n",
              "      <td>Sometimes, if it comes up</td>\n",
              "      <td>Yes</td>\n",
              "      <td>1-25%</td>\n",
              "      <td>Yes</td>\n",
              "      <td>NaN</td>\n",
              "      <td>Neutral</td>\n",
              "      <td>No</td>\n",
              "      <td>NaN</td>\n",
              "      <td>No</td>\n",
              "      <td>Yes</td>\n",
              "      <td>Yes</td>\n",
              "      <td>NaN</td>\n",
              "      <td>NaN</td>\n",
              "      <td>43.0</td>\n",
              "      <td>male</td>\n",
              "      <td>United Kingdom</td>\n",
              "      <td>NaN</td>\n",
              "      <td>United Kingdom</td>\n",
              "      <td>NaN</td>\n",
              "      <td>2016</td>\n",
              "      <td>male</td>\n",
              "    </tr>\n",
              "    <tr>\n",
              "      <th>4</th>\n",
              "      <td>False</td>\n",
              "      <td>6-25</td>\n",
              "      <td>False</td>\n",
              "      <td>True</td>\n",
              "      <td>Yes</td>\n",
              "      <td>No</td>\n",
              "      <td>NaN</td>\n",
              "      <td>NaN</td>\n",
              "      <td>NaN</td>\n",
              "      <td>NaN</td>\n",
              "      <td>NaN</td>\n",
              "      <td>NaN</td>\n",
              "      <td>NaN</td>\n",
              "      <td>Maybe</td>\n",
              "      <td>NaN</td>\n",
              "      <td>Somewhat open</td>\n",
              "      <td>Yes, I experienced</td>\n",
              "      <td>NaN</td>\n",
              "      <td>Yes</td>\n",
              "      <td>Yes</td>\n",
              "      <td>Yes</td>\n",
              "      <td>NaN</td>\n",
              "      <td>NaN</td>\n",
              "      <td>43.0</td>\n",
              "      <td>Female</td>\n",
              "      <td>United States of America</td>\n",
              "      <td>Illinois</td>\n",
              "      <td>United States of America</td>\n",
              "      <td>Illinois</td>\n",
              "      <td>2016</td>\n",
              "      <td>female</td>\n",
              "    </tr>\n",
              "    <tr>\n",
              "      <th>...</th>\n",
              "      <td>...</td>\n",
              "      <td>...</td>\n",
              "      <td>...</td>\n",
              "      <td>...</td>\n",
              "      <td>...</td>\n",
              "      <td>...</td>\n",
              "      <td>...</td>\n",
              "      <td>...</td>\n",
              "      <td>...</td>\n",
              "      <td>...</td>\n",
              "      <td>...</td>\n",
              "      <td>...</td>\n",
              "      <td>...</td>\n",
              "      <td>...</td>\n",
              "      <td>...</td>\n",
              "      <td>...</td>\n",
              "      <td>...</td>\n",
              "      <td>...</td>\n",
              "      <td>...</td>\n",
              "      <td>...</td>\n",
              "      <td>...</td>\n",
              "      <td>...</td>\n",
              "      <td>...</td>\n",
              "      <td>...</td>\n",
              "      <td>...</td>\n",
              "      <td>...</td>\n",
              "      <td>...</td>\n",
              "      <td>...</td>\n",
              "      <td>...</td>\n",
              "      <td>...</td>\n",
              "      <td>...</td>\n",
              "    </tr>\n",
              "    <tr>\n",
              "      <th>2953</th>\n",
              "      <td>False</td>\n",
              "      <td>More than 1000</td>\n",
              "      <td>False</td>\n",
              "      <td>True</td>\n",
              "      <td>I don't know</td>\n",
              "      <td>I don't know</td>\n",
              "      <td>Somewhat difficult</td>\n",
              "      <td>No</td>\n",
              "      <td>No</td>\n",
              "      <td>NaN</td>\n",
              "      <td>NaN</td>\n",
              "      <td>NaN</td>\n",
              "      <td>NaN</td>\n",
              "      <td>Maybe</td>\n",
              "      <td>No</td>\n",
              "      <td>Very open</td>\n",
              "      <td>Yes, I observed</td>\n",
              "      <td>Maybe</td>\n",
              "      <td>No</td>\n",
              "      <td>No</td>\n",
              "      <td>Maybe</td>\n",
              "      <td>NaN</td>\n",
              "      <td>False</td>\n",
              "      <td>27.0</td>\n",
              "      <td>male</td>\n",
              "      <td>India</td>\n",
              "      <td>NaN</td>\n",
              "      <td>India</td>\n",
              "      <td>NaN</td>\n",
              "      <td>2019</td>\n",
              "      <td>male</td>\n",
              "    </tr>\n",
              "    <tr>\n",
              "      <th>2954</th>\n",
              "      <td>True</td>\n",
              "      <td>NaN</td>\n",
              "      <td>NaN</td>\n",
              "      <td>NaN</td>\n",
              "      <td>NaN</td>\n",
              "      <td>NaN</td>\n",
              "      <td>NaN</td>\n",
              "      <td>NaN</td>\n",
              "      <td>NaN</td>\n",
              "      <td>Not applicable to me</td>\n",
              "      <td>Not applicable to me</td>\n",
              "      <td>Yes</td>\n",
              "      <td>26-50%</td>\n",
              "      <td>Maybe</td>\n",
              "      <td>Maybe</td>\n",
              "      <td>Somewhat not open</td>\n",
              "      <td>Yes, I observed</td>\n",
              "      <td>NaN</td>\n",
              "      <td>No</td>\n",
              "      <td>No</td>\n",
              "      <td>No</td>\n",
              "      <td>NaN</td>\n",
              "      <td>False</td>\n",
              "      <td>48.0</td>\n",
              "      <td>m</td>\n",
              "      <td>United States of America</td>\n",
              "      <td>Louisiana</td>\n",
              "      <td>United States of America</td>\n",
              "      <td>Louisiana</td>\n",
              "      <td>2019</td>\n",
              "      <td>male</td>\n",
              "    </tr>\n",
              "    <tr>\n",
              "      <th>2955</th>\n",
              "      <td>True</td>\n",
              "      <td>NaN</td>\n",
              "      <td>NaN</td>\n",
              "      <td>NaN</td>\n",
              "      <td>NaN</td>\n",
              "      <td>NaN</td>\n",
              "      <td>NaN</td>\n",
              "      <td>NaN</td>\n",
              "      <td>NaN</td>\n",
              "      <td>Not applicable to me</td>\n",
              "      <td>Not applicable to me</td>\n",
              "      <td>Unsure</td>\n",
              "      <td>NaN</td>\n",
              "      <td>Yes</td>\n",
              "      <td>No</td>\n",
              "      <td>Very open</td>\n",
              "      <td>I've always been self-employed</td>\n",
              "      <td>NaN</td>\n",
              "      <td>No</td>\n",
              "      <td>No</td>\n",
              "      <td>No</td>\n",
              "      <td>NaN</td>\n",
              "      <td>False</td>\n",
              "      <td>50.0</td>\n",
              "      <td>M</td>\n",
              "      <td>India</td>\n",
              "      <td>NaN</td>\n",
              "      <td>India</td>\n",
              "      <td>NaN</td>\n",
              "      <td>2019</td>\n",
              "      <td>male</td>\n",
              "    </tr>\n",
              "    <tr>\n",
              "      <th>2956</th>\n",
              "      <td>False</td>\n",
              "      <td>More than 1000</td>\n",
              "      <td>True</td>\n",
              "      <td>True</td>\n",
              "      <td>No</td>\n",
              "      <td>Yes</td>\n",
              "      <td>Difficult</td>\n",
              "      <td>Maybe</td>\n",
              "      <td>No</td>\n",
              "      <td>NaN</td>\n",
              "      <td>NaN</td>\n",
              "      <td>NaN</td>\n",
              "      <td>NaN</td>\n",
              "      <td>No</td>\n",
              "      <td>No</td>\n",
              "      <td>Somewhat not open</td>\n",
              "      <td>Maybe/Not sure</td>\n",
              "      <td>Yes</td>\n",
              "      <td>No</td>\n",
              "      <td>No</td>\n",
              "      <td>Maybe</td>\n",
              "      <td>NaN</td>\n",
              "      <td>False</td>\n",
              "      <td>30.0</td>\n",
              "      <td>female</td>\n",
              "      <td>India</td>\n",
              "      <td>NaN</td>\n",
              "      <td>India</td>\n",
              "      <td>NaN</td>\n",
              "      <td>2019</td>\n",
              "      <td>female</td>\n",
              "    </tr>\n",
              "    <tr>\n",
              "      <th>2957</th>\n",
              "      <td>False</td>\n",
              "      <td>More than 1000</td>\n",
              "      <td>True</td>\n",
              "      <td>True</td>\n",
              "      <td>Yes</td>\n",
              "      <td>Yes</td>\n",
              "      <td>Somewhat difficult</td>\n",
              "      <td>No</td>\n",
              "      <td>Maybe</td>\n",
              "      <td>NaN</td>\n",
              "      <td>NaN</td>\n",
              "      <td>NaN</td>\n",
              "      <td>NaN</td>\n",
              "      <td>Maybe</td>\n",
              "      <td>Yes</td>\n",
              "      <td>Very open</td>\n",
              "      <td>Maybe/Not sure</td>\n",
              "      <td>NaN</td>\n",
              "      <td>Yes</td>\n",
              "      <td>Yes</td>\n",
              "      <td>Yes</td>\n",
              "      <td>Yes</td>\n",
              "      <td>True</td>\n",
              "      <td>24.0</td>\n",
              "      <td>Female (cis)</td>\n",
              "      <td>United States of America</td>\n",
              "      <td>Oregon</td>\n",
              "      <td>United States of America</td>\n",
              "      <td>Oregon</td>\n",
              "      <td>2019</td>\n",
              "      <td>female</td>\n",
              "    </tr>\n",
              "  </tbody>\n",
              "</table>\n",
              "<p>2958 rows × 31 columns</p>\n",
              "</div>"
            ],
            "text/plain": [
              "      self_employeed    company_size  ...  year gender_cleaned\n",
              "0              False          26-100  ...  2016           male\n",
              "1              False            6-25  ...  2016           male\n",
              "2              False            6-25  ...  2016           male\n",
              "3               True             NaN  ...  2016           male\n",
              "4              False            6-25  ...  2016         female\n",
              "...              ...             ...  ...   ...            ...\n",
              "2953           False  More than 1000  ...  2019           male\n",
              "2954            True             NaN  ...  2019           male\n",
              "2955            True             NaN  ...  2019           male\n",
              "2956           False  More than 1000  ...  2019         female\n",
              "2957           False  More than 1000  ...  2019         female\n",
              "\n",
              "[2958 rows x 31 columns]"
            ]
          },
          "metadata": {},
          "execution_count": 3
        }
      ]
    },
    {
      "cell_type": "markdown",
      "metadata": {
        "id": "-2-36B07_9sn"
      },
      "source": [
        "## Notes"
      ]
    },
    {
      "cell_type": "markdown",
      "metadata": {
        "id": "6NGFs5vm__8z"
      },
      "source": [
        "\n",
        "* % of `Yes` responses increases...\n",
        "  * year-to-year, except for the last year\n",
        "  * with age\n",
        "  * with company size\n",
        "  * US > Canada > Germany ~= UK *(based on countries in `country_work` that appear at least 50 times)*\n",
        "\n",
        "* Those w/o `mh_benefits` find it more difficult to leave work than those w/ `mh_benefits`\n",
        "\n",
        "* Those w/o `mh_benefits` are slightly more like to **not** discuss mh w/ their coworkers or supervisors\n",
        "\n",
        "* Status of `mh_benefits` doesn't seem to impact `share_mh_ff`\n",
        "\n",
        "* No relationship w/ `reveal_mh_business` or `reveal_mh_coworkers` *(?)*\n",
        "\n",
        "* `mh_benefits` doesn't seem to impact `exp_unsupport` much\n",
        "\n",
        "* W/ `reveal_less` column...\n",
        "  * Those not eligible or response w/ `NA` are significantly less likely to respond `Yes` and slightly more likely to respond `No`\n",
        "  * Doesn't seem to be a signficant difference in responses from those w/ `mh_benefits` and those w/o\n",
        "\n",
        "* Those w/ `mh_benefits` are more likely to seek treatment for mh and had the lowest likelihood of not seeking treatment for mh\n",
        "\n",
        "\n"
      ]
    },
    {
      "cell_type": "markdown",
      "metadata": {
        "id": "iLjIvZzo1je3"
      },
      "source": [
        "## Basic Demographics"
      ]
    },
    {
      "cell_type": "markdown",
      "metadata": {
        "id": "Hr3WJK1JnLw6"
      },
      "source": [
        "### Gender"
      ]
    },
    {
      "cell_type": "code",
      "metadata": {
        "colab": {
          "base_uri": "https://localhost:8080/",
          "height": 381
        },
        "id": "7F_rn65OBpZY",
        "outputId": "43a9dad4-9f23-40f0-8145-6c4d7595d662"
      },
      "source": [
        "male_df = cd[cd['gender_cleaned'] == 'male']\n",
        "num_of_male = len(male_df)\n",
        "num_of_yes_male = len(male_df[male_df['mh_benefits'] == 'Yes'])\n",
        "num_of_idk_male = len(male_df[male_df['mh_benefits'] == 'I don\\'t know'])\n",
        "num_of_no_male = len(male_df[male_df['mh_benefits'] == 'No'])\n",
        "num_of_na_male = len(male_df[male_df['mh_benefits'] == 'Not eligible for coverage / NA'])\n",
        "row_male = ['male', (num_of_yes_male/num_of_male), (num_of_idk_male/num_of_male), (num_of_no_male/num_of_male), (num_of_na_male/num_of_male)]\n",
        "\n",
        "female_df = cd[cd['gender_cleaned'] == 'female']\n",
        "num_of_female = len(female_df)\n",
        "num_of_yes_female = len(female_df[female_df['mh_benefits'] == 'Yes'])\n",
        "num_of_idk_female = len(female_df[female_df['mh_benefits'] == 'I don\\'t know'])\n",
        "num_of_no_female = len(female_df[female_df['mh_benefits'] == 'No'])\n",
        "num_of_na_female = len(female_df[female_df['mh_benefits'] == 'Not eligible for coverage / NA'])\n",
        "row_female = ['female', (num_of_yes_female/num_of_female), (num_of_idk_female/num_of_female), (num_of_no_female/num_of_female), (num_of_na_female/num_of_female)]\n",
        "\n",
        "transgender_df = cd[cd['gender_cleaned'] == 'transgender']\n",
        "num_of_transgender = len(transgender_df)\n",
        "num_of_yes_transgender = len(transgender_df[transgender_df['mh_benefits'] == 'Yes'])\n",
        "num_of_idk_transgender = len(transgender_df[transgender_df['mh_benefits'] == 'I don\\'t know'])\n",
        "num_of_no_transgender = len(transgender_df[transgender_df['mh_benefits'] == 'No'])\n",
        "num_of_na_transgender = len(transgender_df[transgender_df['mh_benefits'] == 'Not eligible for coverage / NA'])\n",
        "row_transgender = ['transgender', (num_of_yes_transgender/num_of_transgender), (num_of_idk_transgender/num_of_transgender), (num_of_no_transgender/num_of_transgender), (num_of_na_transgender/num_of_transgender)]\n",
        "\n",
        "other_df = cd[cd['gender_cleaned'] == 'other']\n",
        "num_of_other = len(other_df)\n",
        "num_of_yes_other = len(other_df[other_df['mh_benefits'] == 'Yes'])\n",
        "num_of_idk_other = len(other_df[other_df['mh_benefits'] == 'I don\\'t know'])\n",
        "num_of_no_other = len(other_df[other_df['mh_benefits'] == 'No'])\n",
        "num_of_na_other = len(other_df[other_df['mh_benefits'] == 'Not eligible for coverage / NA'])\n",
        "row_other = ['other', (num_of_yes_other/num_of_other), (num_of_idk_other/num_of_other), (num_of_no_other/num_of_other), (num_of_na_other/num_of_other)]\n",
        "\n",
        "\n",
        "lst = [row_male, row_female, row_transgender, row_other]\n",
        "    \n",
        "gender_comparison = pd.DataFrame(lst, columns =['gender', 'yes_percent', 'idk_percent', 'no_percent', 'na_percent'], dtype = float)\n",
        "print(gender_comparison)\n",
        "\n",
        "x = sns.barplot(x=\"gender\", y=\"yes_percent\", data=gender_comparison)\n",
        "x"
      ],
      "execution_count": 4,
      "outputs": [
        {
          "output_type": "stream",
          "name": "stdout",
          "text": [
            "        gender  yes_percent  idk_percent  no_percent  na_percent\n",
            "0         male     0.395924     0.235323    0.147501    0.046094\n",
            "1       female     0.506329     0.200000    0.088608    0.048101\n",
            "2  transgender     0.500000     0.142857    0.142857    0.071429\n",
            "3        other     0.508197     0.131148    0.081967    0.196721\n"
          ]
        },
        {
          "output_type": "execute_result",
          "data": {
            "text/plain": [
              "<matplotlib.axes._subplots.AxesSubplot at 0x7ff591e43890>"
            ]
          },
          "metadata": {},
          "execution_count": 4
        },
        {
          "output_type": "display_data",
          "data": {
            "image/png": "[encoded data removed]",
            "text/plain": [
              "<Figure size 432x288 with 1 Axes>"
            ]
          },
          "metadata": {
            "needs_background": "light"
          }
        }
      ]
    },
    {
      "cell_type": "markdown",
      "metadata": {
        "id": "1Ew2emwwwSuR"
      },
      "source": [
        "### Age"
      ]
    },
    {
      "cell_type": "code",
      "metadata": {
        "colab": {
          "base_uri": "https://localhost:8080/",
          "height": 602
        },
        "id": "4Ad3Z1hlwVWF",
        "outputId": "2e43d223-773c-4fd5-a95f-128c87a1d01a"
      },
      "source": [
        "cd['age_range'] = pd.cut(cd['age'], [0, 20, 30, 40, 50, 60, 100])\n",
        "age_range_pt = cd.pivot_table('age', index='age_range', columns='mh_benefits', aggfunc='count')\n",
        "age_range_pt[\"sum\"] = age_range_pt.sum(axis=1)\n",
        "print(age_range_pt, '\\n\\n')\n",
        "\n",
        "age_range_comparison = age_range_pt.loc[:,\"I don't know\":\"Yes\"].div(age_range_pt[\"sum\"], axis=0)\n",
        "print(age_range_comparison)\n",
        "\n",
        "x = sns.barplot(x=age_range_comparison.index, y=\"Yes\", data=age_range_comparison)\n",
        "x"
      ],
      "execution_count": 5,
      "outputs": [
        {
          "output_type": "stream",
          "name": "stdout",
          "text": [
            "mh_benefits  I don't know   No  Not eligible for coverage / NA  Yes   sum\n",
            "age_range                                                                \n",
            "(0, 20]                 3    2                               6    8    19\n",
            "(20, 30]              271  169                              69  401   910\n",
            "(30, 40]              272  151                              54  576  1053\n",
            "(40, 50]               99   46                              14  223   382\n",
            "(50, 60]               10   10                               4   47    71\n",
            "(60, 100]               2    3                               1   11    17 \n",
            "\n",
            "\n",
            "mh_benefits  I don't know        No  Not eligible for coverage / NA       Yes\n",
            "age_range                                                                    \n",
            "(0, 20]          0.157895  0.105263                        0.315789  0.421053\n",
            "(20, 30]         0.297802  0.185714                        0.075824  0.440659\n",
            "(30, 40]         0.258310  0.143400                        0.051282  0.547009\n",
            "(40, 50]         0.259162  0.120419                        0.036649  0.583770\n",
            "(50, 60]         0.140845  0.140845                        0.056338  0.661972\n",
            "(60, 100]        0.117647  0.176471                        0.058824  0.647059\n"
          ]
        },
        {
          "output_type": "execute_result",
          "data": {
            "text/plain": [
              "<matplotlib.axes._subplots.AxesSubplot at 0x7ff5918bfed0>"
            ]
          },
          "metadata": {},
          "execution_count": 5
        },
        {
          "output_type": "display_data",
          "data": {
            "image/png": "[encoded data removed]",
            "text/plain": [
              "<Figure size 432x288 with 1 Axes>"
            ]
          },
          "metadata": {
            "needs_background": "light"
          }
        }
      ]
    },
    {
      "cell_type": "markdown",
      "metadata": {
        "id": "iyew5oNAcUAs"
      },
      "source": [
        "### Country (Work)"
      ]
    },
    {
      "cell_type": "code",
      "metadata": {
        "colab": {
          "base_uri": "https://localhost:8080/",
          "height": 608
        },
        "id": "KsLWmuF5cUAt",
        "outputId": "816aa632-62b5-417c-ada4-aa8d37e9cf88"
      },
      "source": [
        "country_work_pt = cd.pivot_table('age', index='country_work', columns='mh_benefits', aggfunc='count')\n",
        "country_work_pt[\"sum\"] = country_work_pt.sum(axis=1)\n",
        "country_work_pt = country_work_pt[country_work_pt['sum'] >= 50]\n",
        "print(country_work_pt, '\\n\\n')\n",
        "\n",
        "country_work_comparison = country_work_pt.loc[:,\"I don't know\":\"Yes\"].div(country_work_pt[\"sum\"], axis=0)\n",
        "print(country_work_comparison)\n",
        "\n",
        "x = sns.barplot(x=country_work_comparison.index, y=\"Yes\", data=country_work_comparison, palette=[\"#508bb3\", \"#94b9cf\", \"#94b9cf\", \"#1c538b\"])\n",
        "x.tick_params(axis='x', rotation=10)"
      ],
      "execution_count": 54,
      "outputs": [
        {
          "output_type": "stream",
          "name": "stdout",
          "text": [
            "mh_benefits               I don't know     No  ...     Yes     sum\n",
            "country_work                                   ...                \n",
            "Canada                            21.0   15.0  ...    54.0    93.0\n",
            "Germany                           18.0   28.0  ...    19.0    70.0\n",
            "United Kingdom                    67.0   66.0  ...    61.0   226.0\n",
            "United States of America         433.0  111.0  ...  1048.0  1640.0\n",
            "\n",
            "[4 rows x 5 columns] \n",
            "\n",
            "\n",
            "mh_benefits               I don't know  ...       Yes\n",
            "country_work                            ...          \n",
            "Canada                        0.225806  ...  0.580645\n",
            "Germany                       0.257143  ...  0.271429\n",
            "United Kingdom                0.296460  ...  0.269912\n",
            "United States of America      0.264024  ...  0.639024\n",
            "\n",
            "[4 rows x 4 columns]\n"
          ]
        },
        {
          "output_type": "display_data",
          "data": {
            "image/png": "[encoded data removed]",
            "text/plain": [
              "<Figure size 432x288 with 1 Axes>"
            ]
          },
          "metadata": {
            "needs_background": "light"
          }
        }
      ]
    },
    {
      "cell_type": "markdown",
      "metadata": {
        "id": "UZfnCKun9I9h"
      },
      "source": [
        "## Other Values"
      ]
    },
    {
      "cell_type": "markdown",
      "metadata": {
        "id": "3pc41HpuCDXb"
      },
      "source": [
        "### Company Size"
      ]
    },
    {
      "cell_type": "code",
      "metadata": {
        "colab": {
          "base_uri": "https://localhost:8080/",
          "height": 640
        },
        "id": "7uHa--Al9NVF",
        "outputId": "657575ae-bc06-4dae-cd7b-e8719e6e07d9"
      },
      "source": [
        "company_size_pt = cd.pivot_table('age', index='company_size', columns='mh_benefits', aggfunc='count')\n",
        "company_size_pt[\"sum\"] = company_size_pt.sum(axis=1)\n",
        "print(company_size_pt, '\\n\\n')\n",
        "\n",
        "company_size_comparison = company_size_pt.loc[:,\"I don't know\":\"Yes\"].div(company_size_pt[\"sum\"], axis=0)\n",
        "print(company_size_comparison)\n",
        "\n",
        "x = sns.barplot(x=company_size_comparison.index, y=\"Yes\", data=company_size_comparison, order=['1-5', '6-25', '26-100', '100-500', '500-1000', 'More than 1000'], palette='Blues')\n",
        "x"
      ],
      "execution_count": 37,
      "outputs": [
        {
          "output_type": "stream",
          "name": "stdout",
          "text": [
            "mh_benefits     I don't know   No  Not eligible for coverage / NA  Yes  sum\n",
            "company_size                                                               \n",
            "1-5                       22   39                              16   15   92\n",
            "100-500                  176   63                              28  345  612\n",
            "26-100                   169   96                              22  248  535\n",
            "500-1000                  53   18                               7  108  186\n",
            "6-25                     117  111                              43  128  399\n",
            "More than 1000           121   54                              32  423  630 \n",
            "\n",
            "\n",
            "mh_benefits     I don't know  ...       Yes\n",
            "company_size                  ...          \n",
            "1-5                 0.239130  ...  0.163043\n",
            "100-500             0.287582  ...  0.563725\n",
            "26-100              0.315888  ...  0.463551\n",
            "500-1000            0.284946  ...  0.580645\n",
            "6-25                0.293233  ...  0.320802\n",
            "More than 1000      0.192063  ...  0.671429\n",
            "\n",
            "[6 rows x 4 columns]\n"
          ]
        },
        {
          "output_type": "execute_result",
          "data": {
            "text/plain": [
              "<matplotlib.axes._subplots.AxesSubplot at 0x7ff5903d9990>"
            ]
          },
          "metadata": {},
          "execution_count": 37
        },
        {
          "output_type": "display_data",
          "data": {
            "image/png": "[encoded data removed]",
            "text/plain": [
              "<Figure size 432x288 with 1 Axes>"
            ]
          },
          "metadata": {
            "needs_background": "light"
          }
        }
      ]
    },
    {
      "cell_type": "markdown",
      "metadata": {
        "id": "MvYddBr7CGTW"
      },
      "source": [
        "### Leaving Difficulty"
      ]
    },
    {
      "cell_type": "code",
      "metadata": {
        "colab": {
          "base_uri": "https://localhost:8080/",
          "height": 607
        },
        "id": "2KsFVuUbCKbY",
        "outputId": "5e58297f-0651-4579-9be6-f2bf1f9415e1"
      },
      "source": [
        "leaving_difficulty_pt = cd.pivot_table('age', index='mh_benefits', columns='leaving_difficulty', aggfunc='count')\n",
        "leaving_difficulty_pt[\"sum\"] = leaving_difficulty_pt.sum(axis=1)\n",
        "print(leaving_difficulty_pt, '\\n\\n')\n",
        "\n",
        "leaving_difficulty_comparison = leaving_difficulty_pt.loc[:,\"Difficult\":\"Very easy\"].div(leaving_difficulty_pt[\"sum\"], axis=0)\n",
        "print(leaving_difficulty_comparison)\n",
        "\n",
        "x = sns.barplot(x=leaving_difficulty_comparison.index, y=\"Difficult\", data=leaving_difficulty_comparison)\n",
        "x"
      ],
      "execution_count": 8,
      "outputs": [
        {
          "output_type": "stream",
          "name": "stdout",
          "text": [
            "leaving_difficulty              Difficult  I don't know  ...  Very easy  sum\n",
            "mh_benefits                                              ...                \n",
            "I don't know                           32            63  ...         65  339\n",
            "No                                     32            19  ...         31  168\n",
            "Not eligible for coverage / NA          6            17  ...         17   65\n",
            "Yes                                    42           130  ...        173  736\n",
            "\n",
            "[4 rows x 7 columns] \n",
            "\n",
            "\n",
            "leaving_difficulty              Difficult  ...  Very easy\n",
            "mh_benefits                                ...           \n",
            "I don't know                     0.094395  ...   0.191740\n",
            "No                               0.190476  ...   0.184524\n",
            "Not eligible for coverage / NA   0.092308  ...   0.261538\n",
            "Yes                              0.057065  ...   0.235054\n",
            "\n",
            "[4 rows x 6 columns]\n"
          ]
        },
        {
          "output_type": "execute_result",
          "data": {
            "text/plain": [
              "<matplotlib.axes._subplots.AxesSubplot at 0x7ff591e3f710>"
            ]
          },
          "metadata": {},
          "execution_count": 8
        },
        {
          "output_type": "display_data",
          "data": {
            "image/png": "[encoded data removed]",
            "text/plain": [
              "<Figure size 432x288 with 1 Axes>"
            ]
          },
          "metadata": {
            "needs_background": "light"
          }
        }
      ]
    },
    {
      "cell_type": "markdown",
      "metadata": {
        "id": "stc8_n0cMQwx"
      },
      "source": [
        "### Discuss MH w/ Coworkers"
      ]
    },
    {
      "cell_type": "code",
      "metadata": {
        "colab": {
          "base_uri": "https://localhost:8080/",
          "height": 535
        },
        "id": "r87NCBieMqpI",
        "outputId": "a8a403ca-dcbd-4699-f0d1-07db9cf60725"
      },
      "source": [
        "disc_mh_coworker_pt = cd.pivot_table('age', index='mh_benefits', columns='disc_mh_coworker', aggfunc='count')\n",
        "disc_mh_coworker_pt[\"sum\"] = disc_mh_coworker_pt.sum(axis=1)\n",
        "print(disc_mh_coworker_pt, '\\n\\n')\n",
        "\n",
        "disc_mh_coworker_comparison = disc_mh_coworker_pt.loc[:,\"Maybe\":\"Yes\"].div(disc_mh_coworker_pt[\"sum\"], axis=0)\n",
        "print(disc_mh_coworker_comparison)\n",
        "\n",
        "x = sns.barplot(x=disc_mh_coworker_comparison.index, y=\"No\", data=disc_mh_coworker_comparison)\n",
        "x"
      ],
      "execution_count": 9,
      "outputs": [
        {
          "output_type": "stream",
          "name": "stdout",
          "text": [
            "disc_mh_coworker                Maybe   No  Yes  sum\n",
            "mh_benefits                                         \n",
            "I don't know                      173   84   82  339\n",
            "No                                 64   59   45  168\n",
            "Not eligible for coverage / NA     27   17   21   65\n",
            "Yes                               310  167  259  736 \n",
            "\n",
            "\n",
            "disc_mh_coworker                   Maybe        No       Yes\n",
            "mh_benefits                                                 \n",
            "I don't know                    0.510324  0.247788  0.241888\n",
            "No                              0.380952  0.351190  0.267857\n",
            "Not eligible for coverage / NA  0.415385  0.261538  0.323077\n",
            "Yes                             0.421196  0.226902  0.351902\n"
          ]
        },
        {
          "output_type": "execute_result",
          "data": {
            "text/plain": [
              "<matplotlib.axes._subplots.AxesSubplot at 0x7ff590c2bc50>"
            ]
          },
          "metadata": {},
          "execution_count": 9
        },
        {
          "output_type": "display_data",
          "data": {
            "image/png": "[encoded data removed]",
            "text/plain": [
              "<Figure size 432x288 with 1 Axes>"
            ]
          },
          "metadata": {
            "needs_background": "light"
          }
        }
      ]
    },
    {
      "cell_type": "markdown",
      "metadata": {
        "id": "yST9yqzLOL9b"
      },
      "source": [
        "### Discuss MH w/ Supervisors"
      ]
    },
    {
      "cell_type": "code",
      "metadata": {
        "colab": {
          "base_uri": "https://localhost:8080/",
          "height": 535
        },
        "id": "fJ7uKynOONyw",
        "outputId": "e818db38-45da-443d-a8e9-2896b679fe88"
      },
      "source": [
        "disc_mh_supervisor_pt = cd.pivot_table('age', index='mh_benefits', columns='disc_mh_supervisor', aggfunc='count')\n",
        "disc_mh_supervisor_pt[\"sum\"] = disc_mh_supervisor_pt.sum(axis=1)\n",
        "print(disc_mh_supervisor_pt, '\\n\\n')\n",
        "\n",
        "disc_mh_supervisor_comparison = disc_mh_supervisor_pt.loc[:,\"Maybe\":\"Yes\"].div(disc_mh_supervisor_pt[\"sum\"], axis=0)\n",
        "print(disc_mh_supervisor_comparison)\n",
        "\n",
        "x = sns.barplot(x=disc_mh_supervisor_comparison.index, y=\"No\", data=disc_mh_supervisor_comparison)\n",
        "x"
      ],
      "execution_count": 10,
      "outputs": [
        {
          "output_type": "stream",
          "name": "stdout",
          "text": [
            "disc_mh_supervisor              Maybe   No  Yes  sum\n",
            "mh_benefits                                         \n",
            "I don't know                      125   93  121  339\n",
            "No                                 45   73   50  168\n",
            "Not eligible for coverage / NA     26   18   21   65\n",
            "Yes                               237  187  312  736 \n",
            "\n",
            "\n",
            "disc_mh_supervisor                 Maybe        No       Yes\n",
            "mh_benefits                                                 \n",
            "I don't know                    0.368732  0.274336  0.356932\n",
            "No                              0.267857  0.434524  0.297619\n",
            "Not eligible for coverage / NA  0.400000  0.276923  0.323077\n",
            "Yes                             0.322011  0.254076  0.423913\n"
          ]
        },
        {
          "output_type": "execute_result",
          "data": {
            "text/plain": [
              "<matplotlib.axes._subplots.AxesSubplot at 0x7ff590ba0f90>"
            ]
          },
          "metadata": {},
          "execution_count": 10
        },
        {
          "output_type": "display_data",
          "data": {
            "image/png": "[encoded data removed]",
            "text/plain": [
              "<Figure size 432x288 with 1 Axes>"
            ]
          },
          "metadata": {
            "needs_background": "light"
          }
        }
      ]
    },
    {
      "cell_type": "markdown",
      "metadata": {
        "id": "1H4DpV_GRtRh"
      },
      "source": [
        "### Share MH w/ FF"
      ]
    },
    {
      "cell_type": "code",
      "metadata": {
        "colab": {
          "base_uri": "https://localhost:8080/",
          "height": 603
        },
        "id": "2beh9_3pR0u_",
        "outputId": "4fe31613-70fe-4e96-8452-414f5c8344a9"
      },
      "source": [
        "share_mh_ff_pt = cd.pivot_table('age', index='mh_benefits', columns='share_mh_ff', aggfunc='count')\n",
        "share_mh_ff_pt[\"sum\"] = share_mh_ff_pt.sum(axis=1)\n",
        "print(share_mh_ff_pt, '\\n\\n')\n",
        "\n",
        "share_mh_ff_comparison = share_mh_ff_pt.loc[:,\"Maybe\":\"Yes\"].div(share_mh_ff_pt[\"sum\"], axis=0)\n",
        "print(share_mh_ff_comparison)\n",
        "\n",
        "x = sns.barplot(x=share_mh_ff_comparison.index, y=\"Somewhat not open\", data=share_mh_ff_comparison)\n",
        "x"
      ],
      "execution_count": 11,
      "outputs": [
        {
          "output_type": "stream",
          "name": "stdout",
          "text": [
            "share_mh_ff                     Neutral  ...   sum\n",
            "mh_benefits                              ...      \n",
            "I don't know                         89  ...   658\n",
            "No                                   44  ...   381\n",
            "Not eligible for coverage / NA       16  ...   148\n",
            "Yes                                 127  ...  1267\n",
            "\n",
            "[4 rows x 7 columns] \n",
            "\n",
            "\n",
            "share_mh_ff                      Neutral  ...  Very open\n",
            "mh_benefits                               ...           \n",
            "I don't know                    0.135258  ...   0.171733\n",
            "No                              0.115486  ...   0.146982\n",
            "Not eligible for coverage / NA  0.108108  ...   0.263514\n",
            "Yes                             0.100237  ...   0.260458\n",
            "\n",
            "[4 rows x 6 columns]\n"
          ]
        },
        {
          "output_type": "execute_result",
          "data": {
            "text/plain": [
              "<matplotlib.axes._subplots.AxesSubplot at 0x7ff590b19410>"
            ]
          },
          "metadata": {},
          "execution_count": 11
        },
        {
          "output_type": "display_data",
          "data": {
            "image/png": "[encoded data removed]",
            "text/plain": [
              "<Figure size 432x288 with 1 Axes>"
            ]
          },
          "metadata": {
            "needs_background": "light"
          }
        }
      ]
    },
    {
      "cell_type": "markdown",
      "metadata": {
        "id": "LtiIzR5LTsfo"
      },
      "source": [
        "### Expect Unsupport"
      ]
    },
    {
      "cell_type": "code",
      "metadata": {
        "colab": {
          "base_uri": "https://localhost:8080/",
          "height": 739
        },
        "id": "J2DSBMpITwIu",
        "outputId": "b17bec0e-9108-439e-9f71-d8bdf6da3b8a"
      },
      "source": [
        "print(cd['exp_unsupport'].value_counts(), '\\n\\n')\n",
        "\n",
        "exp_unsupport_pt = cd.pivot_table('age', index='mh_benefits', columns='exp_unsupport', aggfunc='count')\n",
        "exp_unsupport_pt[\"sum\"] = exp_unsupport_pt.sum(axis=1)\n",
        "print(exp_unsupport_pt, '\\n\\n')\n",
        "\n",
        "exp_unsupport_comparison = exp_unsupport_pt.loc[:,\"I've always been self-employed\":\"Yes, I observed\"].div(exp_unsupport_pt[\"sum\"], axis=0)\n",
        "print(exp_unsupport_comparison)\n",
        "\n",
        "x = sns.barplot(x=exp_unsupport_comparison.index, y=\"Yes, I experienced\", data=exp_unsupport_comparison)\n",
        "x"
      ],
      "execution_count": 12,
      "outputs": [
        {
          "output_type": "stream",
          "name": "stdout",
          "text": [
            "No                                1207\n",
            "Maybe/Not sure                     748\n",
            "Yes, I observed                    541\n",
            "Yes, I experienced                 356\n",
            "I've always been self-employed      15\n",
            "Name: exp_unsupport, dtype: int64 \n",
            "\n",
            "\n",
            "exp_unsupport                   I've always been self-employed  ...     sum\n",
            "mh_benefits                                                     ...        \n",
            "I don't know                                               1.0  ...   634.0\n",
            "No                                                         NaN  ...   371.0\n",
            "Not eligible for coverage / NA                             NaN  ...   143.0\n",
            "Yes                                                        NaN  ...  1254.0\n",
            "\n",
            "[4 rows x 6 columns] \n",
            "\n",
            "\n",
            "exp_unsupport                   I've always been self-employed  ...  Yes, I observed\n",
            "mh_benefits                                                     ...                 \n",
            "I don't know                                          0.001577  ...         0.156151\n",
            "No                                                         NaN  ...         0.164420\n",
            "Not eligible for coverage / NA                             NaN  ...         0.174825\n",
            "Yes                                                        NaN  ...         0.196172\n",
            "\n",
            "[4 rows x 5 columns]\n"
          ]
        },
        {
          "output_type": "execute_result",
          "data": {
            "text/plain": [
              "<matplotlib.axes._subplots.AxesSubplot at 0x7ff590aa0ad0>"
            ]
          },
          "metadata": {},
          "execution_count": 12
        },
        {
          "output_type": "display_data",
          "data": {
            "image/png": "[encoded data removed]",
            "text/plain": [
              "<Figure size 432x288 with 1 Axes>"
            ]
          },
          "metadata": {
            "needs_background": "light"
          }
        }
      ]
    },
    {
      "cell_type": "markdown",
      "metadata": {
        "id": "EueZNrIyYMNi"
      },
      "source": [
        "### Reveal MH Less"
      ]
    },
    {
      "cell_type": "code",
      "metadata": {
        "colab": {
          "base_uri": "https://localhost:8080/",
          "height": 637
        },
        "id": "thcDliZlYMNs",
        "outputId": "0c3d7274-1fb6-4216-fa2a-da5c1e927ed4"
      },
      "source": [
        "print(cd['reveal_less'].value_counts(), '\\n\\n')\n",
        "\n",
        "reveal_less_pt = cd.pivot_table('age', index='mh_benefits', columns='reveal_less', aggfunc='count')\n",
        "reveal_less_pt[\"sum\"] = reveal_less_pt.sum(axis=1)\n",
        "print(reveal_less_pt, '\\n\\n')\n",
        "\n",
        "reveal_less_comparison = reveal_less_pt.loc[:,\"Maybe\":\"Yes\"].div(reveal_less_pt[\"sum\"], axis=0)\n",
        "print(reveal_less_comparison)\n",
        "\n",
        "x = sns.barplot(x=reveal_less_comparison.index, y=\"No\", data=reveal_less_comparison)\n",
        "x"
      ],
      "execution_count": 13,
      "outputs": [
        {
          "output_type": "stream",
          "name": "stdout",
          "text": [
            "No       734\n",
            "Yes      236\n",
            "Maybe    228\n",
            "Name: reveal_less, dtype: int64 \n",
            "\n",
            "\n",
            "reveal_less                     Maybe   No  Yes  sum\n",
            "mh_benefits                                         \n",
            "I don't know                       53  146   47  246\n",
            "No                                 28   71   26  125\n",
            "Not eligible for coverage / NA     10   37    5   52\n",
            "Yes                                93  408  118  619 \n",
            "\n",
            "\n",
            "reveal_less                        Maybe        No       Yes\n",
            "mh_benefits                                                 \n",
            "I don't know                    0.215447  0.593496  0.191057\n",
            "No                              0.224000  0.568000  0.208000\n",
            "Not eligible for coverage / NA  0.192308  0.711538  0.096154\n",
            "Yes                             0.150242  0.659128  0.190630\n"
          ]
        },
        {
          "output_type": "execute_result",
          "data": {
            "text/plain": [
              "<matplotlib.axes._subplots.AxesSubplot at 0x7ff590a1a650>"
            ]
          },
          "metadata": {},
          "execution_count": 13
        },
        {
          "output_type": "display_data",
          "data": {
            "image/png": "[encoded data removed]",
            "text/plain": [
              "<Figure size 432x288 with 1 Axes>"
            ]
          },
          "metadata": {
            "needs_background": "light"
          }
        }
      ]
    },
    {
      "cell_type": "markdown",
      "metadata": {
        "id": "8TBSEeyvaOr-"
      },
      "source": [
        "### Sought Treatment"
      ]
    },
    {
      "cell_type": "code",
      "metadata": {
        "colab": {
          "base_uri": "https://localhost:8080/",
          "height": 620
        },
        "id": "d5MyVu8daOsL",
        "outputId": "e35e129b-a3d2-4412-c230-560935636fef"
      },
      "source": [
        "print(cd['sought_treatment'].value_counts(), '\\n\\n')\n",
        "\n",
        "sought_treatment_pt = cd.pivot_table('age', index='mh_benefits', columns='sought_treatment', aggfunc='count')\n",
        "sought_treatment_pt[\"sum\"] = sought_treatment_pt.sum(axis=1)\n",
        "print(sought_treatment_pt, '\\n\\n')\n",
        "\n",
        "sought_treatment_comparison = sought_treatment_pt.loc[:,False:True].div(sought_treatment_pt[\"sum\"], axis=0)\n",
        "print(sought_treatment_comparison)\n",
        "\n",
        "x = sns.barplot(x=sought_treatment_comparison.index, y=False, data=sought_treatment_comparison)\n",
        "x"
      ],
      "execution_count": 14,
      "outputs": [
        {
          "output_type": "stream",
          "name": "stdout",
          "text": [
            "True     936\n",
            "False    589\n",
            "Name: sought_treatment, dtype: int64 \n",
            "\n",
            "\n",
            "sought_treatment                False  True  sum\n",
            "mh_benefits                                     \n",
            "I don't know                      187   152  339\n",
            "No                                 82    86  168\n",
            "Not eligible for coverage / NA     22    43   65\n",
            "Yes                               211   525  736 \n",
            "\n",
            "\n",
            "sought_treatment                   False     True \n",
            "mh_benefits                                       \n",
            "I don't know                    0.551622  0.448378\n",
            "No                              0.488095  0.511905\n",
            "Not eligible for coverage / NA  0.338462  0.661538\n",
            "Yes                             0.286685  0.713315\n"
          ]
        },
        {
          "output_type": "execute_result",
          "data": {
            "text/plain": [
              "<matplotlib.axes._subplots.AxesSubplot at 0x7ff5909fb710>"
            ]
          },
          "metadata": {},
          "execution_count": 14
        },
        {
          "output_type": "display_data",
          "data": {
            "image/png": "[encoded data removed]",
            "text/plain": [
              "<Figure size 432x288 with 1 Axes>"
            ]
          },
          "metadata": {
            "needs_background": "light"
          }
        }
      ]
    },
    {
      "cell_type": "markdown",
      "metadata": {
        "id": "qk5TT5L31cjf"
      },
      "source": [
        "## Year-to-Year"
      ]
    },
    {
      "cell_type": "markdown",
      "metadata": {
        "id": "xUcD679tAkRb"
      },
      "source": [
        "### Survey Response"
      ]
    },
    {
      "cell_type": "code",
      "metadata": {
        "colab": {
          "base_uri": "https://localhost:8080/",
          "height": 0
        },
        "id": "_nN3Vhky1gL4",
        "outputId": "63570904-1d95-4c62-da7a-eb14715f6387"
      },
      "source": [
        "# 2016\n",
        "data_2016 = cd[cd['year'] == 2016]\n",
        "data = data_2016.groupby('mh_benefits').count()['age']\n",
        "data.plot.pie(autopct=\"%.1f%%\")"
      ],
      "execution_count": 15,
      "outputs": [
        {
          "output_type": "execute_result",
          "data": {
            "text/plain": [
              "<matplotlib.axes._subplots.AxesSubplot at 0x7ff5908e1e90>"
            ]
          },
          "metadata": {},
          "execution_count": 15
        },
        {
          "output_type": "display_data",
          "data": {
            "image/png": "[encoded data removed]",
            "text/plain": [
              "<Figure size 432x288 with 1 Axes>"
            ]
          },
          "metadata": {}
        }
      ]
    },
    {
      "cell_type": "code",
      "metadata": {
        "colab": {
          "base_uri": "https://localhost:8080/",
          "height": 0
        },
        "id": "qvSlB7VA_QFI",
        "outputId": "a2811f11-af59-483c-a5e0-0af15fdc4520"
      },
      "source": [
        "# 2017\n",
        "data_2017 = cd[cd['year'] == 2017]\n",
        "data = data_2017.groupby('mh_benefits').count()['age']\n",
        "data.plot.pie(autopct=\"%.1f%%\")"
      ],
      "execution_count": 16,
      "outputs": [
        {
          "output_type": "execute_result",
          "data": {
            "text/plain": [
              "<matplotlib.axes._subplots.AxesSubplot at 0x7ff592a86790>"
            ]
          },
          "metadata": {},
          "execution_count": 16
        },
        {
          "output_type": "display_data",
          "data": {
            "image/png": "[encoded data removed]",
            "text/plain": [
              "<Figure size 432x288 with 1 Axes>"
            ]
          },
          "metadata": {}
        }
      ]
    },
    {
      "cell_type": "code",
      "metadata": {
        "colab": {
          "base_uri": "https://localhost:8080/",
          "height": 0
        },
        "id": "2FDl82Wj_YT6",
        "outputId": "a1fef516-13d8-459a-f724-62f760da6489"
      },
      "source": [
        "# 2018\n",
        "data_2018 = cd[cd['year'] == 2018]\n",
        "data = data_2018.groupby('mh_benefits').count()['age']\n",
        "data.plot.pie(autopct=\"%.1f%%\")"
      ],
      "execution_count": 17,
      "outputs": [
        {
          "output_type": "execute_result",
          "data": {
            "text/plain": [
              "<matplotlib.axes._subplots.AxesSubplot at 0x7ff59082ccd0>"
            ]
          },
          "metadata": {},
          "execution_count": 17
        },
        {
          "output_type": "display_data",
          "data": {
            "image/png": "[encoded data removed]",
            "text/plain": [
              "<Figure size 432x288 with 1 Axes>"
            ]
          },
          "metadata": {}
        }
      ]
    },
    {
      "cell_type": "code",
      "metadata": {
        "colab": {
          "base_uri": "https://localhost:8080/",
          "height": 0
        },
        "id": "wbea_GgC_eG1",
        "outputId": "67fc7963-b25d-498f-f908-163342b46e87"
      },
      "source": [
        "# 2019\n",
        "data_2019 = cd[cd['year'] == 2019]\n",
        "data = data_2019.groupby('mh_benefits').count()['age']\n",
        "data.plot.pie(autopct=\"%.1f%%\")"
      ],
      "execution_count": 18,
      "outputs": [
        {
          "output_type": "execute_result",
          "data": {
            "text/plain": [
              "<matplotlib.axes._subplots.AxesSubplot at 0x7ff590787910>"
            ]
          },
          "metadata": {},
          "execution_count": 18
        },
        {
          "output_type": "display_data",
          "data": {
            "image/png": "[encoded data removed]",
            "text/plain": [
              "<Figure size 432x288 with 1 Axes>"
            ]
          },
          "metadata": {}
        }
      ]
    },
    {
      "cell_type": "code",
      "metadata": {
        "id": "_gJjtme91mrB"
      },
      "source": [
        "#a"
      ],
      "execution_count": 19,
      "outputs": []
    },
    {
      "cell_type": "markdown",
      "metadata": {
        "id": "VspnrSV41odJ"
      },
      "source": [
        "## Hypothesis Testing"
      ]
    },
    {
      "cell_type": "markdown",
      "metadata": {
        "id": "4RTMpGfFEWTM"
      },
      "source": [
        "$H_{0}$: Those w/o `mh_benefits` find it equally easy (somewhat or very) to leave work than those w/ `mh_benefits`\n",
        "\n",
        "$H_{A}$: Those w/o `mh_benefits` do not find it equally easy (somewhat or very) to leave work than those w/ `mh_benefits`"
      ]
    },
    {
      "cell_type": "code",
      "metadata": {
        "id": "3NwYmji-1vJ2",
        "colab": {
          "base_uri": "https://localhost:8080/"
        },
        "outputId": "45c0d857-6954-4eb1-e305-be34731d12f1"
      },
      "source": [
        "# print table and df\n",
        "print(\"Pivot Table showing the intersection between the `mh_benefits` and `leaving_difficulty` columns:\")\n",
        "print(leaving_difficulty_pt)\n",
        "\n",
        "leaving_easy = leaving_difficulty_pt['Somewhat easy'] + leaving_difficulty_pt['Very easy']\n",
        "print(\"\\nDataFrame showing the number of people who find it easy to leave according to their `mh_benefits`:\")\n",
        "print(leaving_easy, '\\n\\n')\n",
        "\n",
        "# testing\n",
        "n1 = leaving_difficulty_pt['sum']['Yes'] # num of people w/ benefits\n",
        "n2 = leaving_difficulty_pt['sum']['No'] # num of people W/O benefits\n",
        "p1 = leaving_easy['Yes'] / n1 # percentage of those who find it easy to leave amongst people w/ benefits\n",
        "p2 = leaving_easy['No'] / n2 # percentage of those who find it easy to leave amongst people W/O benefits\n",
        "\n",
        "sd1 = np.sqrt(p1 * (1 - p1))\n",
        "sd2 = np.sqrt(p2 * (1 - p2))\n",
        "\n",
        "result = stats.ttest_ind_from_stats(mean1=p1, std1=sd1, nobs1=n1,\n",
        "                     mean2=p2, std2=sd2, nobs2=n2)\n",
        "p_value = result[1]\n",
        "\n",
        "print(\"P Value: \", p_value)"
      ],
      "execution_count": 20,
      "outputs": [
        {
          "output_type": "stream",
          "name": "stdout",
          "text": [
            "Pivot Table showing the intersection between the `mh_benefits` and `leaving_difficulty` columns:\n",
            "leaving_difficulty              Difficult  I don't know  ...  Very easy  sum\n",
            "mh_benefits                                              ...                \n",
            "I don't know                           32            63  ...         65  339\n",
            "No                                     32            19  ...         31  168\n",
            "Not eligible for coverage / NA          6            17  ...         17   65\n",
            "Yes                                    42           130  ...        173  736\n",
            "\n",
            "[4 rows x 7 columns]\n",
            "\n",
            "DataFrame showing the number of people who find it easy to leave according to their `mh_benefits`:\n",
            "mh_benefits\n",
            "I don't know                      155\n",
            "No                                 71\n",
            "Not eligible for coverage / NA     31\n",
            "Yes                               385\n",
            "dtype: int64 \n",
            "\n",
            "\n",
            "P Value:  0.01860938982941083\n"
          ]
        }
      ]
    },
    {
      "cell_type": "markdown",
      "metadata": {
        "id": "72GejMkyGD5q"
      },
      "source": [
        "#### Part 1: Coworkers\n",
        "$H_{0}$: Those w/o `mh_benefits` are equally likely to **not** discuss mh w/ their coworkers w/ `mh_benefits`\n",
        "\n",
        "$H_{A}$: Those w/o `mh_benefits` are not equally likely to **not** discuss mh w/ their coworkers  compared to those w/ `mh_benefits`\n",
        "\n",
        "---\n",
        "#### Part 2: Supervisors\n",
        "$H_{0}$: Those w/o `mh_benefits` are equally likely to **not** discuss mh w/ their supervisors w/ `mh_benefits`\n",
        "\n",
        "$H_{A}$: Those w/o `mh_benefits` are not equally likely to **not** discuss mh w/ their supervisors  compared to those w/ `mh_benefits`"
      ]
    },
    {
      "cell_type": "code",
      "metadata": {
        "id": "JfEZJQI4GD5r",
        "colab": {
          "base_uri": "https://localhost:8080/"
        },
        "outputId": "e60729bc-e447-41ae-c60a-6c66d72a4907"
      },
      "source": [
        "                                                                # ----- FOR COWORKERS ----- #\n",
        "# print table and df\n",
        "# print(\"Pivot Table showing the intersection between the `mh_benefits` and `disc_mh_coworker` columns:\")\n",
        "# print(disc_mh_coworker_pt)\n",
        "\n",
        "discuss_no = disc_mh_coworker_pt['No']\n",
        "# print(\"\\nDataFrame showing the number of people who will not discuss mh w/ coworker according to their `mh_benefits`:\")\n",
        "# print(discuss_no, '\\n')\n",
        "\n",
        "# testing\n",
        "n1 = disc_mh_coworker_pt['sum']['Yes'] # num of people w/ benefits\n",
        "n2 = disc_mh_coworker_pt['sum']['No'] # num of people W/O benefits\n",
        "p1 = discuss_no['Yes'] / n1 # percentage of those who will not discuss mh w/ coworkers amongst people w/ benefits\n",
        "p2 = discuss_no['No'] / n2 # percentage of those who will not discuss mh w/ coworkers amongst people W/O benefits\n",
        "\n",
        "sd1 = np.sqrt(p1 * (1 - p1))\n",
        "sd2 = np.sqrt(p2 * (1 - p2))\n",
        "\n",
        "result = stats.ttest_ind_from_stats(mean1=p1, std1=sd1, nobs1=n1,\n",
        "                     mean2=p2, std2=sd2, nobs2=n2)\n",
        "p_value = result[1]\n",
        "\n",
        "print(\"P Value w/ Coworkers: \", p_value)\n",
        "\n",
        "                                                                # ----- FOR SUPERVISORS ----- #\n",
        "# print table and df\n",
        "# print(\"\\nPivot Table showing the intersection between the `mh_benefits` and `disc_mh_supervisor` columns:\")\n",
        "# print(disc_mh_supervisor_pt)\n",
        "\n",
        "discuss_no = disc_mh_supervisor_pt['No']\n",
        "# print(\"\\nDataFrame showing the number of people who will not discuss mh w/ supervisor according to their `mh_benefits`:\")\n",
        "# print(discuss_no, '\\n')\n",
        "\n",
        "# testing\n",
        "n1 = disc_mh_supervisor_pt['sum']['Yes'] # num of people w/ benefits\n",
        "n2 = disc_mh_supervisor_pt['sum']['No'] # num of people W/O benefits\n",
        "p1 = discuss_no['Yes'] / n1 # percentage of those who will not discuss mh w/ supervisor amongst people w/ benefits\n",
        "p2 = discuss_no['No'] / n2 # percentage of those who will not discuss mh w/ supervisor amongst people W/O benefits\n",
        "\n",
        "sd1 = np.sqrt(p1 * (1 - p1))\n",
        "sd2 = np.sqrt(p2 * (1 - p2))\n",
        "\n",
        "result = stats.ttest_ind_from_stats(mean1=p1, std1=sd1, nobs1=n1,\n",
        "                     mean2=p2, std2=sd2, nobs2=n2)\n",
        "p_value = result[1]\n",
        "\n",
        "print(\"P Value w/ Supervisor: \", p_value)"
      ],
      "execution_count": 21,
      "outputs": [
        {
          "output_type": "stream",
          "name": "stdout",
          "text": [
            "P Value w/ Coworkers:  0.0007604269090916312\n",
            "P Value w/ Supervisor:  2.7349350101056703e-06\n"
          ]
        }
      ]
    },
    {
      "cell_type": "markdown",
      "metadata": {
        "id": "cWHqBGJ9GEnn"
      },
      "source": [
        "$H_{0}$: Those w/o `mh_benefits` are equally likely to `share_mh_ff` compared to those w/ `mh_benefits`\n",
        "\n",
        "$H_{A}$: Those w/o `mh_benefits` are not equally likely to `share_mh_ff` compared to those w/ `mh_benefits`"
      ]
    },
    {
      "cell_type": "code",
      "metadata": {
        "id": "5QnUrnqyGEno",
        "colab": {
          "base_uri": "https://localhost:8080/"
        },
        "outputId": "9aa1707d-b2b7-4946-e013-a4b3f730e395"
      },
      "source": [
        "# print table and df\n",
        "print(\"Pivot Table showing the intersection between the `mh_benefits` and `share_mh_ff` columns:\")\n",
        "print(share_mh_ff_pt)\n",
        "\n",
        "share_open = share_mh_ff_pt['Somewhat open'] + share_mh_ff_pt['Very open']\n",
        "print(\"\\nDataFrame showing the number of people who are open to share their mh condition w/ ff according to their `mh_benefits`:\")\n",
        "print(share_open, '\\n')\n",
        "\n",
        "# testing\n",
        "n1 = share_mh_ff_pt['sum']['Yes'] # num of people w/ benefits\n",
        "n2 = share_mh_ff_pt['sum']['No'] # num of people W/O benefits\n",
        "p1 = share_open['Yes'] / n1 # percentage of those who are open to share their mh condition w/ ff amongst people w/ benefits\n",
        "p2 = share_open['No'] / n2 # percentage of those who are open to share their mh condition w/ ff amongst people W/O benefits\n",
        "\n",
        "sd1 = np.sqrt(p1 * (1 - p1))\n",
        "sd2 = np.sqrt(p2 * (1 - p2))\n",
        "\n",
        "result = stats.ttest_ind_from_stats(mean1=p1, std1=sd1, nobs1=n1,\n",
        "                     mean2=p2, std2=sd2, nobs2=n2)\n",
        "p_value = result[1]\n",
        "\n",
        "print(\"P Value w/ Coworkers: \", p_value)"
      ],
      "execution_count": 22,
      "outputs": [
        {
          "output_type": "stream",
          "name": "stdout",
          "text": [
            "Pivot Table showing the intersection between the `mh_benefits` and `share_mh_ff` columns:\n",
            "share_mh_ff                     Neutral  ...   sum\n",
            "mh_benefits                              ...      \n",
            "I don't know                         89  ...   658\n",
            "No                                   44  ...   381\n",
            "Not eligible for coverage / NA       16  ...   148\n",
            "Yes                                 127  ...  1267\n",
            "\n",
            "[4 rows x 7 columns]\n",
            "\n",
            "DataFrame showing the number of people who are open to share their mh condition w/ ff according to their `mh_benefits`:\n",
            "mh_benefits\n",
            "I don't know                      389\n",
            "No                                215\n",
            "Not eligible for coverage / NA     86\n",
            "Yes                               889\n",
            "dtype: int64 \n",
            "\n",
            "P Value w/ Coworkers:  5.23576838052497e-07\n"
          ]
        }
      ]
    },
    {
      "cell_type": "markdown",
      "metadata": {
        "id": "8nPAmvcUGSSE"
      },
      "source": [
        "$H_{0}$: Those w/o `mh_benefits` are equally likely to `exp_unsupport` compared to those w/ `mh_benefits`\n",
        "\n",
        "$H_{A}$: Those w/o `mh_benefits` are not equally likely to `exp_unsupport` compared to those w/ `mh_benefits`"
      ]
    },
    {
      "cell_type": "code",
      "metadata": {
        "id": "hKVC5Y-PGSSF",
        "colab": {
          "base_uri": "https://localhost:8080/"
        },
        "outputId": "c6ac1015-8a08-4281-8fed-287979b3ebd3"
      },
      "source": [
        "# print table and df\n",
        "print(\"Pivot Table showing the intersection between the `mh_benefits` and `exp_unsupport` columns:\")\n",
        "print(exp_unsupport_pt)\n",
        "\n",
        "unsupport_true = exp_unsupport_pt['Yes, I experienced'] + exp_unsupport_pt['Yes, I observed']\n",
        "print(\"\\nDataFrame showing the number of people who have either experienced or observed lack of mh support according to their `mh_benefits`:\")\n",
        "print(share_open, '\\n')\n",
        "\n",
        "# testing\n",
        "n1 = exp_unsupport_pt['sum']['Yes'] # num of people w/ benefits\n",
        "n2 = exp_unsupport_pt['sum']['No'] # num of people W/O benefits\n",
        "p1 = unsupport_true['Yes'] / n1 # percentage of those who have either experienced or observed lack of mh support amongst people w/ benefits\n",
        "p2 = unsupport_true['No'] / n2 # percentage of those who have either experienced or observed lack of mh support amongst people W/O benefits\n",
        "\n",
        "sd1 = np.sqrt(p1 * (1 - p1))\n",
        "sd2 = np.sqrt(p2 * (1 - p2))\n",
        "\n",
        "result = stats.ttest_ind_from_stats(mean1=p1, std1=sd1, nobs1=n1,\n",
        "                     mean2=p2, std2=sd2, nobs2=n2)\n",
        "p_value = result[1]\n",
        "\n",
        "print(\"P Value w/ Coworkers: \", p_value)"
      ],
      "execution_count": 23,
      "outputs": [
        {
          "output_type": "stream",
          "name": "stdout",
          "text": [
            "Pivot Table showing the intersection between the `mh_benefits` and `exp_unsupport` columns:\n",
            "exp_unsupport                   I've always been self-employed  ...     sum\n",
            "mh_benefits                                                     ...        \n",
            "I don't know                                               1.0  ...   634.0\n",
            "No                                                         NaN  ...   371.0\n",
            "Not eligible for coverage / NA                             NaN  ...   143.0\n",
            "Yes                                                        NaN  ...  1254.0\n",
            "\n",
            "[4 rows x 6 columns]\n",
            "\n",
            "DataFrame showing the number of people who have either experienced or observed lack of mh support according to their `mh_benefits`:\n",
            "mh_benefits\n",
            "I don't know                      389\n",
            "No                                215\n",
            "Not eligible for coverage / NA     86\n",
            "Yes                               889\n",
            "dtype: int64 \n",
            "\n",
            "P Value w/ Coworkers:  0.408775469797938\n"
          ]
        }
      ]
    },
    {
      "cell_type": "markdown",
      "metadata": {
        "id": "WRcUVzqr8GCO"
      },
      "source": [
        "$H_{0}$: Those w/o `mh_benefits` are equally likely to reveal less about their mh after a pass experience compared to those w/o `mh_benefits`\n",
        "\n",
        "$H_{A}$: Those w/o `mh_benefits` are not equally likely to reveal less about their mh after a pass experience compared to those w/o `mh_benefits`"
      ]
    },
    {
      "cell_type": "code",
      "metadata": {
        "colab": {
          "base_uri": "https://localhost:8080/"
        },
        "id": "VXan8tFS8GCY",
        "outputId": "f516173c-69ff-4b68-d09d-c790778eb8e7"
      },
      "source": [
        "# print table and df\n",
        "print(\"Pivot Table showing the intersection between the `mh_benefits` and `reveal_less` columns:\")\n",
        "print(reveal_less_pt)\n",
        "\n",
        "reveal_less_true = reveal_less_pt[\"Yes\"]\n",
        "print(\"\\nDataFrame showing the number of people who are less likely to reveal their mh after a pass experience according to their `mh_benefits`:\")\n",
        "print(reveal_less_true, '\\n')\n",
        "\n",
        "# testing\n",
        "n1 = reveal_less_pt['sum']['Yes'] # num of people w/ benefits\n",
        "n2 = reveal_less_pt['sum']['No'] # num of people W/O benefits\n",
        "p1 = reveal_less_true['Yes'] / n1 # percentage of those who are less likely to reveal their mh after a pass experience amongst people w/ benefits\n",
        "p2 = reveal_less_true['No'] / n2 # percentage of those who are less likely to reveal their mh after a pass experience amongst people W/O benefits\n",
        "\n",
        "sd1 = np.sqrt(p1 * (1 - p1))\n",
        "sd2 = np.sqrt(p2 * (1 - p2))\n",
        "\n",
        "result = stats.ttest_ind_from_stats(mean1=p1, std1=sd1, nobs1=n1,\n",
        "                     mean2=p2, std2=sd2, nobs2=n2)\n",
        "p_value = result[1]\n",
        "\n",
        "print(\"P Value: \", p_value)"
      ],
      "execution_count": 26,
      "outputs": [
        {
          "output_type": "stream",
          "name": "stdout",
          "text": [
            "Pivot Table showing the intersection between the `mh_benefits` and `reveal_less` columns:\n",
            "reveal_less                     Maybe   No  Yes  sum\n",
            "mh_benefits                                         \n",
            "I don't know                       53  146   47  246\n",
            "No                                 28   71   26  125\n",
            "Not eligible for coverage / NA     10   37    5   52\n",
            "Yes                                93  408  118  619\n",
            "\n",
            "DataFrame showing the number of people who are less likely to reveal their mh after a pass experience according to their `mh_benefits`:\n",
            "mh_benefits\n",
            "I don't know                       47\n",
            "No                                 26\n",
            "Not eligible for coverage / NA      5\n",
            "Yes                               118\n",
            "Name: Yes, dtype: int64 \n",
            "\n",
            "P Value:  0.6539696675234686\n"
          ]
        }
      ]
    },
    {
      "cell_type": "markdown",
      "metadata": {
        "id": "T0_VShmaGScJ"
      },
      "source": [
        "#### Part 1\n",
        "$H_{0}$: Those w/ `mh_benefits` are equally likely to seek treatment for mh compared to those w/o `mh_benefits`\n",
        "\n",
        "$H_{A}$: Those w/ `mh_benefits` are not equally likely to seek treatment for mh compared to those w/o `mh_benefits`\n",
        "\n",
        "---\n",
        "#### Part 2\n",
        "$H_{0}$: Those w/ `mh_benefits` are equally likely to not seeking treatment for mh\n",
        "\n",
        "$H_{A}$: Those w/ `mh_benefits` are not equally likely to not seeking treatment for mh compared to those w/o `mh_benefits`"
      ]
    },
    {
      "cell_type": "code",
      "metadata": {
        "id": "gDshvk2wGScN",
        "colab": {
          "base_uri": "https://localhost:8080/"
        },
        "outputId": "84e7b50b-c5f0-410a-de53-4931ad1884d1"
      },
      "source": [
        "                                                                # ----- Have Sought Treatment ----- #\n",
        "# print table and df\n",
        "print(\"Pivot Table showing the intersection between the `mh_benefits` and `sought_treatment` columns:\")\n",
        "print(sought_treatment_pt)\n",
        "\n",
        "sought_true = sought_treatment_pt[True]\n",
        "print(\"\\nDataFrame showing the number of people who have sought treatment according to their `mh_benefits`:\")\n",
        "print(sought_true, '\\n')\n",
        "\n",
        "# testing\n",
        "n1 = sought_treatment_pt['sum']['Yes'] # num of people w/ benefits\n",
        "n2 = sought_treatment_pt['sum']['No'] # num of people W/O benefits\n",
        "p1 = sought_true['Yes'] / n1 # percentage of those who have sought treatment amongst people w/ benefits\n",
        "p2 = sought_true['No'] / n2 # percentage of those who have sought treatment amongst people W/O benefits\n",
        "\n",
        "sd1 = np.sqrt(p1 * (1 - p1))\n",
        "sd2 = np.sqrt(p2 * (1 - p2))\n",
        "\n",
        "result = stats.ttest_ind_from_stats(mean1=p1, std1=sd1, nobs1=n1,\n",
        "                     mean2=p2, std2=sd2, nobs2=n2)\n",
        "p_value = result[1]\n",
        "\n",
        "print(\"P Value w/ having sought treatment: \", p_value)\n",
        "\n",
        "                                                                # ----- Have NOT Sought Treatment ----- #\n",
        "# print table and df\n",
        "print(\"Pivot Table showing the intersection between the `mh_benefits` and `sought_treatment` columns:\")\n",
        "print(sought_treatment_pt)\n",
        "\n",
        "sought_true = sought_treatment_pt[False]\n",
        "print(\"\\nDataFrame showing the number of people who have NOT sought treatment according to their `mh_benefits`:\")\n",
        "print(sought_true, '\\n')\n",
        "\n",
        "# testing\n",
        "n1 = sought_treatment_pt['sum']['Yes'] # num of people w/ benefits\n",
        "n2 = sought_treatment_pt['sum']['No'] # num of people W/O benefits\n",
        "p1 = sought_true['Yes'] / n1 # percentage of those who have NOT sought treatment amongst people w/ benefits\n",
        "p2 = sought_true['No'] / n2 # percentage of those who have NOT sought treatment amongst people W/O benefits\n",
        "\n",
        "sd1 = np.sqrt(p1 * (1 - p1))\n",
        "sd2 = np.sqrt(p2 * (1 - p2))\n",
        "\n",
        "result = stats.ttest_ind_from_stats(mean1=p1, std1=sd1, nobs1=n1,\n",
        "                     mean2=p2, std2=sd2, nobs2=n2)\n",
        "p_value = result[1]\n",
        "\n",
        "print(\"P Value w/ having NOT sought treatment: \", p_value)"
      ],
      "execution_count": 27,
      "outputs": [
        {
          "output_type": "stream",
          "name": "stdout",
          "text": [
            "Pivot Table showing the intersection between the `mh_benefits` and `sought_treatment` columns:\n",
            "sought_treatment                False  True  sum\n",
            "mh_benefits                                     \n",
            "I don't know                      187   152  339\n",
            "No                                 82    86  168\n",
            "Not eligible for coverage / NA     22    43   65\n",
            "Yes                               211   525  736\n",
            "\n",
            "DataFrame showing the number of people who have sought treatment according to their `mh_benefits`:\n",
            "mh_benefits\n",
            "I don't know                      152\n",
            "No                                 86\n",
            "Not eligible for coverage / NA     43\n",
            "Yes                               525\n",
            "Name: True, dtype: int64 \n",
            "\n",
            "P Value w/ having sought treatment:  4.032057255764824e-07\n",
            "Pivot Table showing the intersection between the `mh_benefits` and `sought_treatment` columns:\n",
            "sought_treatment                False  True  sum\n",
            "mh_benefits                                     \n",
            "I don't know                      187   152  339\n",
            "No                                 82    86  168\n",
            "Not eligible for coverage / NA     22    43   65\n",
            "Yes                               211   525  736\n",
            "\n",
            "DataFrame showing the number of people who have NOT sought treatment according to their `mh_benefits`:\n",
            "mh_benefits\n",
            "I don't know                      187\n",
            "No                                 82\n",
            "Not eligible for coverage / NA     22\n",
            "Yes                               211\n",
            "dtype: int64 \n",
            "\n",
            "P Value w/ having NOT sought treatment:  4.0320572557648604e-07\n"
          ]
        }
      ]
    }
  ]
}